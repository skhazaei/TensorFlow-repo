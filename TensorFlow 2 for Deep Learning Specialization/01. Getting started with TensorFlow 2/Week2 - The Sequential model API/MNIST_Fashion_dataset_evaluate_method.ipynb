{
  "nbformat": 4,
  "nbformat_minor": 0,
  "metadata": {
    "colab": {
      "name": "MNIST_Fashion_dataset_evaluate_method.ipynb",
      "provenance": [],
      "collapsed_sections": [],
      "authorship_tag": "ABX9TyOVJyB51C9UU3Fzy+uCqBcD",
      "include_colab_link": true
    },
    "kernelspec": {
      "name": "python3",
      "display_name": "Python 3"
    }
  },
  "cells": [
    {
      "cell_type": "markdown",
      "metadata": {
        "id": "view-in-github",
        "colab_type": "text"
      },
      "source": [
        "<a href=\"https://colab.research.google.com/github/skhazaei/TensorFlow-repo/blob/master/MNIST_Fashion_dataset_evaluate_method.ipynb\" target=\"_parent\"><img src=\"https://colab.research.google.com/assets/colab-badge.svg\" alt=\"Open In Colab\"/></a>"
      ]
    },
    {
      "cell_type": "markdown",
      "metadata": {
        "id": "ln5JZRuL1IH-"
      },
      "source": [
        "# Load the MNIST fashion dataset"
      ]
    },
    {
      "cell_type": "code",
      "metadata": {
        "colab": {
          "base_uri": "https://localhost:8080/"
        },
        "id": "nQaAUBAIyruR",
        "outputId": "e245aab5-e5d2-460a-ee6b-0f6cb5f2618e"
      },
      "source": [
        "import tensorflow as tf\n",
        "\n",
        "mnist = tf.keras.datasets.fashion_mnist\n",
        "\n",
        "(train_images, train_labels), (test_images, test_labels) = mnist.load_data()"
      ],
      "execution_count": 1,
      "outputs": [
        {
          "output_type": "stream",
          "text": [
            "Downloading data from https://storage.googleapis.com/tensorflow/tf-keras-datasets/train-labels-idx1-ubyte.gz\n",
            "32768/29515 [=================================] - 0s 0us/step\n",
            "Downloading data from https://storage.googleapis.com/tensorflow/tf-keras-datasets/train-images-idx3-ubyte.gz\n",
            "26427392/26421880 [==============================] - 0s 0us/step\n",
            "Downloading data from https://storage.googleapis.com/tensorflow/tf-keras-datasets/t10k-labels-idx1-ubyte.gz\n",
            "8192/5148 [===============================================] - 0s 0us/step\n",
            "Downloading data from https://storage.googleapis.com/tensorflow/tf-keras-datasets/t10k-images-idx3-ubyte.gz\n",
            "4423680/4422102 [==============================] - 0s 0us/step\n"
          ],
          "name": "stdout"
        }
      ]
    },
    {
      "cell_type": "markdown",
      "metadata": {
        "id": "VaGxgLeX1r_p"
      },
      "source": [
        "## Check the shape of training and test images"
      ]
    },
    {
      "cell_type": "code",
      "metadata": {
        "colab": {
          "base_uri": "https://localhost:8080/"
        },
        "id": "XQeiC80C1nGH",
        "outputId": "d28c0ca2-49c6-449e-b7a0-55dc15659507"
      },
      "source": [
        "print ('train image shape: {}'.format(train_images.shape))\n",
        "print ('test image shape: {}'.format(test_images.shape))\n",
        "print ('train labels shape: {}'.format(train_labels.shape))\n",
        "print ('test labels shape: {}'.format(test_labels.shape))"
      ],
      "execution_count": 3,
      "outputs": [
        {
          "output_type": "stream",
          "text": [
            "train image shape: (60000, 28, 28)\n",
            "test image shape: (10000, 28, 28)\n",
            "train labels shape: (60000,)\n",
            "test labels shape: (10000,)\n"
          ],
          "name": "stdout"
        }
      ]
    },
    {
      "cell_type": "markdown",
      "metadata": {
        "id": "8GFmObTY2D9B"
      },
      "source": [
        "This is a dataset of 60,000 28x28 grayscale images of 10 fashion categories, along with a test set of 10,000 images.\n"
      ]
    },
    {
      "cell_type": "code",
      "metadata": {
        "id": "3lQrdP_N1y73"
      },
      "source": [
        "labels = ['T-shirt/top',\n",
        "          'Trouser',\n",
        "          'Pullover',\n",
        "          'Dress',\n",
        "          'Coat',\n",
        "          'Sandal',\n",
        "          'Shirt',\n",
        "          'Sneaker',\n",
        "          'Bag',\n",
        "          'Ankle boot'\n",
        "          ]"
      ],
      "execution_count": 4,
      "outputs": []
    },
    {
      "cell_type": "code",
      "metadata": {
        "colab": {
          "base_uri": "https://localhost:8080/"
        },
        "id": "MmIMkJwY2G0L",
        "outputId": "d9b51b31-5256-42f2-fb31-accba2158138"
      },
      "source": [
        "# check the label of the second train image\n",
        "print(train_labels[1])"
      ],
      "execution_count": 5,
      "outputs": [
        {
          "output_type": "stream",
          "text": [
            "0\n"
          ],
          "name": "stdout"
        }
      ]
    },
    {
      "cell_type": "code",
      "metadata": {
        "colab": {
          "base_uri": "https://localhost:8080/",
          "height": 282
        },
        "id": "i6ZkMll_2Ku_",
        "outputId": "65a29b6a-3f0c-4a5f-cf62-113b8477086c"
      },
      "source": [
        "# display this image\n",
        "import matplotlib.pyplot as plt\n",
        "\n",
        "index = 1\n",
        "img = train_images[index]\n",
        "plt.imshow(img)\n",
        "plt.show()\n",
        "print('This is an image of {}'.format(labels[train_labels[1]]))"
      ],
      "execution_count": 11,
      "outputs": [
        {
          "output_type": "display_data",
          "data": {
            "image/png": "[encoded data removed]",
            "text/plain": [
              "<Figure size 432x288 with 1 Axes>"
            ]
          },
          "metadata": {
            "tags": [],
            "needs_background": "light"
          }
        },
        {
          "output_type": "stream",
          "text": [
            "This is an image of T-shirt/top\n"
          ],
          "name": "stdout"
        }
      ]
    },
    {
      "cell_type": "code",
      "metadata": {
        "colab": {
          "base_uri": "https://localhost:8080/"
        },
        "id": "nH-EwlaN2ZSC",
        "outputId": "4cf65c1e-4fb1-4181-f34e-5ab276420376"
      },
      "source": [
        "import numpy as np\n",
        "\n",
        "np.set_printoptions(linewidth=200)\n",
        "print(train_images[1])"
      ],
      "execution_count": 13,
      "outputs": [
        {
          "output_type": "stream",
          "text": [
            "[[  0   0   0   0   0   1   0   0   0   0  41 188 103  54  48  43  87 168 133  16   0   0   0   0   0   0   0   0]\n",
            " [  0   0   0   1   0   0   0  49 136 219 216 228 236 255 255 255 255 217 215 254 231 160  45   0   0   0   0   0]\n",
            " [  0   0   0   0   0  14 176 222 224 212 203 198 196 200 215 204 202 201 201 201 209 218 224 164   0   0   0   0]\n",
            " [  0   0   0   0   0 188 219 200 198 202 198 199 199 201 196 198 198 200 200 200 200 201 200 225  41   0   0   0]\n",
            " [  0   0   0   0  51 219 199 203 203 212 238 248 250 245 249 246 247 252 248 235 207 203 203 222 140   0   0   0]\n",
            " [  0   0   0   0 116 226 206 204 207 204 101  75  47  73  48  50  45  51  63 113 222 202 206 220 224   0   0   0]\n",
            " [  0   0   0   0 200 222 209 203 215 200   0  70  98   0 103  59  68  71  49   0 219 206 214 210 250  38   0   0]\n",
            " [  0   0   0   0 247 218 212 210 215 214   0 254 243 139 255 174 251 255 205   0 215 217 214 208 220  95   0   0]\n",
            " [  0   0   0  45 226 214 214 215 224 205   0  42  35  60  16  17  12  13  70   0 189 216 212 206 212 156   0   0]\n",
            " [  0   0   0 164 235 214 211 220 216 201  52  71  89  94  83  78  70  76  92  87 206 207 222 213 219 208   0   0]\n",
            " [  0   0   0 106 187 223 237 248 211 198 252 250 248 245 248 252 253 250 252 239 201 212 225 215 193 113   0   0]\n",
            " [  0   0   0   0   0  17  54 159 222 193 208 192 197 200 200 200 200 201 203 195 210 165   0   0   0   0   0   0]\n",
            " [  0   0   0   0   0   0   0  47 225 192 214 203 206 204 204 205 206 204 212 197 218 107   0   0   0   0   0   0]\n",
            " [  0   0   0   0   1   6   0  46 212 195 212 202 206 205 204 205 206 204 212 200 218  91   0   3   1   0   0   0]\n",
            " [  0   0   0   0   0   1   0  11 197 199 205 202 205 206 204 205 207 204 205 205 218  77   0   5   0   0   0   0]\n",
            " [  0   0   0   0   0   3   0   2 191 198 201 205 206 205 205 206 209 206 199 209 219  74   0   5   0   0   0   0]\n",
            " [  0   0   0   0   0   2   0   0 188 197 200 207 207 204 207 207 210 208 198 207 221  72   0   4   0   0   0   0]\n",
            " [  0   0   0   0   0   2   0   0 215 198 203 206 208 205 207 207 210 208 200 202 222  75   0   4   0   0   0   0]\n",
            " [  0   0   0   0   0   1   0   0 212 198 209 206 209 206 208 207 211 206 205 198 221  80   0   3   0   0   0   0]\n",
            " [  0   0   0   0   0   1   0   0 204 201 205 208 207 205 211 205 210 210 209 195 221  96   0   3   0   0   0   0]\n",
            " [  0   0   0   0   0   1   0   0 202 201 205 209 207 205 213 206 210 209 210 194 217 105   0   2   0   0   0   0]\n",
            " [  0   0   0   0   0   1   0   0 204 204 205 208 207 205 215 207 210 208 211 193 213 115   0   2   0   0   0   0]\n",
            " [  0   0   0   0   0   0   0   0 204 207 207 208 206 206 215 210 210 207 212 195 210 118   0   2   0   0   0   0]\n",
            " [  0   0   0   0   0   1   0   0 198 208 208 208 204 207 212 212 210 207 211 196 207 121   0   1   0   0   0   0]\n",
            " [  0   0   0   0   0   1   0   0 198 210 207 208 206 209 213 212 211 207 210 197 207 124   0   1   0   0   0   0]\n",
            " [  0   0   0   0   0   0   0   0 172 210 203 201 199 204 207 205 204 201 205 197 206 127   0   0   0   0   0   0]\n",
            " [  0   0   0   0   0   0   0   0 188 221 214 234 236 238 244 244 244 240 243 214 224 162   0   2   0   0   0   0]\n",
            " [  0   0   0   0   0   1   0   0 139 146 130 135 135 137 125 124 125 121 119 114 130  76   0   0   0   0   0   0]]\n"
          ],
          "name": "stdout"
        }
      ]
    },
    {
      "cell_type": "code",
      "metadata": {
        "id": "M-JayUKa3K1e"
      },
      "source": [
        "# Rescale the image values so that they lie in between 0 and 1\n",
        "\n",
        "train_images = train_images/255.0\n",
        "test_images = test_images/255.0"
      ],
      "execution_count": 14,
      "outputs": []
    },
    {
      "cell_type": "markdown",
      "metadata": {
        "id": "a7STgikj3bMM"
      },
      "source": [
        "#Define a simple convolutional model\n"
      ]
    },
    {
      "cell_type": "code",
      "metadata": {
        "colab": {
          "base_uri": "https://localhost:8080/"
        },
        "id": "LNPIQwyI3X0J",
        "outputId": "037ba355-801a-4eeb-843d-69d39c097860"
      },
      "source": [
        "model = tf.keras.models.Sequential([tf.keras.layers.Conv2D(16, (3,3), activation='relu', input_shape=(28, 28, 1)),\n",
        "                                    tf.keras.layers.MaxPooling2D(3,3),\n",
        "                                    tf.keras.layers.Flatten(),\n",
        "                                    tf.keras.layers.Dense(10, activation='softmax')])\n",
        "model.summary()"
      ],
      "execution_count": 15,
      "outputs": [
        {
          "output_type": "stream",
          "text": [
            "Model: \"sequential\"\n",
            "_________________________________________________________________\n",
            "Layer (type)                 Output Shape              Param #   \n",
            "=================================================================\n",
            "conv2d (Conv2D)              (None, 26, 26, 16)        160       \n",
            "_________________________________________________________________\n",
            "max_pooling2d (MaxPooling2D) (None, 8, 8, 16)          0         \n",
            "_________________________________________________________________\n",
            "flatten (Flatten)            (None, 1024)              0         \n",
            "_________________________________________________________________\n",
            "dense (Dense)                (None, 10)                10250     \n",
            "=================================================================\n",
            "Total params: 10,410\n",
            "Trainable params: 10,410\n",
            "Non-trainable params: 0\n",
            "_________________________________________________________________\n"
          ],
          "name": "stdout"
        }
      ]
    },
    {
      "cell_type": "code",
      "metadata": {
        "id": "fmvmEhGE4B4l"
      },
      "source": [
        "model.compile(optimizer=tf.keras.optimizers.Adam(),\n",
        "              loss=tf.keras.losses.sparse_categorical_crossentropy,\n",
        "              metrics=[tf.keras.metrics.SparseCategoricalAccuracy(), tf.keras.metrics.MeanAbsoluteError()])"
      ],
      "execution_count": 16,
      "outputs": []
    },
    {
      "cell_type": "markdown",
      "metadata": {
        "id": "X3Zdkwu64tcl"
      },
      "source": [
        "# Train the model"
      ]
    },
    {
      "cell_type": "code",
      "metadata": {
        "colab": {
          "base_uri": "https://localhost:8080/"
        },
        "id": "mn84bt4g4os9",
        "outputId": "871b0974-5ce4-4db8-8a6c-1d0114cfc9cd"
      },
      "source": [
        "history = model.fit(train_images[...,np.newaxis], train_labels, epochs=8, batch_size=256, verbose=2)"
      ],
      "execution_count": 17,
      "outputs": [
        {
          "output_type": "stream",
          "text": [
            "Epoch 1/8\n",
            "235/235 - 12s - loss: 0.8330 - sparse_categorical_accuracy: 0.7314 - mean_absolute_error: 4.4200\n",
            "Epoch 2/8\n",
            "235/235 - 11s - loss: 0.4856 - sparse_categorical_accuracy: 0.8265 - mean_absolute_error: 4.4200\n",
            "Epoch 3/8\n",
            "235/235 - 11s - loss: 0.4280 - sparse_categorical_accuracy: 0.8497 - mean_absolute_error: 4.4200\n",
            "Epoch 4/8\n",
            "235/235 - 11s - loss: 0.3969 - sparse_categorical_accuracy: 0.8604 - mean_absolute_error: 4.4200\n",
            "Epoch 5/8\n",
            "235/235 - 11s - loss: 0.3776 - sparse_categorical_accuracy: 0.8678 - mean_absolute_error: 4.4200\n",
            "Epoch 6/8\n",
            "235/235 - 11s - loss: 0.3638 - sparse_categorical_accuracy: 0.8726 - mean_absolute_error: 4.4200\n",
            "Epoch 7/8\n",
            "235/235 - 11s - loss: 0.3530 - sparse_categorical_accuracy: 0.8758 - mean_absolute_error: 4.4200\n",
            "Epoch 8/8\n",
            "235/235 - 11s - loss: 0.3435 - sparse_categorical_accuracy: 0.8776 - mean_absolute_error: 4.4200\n"
          ],
          "name": "stdout"
        }
      ]
    },
    {
      "cell_type": "markdown",
      "metadata": {
        "id": "T0JD_FP55D_9"
      },
      "source": [
        "**Note:** we need to set a dummy channel dimension to the training images, otherwise `fit method` gives an error.\n",
        "This is due to the fact that in the sequential model, a channel dimension is given `input_shape=(28, 28, 1)`. See following example on `np.newaxis`"
      ]
    },
    {
      "cell_type": "markdown",
      "metadata": {
        "id": "zng10Vip5Iv3"
      },
      "source": [
        "# Load the history into a pandas DataFrame"
      ]
    },
    {
      "cell_type": "code",
      "metadata": {
        "colab": {
          "base_uri": "https://localhost:8080/"
        },
        "id": "h6CZf_Tu49NC",
        "outputId": "c55ef064-a577-4679-8884-9c373f885b90"
      },
      "source": [
        "import pandas as pd\n",
        "\n",
        "df = pd.DataFrame(history.history)\n",
        "print(df.head())"
      ],
      "execution_count": 19,
      "outputs": [
        {
          "output_type": "stream",
          "text": [
            "       loss  sparse_categorical_accuracy  mean_absolute_error\n",
            "0  0.832960                     0.731417             4.420002\n",
            "1  0.485625                     0.826500             4.420001\n",
            "2  0.427963                     0.849733             4.419998\n",
            "3  0.396868                     0.860383             4.420002\n",
            "4  0.377643                     0.867800             4.420001\n"
          ],
          "name": "stdout"
        }
      ]
    },
    {
      "cell_type": "code",
      "metadata": {
        "colab": {
          "base_uri": "https://localhost:8080/",
          "height": 312
        },
        "id": "FzxUWQhL5Rrt",
        "outputId": "a9adb822-02ea-41b9-8070-561028c28693"
      },
      "source": [
        "loss_plot = df.plot(y='loss', title='Loss vs. epochs')\n",
        "loss_plot.set(xlabel='epochs', ylabel='Loss')"
      ],
      "execution_count": 20,
      "outputs": [
        {
          "output_type": "execute_result",
          "data": {
            "text/plain": [
              "[Text(0, 0.5, 'Loss'), Text(0.5, 0, 'epochs')]"
            ]
          },
          "metadata": {
            "tags": []
          },
          "execution_count": 20
        },
        {
          "output_type": "display_data",
          "data": {
            "image/png": "[encoded data removed]",
            "text/plain": [
              "<Figure size 432x288 with 1 Axes>"
            ]
          },
          "metadata": {
            "tags": [],
            "needs_background": "light"
          }
        }
      ]
    },
    {
      "cell_type": "code",
      "metadata": {
        "colab": {
          "base_uri": "https://localhost:8080/",
          "height": 312
        },
        "id": "ghc8Adxx5kkE",
        "outputId": "6093a298-a9d6-4f72-e253-4a06bc2f66ed"
      },
      "source": [
        "mae_plot = df.plot(y='mean_absolute_error', title='MAE vs. Epochs')\n",
        "mae_plot.set(xlabel='Epochs', ylabel='MAE')"
      ],
      "execution_count": 21,
      "outputs": [
        {
          "output_type": "execute_result",
          "data": {
            "text/plain": [
              "[Text(0, 0.5, 'MAE'), Text(0.5, 0, 'Epochs')]"
            ]
          },
          "metadata": {
            "tags": []
          },
          "execution_count": 21
        },
        {
          "output_type": "display_data",
          "data": {
            "image/png": "[encoded data removed]",
            "text/plain": [
              "<Figure size 432x288 with 1 Axes>"
            ]
          },
          "metadata": {
            "tags": [],
            "needs_background": "light"
          }
        }
      ]
    },
    {
      "cell_type": "code",
      "metadata": {
        "colab": {
          "base_uri": "https://localhost:8080/",
          "height": 312
        },
        "id": "-c03W4nw5onJ",
        "outputId": "58ad93f1-cdd7-424b-9197-1367b96af0e1"
      },
      "source": [
        "acc_plot = df.plot(y='sparse_categorical_accuracy', title=' accuracy vs. Epochs')\n",
        "acc_plot.set(xlabel='Epochs', ylabel='sparse_categorical_accuracy')"
      ],
      "execution_count": 22,
      "outputs": [
        {
          "output_type": "execute_result",
          "data": {
            "text/plain": [
              "[Text(0, 0.5, 'sparse_categorical_accuracy'), Text(0.5, 0, 'Epochs')]"
            ]
          },
          "metadata": {
            "tags": []
          },
          "execution_count": 22
        },
        {
          "output_type": "display_data",
          "data": {
            "image/png": "[encoded data removed]",
            "text/plain": [
              "<Figure size 432x288 with 1 Axes>"
            ]
          },
          "metadata": {
            "tags": [],
            "needs_background": "light"
          }
        }
      ]
    },
    {
      "cell_type": "markdown",
      "metadata": {
        "id": "gP1V5R8b6Wkv"
      },
      "source": [
        "# Evaluate and predicts methods\n"
      ]
    },
    {
      "cell_type": "markdown",
      "metadata": {
        "id": "Q8LLi7ka6h49"
      },
      "source": [
        "### Evaluate the model on test data"
      ]
    },
    {
      "cell_type": "code",
      "metadata": {
        "colab": {
          "base_uri": "https://localhost:8080/"
        },
        "id": "RV5SzY7n5qd8",
        "outputId": "b3db6508-b10e-4079-921f-9a7131c07dbf"
      },
      "source": [
        "test_loss, test_acc, test_mae = model.evaluate(test_images[...,np.newaxis], test_labels, verbose=2)"
      ],
      "execution_count": 27,
      "outputs": [
        {
          "output_type": "stream",
          "text": [
            "313/313 - 2s - loss: 0.3607 - sparse_categorical_accuracy: 0.8746 - mean_absolute_error: 4.4200\n"
          ],
          "name": "stdout"
        }
      ]
    },
    {
      "cell_type": "markdown",
      "metadata": {
        "id": "xOY3asLf7VpM"
      },
      "source": [
        "# Make predictions from the model"
      ]
    },
    {
      "cell_type": "markdown",
      "metadata": {
        "id": "HiulDLJV77vz"
      },
      "source": [
        "### Let's choose an image from test set randomly"
      ]
    },
    {
      "cell_type": "code",
      "metadata": {
        "colab": {
          "base_uri": "https://localhost:8080/",
          "height": 282
        },
        "id": "3ulOm1mv6sf6",
        "outputId": "0a412ed7-6ec6-41db-d8b2-bb8e08e1dc5f"
      },
      "source": [
        "inx = np.random.choice(test_images.shape[0])\n",
        "\n",
        "img = test_images[inx]\n",
        "plt.imshow(img)\n",
        "plt.show()\n",
        "print('This is an image of {}.'.format(labels[test_labels[inx]]))"
      ],
      "execution_count": 50,
      "outputs": [
        {
          "output_type": "display_data",
          "data": {
            "image/png": "[encoded data removed]",
            "text/plain": [
              "<Figure size 432x288 with 1 Axes>"
            ]
          },
          "metadata": {
            "tags": [],
            "needs_background": "light"
          }
        },
        {
          "output_type": "stream",
          "text": [
            "This is an image of Dress.\n"
          ],
          "name": "stdout"
        }
      ]
    },
    {
      "cell_type": "markdown",
      "metadata": {
        "id": "ud9cwOCA864K"
      },
      "source": [
        "### Now let's check the prediction for this image from the model "
      ]
    },
    {
      "cell_type": "code",
      "metadata": {
        "colab": {
          "base_uri": "https://localhost:8080/"
        },
        "id": "kYZZ4NYl8Oig",
        "outputId": "0a3074bb-0a16-4a7d-b3d1-34cd0d726bd4"
      },
      "source": [
        "predictions = model.predict(img[np.newaxis,...,np.newaxis])\n",
        "print(predictions)"
      ],
      "execution_count": 51,
      "outputs": [
        {
          "output_type": "stream",
          "text": [
            "[[1.1750850e-04 1.2473246e-03 2.4804438e-04 9.9835521e-01 2.1093767e-05 1.2813014e-09 8.5588081e-06 1.0699847e-07 1.9487300e-06 1.2491148e-07]]\n"
          ],
          "name": "stdout"
        }
      ]
    },
    {
      "cell_type": "markdown",
      "metadata": {
        "id": "bhtLC9jg-L_0"
      },
      "source": [
        "**Note** that the predict method expects a batch of images for the first dimension and the number of channels for the last dimension, hence a dummy dimension both at the beginning and at the end of test image should be added."
      ]
    },
    {
      "cell_type": "markdown",
      "metadata": {
        "id": "C8jSQu98-lYQ"
      },
      "source": [
        "### Use `np.argmax()` function to get the class with highest probability from predictions"
      ]
    },
    {
      "cell_type": "code",
      "metadata": {
        "colab": {
          "base_uri": "https://localhost:8080/"
        },
        "id": "cHBoo6W29KGf",
        "outputId": "ba61aeed-77f6-44de-f96f-38064b94388d"
      },
      "source": [
        "class_img = np.argmax(predictions)\n",
        "print('The image label from model prediction is: {}'.format(class_img))\n",
        "print('The image is {}'.format(labels[class_img]))"
      ],
      "execution_count": 52,
      "outputs": [
        {
          "output_type": "stream",
          "text": [
            "The image label from model prediction is: 3\n",
            "The image is Dress\n"
          ],
          "name": "stdout"
        }
      ]
    }
  ]
}