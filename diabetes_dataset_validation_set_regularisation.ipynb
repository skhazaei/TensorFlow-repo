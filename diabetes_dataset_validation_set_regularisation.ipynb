{
  "nbformat": 4,
  "nbformat_minor": 0,
  "metadata": {
    "colab": {
      "name": "diabetes_dataset_validation_set_regularisation.ipynb",
      "provenance": [],
      "collapsed_sections": [],
      "authorship_tag": "ABX9TyNzNz45gPJhBsdQu4jOVPhe",
      "include_colab_link": true
    },
    "kernelspec": {
      "name": "python3",
      "display_name": "Python 3"
    }
  },
  "cells": [
    {
      "cell_type": "markdown",
      "metadata": {
        "id": "view-in-github",
        "colab_type": "text"
      },
      "source": [
        "<a href=\"https://colab.research.google.com/github/skhazaei/TensorFlow-repo/blob/master/diabetes_dataset_validation_set_regularisation.ipynb\" target=\"_parent\"><img src=\"https://colab.research.google.com/assets/colab-badge.svg\" alt=\"Open In Colab\"/></a>"
      ]
    },
    {
      "cell_type": "markdown",
      "metadata": {
        "id": "Jx2lEN9EY8Sb"
      },
      "source": [
        "# Load and return the diabetes dataset (regression) from `sklearn.datasets`"
      ]
    },
    {
      "cell_type": "code",
      "metadata": {
        "id": "wCk5E5SeXqpU"
      },
      "source": [
        "from sklearn.datasets import load_diabetes\n",
        "\n",
        "diabete_dataset = load_diabetes()"
      ],
      "execution_count": 1,
      "outputs": []
    },
    {
      "cell_type": "markdown",
      "metadata": {
        "id": "ReWuKSP4ZWi_"
      },
      "source": [
        "## Check [here](https://scikit-learn.org/stable/modules/generated/sklearn.datasets.load_diabetes.html) to learn more about the dataset and `keys()`.\n"
      ]
    },
    {
      "cell_type": "code",
      "metadata": {
        "colab": {
          "base_uri": "https://localhost:8080/"
        },
        "id": "dWWWJPdfZN-M",
        "outputId": "ee5f1a21-5eee-4ca0-8493-8ee2e1484b8a"
      },
      "source": [
        "print(diabete_dataset.keys())"
      ],
      "execution_count": 2,
      "outputs": [
        {
          "output_type": "stream",
          "text": [
            "dict_keys(['data', 'target', 'DESCR', 'feature_names', 'data_filename', 'target_filename'])\n"
          ],
          "name": "stdout"
        }
      ]
    },
    {
      "cell_type": "code",
      "metadata": {
        "colab": {
          "base_uri": "https://localhost:8080/"
        },
        "id": "ktFfhl52ZdkC",
        "outputId": "7984332d-2d63-4636-9172-f66a4aaf5469"
      },
      "source": [
        "print(diabete_dataset['DESCR'])"
      ],
      "execution_count": 3,
      "outputs": [
        {
          "output_type": "stream",
          "text": [
            ".. _diabetes_dataset:\n",
            "\n",
            "Diabetes dataset\n",
            "----------------\n",
            "\n",
            "Ten baseline variables, age, sex, body mass index, average blood\n",
            "pressure, and six blood serum measurements were obtained for each of n =\n",
            "442 diabetes patients, as well as the response of interest, a\n",
            "quantitative measure of disease progression one year after baseline.\n",
            "\n",
            "**Data Set Characteristics:**\n",
            "\n",
            "  :Number of Instances: 442\n",
            "\n",
            "  :Number of Attributes: First 10 columns are numeric predictive values\n",
            "\n",
            "  :Target: Column 11 is a quantitative measure of disease progression one year after baseline\n",
            "\n",
            "  :Attribute Information:\n",
            "      - Age\n",
            "      - Sex\n",
            "      - Body mass index\n",
            "      - Average blood pressure\n",
            "      - S1\n",
            "      - S2\n",
            "      - S3\n",
            "      - S4\n",
            "      - S5\n",
            "      - S6\n",
            "\n",
            "Note: Each of these 10 feature variables have been mean centered and scaled by the standard deviation times `n_samples` (i.e. the sum of squares of each column totals 1).\n",
            "\n",
            "Source URL:\n",
            "https://www4.stat.ncsu.edu/~boos/var.select/diabetes.html\n",
            "\n",
            "For more information see:\n",
            "Bradley Efron, Trevor Hastie, Iain Johnstone and Robert Tibshirani (2004) \"Least Angle Regression,\" Annals of Statistics (with discussion), 407-499.\n",
            "(https://web.stanford.edu/~hastie/Papers/LARS/LeastAngle_2002.pdf)\n"
          ],
          "name": "stdout"
        }
      ]
    },
    {
      "cell_type": "markdown",
      "metadata": {
        "id": "5moxFxbQZoXc"
      },
      "source": [
        "## Let's save the input data and target for training"
      ]
    },
    {
      "cell_type": "code",
      "metadata": {
        "id": "eSQhT_wTZiyJ"
      },
      "source": [
        "data = diabete_dataset['data']\n",
        "target = diabete_dataset['target']"
      ],
      "execution_count": 4,
      "outputs": []
    },
    {
      "cell_type": "markdown",
      "metadata": {
        "id": "nmjVeSLnZx5F"
      },
      "source": [
        "## Use `mean()` and `std()` to normalize the target so that the values are between 0 and 1"
      ]
    },
    {
      "cell_type": "code",
      "metadata": {
        "id": "kaUS6E3xZvHn"
      },
      "source": [
        "target = (target - target.mean(axis=0)) / target.std()"
      ],
      "execution_count": 5,
      "outputs": []
    },
    {
      "cell_type": "code",
      "metadata": {
        "colab": {
          "base_uri": "https://localhost:8080/"
        },
        "id": "JRE0276tZ7C3",
        "outputId": "0df2d23e-d57f-46b4-9ea8-a04a4f0c8ad1"
      },
      "source": [
        "print(f'normalized target: \\n\\n{target}')"
      ],
      "execution_count": 6,
      "outputs": [
        {
          "output_type": "stream",
          "text": [
            "normalized target: \n",
            "\n",
            "[-1.47194752e-02 -1.00165882e+00 -1.44579915e-01  6.99512942e-01\n",
            " -2.22496178e-01 -7.15965848e-01 -1.83538046e-01 -1.15749134e+00\n",
            " -5.47147277e-01  2.05006151e+00 -6.64021672e-01 -1.07957508e+00\n",
            "  3.48889755e-01  4.26806019e-01 -4.43258925e-01  2.45001404e-01\n",
            "  1.80071184e-01 -1.05621783e-01 -7.15965848e-01  2.06043272e-01\n",
            " -1.09256112e+00 -1.33929596e+00 -1.09256112e+00  1.20596866e+00\n",
            "  4.13819975e-01  6.47568766e-01 -1.96524090e-01 -8.71798376e-01\n",
            " -2.74440354e-01  1.69943833e+00 -3.00412442e-01 -1.20943552e+00\n",
            "  2.45262887e+00 -8.45826288e-01 -1.13151925e+00 -6.51035629e-01\n",
            "  1.46568953e+00  1.60853602e+00  1.29687096e+00 -8.06868156e-01\n",
            " -6.77007716e-01 -1.26137969e+00 -1.18346343e+00 -7.80896068e-01\n",
            "  1.38777327e+00 -1.28735178e+00  4.91736239e-01 -1.31593871e-01\n",
            " -1.00165882e+00 -1.31593871e-01  3.72247006e-02  9.46247777e-01\n",
            " -1.20943552e+00 -6.25063541e-01  3.87847887e-01 -3.13398486e-01\n",
            " -1.30033783e+00 -1.49512849e+00  2.32015360e-01  2.32015360e-01\n",
            " -1.18346343e+00 -1.05621783e-01 -1.30033783e+00 -3.13398486e-01\n",
            " -1.05360299e+00  1.41113052e-01 -2.77055191e-02 -7.15965848e-01\n",
            "  1.02154920e-01  3.35903711e-01 -1.35228200e+00  1.53061975e+00\n",
            "  6.47568766e-01 -5.34161233e-01 -8.71798376e-01 -1.43019827e+00\n",
            "  2.32015360e-01  6.21596678e-01  1.29687096e+00 -5.08189145e-01\n",
            " -1.18607827e-01 -1.31332387e+00 -1.30033783e+00  7.51457118e-01\n",
            " -1.13151925e+00 -1.44579915e-01 -1.26137969e+00 -2.35482222e-01\n",
            " -1.43019827e+00 -5.34161233e-01 -7.02979804e-01  1.54099096e-01\n",
            " -1.35228200e+00 -7.28951892e-01 -8.06868156e-01  1.28127008e-01\n",
            " -2.77055191e-02  1.64749415e+00 -7.80896068e-01 -8.97770464e-01\n",
            " -3.13398486e-01 -6.51035629e-01  1.94617316e+00  5.95624590e-01\n",
            " -7.41937936e-01 -1.28735178e+00 -2.35482222e-01 -1.05621783e-01\n",
            "  1.03715008e+00 -9.23742551e-01 -6.25063541e-01 -1.20943552e+00\n",
            "  1.21895470e+00  1.88124294e+00  1.37478723e+00  9.98191953e-01\n",
            "  1.59554997e+00  1.67346624e+00  3.48889755e-01  6.21596678e-01\n",
            "  6.21596678e-01  2.70973492e-01  3.61875799e-01 -8.84784420e-01\n",
            " -4.04300794e-01  1.15140964e-01 -6.89993760e-01 -5.60133321e-01\n",
            " -4.82217057e-01  1.50464767e+00  1.58256393e+00  7.61828325e-02\n",
            " -5.86105409e-01 -8.97770464e-01 -6.38049585e-01  1.55659184e+00\n",
            " -8.71798376e-01  1.66048019e+00  2.38769865e+00  1.67346624e+00\n",
            " -4.43258925e-01  2.14096382e+00  1.07610822e+00 -1.19644947e+00\n",
            "  2.83959536e-01  1.38777327e+00  3.35903711e-01 -3.13398486e-01\n",
            " -7.28951892e-01 -3.39370574e-01  1.76436855e+00 -8.32840244e-01\n",
            "  1.81631272e+00 -1.05360299e+00  5.82638546e-01  4.39792063e-01\n",
            " -1.65096101e+00 -8.84784420e-01 -7.28951892e-01  5.56666458e-01\n",
            " -1.28735178e+00  8.42359425e-01  2.57987448e-01 -2.74440354e-01\n",
            "  8.03401293e-01 -1.20943552e+00 -1.06658903e+00  8.81317557e-01\n",
            "  1.50464767e+00 -1.73343121e-03 -1.36526805e+00 -1.01464486e+00\n",
            "  1.85527085e+00 -6.64021672e-01 -1.47194752e-02 -3.26384530e-01\n",
            "  1.10208030e+00  9.46247777e-01 -9.23742551e-01 -1.47194752e-02\n",
            " -5.86105409e-01 -1.14450530e+00 -1.83538046e-01  4.26806019e-01\n",
            "  1.46568953e+00 -6.64021672e-01 -1.96524090e-01 -1.18607827e-01\n",
            " -1.44579915e-01 -9.49714639e-01  1.81631272e+00  3.35903711e-01\n",
            " -7.93882112e-01 -4.69231013e-01 -8.58812332e-01 -3.91314750e-01\n",
            " -1.04061695e+00 -3.00412442e-01 -1.31593871e-01 -8.06868156e-01\n",
            "  7.61828325e-02 -1.46915640e+00  5.69652502e-01  9.07289645e-01\n",
            "  1.62152206e+00 -6.89993760e-01  5.69652502e-01  6.47568766e-01\n",
            "  3.72247006e-02 -9.75686727e-01  5.04722283e-01 -1.06658903e+00\n",
            " -1.02763090e+00 -1.33929596e+00 -1.13151925e+00  1.43971745e+00\n",
            "  1.24492679e+00  1.86825690e+00  8.03401293e-01  4.26806019e-01\n",
            " -9.62700683e-01 -7.67910024e-01  1.29687096e+00 -2.77055191e-02\n",
            " -9.75686727e-01  7.25485030e-01 -9.75686727e-01 -5.73119365e-01\n",
            "  1.02154920e-01 -1.28735178e+00  8.81317557e-01  2.42386567e-02\n",
            "  1.38777327e+00 -8.06868156e-01  1.21895470e+00 -3.65342662e-01\n",
            " -1.10554717e+00 -1.04061695e+00  1.36180118e+00  1.42673140e+00\n",
            "  1.59554997e+00  3.22917667e-01 -1.05360299e+00 -1.36526805e+00\n",
            "  4.52778107e-01 -3.52356618e-01 -9.62700683e-01 -1.31332387e+00\n",
            "  1.37478723e+00  8.16387337e-01  1.95915920e+00  1.17999657e+00\n",
            " -7.93882112e-01 -2.77055191e-02  2.05006151e+00  1.12526127e-02\n",
            "  2.51755909e+00 -1.15749134e+00 -8.19854200e-01 -1.32630991e+00\n",
            " -1.46915640e+00 -6.38049585e-01  2.02408942e+00 -4.69231013e-01\n",
            " -9.26357388e-02 -1.01464486e+00 -1.39124013e+00 -4.82217057e-01\n",
            "  1.45270349e+00 -8.45826288e-01  6.47568766e-01 -3.26384530e-01\n",
            "  3.87847887e-01  1.15402448e+00 -1.11853321e+00 -7.54923980e-01\n",
            "  1.69943833e+00 -1.14450530e+00 -6.51035629e-01  6.21596678e-01\n",
            "  1.46568953e+00 -7.54923980e-01  1.01117800e+00  3.74861843e-01\n",
            "  5.02107446e-02  1.05013613e+00 -1.19644947e+00  8.68331513e-01\n",
            " -9.36728595e-01 -1.09256112e+00  2.33575448e+00  1.24492679e+00\n",
            " -8.84784420e-01  6.21596678e-01 -1.26137969e+00 -8.71798376e-01\n",
            " -8.19854200e-01 -1.57304475e+00 -3.00412442e-01 -8.97770464e-01\n",
            "  1.59554997e+00 -1.13151925e+00  5.95624590e-01  1.08909426e+00\n",
            "  1.30985701e+00 -3.65342662e-01 -1.40422618e+00  2.57987448e-01\n",
            " -4.95203101e-01 -1.31593871e-01 -5.60133321e-01  3.61875799e-01\n",
            " -1.05621783e-01  1.41113052e-01 -6.66636509e-02 -7.15965848e-01\n",
            "  8.81317557e-01  4.91736239e-01 -5.60133321e-01  5.04722283e-01\n",
            " -3.91314750e-01  1.01117800e+00  1.16701052e+00  1.24492679e+00\n",
            "  1.25791283e+00  5.17708327e-01 -2.74440354e-01  1.10208030e+00\n",
            " -9.62700683e-01 -2.22496178e-01  1.19298261e+00  6.08610634e-01\n",
            "  1.53061975e+00  1.54099096e-01 -1.04061695e+00 -7.28951892e-01\n",
            "  1.99811734e+00 -7.93882112e-01  8.03401293e-01 -7.41937936e-01\n",
            "  8.29373381e-01  1.43971745e+00  3.35903711e-01 -5.08189145e-01\n",
            "  6.21596678e-01 -1.70552003e-01 -1.70552003e-01 -8.32840244e-01\n",
            " -5.36776070e-02 -8.32840244e-01  1.17999657e+00 -1.05360299e+00\n",
            " -9.75686727e-01 -5.60133321e-01  1.55659184e+00 -1.19644947e+00\n",
            " -1.27436574e+00  8.94303601e-01 -8.06868156e-01  2.06304756e+00\n",
            "  1.67346624e+00  3.87847887e-01  2.19290800e+00 -1.22242156e+00\n",
            "  1.42673140e+00  6.99512942e-01  1.05013613e+00  1.16701052e+00\n",
            " -3.78328706e-01  1.93057228e-01 -1.15749134e+00  5.82638546e-01\n",
            " -1.05360299e+00  2.06043272e-01 -1.57565959e-01  8.42359425e-01\n",
            " -4.04300794e-01  1.07610822e+00  1.20596866e+00 -1.45617035e+00\n",
            " -1.30033783e+00 -6.25063541e-01 -2.61454310e-01 -8.32840244e-01\n",
            " -1.07957508e+00  8.68331513e-01 -1.04061695e+00  6.34582722e-01\n",
            " -5.47147277e-01 -1.31332387e+00  1.62152206e+00 -1.15749134e+00\n",
            " -4.43258925e-01 -1.07957508e+00  1.56957789e+00  1.37478723e+00\n",
            " -1.41721222e+00  5.95624590e-01  1.16701052e+00  1.03715008e+00\n",
            "  2.96945580e-01 -7.67910024e-01  2.06043272e-01  1.59554997e+00\n",
            "  1.82929877e+00  1.67346624e+00 -1.04061695e+00 -1.57565959e-01\n",
            "  4.78750195e-01  3.74861843e-01  7.38471074e-01 -2.09510134e-01\n",
            "  1.41374536e+00 -5.08189145e-01 -2.74440354e-01  2.83959536e-01\n",
            "  1.36180118e+00 -1.26137969e+00 -8.84784420e-01 -1.43019827e+00\n",
            " -7.96496949e-02  7.77429206e-01  1.05013613e+00 -7.93882112e-01\n",
            " -5.34161233e-01 -1.73343121e-03 -4.17286837e-01 -1.10554717e+00\n",
            "  2.05006151e+00 -7.54923980e-01  4.00833931e-01 -1.11853321e+00\n",
            "  2.70973492e-01 -1.04061695e+00 -1.33929596e+00 -1.14450530e+00\n",
            " -1.35228200e+00  3.35903711e-01 -6.25063541e-01 -2.61454310e-01\n",
            "  8.81317557e-01 -1.23540761e+00]\n"
          ],
          "name": "stdout"
        }
      ]
    },
    {
      "cell_type": "markdown",
      "metadata": {
        "id": "usJrqPrIagKe"
      },
      "source": [
        "## Split the data into train and test sets, test size to be 0.1 of total examples"
      ]
    },
    {
      "cell_type": "code",
      "metadata": {
        "id": "ezU4TPk5Z9fE"
      },
      "source": [
        "from sklearn.model_selection import train_test_split\n",
        "\n",
        "train_data, test_data, train_target, test_target = train_test_split(data, target, test_size=0.1)"
      ],
      "execution_count": 7,
      "outputs": []
    },
    {
      "cell_type": "markdown",
      "metadata": {
        "id": "t1sEkxKXa4vQ"
      },
      "source": [
        "## Let's check the shape of train and test sets\n"
      ]
    },
    {
      "cell_type": "code",
      "metadata": {
        "colab": {
          "base_uri": "https://localhost:8080/"
        },
        "id": "_BQ5E2Ina0zb",
        "outputId": "fd032d5b-3bb9-406d-cceb-509f2fd879d7"
      },
      "source": [
        "print(f'train data shape: {train_data.shape}')\n",
        "print(f'test data shape: {test_data.shape}')\n",
        "print(f'train target shape: {train_target.shape}')\n",
        "print(f'test target shape: {test_target.shape}')"
      ],
      "execution_count": 8,
      "outputs": [
        {
          "output_type": "stream",
          "text": [
            "train data shape: (397, 10)\n",
            "test data shape: (45, 10)\n",
            "train target shape: (397,)\n",
            "test target shape: (45,)\n"
          ],
          "name": "stdout"
        }
      ]
    },
    {
      "cell_type": "markdown",
      "metadata": {
        "id": "cz_48BQVbYCt"
      },
      "source": [
        "## Define a feedforward neural network"
      ]
    },
    {
      "cell_type": "code",
      "metadata": {
        "id": "NVhttDrea_05"
      },
      "source": [
        "import tensorflow as tf\n",
        "\n",
        "def get_model():\n",
        "  model = tf.keras.models.Sequential([tf.keras.layers.Dense(128, activation='relu', input_shape=(train_data.shape[1],)),\n",
        "                                      tf.keras.layers.Dense(128, activation='relu'),\n",
        "                                      tf.keras.layers.Dense(128, activation='relu'),\n",
        "                                      tf.keras.layers.Dense(128, activation='relu'),\n",
        "                                      tf.keras.layers.Dense(128, activation='relu'),\n",
        "                                      tf.keras.layers.Dense(128, activation='relu'),\n",
        "                                      tf.keras.layers.Dense(1)])\n",
        "  return model"
      ],
      "execution_count": 9,
      "outputs": []
    },
    {
      "cell_type": "code",
      "metadata": {
        "colab": {
          "base_uri": "https://localhost:8080/"
        },
        "id": "oskL2GONeGdp",
        "outputId": "ab166e78-8d51-4cb0-c5ab-2aca7ea4e256"
      },
      "source": [
        "model = get_model()\n",
        "model.summary()"
      ],
      "execution_count": 10,
      "outputs": [
        {
          "output_type": "stream",
          "text": [
            "Model: \"sequential\"\n",
            "_________________________________________________________________\n",
            "Layer (type)                 Output Shape              Param #   \n",
            "=================================================================\n",
            "dense (Dense)                (None, 128)               1408      \n",
            "_________________________________________________________________\n",
            "dense_1 (Dense)              (None, 128)               16512     \n",
            "_________________________________________________________________\n",
            "dense_2 (Dense)              (None, 128)               16512     \n",
            "_________________________________________________________________\n",
            "dense_3 (Dense)              (None, 128)               16512     \n",
            "_________________________________________________________________\n",
            "dense_4 (Dense)              (None, 128)               16512     \n",
            "_________________________________________________________________\n",
            "dense_5 (Dense)              (None, 128)               16512     \n",
            "_________________________________________________________________\n",
            "dense_6 (Dense)              (None, 1)                 129       \n",
            "=================================================================\n",
            "Total params: 84,097\n",
            "Trainable params: 84,097\n",
            "Non-trainable params: 0\n",
            "_________________________________________________________________\n"
          ],
          "name": "stdout"
        }
      ]
    },
    {
      "cell_type": "code",
      "metadata": {
        "id": "FhSZCfOAeIek"
      },
      "source": [
        "model.compile(optimizer=tf.keras.optimizers.Adam(), loss=tf.keras.losses.MeanSquaredError(), metrics=tf.keras.metrics.MeanAbsoluteError())"
      ],
      "execution_count": 11,
      "outputs": []
    },
    {
      "cell_type": "code",
      "metadata": {
        "colab": {
          "base_uri": "https://localhost:8080/"
        },
        "id": "ohoNthdNfTUn",
        "outputId": "2f581192-1e3c-47a3-a426-5700a929cc0d"
      },
      "source": [
        "history = model.fit(train_data, train_target, batch_size=64,\n",
        "                    validation_split=0.15, verbose=2, epochs=100)"
      ],
      "execution_count": 12,
      "outputs": [
        {
          "output_type": "stream",
          "text": [
            "Epoch 1/100\n",
            "6/6 - 1s - loss: 1.0173 - mean_absolute_error: 0.8564 - val_loss: 0.8668 - val_mean_absolute_error: 0.8202\n",
            "Epoch 2/100\n",
            "6/6 - 0s - loss: 0.9268 - mean_absolute_error: 0.8205 - val_loss: 0.7368 - val_mean_absolute_error: 0.7621\n",
            "Epoch 3/100\n",
            "6/6 - 0s - loss: 0.7223 - mean_absolute_error: 0.7203 - val_loss: 0.6995 - val_mean_absolute_error: 0.7018\n",
            "Epoch 4/100\n",
            "6/6 - 0s - loss: 0.5797 - mean_absolute_error: 0.6197 - val_loss: 0.5982 - val_mean_absolute_error: 0.6253\n",
            "Epoch 5/100\n",
            "6/6 - 0s - loss: 0.5228 - mean_absolute_error: 0.5757 - val_loss: 0.5065 - val_mean_absolute_error: 0.6038\n",
            "Epoch 6/100\n",
            "6/6 - 0s - loss: 0.5185 - mean_absolute_error: 0.5865 - val_loss: 0.4989 - val_mean_absolute_error: 0.6093\n",
            "Epoch 7/100\n",
            "6/6 - 0s - loss: 0.4882 - mean_absolute_error: 0.5638 - val_loss: 0.5184 - val_mean_absolute_error: 0.6094\n",
            "Epoch 8/100\n",
            "6/6 - 0s - loss: 0.4778 - mean_absolute_error: 0.5598 - val_loss: 0.5451 - val_mean_absolute_error: 0.6003\n",
            "Epoch 9/100\n",
            "6/6 - 0s - loss: 0.4763 - mean_absolute_error: 0.5473 - val_loss: 0.5588 - val_mean_absolute_error: 0.6262\n",
            "Epoch 10/100\n",
            "6/6 - 0s - loss: 0.4791 - mean_absolute_error: 0.5583 - val_loss: 0.5392 - val_mean_absolute_error: 0.5992\n",
            "Epoch 11/100\n",
            "6/6 - 0s - loss: 0.4497 - mean_absolute_error: 0.5314 - val_loss: 0.5499 - val_mean_absolute_error: 0.6085\n",
            "Epoch 12/100\n",
            "6/6 - 0s - loss: 0.4499 - mean_absolute_error: 0.5333 - val_loss: 0.5234 - val_mean_absolute_error: 0.6053\n",
            "Epoch 13/100\n",
            "6/6 - 0s - loss: 0.4539 - mean_absolute_error: 0.5393 - val_loss: 0.5511 - val_mean_absolute_error: 0.5972\n",
            "Epoch 14/100\n",
            "6/6 - 0s - loss: 0.4534 - mean_absolute_error: 0.5315 - val_loss: 0.5417 - val_mean_absolute_error: 0.6082\n",
            "Epoch 15/100\n",
            "6/6 - 0s - loss: 0.4508 - mean_absolute_error: 0.5350 - val_loss: 0.5506 - val_mean_absolute_error: 0.6000\n",
            "Epoch 16/100\n",
            "6/6 - 0s - loss: 0.4290 - mean_absolute_error: 0.5167 - val_loss: 0.5443 - val_mean_absolute_error: 0.6054\n",
            "Epoch 17/100\n",
            "6/6 - 0s - loss: 0.4186 - mean_absolute_error: 0.5142 - val_loss: 0.5487 - val_mean_absolute_error: 0.6019\n",
            "Epoch 18/100\n",
            "6/6 - 0s - loss: 0.4121 - mean_absolute_error: 0.5118 - val_loss: 0.5484 - val_mean_absolute_error: 0.6074\n",
            "Epoch 19/100\n",
            "6/6 - 0s - loss: 0.3966 - mean_absolute_error: 0.4987 - val_loss: 0.5669 - val_mean_absolute_error: 0.6030\n",
            "Epoch 20/100\n",
            "6/6 - 0s - loss: 0.3988 - mean_absolute_error: 0.4986 - val_loss: 0.5507 - val_mean_absolute_error: 0.6050\n",
            "Epoch 21/100\n",
            "6/6 - 0s - loss: 0.3996 - mean_absolute_error: 0.5032 - val_loss: 0.6151 - val_mean_absolute_error: 0.6226\n",
            "Epoch 22/100\n",
            "6/6 - 0s - loss: 0.4354 - mean_absolute_error: 0.5164 - val_loss: 0.6128 - val_mean_absolute_error: 0.6327\n",
            "Epoch 23/100\n",
            "6/6 - 0s - loss: 0.3973 - mean_absolute_error: 0.5013 - val_loss: 0.5604 - val_mean_absolute_error: 0.6130\n",
            "Epoch 24/100\n",
            "6/6 - 0s - loss: 0.3812 - mean_absolute_error: 0.4903 - val_loss: 0.5730 - val_mean_absolute_error: 0.6188\n",
            "Epoch 25/100\n",
            "6/6 - 0s - loss: 0.3684 - mean_absolute_error: 0.4815 - val_loss: 0.5462 - val_mean_absolute_error: 0.6073\n",
            "Epoch 26/100\n",
            "6/6 - 0s - loss: 0.3649 - mean_absolute_error: 0.4743 - val_loss: 0.5677 - val_mean_absolute_error: 0.6079\n",
            "Epoch 27/100\n",
            "6/6 - 0s - loss: 0.3667 - mean_absolute_error: 0.4772 - val_loss: 0.6125 - val_mean_absolute_error: 0.6201\n",
            "Epoch 28/100\n",
            "6/6 - 0s - loss: 0.3460 - mean_absolute_error: 0.4644 - val_loss: 0.5757 - val_mean_absolute_error: 0.6116\n",
            "Epoch 29/100\n",
            "6/6 - 0s - loss: 0.3504 - mean_absolute_error: 0.4643 - val_loss: 0.5872 - val_mean_absolute_error: 0.6181\n",
            "Epoch 30/100\n",
            "6/6 - 0s - loss: 0.3538 - mean_absolute_error: 0.4680 - val_loss: 0.6330 - val_mean_absolute_error: 0.6496\n",
            "Epoch 31/100\n",
            "6/6 - 0s - loss: 0.3493 - mean_absolute_error: 0.4710 - val_loss: 0.6212 - val_mean_absolute_error: 0.6367\n",
            "Epoch 32/100\n",
            "6/6 - 0s - loss: 0.3334 - mean_absolute_error: 0.4499 - val_loss: 0.6748 - val_mean_absolute_error: 0.6512\n",
            "Epoch 33/100\n",
            "6/6 - 0s - loss: 0.3254 - mean_absolute_error: 0.4514 - val_loss: 0.5994 - val_mean_absolute_error: 0.6352\n",
            "Epoch 34/100\n",
            "6/6 - 0s - loss: 0.3245 - mean_absolute_error: 0.4520 - val_loss: 0.6255 - val_mean_absolute_error: 0.6378\n",
            "Epoch 35/100\n",
            "6/6 - 0s - loss: 0.3435 - mean_absolute_error: 0.4543 - val_loss: 0.7289 - val_mean_absolute_error: 0.6855\n",
            "Epoch 36/100\n",
            "6/6 - 0s - loss: 0.3110 - mean_absolute_error: 0.4354 - val_loss: 0.6211 - val_mean_absolute_error: 0.6403\n",
            "Epoch 37/100\n",
            "6/6 - 0s - loss: 0.2926 - mean_absolute_error: 0.4257 - val_loss: 0.6411 - val_mean_absolute_error: 0.6406\n",
            "Epoch 38/100\n",
            "6/6 - 0s - loss: 0.2884 - mean_absolute_error: 0.4204 - val_loss: 0.6903 - val_mean_absolute_error: 0.6734\n",
            "Epoch 39/100\n",
            "6/6 - 0s - loss: 0.2869 - mean_absolute_error: 0.4215 - val_loss: 0.6702 - val_mean_absolute_error: 0.6596\n",
            "Epoch 40/100\n",
            "6/6 - 0s - loss: 0.3044 - mean_absolute_error: 0.4207 - val_loss: 0.7386 - val_mean_absolute_error: 0.6680\n",
            "Epoch 41/100\n",
            "6/6 - 0s - loss: 0.3253 - mean_absolute_error: 0.4525 - val_loss: 0.7731 - val_mean_absolute_error: 0.7210\n",
            "Epoch 42/100\n",
            "6/6 - 0s - loss: 0.3199 - mean_absolute_error: 0.4597 - val_loss: 0.6434 - val_mean_absolute_error: 0.6581\n",
            "Epoch 43/100\n",
            "6/6 - 0s - loss: 0.2864 - mean_absolute_error: 0.4230 - val_loss: 0.6979 - val_mean_absolute_error: 0.6736\n",
            "Epoch 44/100\n",
            "6/6 - 0s - loss: 0.2373 - mean_absolute_error: 0.3815 - val_loss: 0.6962 - val_mean_absolute_error: 0.6638\n",
            "Epoch 45/100\n",
            "6/6 - 0s - loss: 0.2382 - mean_absolute_error: 0.3836 - val_loss: 0.7048 - val_mean_absolute_error: 0.6638\n",
            "Epoch 46/100\n",
            "6/6 - 0s - loss: 0.2257 - mean_absolute_error: 0.3766 - val_loss: 0.8189 - val_mean_absolute_error: 0.7357\n",
            "Epoch 47/100\n",
            "6/6 - 0s - loss: 0.2293 - mean_absolute_error: 0.3763 - val_loss: 0.7878 - val_mean_absolute_error: 0.7161\n",
            "Epoch 48/100\n",
            "6/6 - 0s - loss: 0.2093 - mean_absolute_error: 0.3559 - val_loss: 0.7576 - val_mean_absolute_error: 0.6914\n",
            "Epoch 49/100\n",
            "6/6 - 0s - loss: 0.2015 - mean_absolute_error: 0.3502 - val_loss: 0.8314 - val_mean_absolute_error: 0.7156\n",
            "Epoch 50/100\n",
            "6/6 - 0s - loss: 0.1843 - mean_absolute_error: 0.3402 - val_loss: 0.8034 - val_mean_absolute_error: 0.7174\n",
            "Epoch 51/100\n",
            "6/6 - 0s - loss: 0.1682 - mean_absolute_error: 0.3249 - val_loss: 0.8718 - val_mean_absolute_error: 0.7478\n",
            "Epoch 52/100\n",
            "6/6 - 0s - loss: 0.1586 - mean_absolute_error: 0.3103 - val_loss: 0.9729 - val_mean_absolute_error: 0.8052\n",
            "Epoch 53/100\n",
            "6/6 - 0s - loss: 0.1798 - mean_absolute_error: 0.3409 - val_loss: 0.8643 - val_mean_absolute_error: 0.7596\n",
            "Epoch 54/100\n",
            "6/6 - 0s - loss: 0.1695 - mean_absolute_error: 0.3291 - val_loss: 0.8777 - val_mean_absolute_error: 0.7642\n",
            "Epoch 55/100\n",
            "6/6 - 0s - loss: 0.1508 - mean_absolute_error: 0.2997 - val_loss: 0.8323 - val_mean_absolute_error: 0.7525\n",
            "Epoch 56/100\n",
            "6/6 - 0s - loss: 0.1933 - mean_absolute_error: 0.3412 - val_loss: 1.0411 - val_mean_absolute_error: 0.8080\n",
            "Epoch 57/100\n",
            "6/6 - 0s - loss: 0.2287 - mean_absolute_error: 0.3823 - val_loss: 0.8630 - val_mean_absolute_error: 0.7522\n",
            "Epoch 58/100\n",
            "6/6 - 0s - loss: 0.2002 - mean_absolute_error: 0.3642 - val_loss: 0.7860 - val_mean_absolute_error: 0.7080\n",
            "Epoch 59/100\n",
            "6/6 - 0s - loss: 0.1909 - mean_absolute_error: 0.3455 - val_loss: 0.8021 - val_mean_absolute_error: 0.7004\n",
            "Epoch 60/100\n",
            "6/6 - 0s - loss: 0.2067 - mean_absolute_error: 0.3705 - val_loss: 0.8883 - val_mean_absolute_error: 0.7589\n",
            "Epoch 61/100\n",
            "6/6 - 0s - loss: 0.1491 - mean_absolute_error: 0.3064 - val_loss: 0.7760 - val_mean_absolute_error: 0.7019\n",
            "Epoch 62/100\n",
            "6/6 - 0s - loss: 0.1278 - mean_absolute_error: 0.2795 - val_loss: 0.8230 - val_mean_absolute_error: 0.6974\n",
            "Epoch 63/100\n",
            "6/6 - 0s - loss: 0.1439 - mean_absolute_error: 0.2991 - val_loss: 0.7938 - val_mean_absolute_error: 0.7041\n",
            "Epoch 64/100\n",
            "6/6 - 0s - loss: 0.1406 - mean_absolute_error: 0.3005 - val_loss: 0.8134 - val_mean_absolute_error: 0.7174\n",
            "Epoch 65/100\n",
            "6/6 - 0s - loss: 0.1223 - mean_absolute_error: 0.2732 - val_loss: 0.8512 - val_mean_absolute_error: 0.7424\n",
            "Epoch 66/100\n",
            "6/6 - 0s - loss: 0.1048 - mean_absolute_error: 0.2530 - val_loss: 0.8160 - val_mean_absolute_error: 0.7221\n",
            "Epoch 67/100\n",
            "6/6 - 0s - loss: 0.0948 - mean_absolute_error: 0.2369 - val_loss: 0.8336 - val_mean_absolute_error: 0.7084\n",
            "Epoch 68/100\n",
            "6/6 - 0s - loss: 0.0959 - mean_absolute_error: 0.2395 - val_loss: 0.8330 - val_mean_absolute_error: 0.7144\n",
            "Epoch 69/100\n",
            "6/6 - 0s - loss: 0.0901 - mean_absolute_error: 0.2325 - val_loss: 0.8432 - val_mean_absolute_error: 0.7113\n",
            "Epoch 70/100\n",
            "6/6 - 0s - loss: 0.0896 - mean_absolute_error: 0.2282 - val_loss: 0.8631 - val_mean_absolute_error: 0.7376\n",
            "Epoch 71/100\n",
            "6/6 - 0s - loss: 0.0863 - mean_absolute_error: 0.2223 - val_loss: 0.8251 - val_mean_absolute_error: 0.7028\n",
            "Epoch 72/100\n",
            "6/6 - 0s - loss: 0.0837 - mean_absolute_error: 0.2231 - val_loss: 0.8393 - val_mean_absolute_error: 0.7136\n",
            "Epoch 73/100\n",
            "6/6 - 0s - loss: 0.0802 - mean_absolute_error: 0.2190 - val_loss: 0.8582 - val_mean_absolute_error: 0.7303\n",
            "Epoch 74/100\n",
            "6/6 - 0s - loss: 0.0733 - mean_absolute_error: 0.2071 - val_loss: 0.9152 - val_mean_absolute_error: 0.7394\n",
            "Epoch 75/100\n",
            "6/6 - 0s - loss: 0.0774 - mean_absolute_error: 0.2166 - val_loss: 0.9450 - val_mean_absolute_error: 0.7644\n",
            "Epoch 76/100\n",
            "6/6 - 0s - loss: 0.0758 - mean_absolute_error: 0.2082 - val_loss: 0.8932 - val_mean_absolute_error: 0.7343\n",
            "Epoch 77/100\n",
            "6/6 - 0s - loss: 0.0624 - mean_absolute_error: 0.1899 - val_loss: 0.9538 - val_mean_absolute_error: 0.7811\n",
            "Epoch 78/100\n",
            "6/6 - 0s - loss: 0.0790 - mean_absolute_error: 0.2256 - val_loss: 0.9664 - val_mean_absolute_error: 0.7573\n",
            "Epoch 79/100\n",
            "6/6 - 0s - loss: 0.0876 - mean_absolute_error: 0.2283 - val_loss: 0.8564 - val_mean_absolute_error: 0.7069\n",
            "Epoch 80/100\n",
            "6/6 - 0s - loss: 0.0793 - mean_absolute_error: 0.2224 - val_loss: 0.8303 - val_mean_absolute_error: 0.7104\n",
            "Epoch 81/100\n",
            "6/6 - 0s - loss: 0.1029 - mean_absolute_error: 0.2529 - val_loss: 0.8447 - val_mean_absolute_error: 0.7098\n",
            "Epoch 82/100\n",
            "6/6 - 0s - loss: 0.0992 - mean_absolute_error: 0.2503 - val_loss: 0.8249 - val_mean_absolute_error: 0.7059\n",
            "Epoch 83/100\n",
            "6/6 - 0s - loss: 0.0705 - mean_absolute_error: 0.2085 - val_loss: 0.8314 - val_mean_absolute_error: 0.7068\n",
            "Epoch 84/100\n",
            "6/6 - 0s - loss: 0.0652 - mean_absolute_error: 0.1946 - val_loss: 0.8117 - val_mean_absolute_error: 0.6930\n",
            "Epoch 85/100\n",
            "6/6 - 0s - loss: 0.0594 - mean_absolute_error: 0.1897 - val_loss: 0.9003 - val_mean_absolute_error: 0.7342\n",
            "Epoch 86/100\n",
            "6/6 - 0s - loss: 0.0659 - mean_absolute_error: 0.2003 - val_loss: 0.8746 - val_mean_absolute_error: 0.7150\n",
            "Epoch 87/100\n",
            "6/6 - 0s - loss: 0.0720 - mean_absolute_error: 0.2090 - val_loss: 0.8213 - val_mean_absolute_error: 0.6976\n",
            "Epoch 88/100\n",
            "6/6 - 0s - loss: 0.1091 - mean_absolute_error: 0.2583 - val_loss: 0.7544 - val_mean_absolute_error: 0.6724\n",
            "Epoch 89/100\n",
            "6/6 - 0s - loss: 0.0898 - mean_absolute_error: 0.2422 - val_loss: 0.8235 - val_mean_absolute_error: 0.7021\n",
            "Epoch 90/100\n",
            "6/6 - 0s - loss: 0.0647 - mean_absolute_error: 0.2022 - val_loss: 0.8356 - val_mean_absolute_error: 0.6880\n",
            "Epoch 91/100\n",
            "6/6 - 0s - loss: 0.0525 - mean_absolute_error: 0.1784 - val_loss: 0.8574 - val_mean_absolute_error: 0.7147\n",
            "Epoch 92/100\n",
            "6/6 - 0s - loss: 0.0444 - mean_absolute_error: 0.1628 - val_loss: 0.8514 - val_mean_absolute_error: 0.7175\n",
            "Epoch 93/100\n",
            "6/6 - 0s - loss: 0.0438 - mean_absolute_error: 0.1627 - val_loss: 0.8595 - val_mean_absolute_error: 0.7232\n",
            "Epoch 94/100\n",
            "6/6 - 0s - loss: 0.0414 - mean_absolute_error: 0.1614 - val_loss: 0.8731 - val_mean_absolute_error: 0.7140\n",
            "Epoch 95/100\n",
            "6/6 - 0s - loss: 0.0484 - mean_absolute_error: 0.1747 - val_loss: 0.8431 - val_mean_absolute_error: 0.7034\n",
            "Epoch 96/100\n",
            "6/6 - 0s - loss: 0.0495 - mean_absolute_error: 0.1734 - val_loss: 0.8480 - val_mean_absolute_error: 0.6980\n",
            "Epoch 97/100\n",
            "6/6 - 0s - loss: 0.0355 - mean_absolute_error: 0.1480 - val_loss: 0.8359 - val_mean_absolute_error: 0.7041\n",
            "Epoch 98/100\n",
            "6/6 - 0s - loss: 0.0393 - mean_absolute_error: 0.1537 - val_loss: 0.8831 - val_mean_absolute_error: 0.7242\n",
            "Epoch 99/100\n",
            "6/6 - 0s - loss: 0.0312 - mean_absolute_error: 0.1369 - val_loss: 0.9018 - val_mean_absolute_error: 0.7403\n",
            "Epoch 100/100\n",
            "6/6 - 0s - loss: 0.0361 - mean_absolute_error: 0.1469 - val_loss: 0.9153 - val_mean_absolute_error: 0.7329\n"
          ],
          "name": "stdout"
        }
      ]
    },
    {
      "cell_type": "code",
      "metadata": {
        "colab": {
          "base_uri": "https://localhost:8080/"
        },
        "id": "uVR1DeEdgwtr",
        "outputId": "07473921-7bcc-4d71-c9d3-b294a71f344a"
      },
      "source": [
        "model.evaluate(test_data, test_target, verbose=2)"
      ],
      "execution_count": 13,
      "outputs": [
        {
          "output_type": "stream",
          "text": [
            "2/2 - 0s - loss: 0.6562 - mean_absolute_error: 0.6425\n"
          ],
          "name": "stdout"
        },
        {
          "output_type": "execute_result",
          "data": {
            "text/plain": [
              "[0.6561643481254578, 0.6425347924232483]"
            ]
          },
          "metadata": {
            "tags": []
          },
          "execution_count": 13
        }
      ]
    },
    {
      "cell_type": "code",
      "metadata": {
        "colab": {
          "base_uri": "https://localhost:8080/",
          "height": 295
        },
        "id": "B7x-dNFVg83m",
        "outputId": "6e1e1c52-ee57-42e0-de2a-113a3d657a0d"
      },
      "source": [
        "import matplotlib.pyplot as plt\n",
        "\n",
        "def plot_graphs(history, string):\n",
        "  plt.plot(history.history[string], 'b', label=string)\n",
        "  plt.plot(history.history['val_'+string], 'r', label='val_'+string)\n",
        "  plt.xlabel('epochs')\n",
        "  plt.ylabel(string)\n",
        "  plt.title('Loss vs. epochs')\n",
        "  plt.legend()\n",
        "  plt.show()\n",
        "\n",
        "plot_graphs(history, 'loss')\n"
      ],
      "execution_count": 14,
      "outputs": [
        {
          "output_type": "display_data",
          "data": {
            "image/png": "[encoded data removed]",
            "text/plain": [
              "<Figure size 432x288 with 1 Axes>"
            ]
          },
          "metadata": {
            "tags": [],
            "needs_background": "light"
          }
        }
      ]
    },
    {
      "cell_type": "markdown",
      "metadata": {
        "id": "ojnIzj-vlf3d"
      },
      "source": [
        "# Model regularisation"
      ]
    },
    {
      "cell_type": "code",
      "metadata": {
        "id": "vx8cwcfdhBpz"
      },
      "source": [
        "def get_regularised_model(wd, rate):\n",
        "  model = tf.keras.models.Sequential([tf.keras.layers.Dense(128, activation='relu', input_shape=(train_data.shape[1],),\n",
        "                                                            kernel_regularizer=tf.keras.regularizers.l2(wd)),\n",
        "                                      tf.keras.layers.Dropout(rate),\n",
        "                                      tf.keras.layers.Dense(128, activation='relu', kernel_regularizer=tf.keras.regularizers.l2(wd)),\n",
        "                                      tf.keras.layers.Dropout(rate),\n",
        "                                      tf.keras.layers.Dense(128, activation='relu', kernel_regularizer=tf.keras.regularizers.l2(wd)),\n",
        "                                      tf.keras.layers.Dropout(rate),\n",
        "                                      tf.keras.layers.Dense(128, activation='relu', kernel_regularizer=tf.keras.regularizers.l2(wd)),\n",
        "                                      tf.keras.layers.Dropout(rate),\n",
        "                                      tf.keras.layers.Dense(128, activation='relu', kernel_regularizer=tf.keras.regularizers.l2(wd)),\n",
        "                                      tf.keras.layers.Dropout(rate),\n",
        "                                      tf.keras.layers.Dense(128, activation='relu', kernel_regularizer=tf.keras.regularizers.l2(wd)),\n",
        "                                      tf.keras.layers.Dropout(rate),\n",
        "                                      tf.keras.layers.Dense(1)])\n",
        "  return model"
      ],
      "execution_count": 16,
      "outputs": []
    },
    {
      "cell_type": "code",
      "metadata": {
        "id": "a8jfr66CkRdJ"
      },
      "source": [
        "model = get_regularised_model(1e-5, 0.3)"
      ],
      "execution_count": 17,
      "outputs": []
    },
    {
      "cell_type": "code",
      "metadata": {
        "id": "QB3ytsUllpXH"
      },
      "source": [
        "model.compile(optimizer=tf.keras.optimizers.Adam(), loss=tf.keras.losses.MeanSquaredError(), metrics=tf.keras.metrics.MeanAbsoluteError())"
      ],
      "execution_count": 18,
      "outputs": []
    },
    {
      "cell_type": "code",
      "metadata": {
        "colab": {
          "base_uri": "https://localhost:8080/"
        },
        "id": "vs_GpZV1mTCq",
        "outputId": "524f222e-1e36-4c9e-dd38-a74f72d09358"
      },
      "source": [
        "history = model.fit(train_data, train_target, validation_split=0.15,\n",
        "                    batch_size=64, epochs=100, verbose=2)"
      ],
      "execution_count": 19,
      "outputs": [
        {
          "output_type": "stream",
          "text": [
            "Epoch 1/100\n",
            "6/6 - 1s - loss: 1.0339 - mean_absolute_error: 0.8581 - val_loss: 0.9070 - val_mean_absolute_error: 0.8297\n",
            "Epoch 2/100\n",
            "6/6 - 0s - loss: 1.0204 - mean_absolute_error: 0.8545 - val_loss: 0.8729 - val_mean_absolute_error: 0.8157\n",
            "Epoch 3/100\n",
            "6/6 - 0s - loss: 0.9670 - mean_absolute_error: 0.8277 - val_loss: 0.7823 - val_mean_absolute_error: 0.7751\n",
            "Epoch 4/100\n",
            "6/6 - 0s - loss: 0.8338 - mean_absolute_error: 0.7659 - val_loss: 0.6655 - val_mean_absolute_error: 0.7248\n",
            "Epoch 5/100\n",
            "6/6 - 0s - loss: 0.6740 - mean_absolute_error: 0.6747 - val_loss: 0.6630 - val_mean_absolute_error: 0.6776\n",
            "Epoch 6/100\n",
            "6/6 - 0s - loss: 0.6658 - mean_absolute_error: 0.6619 - val_loss: 0.6370 - val_mean_absolute_error: 0.6541\n",
            "Epoch 7/100\n",
            "6/6 - 0s - loss: 0.6349 - mean_absolute_error: 0.6410 - val_loss: 0.5685 - val_mean_absolute_error: 0.6519\n",
            "Epoch 8/100\n",
            "6/6 - 0s - loss: 0.5939 - mean_absolute_error: 0.6320 - val_loss: 0.5604 - val_mean_absolute_error: 0.6478\n",
            "Epoch 9/100\n",
            "6/6 - 0s - loss: 0.5690 - mean_absolute_error: 0.6135 - val_loss: 0.5454 - val_mean_absolute_error: 0.6207\n",
            "Epoch 10/100\n",
            "6/6 - 0s - loss: 0.5677 - mean_absolute_error: 0.6111 - val_loss: 0.5456 - val_mean_absolute_error: 0.6066\n",
            "Epoch 11/100\n",
            "6/6 - 0s - loss: 0.5654 - mean_absolute_error: 0.6073 - val_loss: 0.5283 - val_mean_absolute_error: 0.6120\n",
            "Epoch 12/100\n",
            "6/6 - 0s - loss: 0.5783 - mean_absolute_error: 0.6122 - val_loss: 0.5317 - val_mean_absolute_error: 0.6070\n",
            "Epoch 13/100\n",
            "6/6 - 0s - loss: 0.5490 - mean_absolute_error: 0.5957 - val_loss: 0.5197 - val_mean_absolute_error: 0.6099\n",
            "Epoch 14/100\n",
            "6/6 - 0s - loss: 0.5692 - mean_absolute_error: 0.6122 - val_loss: 0.5085 - val_mean_absolute_error: 0.6018\n",
            "Epoch 15/100\n",
            "6/6 - 0s - loss: 0.5334 - mean_absolute_error: 0.5924 - val_loss: 0.5104 - val_mean_absolute_error: 0.6091\n",
            "Epoch 16/100\n",
            "6/6 - 0s - loss: 0.5395 - mean_absolute_error: 0.5978 - val_loss: 0.5061 - val_mean_absolute_error: 0.6026\n",
            "Epoch 17/100\n",
            "6/6 - 0s - loss: 0.5620 - mean_absolute_error: 0.6099 - val_loss: 0.5103 - val_mean_absolute_error: 0.5933\n",
            "Epoch 18/100\n",
            "6/6 - 0s - loss: 0.5278 - mean_absolute_error: 0.5790 - val_loss: 0.5147 - val_mean_absolute_error: 0.6025\n",
            "Epoch 19/100\n",
            "6/6 - 0s - loss: 0.5404 - mean_absolute_error: 0.5981 - val_loss: 0.5103 - val_mean_absolute_error: 0.6049\n",
            "Epoch 20/100\n",
            "6/6 - 0s - loss: 0.5181 - mean_absolute_error: 0.5796 - val_loss: 0.5268 - val_mean_absolute_error: 0.5931\n",
            "Epoch 21/100\n",
            "6/6 - 0s - loss: 0.5045 - mean_absolute_error: 0.5715 - val_loss: 0.5368 - val_mean_absolute_error: 0.5980\n",
            "Epoch 22/100\n",
            "6/6 - 0s - loss: 0.5341 - mean_absolute_error: 0.5863 - val_loss: 0.5309 - val_mean_absolute_error: 0.6172\n",
            "Epoch 23/100\n",
            "6/6 - 0s - loss: 0.5204 - mean_absolute_error: 0.5821 - val_loss: 0.5370 - val_mean_absolute_error: 0.6246\n",
            "Epoch 24/100\n",
            "6/6 - 0s - loss: 0.4874 - mean_absolute_error: 0.5583 - val_loss: 0.5393 - val_mean_absolute_error: 0.6140\n",
            "Epoch 25/100\n",
            "6/6 - 0s - loss: 0.4821 - mean_absolute_error: 0.5620 - val_loss: 0.5390 - val_mean_absolute_error: 0.6222\n",
            "Epoch 26/100\n",
            "6/6 - 0s - loss: 0.4905 - mean_absolute_error: 0.5720 - val_loss: 0.5412 - val_mean_absolute_error: 0.6044\n",
            "Epoch 27/100\n",
            "6/6 - 0s - loss: 0.5409 - mean_absolute_error: 0.5922 - val_loss: 0.5481 - val_mean_absolute_error: 0.5993\n",
            "Epoch 28/100\n",
            "6/6 - 0s - loss: 0.5168 - mean_absolute_error: 0.5707 - val_loss: 0.5234 - val_mean_absolute_error: 0.6092\n",
            "Epoch 29/100\n",
            "6/6 - 0s - loss: 0.4871 - mean_absolute_error: 0.5579 - val_loss: 0.5231 - val_mean_absolute_error: 0.5927\n",
            "Epoch 30/100\n",
            "6/6 - 0s - loss: 0.5111 - mean_absolute_error: 0.5849 - val_loss: 0.5203 - val_mean_absolute_error: 0.5912\n",
            "Epoch 31/100\n",
            "6/6 - 0s - loss: 0.4728 - mean_absolute_error: 0.5557 - val_loss: 0.5177 - val_mean_absolute_error: 0.5923\n",
            "Epoch 32/100\n",
            "6/6 - 0s - loss: 0.5031 - mean_absolute_error: 0.5637 - val_loss: 0.5235 - val_mean_absolute_error: 0.5890\n",
            "Epoch 33/100\n",
            "6/6 - 0s - loss: 0.4700 - mean_absolute_error: 0.5431 - val_loss: 0.5121 - val_mean_absolute_error: 0.5878\n",
            "Epoch 34/100\n",
            "6/6 - 0s - loss: 0.4921 - mean_absolute_error: 0.5620 - val_loss: 0.5214 - val_mean_absolute_error: 0.5789\n",
            "Epoch 35/100\n",
            "6/6 - 0s - loss: 0.5156 - mean_absolute_error: 0.5613 - val_loss: 0.5082 - val_mean_absolute_error: 0.5926\n",
            "Epoch 36/100\n",
            "6/6 - 0s - loss: 0.4696 - mean_absolute_error: 0.5558 - val_loss: 0.5161 - val_mean_absolute_error: 0.5906\n",
            "Epoch 37/100\n",
            "6/6 - 0s - loss: 0.5029 - mean_absolute_error: 0.5632 - val_loss: 0.5361 - val_mean_absolute_error: 0.5881\n",
            "Epoch 38/100\n",
            "6/6 - 0s - loss: 0.4742 - mean_absolute_error: 0.5499 - val_loss: 0.5396 - val_mean_absolute_error: 0.6028\n",
            "Epoch 39/100\n",
            "6/6 - 0s - loss: 0.5222 - mean_absolute_error: 0.5821 - val_loss: 0.5419 - val_mean_absolute_error: 0.5982\n",
            "Epoch 40/100\n",
            "6/6 - 0s - loss: 0.4596 - mean_absolute_error: 0.5410 - val_loss: 0.5545 - val_mean_absolute_error: 0.5957\n",
            "Epoch 41/100\n",
            "6/6 - 0s - loss: 0.4684 - mean_absolute_error: 0.5506 - val_loss: 0.5505 - val_mean_absolute_error: 0.6155\n",
            "Epoch 42/100\n",
            "6/6 - 0s - loss: 0.4717 - mean_absolute_error: 0.5462 - val_loss: 0.5406 - val_mean_absolute_error: 0.6035\n",
            "Epoch 43/100\n",
            "6/6 - 0s - loss: 0.4904 - mean_absolute_error: 0.5613 - val_loss: 0.5257 - val_mean_absolute_error: 0.5996\n",
            "Epoch 44/100\n",
            "6/6 - 0s - loss: 0.4797 - mean_absolute_error: 0.5477 - val_loss: 0.5463 - val_mean_absolute_error: 0.5945\n",
            "Epoch 45/100\n",
            "6/6 - 0s - loss: 0.4906 - mean_absolute_error: 0.5552 - val_loss: 0.5310 - val_mean_absolute_error: 0.6006\n",
            "Epoch 46/100\n",
            "6/6 - 0s - loss: 0.4535 - mean_absolute_error: 0.5409 - val_loss: 0.5358 - val_mean_absolute_error: 0.6018\n",
            "Epoch 47/100\n",
            "6/6 - 0s - loss: 0.4747 - mean_absolute_error: 0.5498 - val_loss: 0.5378 - val_mean_absolute_error: 0.5957\n",
            "Epoch 48/100\n",
            "6/6 - 0s - loss: 0.4613 - mean_absolute_error: 0.5371 - val_loss: 0.5378 - val_mean_absolute_error: 0.5938\n",
            "Epoch 49/100\n",
            "6/6 - 0s - loss: 0.4497 - mean_absolute_error: 0.5323 - val_loss: 0.5429 - val_mean_absolute_error: 0.5853\n",
            "Epoch 50/100\n",
            "6/6 - 0s - loss: 0.4660 - mean_absolute_error: 0.5351 - val_loss: 0.5345 - val_mean_absolute_error: 0.5826\n",
            "Epoch 51/100\n",
            "6/6 - 0s - loss: 0.4776 - mean_absolute_error: 0.5458 - val_loss: 0.5413 - val_mean_absolute_error: 0.5870\n",
            "Epoch 52/100\n",
            "6/6 - 0s - loss: 0.4511 - mean_absolute_error: 0.5291 - val_loss: 0.5307 - val_mean_absolute_error: 0.5916\n",
            "Epoch 53/100\n",
            "6/6 - 0s - loss: 0.4372 - mean_absolute_error: 0.5231 - val_loss: 0.5420 - val_mean_absolute_error: 0.5949\n",
            "Epoch 54/100\n",
            "6/6 - 0s - loss: 0.4246 - mean_absolute_error: 0.5125 - val_loss: 0.5397 - val_mean_absolute_error: 0.5838\n",
            "Epoch 55/100\n",
            "6/6 - 0s - loss: 0.4508 - mean_absolute_error: 0.5325 - val_loss: 0.5378 - val_mean_absolute_error: 0.5987\n",
            "Epoch 56/100\n",
            "6/6 - 0s - loss: 0.4588 - mean_absolute_error: 0.5483 - val_loss: 0.5297 - val_mean_absolute_error: 0.5891\n",
            "Epoch 57/100\n",
            "6/6 - 0s - loss: 0.4401 - mean_absolute_error: 0.5319 - val_loss: 0.5337 - val_mean_absolute_error: 0.5808\n",
            "Epoch 58/100\n",
            "6/6 - 0s - loss: 0.4350 - mean_absolute_error: 0.5146 - val_loss: 0.5324 - val_mean_absolute_error: 0.5945\n",
            "Epoch 59/100\n",
            "6/6 - 0s - loss: 0.4526 - mean_absolute_error: 0.5386 - val_loss: 0.5367 - val_mean_absolute_error: 0.5991\n",
            "Epoch 60/100\n",
            "6/6 - 0s - loss: 0.4300 - mean_absolute_error: 0.5120 - val_loss: 0.5472 - val_mean_absolute_error: 0.5835\n",
            "Epoch 61/100\n",
            "6/6 - 0s - loss: 0.4467 - mean_absolute_error: 0.5247 - val_loss: 0.5468 - val_mean_absolute_error: 0.5965\n",
            "Epoch 62/100\n",
            "6/6 - 0s - loss: 0.3862 - mean_absolute_error: 0.4904 - val_loss: 0.5612 - val_mean_absolute_error: 0.6042\n",
            "Epoch 63/100\n",
            "6/6 - 0s - loss: 0.4720 - mean_absolute_error: 0.5351 - val_loss: 0.5428 - val_mean_absolute_error: 0.5957\n",
            "Epoch 64/100\n",
            "6/6 - 0s - loss: 0.4605 - mean_absolute_error: 0.5489 - val_loss: 0.5520 - val_mean_absolute_error: 0.6070\n",
            "Epoch 65/100\n",
            "6/6 - 0s - loss: 0.4359 - mean_absolute_error: 0.5297 - val_loss: 0.5633 - val_mean_absolute_error: 0.6029\n",
            "Epoch 66/100\n",
            "6/6 - 0s - loss: 0.4272 - mean_absolute_error: 0.5204 - val_loss: 0.5593 - val_mean_absolute_error: 0.6110\n",
            "Epoch 67/100\n",
            "6/6 - 0s - loss: 0.4207 - mean_absolute_error: 0.5084 - val_loss: 0.5593 - val_mean_absolute_error: 0.5963\n",
            "Epoch 68/100\n",
            "6/6 - 0s - loss: 0.4257 - mean_absolute_error: 0.5209 - val_loss: 0.5453 - val_mean_absolute_error: 0.5979\n",
            "Epoch 69/100\n",
            "6/6 - 0s - loss: 0.4293 - mean_absolute_error: 0.5174 - val_loss: 0.5480 - val_mean_absolute_error: 0.5984\n",
            "Epoch 70/100\n",
            "6/6 - 0s - loss: 0.4241 - mean_absolute_error: 0.5142 - val_loss: 0.5663 - val_mean_absolute_error: 0.5999\n",
            "Epoch 71/100\n",
            "6/6 - 0s - loss: 0.4050 - mean_absolute_error: 0.5044 - val_loss: 0.5671 - val_mean_absolute_error: 0.6080\n",
            "Epoch 72/100\n",
            "6/6 - 0s - loss: 0.4047 - mean_absolute_error: 0.5058 - val_loss: 0.5673 - val_mean_absolute_error: 0.6022\n",
            "Epoch 73/100\n",
            "6/6 - 0s - loss: 0.4146 - mean_absolute_error: 0.5062 - val_loss: 0.5825 - val_mean_absolute_error: 0.5980\n",
            "Epoch 74/100\n",
            "6/6 - 0s - loss: 0.4498 - mean_absolute_error: 0.5248 - val_loss: 0.5739 - val_mean_absolute_error: 0.6102\n",
            "Epoch 75/100\n",
            "6/6 - 0s - loss: 0.4460 - mean_absolute_error: 0.5327 - val_loss: 0.5925 - val_mean_absolute_error: 0.6317\n",
            "Epoch 76/100\n",
            "6/6 - 0s - loss: 0.4190 - mean_absolute_error: 0.5235 - val_loss: 0.5597 - val_mean_absolute_error: 0.6178\n",
            "Epoch 77/100\n",
            "6/6 - 0s - loss: 0.4247 - mean_absolute_error: 0.5190 - val_loss: 0.5679 - val_mean_absolute_error: 0.6061\n",
            "Epoch 78/100\n",
            "6/6 - 0s - loss: 0.3835 - mean_absolute_error: 0.4784 - val_loss: 0.5471 - val_mean_absolute_error: 0.5897\n",
            "Epoch 79/100\n",
            "6/6 - 0s - loss: 0.3955 - mean_absolute_error: 0.5007 - val_loss: 0.5569 - val_mean_absolute_error: 0.6021\n",
            "Epoch 80/100\n",
            "6/6 - 0s - loss: 0.4004 - mean_absolute_error: 0.5054 - val_loss: 0.5784 - val_mean_absolute_error: 0.6184\n",
            "Epoch 81/100\n",
            "6/6 - 0s - loss: 0.3978 - mean_absolute_error: 0.4956 - val_loss: 0.5851 - val_mean_absolute_error: 0.6137\n",
            "Epoch 82/100\n",
            "6/6 - 0s - loss: 0.3450 - mean_absolute_error: 0.4691 - val_loss: 0.5732 - val_mean_absolute_error: 0.6141\n",
            "Epoch 83/100\n",
            "6/6 - 0s - loss: 0.4039 - mean_absolute_error: 0.4959 - val_loss: 0.5832 - val_mean_absolute_error: 0.6181\n",
            "Epoch 84/100\n",
            "6/6 - 0s - loss: 0.4134 - mean_absolute_error: 0.5072 - val_loss: 0.5609 - val_mean_absolute_error: 0.6118\n",
            "Epoch 85/100\n",
            "6/6 - 0s - loss: 0.3665 - mean_absolute_error: 0.4703 - val_loss: 0.5493 - val_mean_absolute_error: 0.6009\n",
            "Epoch 86/100\n",
            "6/6 - 0s - loss: 0.3997 - mean_absolute_error: 0.5010 - val_loss: 0.5587 - val_mean_absolute_error: 0.5985\n",
            "Epoch 87/100\n",
            "6/6 - 0s - loss: 0.3935 - mean_absolute_error: 0.5008 - val_loss: 0.5425 - val_mean_absolute_error: 0.6026\n",
            "Epoch 88/100\n",
            "6/6 - 0s - loss: 0.3548 - mean_absolute_error: 0.4733 - val_loss: 0.5847 - val_mean_absolute_error: 0.6185\n",
            "Epoch 89/100\n",
            "6/6 - 0s - loss: 0.3860 - mean_absolute_error: 0.4835 - val_loss: 0.6273 - val_mean_absolute_error: 0.6383\n",
            "Epoch 90/100\n",
            "6/6 - 0s - loss: 0.3784 - mean_absolute_error: 0.4842 - val_loss: 0.6058 - val_mean_absolute_error: 0.6232\n",
            "Epoch 91/100\n",
            "6/6 - 0s - loss: 0.3989 - mean_absolute_error: 0.4947 - val_loss: 0.5955 - val_mean_absolute_error: 0.6388\n",
            "Epoch 92/100\n",
            "6/6 - 0s - loss: 0.3800 - mean_absolute_error: 0.4857 - val_loss: 0.5880 - val_mean_absolute_error: 0.6279\n",
            "Epoch 93/100\n",
            "6/6 - 0s - loss: 0.3827 - mean_absolute_error: 0.4902 - val_loss: 0.5834 - val_mean_absolute_error: 0.6231\n",
            "Epoch 94/100\n",
            "6/6 - 0s - loss: 0.3717 - mean_absolute_error: 0.4885 - val_loss: 0.5591 - val_mean_absolute_error: 0.6150\n",
            "Epoch 95/100\n",
            "6/6 - 0s - loss: 0.3559 - mean_absolute_error: 0.4771 - val_loss: 0.5608 - val_mean_absolute_error: 0.6087\n",
            "Epoch 96/100\n",
            "6/6 - 0s - loss: 0.3711 - mean_absolute_error: 0.4674 - val_loss: 0.5869 - val_mean_absolute_error: 0.6176\n",
            "Epoch 97/100\n",
            "6/6 - 0s - loss: 0.3630 - mean_absolute_error: 0.4785 - val_loss: 0.6051 - val_mean_absolute_error: 0.6402\n",
            "Epoch 98/100\n",
            "6/6 - 0s - loss: 0.3732 - mean_absolute_error: 0.4833 - val_loss: 0.6426 - val_mean_absolute_error: 0.6410\n",
            "Epoch 99/100\n",
            "6/6 - 0s - loss: 0.3881 - mean_absolute_error: 0.4772 - val_loss: 0.6150 - val_mean_absolute_error: 0.6276\n",
            "Epoch 100/100\n",
            "6/6 - 0s - loss: 0.3949 - mean_absolute_error: 0.4935 - val_loss: 0.5533 - val_mean_absolute_error: 0.6191\n"
          ],
          "name": "stdout"
        }
      ]
    },
    {
      "cell_type": "code",
      "metadata": {
        "colab": {
          "base_uri": "https://localhost:8080/"
        },
        "id": "mvUgY9B9mu-c",
        "outputId": "db578b8a-0387-4576-9fab-977bb82c35de"
      },
      "source": [
        "model.evaluate(train_data, train_target, verbose=2)"
      ],
      "execution_count": 20,
      "outputs": [
        {
          "output_type": "stream",
          "text": [
            "13/13 - 0s - loss: 0.3408 - mean_absolute_error: 0.4659\n"
          ],
          "name": "stdout"
        },
        {
          "output_type": "execute_result",
          "data": {
            "text/plain": [
              "[0.34076258540153503, 0.4658714830875397]"
            ]
          },
          "metadata": {
            "tags": []
          },
          "execution_count": 20
        }
      ]
    },
    {
      "cell_type": "code",
      "metadata": {
        "colab": {
          "base_uri": "https://localhost:8080/",
          "height": 295
        },
        "id": "dVI3nHT_m71K",
        "outputId": "aabe1876-e9a0-4524-c92f-869b9f42834d"
      },
      "source": [
        "import matplotlib.pyplot as plt\n",
        "\n",
        "def plot_graphs(history, string):\n",
        "  plt.plot(history.history[string], 'b', label=string)\n",
        "  plt.plot(history.history['val_'+string], 'r', label='val_'+string)\n",
        "  plt.xlabel('epochs')\n",
        "  plt.ylabel(string)\n",
        "  plt.title('Loss vs. epochs')\n",
        "  plt.legend()\n",
        "  plt.show()\n",
        "\n",
        "plot_graphs(history, 'loss')"
      ],
      "execution_count": 21,
      "outputs": [
        {
          "output_type": "display_data",
          "data": {
            "image/png": "[encoded data removed]",
            "text/plain": [
              "<Figure size 432x288 with 1 Axes>"
            ]
          },
          "metadata": {
            "tags": [],
            "needs_background": "light"
          }
        }
      ]
    }
  ]
}