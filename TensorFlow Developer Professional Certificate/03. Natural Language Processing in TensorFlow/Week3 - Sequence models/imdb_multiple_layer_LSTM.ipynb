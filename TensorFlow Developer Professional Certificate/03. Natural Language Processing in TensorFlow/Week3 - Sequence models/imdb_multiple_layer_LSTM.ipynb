{
  "nbformat": 4,
  "nbformat_minor": 0,
  "metadata": {
    "accelerator": "GPU",
    "colab": {
      "name": "imdb-multiple-layer-LSTM.ipynb",
      "provenance": [],
      "collapsed_sections": [],
      "authorship_tag": "ABX9TyNy04K3isZy9Z9DRxDytGXh",
      "include_colab_link": true
    },
    "kernelspec": {
      "display_name": "Python 3",
      "name": "python3"
    }
  },
  "cells": [
    {
      "cell_type": "markdown",
      "metadata": {
        "id": "view-in-github",
        "colab_type": "text"
      },
      "source": [
        "<a href=\"https://colab.research.google.com/github/skhazaei/TensorFlow-repo/blob/master/imdb_multiple_layer_LSTM.ipynb\" target=\"_parent\"><img src=\"https://colab.research.google.com/assets/colab-badge.svg\" alt=\"Open In Colab\"/></a>"
      ]
    },
    {
      "cell_type": "markdown",
      "metadata": {
        "id": "LAkV_M5nLvX2"
      },
      "source": [
        "## Download imdb dataset with subwords tokenizer"
      ]
    },
    {
      "cell_type": "code",
      "metadata": {
        "colab": {
          "base_uri": "https://localhost:8080/"
        },
        "id": "21s68d2ZLhpC",
        "outputId": "69c4d263-8343-4ab4-ee87-3533a2fd6d63"
      },
      "source": [
        "import tensorflow_datasets as tfds\n",
        "\n",
        "imdb, info = tfds.load('imdb_reviews/subwords8k', with_info=True, as_supervised=True) "
      ],
      "execution_count": 13,
      "outputs": [
        {
          "output_type": "stream",
          "text": [
            "WARNING:absl:TFDS datasets with text encoding are deprecated and will be removed in a future version. Instead, you should use the plain text version and tokenize the text using `tensorflow_text` (See: https://www.tensorflow.org/tutorials/tensorflow_text/intro#tfdata_example)\n"
          ],
          "name": "stderr"
        }
      ]
    },
    {
      "cell_type": "markdown",
      "metadata": {
        "id": "AqOE30IdMbTu"
      },
      "source": [
        "# Split dataset into train and test datasets"
      ]
    },
    {
      "cell_type": "code",
      "metadata": {
        "id": "s13HwbPDL1VY"
      },
      "source": [
        "train_data, test_data = imdb['train'], imdb['test']"
      ],
      "execution_count": 14,
      "outputs": []
    },
    {
      "cell_type": "markdown",
      "metadata": {
        "id": "-8n0hXGiMpBH"
      },
      "source": [
        "# Take the tokenizer"
      ]
    },
    {
      "cell_type": "code",
      "metadata": {
        "id": "VVBa4Ku6MmYH"
      },
      "source": [
        "tokenizer = info.features['text'].encoder"
      ],
      "execution_count": 15,
      "outputs": []
    },
    {
      "cell_type": "markdown",
      "metadata": {
        "id": "cvOPEKXBMzzm"
      },
      "source": [
        "# Check the `encode` and `decode` methods of tokenizer"
      ]
    },
    {
      "cell_type": "code",
      "metadata": {
        "id": "VIk7sdtKMu2a"
      },
      "source": [
        "sample_string = 'Cats do what pleases them and show affection \\n to their owners on their own terms.\\n\\n Because of this, some say that cats are unattached,\\n unaffectionate and unloving — as evidence, they won\\'t even come when called.\\n'"
      ],
      "execution_count": 16,
      "outputs": []
    },
    {
      "cell_type": "code",
      "metadata": {
        "colab": {
          "base_uri": "https://localhost:8080/"
        },
        "id": "98KRBlo3NU7I",
        "outputId": "0877e5fe-4c41-4b31-a1f4-749c0951af69"
      },
      "source": [
        "tokenized_string = tokenizer.encode(sample_string)\n",
        "print ('tokenized sample is: {}'.format(tokenized_string))"
      ],
      "execution_count": 17,
      "outputs": [
        {
          "output_type": "stream",
          "text": [
            "tokenized sample is: [4077, 8, 110, 71, 3814, 8, 161, 5, 191, 2349, 334, 7961, 7939, 7961, 7, 79, 3386, 8, 25, 79, 285, 2854, 8044, 7975, 7939, 7939, 7961, 2649, 6, 229, 2, 63, 202, 13, 871, 8, 29, 1547, 6747, 923, 8029, 7973, 7939, 7961, 1547, 3053, 6097, 830, 5, 3383, 1928, 100, 7961, 8155, 8057, 8077, 7961, 20, 5545, 2, 53, 548, 7968, 21, 78, 288, 72, 2472, 7975, 7939]\n"
          ],
          "name": "stdout"
        }
      ]
    },
    {
      "cell_type": "code",
      "metadata": {
        "colab": {
          "base_uri": "https://localhost:8080/"
        },
        "id": "5Ls8tt4ANlUV",
        "outputId": "e1712797-b5d2-49cb-f94c-7dc361af2bfe"
      },
      "source": [
        "original_string = tokenizer.decode(tokenized_string)\n",
        "print ('original sample is:\\n\\n {}'.format(original_string))"
      ],
      "execution_count": 18,
      "outputs": [
        {
          "output_type": "stream",
          "text": [
            "original sample is:\n",
            "\n",
            " Cats do what pleases them and show affection \n",
            " to their owners on their own terms.\n",
            "\n",
            " Because of this, some say that cats are unattached,\n",
            " unaffectionate and unloving — as evidence, they won't even come when called.\n",
            "\n"
          ],
          "name": "stdout"
        }
      ]
    },
    {
      "cell_type": "markdown",
      "metadata": {
        "id": "g2Qcov_QN6Af"
      },
      "source": [
        "## Let's check each token in `tokenized_string`"
      ]
    },
    {
      "cell_type": "code",
      "metadata": {
        "colab": {
          "base_uri": "https://localhost:8080/"
        },
        "id": "XD8h5xqyNvoJ",
        "outputId": "d687ce7d-7ff0-41b1-8b99-1bde2440e9a3"
      },
      "source": [
        "for ts in tokenized_string:\n",
        "  print('{}--->{}'.format(ts, tokenizer.decode([ts])))"
      ],
      "execution_count": 19,
      "outputs": [
        {
          "output_type": "stream",
          "text": [
            "4077--->Cat\n",
            "8--->s \n",
            "110--->do \n",
            "71--->what \n",
            "3814--->please\n",
            "8--->s \n",
            "161--->them \n",
            "5--->and \n",
            "191--->show \n",
            "2349--->affect\n",
            "334--->ion\n",
            "7961---> \n",
            "7939--->\n",
            "\n",
            "7961---> \n",
            "7--->to \n",
            "79--->their \n",
            "3386--->owner\n",
            "8--->s \n",
            "25--->on \n",
            "79--->their \n",
            "285--->own \n",
            "2854--->term\n",
            "8044--->s\n",
            "7975--->.\n",
            "7939--->\n",
            "\n",
            "7939--->\n",
            "\n",
            "7961---> \n",
            "2649--->Because \n",
            "6--->of \n",
            "229--->this\n",
            "2--->, \n",
            "63--->some \n",
            "202--->say \n",
            "13--->that \n",
            "871--->cat\n",
            "8--->s \n",
            "29--->are \n",
            "1547--->una\n",
            "6747--->tta\n",
            "923--->che\n",
            "8029--->d\n",
            "7973--->,\n",
            "7939--->\n",
            "\n",
            "7961---> \n",
            "1547--->una\n",
            "3053--->ffe\n",
            "6097--->ction\n",
            "830--->ate \n",
            "5--->and \n",
            "3383--->unl\n",
            "1928--->ov\n",
            "100--->ing\n",
            "7961---> \n",
            "8155--->�\n",
            "8057--->�\n",
            "8077--->�\n",
            "7961---> \n",
            "20--->as \n",
            "5545--->evidence\n",
            "2--->, \n",
            "53--->they \n",
            "548--->won\n",
            "7968--->'\n",
            "21--->t \n",
            "78--->even \n",
            "288--->come \n",
            "72--->when \n",
            "2472--->called\n",
            "7975--->.\n",
            "7939--->\n",
            "\n"
          ],
          "name": "stdout"
        }
      ]
    },
    {
      "cell_type": "markdown",
      "metadata": {
        "id": "4m8YgJnMOyw0"
      },
      "source": [
        "## Use the following methods to prepare `train_dataset` and `test_dataset` for the model:\n",
        "\n",
        "1.    `shuffle(buffer_size)`\n",
        "\n",
        "2.    `padded_batch(\n",
        "    batch_size, padded_shapes=None, padding_values=None, drop_remainder=False)`\n",
        "3.     To get the output shapes for elements of the input dataset/iterator: `tf.compat.v1.data.get_output_shapes(dataset_or_iterator)`"
      ]
    },
    {
      "cell_type": "code",
      "metadata": {
        "id": "geKeA8w9Oyku"
      },
      "source": [
        "import tensorflow as tf\n",
        "train_dataset = train_data.shuffle(10000)\n",
        "train_dataset = train_dataset.padded_batch(batch_size=64, padded_shapes=tf.compat.v1.data.get_output_shapes(train_dataset))\n",
        "test_dataset = test_data.padded_batch(batch_size=64, padded_shapes=tf.compat.v1.data.get_output_shapes(test_data) )"
      ],
      "execution_count": 20,
      "outputs": []
    },
    {
      "cell_type": "markdown",
      "metadata": {
        "id": "jGCztT_EPnZg"
      },
      "source": [
        "## Define the model with two LSTM layers\n"
      ]
    },
    {
      "cell_type": "code",
      "metadata": {
        "colab": {
          "base_uri": "https://localhost:8080/"
        },
        "id": "1rYNdFmxOGwg",
        "outputId": "7f96216c-1d48-4060-cd80-87d6bb9fc06b"
      },
      "source": [
        "model = tf.keras.models.Sequential([tf.keras.layers.Embedding(tokenizer.vocab_size, 64),\n",
        "                                    tf.keras.layers.Bidirectional(tf.keras.layers.LSTM(64, return_sequences=True)),\n",
        "                                    tf.keras.layers.Bidirectional(tf.keras.layers.LSTM(32)),\n",
        "                                    tf.keras.layers.Dense(64, activation=tf.nn.relu),\n",
        "                                    tf.keras.layers.Dense(1, activation=tf.nn.sigmoid)])\n",
        "model.summary()"
      ],
      "execution_count": 21,
      "outputs": [
        {
          "output_type": "stream",
          "text": [
            "Model: \"sequential_1\"\n",
            "_________________________________________________________________\n",
            "Layer (type)                 Output Shape              Param #   \n",
            "=================================================================\n",
            "embedding_1 (Embedding)      (None, None, 64)          523840    \n",
            "_________________________________________________________________\n",
            "bidirectional_2 (Bidirection (None, None, 128)         66048     \n",
            "_________________________________________________________________\n",
            "bidirectional_3 (Bidirection (None, 64)                41216     \n",
            "_________________________________________________________________\n",
            "dense_2 (Dense)              (None, 64)                4160      \n",
            "_________________________________________________________________\n",
            "dense_3 (Dense)              (None, 1)                 65        \n",
            "=================================================================\n",
            "Total params: 635,329\n",
            "Trainable params: 635,329\n",
            "Non-trainable params: 0\n",
            "_________________________________________________________________\n"
          ],
          "name": "stdout"
        }
      ]
    },
    {
      "cell_type": "code",
      "metadata": {
        "id": "1g_X-EJTQXA5"
      },
      "source": [
        "model.compile(optimizer=tf.optimizers.Adam(), loss='binary_crossentropy', metrics=['accuracy'])"
      ],
      "execution_count": 22,
      "outputs": []
    },
    {
      "cell_type": "code",
      "metadata": {
        "id": "xeytkcdZQ3Gm",
        "colab": {
          "base_uri": "https://localhost:8080/"
        },
        "outputId": "ab0054cb-c55c-4751-d33b-2a36e0a9749d"
      },
      "source": [
        "history = model.fit(train_dataset, epochs=10, validation_data=test_dataset, verbose=2)"
      ],
      "execution_count": 23,
      "outputs": [
        {
          "output_type": "stream",
          "text": [
            "Epoch 1/10\n",
            "391/391 - 98s - loss: 0.5418 - accuracy: 0.7273 - val_loss: 0.6942 - val_accuracy: 0.5944\n",
            "Epoch 2/10\n",
            "391/391 - 93s - loss: 0.4893 - accuracy: 0.7638 - val_loss: 0.5470 - val_accuracy: 0.7092\n",
            "Epoch 3/10\n",
            "391/391 - 94s - loss: 0.3654 - accuracy: 0.8475 - val_loss: 0.5135 - val_accuracy: 0.7348\n",
            "Epoch 4/10\n",
            "391/391 - 93s - loss: 0.3058 - accuracy: 0.8776 - val_loss: 0.4902 - val_accuracy: 0.8008\n",
            "Epoch 5/10\n",
            "391/391 - 94s - loss: 0.2172 - accuracy: 0.9195 - val_loss: 0.4090 - val_accuracy: 0.8392\n",
            "Epoch 6/10\n",
            "391/391 - 94s - loss: 0.1735 - accuracy: 0.9382 - val_loss: 0.4069 - val_accuracy: 0.8381\n",
            "Epoch 7/10\n",
            "391/391 - 95s - loss: 0.1280 - accuracy: 0.9561 - val_loss: 0.4417 - val_accuracy: 0.8470\n",
            "Epoch 8/10\n",
            "391/391 - 93s - loss: 0.1026 - accuracy: 0.9656 - val_loss: 0.5545 - val_accuracy: 0.8313\n",
            "Epoch 9/10\n",
            "391/391 - 93s - loss: 0.0795 - accuracy: 0.9743 - val_loss: 0.5651 - val_accuracy: 0.8232\n",
            "Epoch 10/10\n",
            "391/391 - 93s - loss: 0.0851 - accuracy: 0.9707 - val_loss: 0.5897 - val_accuracy: 0.8368\n"
          ],
          "name": "stdout"
        }
      ]
    },
    {
      "cell_type": "code",
      "metadata": {
        "id": "y_82XeV3RIo7",
        "colab": {
          "base_uri": "https://localhost:8080/",
          "height": 541
        },
        "outputId": "8baa3dbb-53e1-4898-a18c-6826221fcfe7"
      },
      "source": [
        "import matplotlib.pyplot as plt\n",
        "\n",
        "def plot_graphs(history, string):\n",
        "  plt.plot(history.history[string])\n",
        "  plt.plot(history.history['val_'+string])\n",
        "  plt.xlabel('epochs')\n",
        "  plt.ylabel(string)\n",
        "  plt.legend([string, 'val-'+string])\n",
        "  plt.show()\n",
        "\n",
        "plot_graphs(history, 'accuracy')\n",
        "plot_graphs(history, 'loss')"
      ],
      "execution_count": 28,
      "outputs": [
        {
          "output_type": "display_data",
          "data": {
            "image/png": "[encoded data removed]",
            "text/plain": [
              "<Figure size 432x288 with 1 Axes>"
            ]
          },
          "metadata": {
            "tags": [],
            "needs_background": "light"
          }
        },
        {
          "output_type": "display_data",
          "data": {
            "image/png": "[encoded data removed]",
            "text/plain": [
              "<Figure size 432x288 with 1 Axes>"
            ]
          },
          "metadata": {
            "tags": [],
            "needs_background": "light"
          }
        }
      ]
    }
  ]
}