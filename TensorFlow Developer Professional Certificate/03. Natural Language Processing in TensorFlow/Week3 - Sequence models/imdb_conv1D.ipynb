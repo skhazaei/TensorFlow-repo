{
  "nbformat": 4,
  "nbformat_minor": 0,
  "metadata": {
    "accelerator": "GPU",
    "colab": {
      "name": "imdb_conv1D.ipynb",
      "provenance": [],
      "collapsed_sections": [],
      "authorship_tag": "ABX9TyP6aWgRKl1BjRhkAi4/KkgM",
      "include_colab_link": true
    },
    "kernelspec": {
      "display_name": "Python 3",
      "name": "python3"
    },
    "widgets": {
      "application/vnd.jupyter.widget-state+json": {
        "4f69a9bc3d0e4abe9f80a9ce3f415b65": {
          "model_module": "@jupyter-widgets/controls",
          "model_name": "HBoxModel",
          "state": {
            "_dom_classes": [],
            "_model_module": "@jupyter-widgets/controls",
            "_model_module_version": "1.5.0",
            "_model_name": "HBoxModel",
            "_view_count": null,
            "_view_module": "@jupyter-widgets/controls",
            "_view_module_version": "1.5.0",
            "_view_name": "HBoxView",
            "box_style": "",
            "children": [
              "IPY_MODEL_497d24a52743410381c72a3fc0ed6af6",
              "IPY_MODEL_bf46ba537385453e9fb78d3ed3b2417c"
            ],
            "layout": "IPY_MODEL_a1bc468910e14adb864c33e6d21c0412"
          }
        },
        "497d24a52743410381c72a3fc0ed6af6": {
          "model_module": "@jupyter-widgets/controls",
          "model_name": "FloatProgressModel",
          "state": {
            "_dom_classes": [],
            "_model_module": "@jupyter-widgets/controls",
            "_model_module_version": "1.5.0",
            "_model_name": "FloatProgressModel",
            "_view_count": null,
            "_view_module": "@jupyter-widgets/controls",
            "_view_module_version": "1.5.0",
            "_view_name": "ProgressView",
            "bar_style": "success",
            "description": "Dl Completed...: 100%",
            "description_tooltip": null,
            "layout": "IPY_MODEL_48de5c3f5c624b9bb691e51544d74023",
            "max": 1,
            "min": 0,
            "orientation": "horizontal",
            "style": "IPY_MODEL_03eaebf9cbc44d93ae1e95158faf5c5d",
            "value": 1
          }
        },
        "bf46ba537385453e9fb78d3ed3b2417c": {
          "model_module": "@jupyter-widgets/controls",
          "model_name": "HTMLModel",
          "state": {
            "_dom_classes": [],
            "_model_module": "@jupyter-widgets/controls",
            "_model_module_version": "1.5.0",
            "_model_name": "HTMLModel",
            "_view_count": null,
            "_view_module": "@jupyter-widgets/controls",
            "_view_module_version": "1.5.0",
            "_view_name": "HTMLView",
            "description": "",
            "description_tooltip": null,
            "layout": "IPY_MODEL_ea0467580d7448499dd16bbeaf6409da",
            "placeholder": "​",
            "style": "IPY_MODEL_b702d099656a49e4a0f139bd5f503cd4",
            "value": " 1/1 [00:09&lt;00:00,  9.43s/ url]"
          }
        },
        "a1bc468910e14adb864c33e6d21c0412": {
          "model_module": "@jupyter-widgets/base",
          "model_name": "LayoutModel",
          "state": {
            "_model_module": "@jupyter-widgets/base",
            "_model_module_version": "1.2.0",
            "_model_name": "LayoutModel",
            "_view_count": null,
            "_view_module": "@jupyter-widgets/base",
            "_view_module_version": "1.2.0",
            "_view_name": "LayoutView",
            "align_content": null,
            "align_items": null,
            "align_self": null,
            "border": null,
            "bottom": null,
            "display": null,
            "flex": null,
            "flex_flow": null,
            "grid_area": null,
            "grid_auto_columns": null,
            "grid_auto_flow": null,
            "grid_auto_rows": null,
            "grid_column": null,
            "grid_gap": null,
            "grid_row": null,
            "grid_template_areas": null,
            "grid_template_columns": null,
            "grid_template_rows": null,
            "height": null,
            "justify_content": null,
            "justify_items": null,
            "left": null,
            "margin": null,
            "max_height": null,
            "max_width": null,
            "min_height": null,
            "min_width": null,
            "object_fit": null,
            "object_position": null,
            "order": null,
            "overflow": null,
            "overflow_x": null,
            "overflow_y": null,
            "padding": null,
            "right": null,
            "top": null,
            "visibility": null,
            "width": null
          }
        },
        "48de5c3f5c624b9bb691e51544d74023": {
          "model_module": "@jupyter-widgets/base",
          "model_name": "LayoutModel",
          "state": {
            "_model_module": "@jupyter-widgets/base",
            "_model_module_version": "1.2.0",
            "_model_name": "LayoutModel",
            "_view_count": null,
            "_view_module": "@jupyter-widgets/base",
            "_view_module_version": "1.2.0",
            "_view_name": "LayoutView",
            "align_content": null,
            "align_items": null,
            "align_self": null,
            "border": null,
            "bottom": null,
            "display": null,
            "flex": null,
            "flex_flow": null,
            "grid_area": null,
            "grid_auto_columns": null,
            "grid_auto_flow": null,
            "grid_auto_rows": null,
            "grid_column": null,
            "grid_gap": null,
            "grid_row": null,
            "grid_template_areas": null,
            "grid_template_columns": null,
            "grid_template_rows": null,
            "height": null,
            "justify_content": null,
            "justify_items": null,
            "left": null,
            "margin": null,
            "max_height": null,
            "max_width": null,
            "min_height": null,
            "min_width": null,
            "object_fit": null,
            "object_position": null,
            "order": null,
            "overflow": null,
            "overflow_x": null,
            "overflow_y": null,
            "padding": null,
            "right": null,
            "top": null,
            "visibility": null,
            "width": null
          }
        },
        "03eaebf9cbc44d93ae1e95158faf5c5d": {
          "model_module": "@jupyter-widgets/controls",
          "model_name": "ProgressStyleModel",
          "state": {
            "_model_module": "@jupyter-widgets/controls",
            "_model_module_version": "1.5.0",
            "_model_name": "ProgressStyleModel",
            "_view_count": null,
            "_view_module": "@jupyter-widgets/base",
            "_view_module_version": "1.2.0",
            "_view_name": "StyleView",
            "bar_color": null,
            "description_width": "initial"
          }
        },
        "ea0467580d7448499dd16bbeaf6409da": {
          "model_module": "@jupyter-widgets/base",
          "model_name": "LayoutModel",
          "state": {
            "_model_module": "@jupyter-widgets/base",
            "_model_module_version": "1.2.0",
            "_model_name": "LayoutModel",
            "_view_count": null,
            "_view_module": "@jupyter-widgets/base",
            "_view_module_version": "1.2.0",
            "_view_name": "LayoutView",
            "align_content": null,
            "align_items": null,
            "align_self": null,
            "border": null,
            "bottom": null,
            "display": null,
            "flex": null,
            "flex_flow": null,
            "grid_area": null,
            "grid_auto_columns": null,
            "grid_auto_flow": null,
            "grid_auto_rows": null,
            "grid_column": null,
            "grid_gap": null,
            "grid_row": null,
            "grid_template_areas": null,
            "grid_template_columns": null,
            "grid_template_rows": null,
            "height": null,
            "justify_content": null,
            "justify_items": null,
            "left": null,
            "margin": null,
            "max_height": null,
            "max_width": null,
            "min_height": null,
            "min_width": null,
            "object_fit": null,
            "object_position": null,
            "order": null,
            "overflow": null,
            "overflow_x": null,
            "overflow_y": null,
            "padding": null,
            "right": null,
            "top": null,
            "visibility": null,
            "width": null
          }
        },
        "b702d099656a49e4a0f139bd5f503cd4": {
          "model_module": "@jupyter-widgets/controls",
          "model_name": "DescriptionStyleModel",
          "state": {
            "_model_module": "@jupyter-widgets/controls",
            "_model_module_version": "1.5.0",
            "_model_name": "DescriptionStyleModel",
            "_view_count": null,
            "_view_module": "@jupyter-widgets/base",
            "_view_module_version": "1.2.0",
            "_view_name": "StyleView",
            "description_width": ""
          }
        },
        "c321a299821849a6b4e693206c722c2c": {
          "model_module": "@jupyter-widgets/controls",
          "model_name": "HBoxModel",
          "state": {
            "_dom_classes": [],
            "_model_module": "@jupyter-widgets/controls",
            "_model_module_version": "1.5.0",
            "_model_name": "HBoxModel",
            "_view_count": null,
            "_view_module": "@jupyter-widgets/controls",
            "_view_module_version": "1.5.0",
            "_view_name": "HBoxView",
            "box_style": "",
            "children": [
              "IPY_MODEL_8c83d55d69384d96b2d8cfb18eafad30",
              "IPY_MODEL_55e2678896664013abd76aa433e27ee9"
            ],
            "layout": "IPY_MODEL_77970f698d944e2a9063171af3b5b6f3"
          }
        },
        "8c83d55d69384d96b2d8cfb18eafad30": {
          "model_module": "@jupyter-widgets/controls",
          "model_name": "FloatProgressModel",
          "state": {
            "_dom_classes": [],
            "_model_module": "@jupyter-widgets/controls",
            "_model_module_version": "1.5.0",
            "_model_name": "FloatProgressModel",
            "_view_count": null,
            "_view_module": "@jupyter-widgets/controls",
            "_view_module_version": "1.5.0",
            "_view_name": "ProgressView",
            "bar_style": "success",
            "description": "Dl Size...: 100%",
            "description_tooltip": null,
            "layout": "IPY_MODEL_4a4f411137964b04998ab77f169cc06f",
            "max": 1,
            "min": 0,
            "orientation": "horizontal",
            "style": "IPY_MODEL_3eec234f7dfa46d885d4b3c7389605b4",
            "value": 1
          }
        },
        "55e2678896664013abd76aa433e27ee9": {
          "model_module": "@jupyter-widgets/controls",
          "model_name": "HTMLModel",
          "state": {
            "_dom_classes": [],
            "_model_module": "@jupyter-widgets/controls",
            "_model_module_version": "1.5.0",
            "_model_name": "HTMLModel",
            "_view_count": null,
            "_view_module": "@jupyter-widgets/controls",
            "_view_module_version": "1.5.0",
            "_view_name": "HTMLView",
            "description": "",
            "description_tooltip": null,
            "layout": "IPY_MODEL_de97b60d841f4bdf9dfbace025dd403f",
            "placeholder": "​",
            "style": "IPY_MODEL_567a9eff80ed473b8301c02c2442d251",
            "value": " 80/80 [00:09&lt;00:00,  8.51 MiB/s]"
          }
        },
        "77970f698d944e2a9063171af3b5b6f3": {
          "model_module": "@jupyter-widgets/base",
          "model_name": "LayoutModel",
          "state": {
            "_model_module": "@jupyter-widgets/base",
            "_model_module_version": "1.2.0",
            "_model_name": "LayoutModel",
            "_view_count": null,
            "_view_module": "@jupyter-widgets/base",
            "_view_module_version": "1.2.0",
            "_view_name": "LayoutView",
            "align_content": null,
            "align_items": null,
            "align_self": null,
            "border": null,
            "bottom": null,
            "display": null,
            "flex": null,
            "flex_flow": null,
            "grid_area": null,
            "grid_auto_columns": null,
            "grid_auto_flow": null,
            "grid_auto_rows": null,
            "grid_column": null,
            "grid_gap": null,
            "grid_row": null,
            "grid_template_areas": null,
            "grid_template_columns": null,
            "grid_template_rows": null,
            "height": null,
            "justify_content": null,
            "justify_items": null,
            "left": null,
            "margin": null,
            "max_height": null,
            "max_width": null,
            "min_height": null,
            "min_width": null,
            "object_fit": null,
            "object_position": null,
            "order": null,
            "overflow": null,
            "overflow_x": null,
            "overflow_y": null,
            "padding": null,
            "right": null,
            "top": null,
            "visibility": null,
            "width": null
          }
        },
        "4a4f411137964b04998ab77f169cc06f": {
          "model_module": "@jupyter-widgets/base",
          "model_name": "LayoutModel",
          "state": {
            "_model_module": "@jupyter-widgets/base",
            "_model_module_version": "1.2.0",
            "_model_name": "LayoutModel",
            "_view_count": null,
            "_view_module": "@jupyter-widgets/base",
            "_view_module_version": "1.2.0",
            "_view_name": "LayoutView",
            "align_content": null,
            "align_items": null,
            "align_self": null,
            "border": null,
            "bottom": null,
            "display": null,
            "flex": null,
            "flex_flow": null,
            "grid_area": null,
            "grid_auto_columns": null,
            "grid_auto_flow": null,
            "grid_auto_rows": null,
            "grid_column": null,
            "grid_gap": null,
            "grid_row": null,
            "grid_template_areas": null,
            "grid_template_columns": null,
            "grid_template_rows": null,
            "height": null,
            "justify_content": null,
            "justify_items": null,
            "left": null,
            "margin": null,
            "max_height": null,
            "max_width": null,
            "min_height": null,
            "min_width": null,
            "object_fit": null,
            "object_position": null,
            "order": null,
            "overflow": null,
            "overflow_x": null,
            "overflow_y": null,
            "padding": null,
            "right": null,
            "top": null,
            "visibility": null,
            "width": null
          }
        },
        "3eec234f7dfa46d885d4b3c7389605b4": {
          "model_module": "@jupyter-widgets/controls",
          "model_name": "ProgressStyleModel",
          "state": {
            "_model_module": "@jupyter-widgets/controls",
            "_model_module_version": "1.5.0",
            "_model_name": "ProgressStyleModel",
            "_view_count": null,
            "_view_module": "@jupyter-widgets/base",
            "_view_module_version": "1.2.0",
            "_view_name": "StyleView",
            "bar_color": null,
            "description_width": "initial"
          }
        },
        "de97b60d841f4bdf9dfbace025dd403f": {
          "model_module": "@jupyter-widgets/base",
          "model_name": "LayoutModel",
          "state": {
            "_model_module": "@jupyter-widgets/base",
            "_model_module_version": "1.2.0",
            "_model_name": "LayoutModel",
            "_view_count": null,
            "_view_module": "@jupyter-widgets/base",
            "_view_module_version": "1.2.0",
            "_view_name": "LayoutView",
            "align_content": null,
            "align_items": null,
            "align_self": null,
            "border": null,
            "bottom": null,
            "display": null,
            "flex": null,
            "flex_flow": null,
            "grid_area": null,
            "grid_auto_columns": null,
            "grid_auto_flow": null,
            "grid_auto_rows": null,
            "grid_column": null,
            "grid_gap": null,
            "grid_row": null,
            "grid_template_areas": null,
            "grid_template_columns": null,
            "grid_template_rows": null,
            "height": null,
            "justify_content": null,
            "justify_items": null,
            "left": null,
            "margin": null,
            "max_height": null,
            "max_width": null,
            "min_height": null,
            "min_width": null,
            "object_fit": null,
            "object_position": null,
            "order": null,
            "overflow": null,
            "overflow_x": null,
            "overflow_y": null,
            "padding": null,
            "right": null,
            "top": null,
            "visibility": null,
            "width": null
          }
        },
        "567a9eff80ed473b8301c02c2442d251": {
          "model_module": "@jupyter-widgets/controls",
          "model_name": "DescriptionStyleModel",
          "state": {
            "_model_module": "@jupyter-widgets/controls",
            "_model_module_version": "1.5.0",
            "_model_name": "DescriptionStyleModel",
            "_view_count": null,
            "_view_module": "@jupyter-widgets/base",
            "_view_module_version": "1.2.0",
            "_view_name": "StyleView",
            "description_width": ""
          }
        },
        "890ab08be5e54c50b141807f3efabac3": {
          "model_module": "@jupyter-widgets/controls",
          "model_name": "HBoxModel",
          "state": {
            "_dom_classes": [],
            "_model_module": "@jupyter-widgets/controls",
            "_model_module_version": "1.5.0",
            "_model_name": "HBoxModel",
            "_view_count": null,
            "_view_module": "@jupyter-widgets/controls",
            "_view_module_version": "1.5.0",
            "_view_name": "HBoxView",
            "box_style": "",
            "children": [
              "IPY_MODEL_425b15b92fdd46f9a4d6742c561c9bac",
              "IPY_MODEL_e45c9cc8955245e8987029bd93639d9f"
            ],
            "layout": "IPY_MODEL_4c07bf0c6bd04ebc94fe24f068e540e1"
          }
        },
        "425b15b92fdd46f9a4d6742c561c9bac": {
          "model_module": "@jupyter-widgets/controls",
          "model_name": "FloatProgressModel",
          "state": {
            "_dom_classes": [],
            "_model_module": "@jupyter-widgets/controls",
            "_model_module_version": "1.5.0",
            "_model_name": "FloatProgressModel",
            "_view_count": null,
            "_view_module": "@jupyter-widgets/controls",
            "_view_module_version": "1.5.0",
            "_view_name": "ProgressView",
            "bar_style": "info",
            "description": "",
            "description_tooltip": null,
            "layout": "IPY_MODEL_916279c8b76642c1af5353ced89b970f",
            "max": 1,
            "min": 0,
            "orientation": "horizontal",
            "style": "IPY_MODEL_70c8323bc07e4384bc8629372107961b",
            "value": 1
          }
        },
        "e45c9cc8955245e8987029bd93639d9f": {
          "model_module": "@jupyter-widgets/controls",
          "model_name": "HTMLModel",
          "state": {
            "_dom_classes": [],
            "_model_module": "@jupyter-widgets/controls",
            "_model_module_version": "1.5.0",
            "_model_name": "HTMLModel",
            "_view_count": null,
            "_view_module": "@jupyter-widgets/controls",
            "_view_module_version": "1.5.0",
            "_view_name": "HTMLView",
            "description": "",
            "description_tooltip": null,
            "layout": "IPY_MODEL_f8371f0b0ba8430b91fbe4965ac2d551",
            "placeholder": "​",
            "style": "IPY_MODEL_06a631f195f046eeb70144afcdd473e4",
            "value": " 25000/0 [00:37&lt;00:00, 863.03 examples/s]"
          }
        },
        "4c07bf0c6bd04ebc94fe24f068e540e1": {
          "model_module": "@jupyter-widgets/base",
          "model_name": "LayoutModel",
          "state": {
            "_model_module": "@jupyter-widgets/base",
            "_model_module_version": "1.2.0",
            "_model_name": "LayoutModel",
            "_view_count": null,
            "_view_module": "@jupyter-widgets/base",
            "_view_module_version": "1.2.0",
            "_view_name": "LayoutView",
            "align_content": null,
            "align_items": null,
            "align_self": null,
            "border": null,
            "bottom": null,
            "display": null,
            "flex": null,
            "flex_flow": null,
            "grid_area": null,
            "grid_auto_columns": null,
            "grid_auto_flow": null,
            "grid_auto_rows": null,
            "grid_column": null,
            "grid_gap": null,
            "grid_row": null,
            "grid_template_areas": null,
            "grid_template_columns": null,
            "grid_template_rows": null,
            "height": null,
            "justify_content": null,
            "justify_items": null,
            "left": null,
            "margin": null,
            "max_height": null,
            "max_width": null,
            "min_height": null,
            "min_width": null,
            "object_fit": null,
            "object_position": null,
            "order": null,
            "overflow": null,
            "overflow_x": null,
            "overflow_y": null,
            "padding": null,
            "right": null,
            "top": null,
            "visibility": null,
            "width": null
          }
        },
        "916279c8b76642c1af5353ced89b970f": {
          "model_module": "@jupyter-widgets/base",
          "model_name": "LayoutModel",
          "state": {
            "_model_module": "@jupyter-widgets/base",
            "_model_module_version": "1.2.0",
            "_model_name": "LayoutModel",
            "_view_count": null,
            "_view_module": "@jupyter-widgets/base",
            "_view_module_version": "1.2.0",
            "_view_name": "LayoutView",
            "align_content": null,
            "align_items": null,
            "align_self": null,
            "border": null,
            "bottom": null,
            "display": null,
            "flex": null,
            "flex_flow": null,
            "grid_area": null,
            "grid_auto_columns": null,
            "grid_auto_flow": null,
            "grid_auto_rows": null,
            "grid_column": null,
            "grid_gap": null,
            "grid_row": null,
            "grid_template_areas": null,
            "grid_template_columns": null,
            "grid_template_rows": null,
            "height": null,
            "justify_content": null,
            "justify_items": null,
            "left": null,
            "margin": null,
            "max_height": null,
            "max_width": null,
            "min_height": null,
            "min_width": null,
            "object_fit": null,
            "object_position": null,
            "order": null,
            "overflow": null,
            "overflow_x": null,
            "overflow_y": null,
            "padding": null,
            "right": null,
            "top": null,
            "visibility": null,
            "width": null
          }
        },
        "70c8323bc07e4384bc8629372107961b": {
          "model_module": "@jupyter-widgets/controls",
          "model_name": "ProgressStyleModel",
          "state": {
            "_model_module": "@jupyter-widgets/controls",
            "_model_module_version": "1.5.0",
            "_model_name": "ProgressStyleModel",
            "_view_count": null,
            "_view_module": "@jupyter-widgets/base",
            "_view_module_version": "1.2.0",
            "_view_name": "StyleView",
            "bar_color": null,
            "description_width": "initial"
          }
        },
        "f8371f0b0ba8430b91fbe4965ac2d551": {
          "model_module": "@jupyter-widgets/base",
          "model_name": "LayoutModel",
          "state": {
            "_model_module": "@jupyter-widgets/base",
            "_model_module_version": "1.2.0",
            "_model_name": "LayoutModel",
            "_view_count": null,
            "_view_module": "@jupyter-widgets/base",
            "_view_module_version": "1.2.0",
            "_view_name": "LayoutView",
            "align_content": null,
            "align_items": null,
            "align_self": null,
            "border": null,
            "bottom": null,
            "display": null,
            "flex": null,
            "flex_flow": null,
            "grid_area": null,
            "grid_auto_columns": null,
            "grid_auto_flow": null,
            "grid_auto_rows": null,
            "grid_column": null,
            "grid_gap": null,
            "grid_row": null,
            "grid_template_areas": null,
            "grid_template_columns": null,
            "grid_template_rows": null,
            "height": null,
            "justify_content": null,
            "justify_items": null,
            "left": null,
            "margin": null,
            "max_height": null,
            "max_width": null,
            "min_height": null,
            "min_width": null,
            "object_fit": null,
            "object_position": null,
            "order": null,
            "overflow": null,
            "overflow_x": null,
            "overflow_y": null,
            "padding": null,
            "right": null,
            "top": null,
            "visibility": null,
            "width": null
          }
        },
        "06a631f195f046eeb70144afcdd473e4": {
          "model_module": "@jupyter-widgets/controls",
          "model_name": "DescriptionStyleModel",
          "state": {
            "_model_module": "@jupyter-widgets/controls",
            "_model_module_version": "1.5.0",
            "_model_name": "DescriptionStyleModel",
            "_view_count": null,
            "_view_module": "@jupyter-widgets/base",
            "_view_module_version": "1.2.0",
            "_view_name": "StyleView",
            "description_width": ""
          }
        },
        "1e987acc2c354f42862eae06e73cbd47": {
          "model_module": "@jupyter-widgets/controls",
          "model_name": "HBoxModel",
          "state": {
            "_dom_classes": [],
            "_model_module": "@jupyter-widgets/controls",
            "_model_module_version": "1.5.0",
            "_model_name": "HBoxModel",
            "_view_count": null,
            "_view_module": "@jupyter-widgets/controls",
            "_view_module_version": "1.5.0",
            "_view_name": "HBoxView",
            "box_style": "",
            "children": [
              "IPY_MODEL_814cab558b1848fcb0d5afa278bb115e",
              "IPY_MODEL_e35ac310c24d458eb11bba929c3f2cd8"
            ],
            "layout": "IPY_MODEL_eb6f0d9dfac04ba58631fa69c079b4f2"
          }
        },
        "814cab558b1848fcb0d5afa278bb115e": {
          "model_module": "@jupyter-widgets/controls",
          "model_name": "FloatProgressModel",
          "state": {
            "_dom_classes": [],
            "_model_module": "@jupyter-widgets/controls",
            "_model_module_version": "1.5.0",
            "_model_name": "FloatProgressModel",
            "_view_count": null,
            "_view_module": "@jupyter-widgets/controls",
            "_view_module_version": "1.5.0",
            "_view_name": "ProgressView",
            "bar_style": "danger",
            "description": " 29%",
            "description_tooltip": null,
            "layout": "IPY_MODEL_56c2716ed87f4372b4e6c67fb9600774",
            "max": 25000,
            "min": 0,
            "orientation": "horizontal",
            "style": "IPY_MODEL_bd6ae25f7cc642979fe9dc941332962a",
            "value": 7339
          }
        },
        "e35ac310c24d458eb11bba929c3f2cd8": {
          "model_module": "@jupyter-widgets/controls",
          "model_name": "HTMLModel",
          "state": {
            "_dom_classes": [],
            "_model_module": "@jupyter-widgets/controls",
            "_model_module_version": "1.5.0",
            "_model_name": "HTMLModel",
            "_view_count": null,
            "_view_module": "@jupyter-widgets/controls",
            "_view_module_version": "1.5.0",
            "_view_name": "HTMLView",
            "description": "",
            "description_tooltip": null,
            "layout": "IPY_MODEL_2c3dabde0d9941578f3b58ae2349444b",
            "placeholder": "​",
            "style": "IPY_MODEL_35a37b69efc147e2bb23d9a23fdb869b",
            "value": " 7339/25000 [00:00&lt;00:00, 73389.20 examples/s]"
          }
        },
        "eb6f0d9dfac04ba58631fa69c079b4f2": {
          "model_module": "@jupyter-widgets/base",
          "model_name": "LayoutModel",
          "state": {
            "_model_module": "@jupyter-widgets/base",
            "_model_module_version": "1.2.0",
            "_model_name": "LayoutModel",
            "_view_count": null,
            "_view_module": "@jupyter-widgets/base",
            "_view_module_version": "1.2.0",
            "_view_name": "LayoutView",
            "align_content": null,
            "align_items": null,
            "align_self": null,
            "border": null,
            "bottom": null,
            "display": null,
            "flex": null,
            "flex_flow": null,
            "grid_area": null,
            "grid_auto_columns": null,
            "grid_auto_flow": null,
            "grid_auto_rows": null,
            "grid_column": null,
            "grid_gap": null,
            "grid_row": null,
            "grid_template_areas": null,
            "grid_template_columns": null,
            "grid_template_rows": null,
            "height": null,
            "justify_content": null,
            "justify_items": null,
            "left": null,
            "margin": null,
            "max_height": null,
            "max_width": null,
            "min_height": null,
            "min_width": null,
            "object_fit": null,
            "object_position": null,
            "order": null,
            "overflow": null,
            "overflow_x": null,
            "overflow_y": null,
            "padding": null,
            "right": null,
            "top": null,
            "visibility": null,
            "width": null
          }
        },
        "56c2716ed87f4372b4e6c67fb9600774": {
          "model_module": "@jupyter-widgets/base",
          "model_name": "LayoutModel",
          "state": {
            "_model_module": "@jupyter-widgets/base",
            "_model_module_version": "1.2.0",
            "_model_name": "LayoutModel",
            "_view_count": null,
            "_view_module": "@jupyter-widgets/base",
            "_view_module_version": "1.2.0",
            "_view_name": "LayoutView",
            "align_content": null,
            "align_items": null,
            "align_self": null,
            "border": null,
            "bottom": null,
            "display": null,
            "flex": null,
            "flex_flow": null,
            "grid_area": null,
            "grid_auto_columns": null,
            "grid_auto_flow": null,
            "grid_auto_rows": null,
            "grid_column": null,
            "grid_gap": null,
            "grid_row": null,
            "grid_template_areas": null,
            "grid_template_columns": null,
            "grid_template_rows": null,
            "height": null,
            "justify_content": null,
            "justify_items": null,
            "left": null,
            "margin": null,
            "max_height": null,
            "max_width": null,
            "min_height": null,
            "min_width": null,
            "object_fit": null,
            "object_position": null,
            "order": null,
            "overflow": null,
            "overflow_x": null,
            "overflow_y": null,
            "padding": null,
            "right": null,
            "top": null,
            "visibility": null,
            "width": null
          }
        },
        "bd6ae25f7cc642979fe9dc941332962a": {
          "model_module": "@jupyter-widgets/controls",
          "model_name": "ProgressStyleModel",
          "state": {
            "_model_module": "@jupyter-widgets/controls",
            "_model_module_version": "1.5.0",
            "_model_name": "ProgressStyleModel",
            "_view_count": null,
            "_view_module": "@jupyter-widgets/base",
            "_view_module_version": "1.2.0",
            "_view_name": "StyleView",
            "bar_color": null,
            "description_width": "initial"
          }
        },
        "2c3dabde0d9941578f3b58ae2349444b": {
          "model_module": "@jupyter-widgets/base",
          "model_name": "LayoutModel",
          "state": {
            "_model_module": "@jupyter-widgets/base",
            "_model_module_version": "1.2.0",
            "_model_name": "LayoutModel",
            "_view_count": null,
            "_view_module": "@jupyter-widgets/base",
            "_view_module_version": "1.2.0",
            "_view_name": "LayoutView",
            "align_content": null,
            "align_items": null,
            "align_self": null,
            "border": null,
            "bottom": null,
            "display": null,
            "flex": null,
            "flex_flow": null,
            "grid_area": null,
            "grid_auto_columns": null,
            "grid_auto_flow": null,
            "grid_auto_rows": null,
            "grid_column": null,
            "grid_gap": null,
            "grid_row": null,
            "grid_template_areas": null,
            "grid_template_columns": null,
            "grid_template_rows": null,
            "height": null,
            "justify_content": null,
            "justify_items": null,
            "left": null,
            "margin": null,
            "max_height": null,
            "max_width": null,
            "min_height": null,
            "min_width": null,
            "object_fit": null,
            "object_position": null,
            "order": null,
            "overflow": null,
            "overflow_x": null,
            "overflow_y": null,
            "padding": null,
            "right": null,
            "top": null,
            "visibility": null,
            "width": null
          }
        },
        "35a37b69efc147e2bb23d9a23fdb869b": {
          "model_module": "@jupyter-widgets/controls",
          "model_name": "DescriptionStyleModel",
          "state": {
            "_model_module": "@jupyter-widgets/controls",
            "_model_module_version": "1.5.0",
            "_model_name": "DescriptionStyleModel",
            "_view_count": null,
            "_view_module": "@jupyter-widgets/base",
            "_view_module_version": "1.2.0",
            "_view_name": "StyleView",
            "description_width": ""
          }
        },
        "8e0cd9e6a2164ea88156644465e61e0d": {
          "model_module": "@jupyter-widgets/controls",
          "model_name": "HBoxModel",
          "state": {
            "_dom_classes": [],
            "_model_module": "@jupyter-widgets/controls",
            "_model_module_version": "1.5.0",
            "_model_name": "HBoxModel",
            "_view_count": null,
            "_view_module": "@jupyter-widgets/controls",
            "_view_module_version": "1.5.0",
            "_view_name": "HBoxView",
            "box_style": "",
            "children": [
              "IPY_MODEL_8aa84a2bfa9d43d481cd09003d67f017",
              "IPY_MODEL_19782086db1f48d081f7a55a1c126f96"
            ],
            "layout": "IPY_MODEL_9d52708bed7b4795b26baf08c6e01e0b"
          }
        },
        "8aa84a2bfa9d43d481cd09003d67f017": {
          "model_module": "@jupyter-widgets/controls",
          "model_name": "FloatProgressModel",
          "state": {
            "_dom_classes": [],
            "_model_module": "@jupyter-widgets/controls",
            "_model_module_version": "1.5.0",
            "_model_name": "FloatProgressModel",
            "_view_count": null,
            "_view_module": "@jupyter-widgets/controls",
            "_view_module_version": "1.5.0",
            "_view_name": "ProgressView",
            "bar_style": "info",
            "description": "",
            "description_tooltip": null,
            "layout": "IPY_MODEL_858431e9e5a24ef39775a583c828a022",
            "max": 1,
            "min": 0,
            "orientation": "horizontal",
            "style": "IPY_MODEL_3e2f3f80a2bc4d79a5877138d89e5d1f",
            "value": 1
          }
        },
        "19782086db1f48d081f7a55a1c126f96": {
          "model_module": "@jupyter-widgets/controls",
          "model_name": "HTMLModel",
          "state": {
            "_dom_classes": [],
            "_model_module": "@jupyter-widgets/controls",
            "_model_module_version": "1.5.0",
            "_model_name": "HTMLModel",
            "_view_count": null,
            "_view_module": "@jupyter-widgets/controls",
            "_view_module_version": "1.5.0",
            "_view_name": "HTMLView",
            "description": "",
            "description_tooltip": null,
            "layout": "IPY_MODEL_b45b92d0135847d294b7ac0b2aa433b4",
            "placeholder": "​",
            "style": "IPY_MODEL_721d8a574e3d4c4aa619270acfc590a8",
            "value": " 25000/0 [00:35&lt;00:00, 875.39 examples/s]"
          }
        },
        "9d52708bed7b4795b26baf08c6e01e0b": {
          "model_module": "@jupyter-widgets/base",
          "model_name": "LayoutModel",
          "state": {
            "_model_module": "@jupyter-widgets/base",
            "_model_module_version": "1.2.0",
            "_model_name": "LayoutModel",
            "_view_count": null,
            "_view_module": "@jupyter-widgets/base",
            "_view_module_version": "1.2.0",
            "_view_name": "LayoutView",
            "align_content": null,
            "align_items": null,
            "align_self": null,
            "border": null,
            "bottom": null,
            "display": null,
            "flex": null,
            "flex_flow": null,
            "grid_area": null,
            "grid_auto_columns": null,
            "grid_auto_flow": null,
            "grid_auto_rows": null,
            "grid_column": null,
            "grid_gap": null,
            "grid_row": null,
            "grid_template_areas": null,
            "grid_template_columns": null,
            "grid_template_rows": null,
            "height": null,
            "justify_content": null,
            "justify_items": null,
            "left": null,
            "margin": null,
            "max_height": null,
            "max_width": null,
            "min_height": null,
            "min_width": null,
            "object_fit": null,
            "object_position": null,
            "order": null,
            "overflow": null,
            "overflow_x": null,
            "overflow_y": null,
            "padding": null,
            "right": null,
            "top": null,
            "visibility": null,
            "width": null
          }
        },
        "858431e9e5a24ef39775a583c828a022": {
          "model_module": "@jupyter-widgets/base",
          "model_name": "LayoutModel",
          "state": {
            "_model_module": "@jupyter-widgets/base",
            "_model_module_version": "1.2.0",
            "_model_name": "LayoutModel",
            "_view_count": null,
            "_view_module": "@jupyter-widgets/base",
            "_view_module_version": "1.2.0",
            "_view_name": "LayoutView",
            "align_content": null,
            "align_items": null,
            "align_self": null,
            "border": null,
            "bottom": null,
            "display": null,
            "flex": null,
            "flex_flow": null,
            "grid_area": null,
            "grid_auto_columns": null,
            "grid_auto_flow": null,
            "grid_auto_rows": null,
            "grid_column": null,
            "grid_gap": null,
            "grid_row": null,
            "grid_template_areas": null,
            "grid_template_columns": null,
            "grid_template_rows": null,
            "height": null,
            "justify_content": null,
            "justify_items": null,
            "left": null,
            "margin": null,
            "max_height": null,
            "max_width": null,
            "min_height": null,
            "min_width": null,
            "object_fit": null,
            "object_position": null,
            "order": null,
            "overflow": null,
            "overflow_x": null,
            "overflow_y": null,
            "padding": null,
            "right": null,
            "top": null,
            "visibility": null,
            "width": null
          }
        },
        "3e2f3f80a2bc4d79a5877138d89e5d1f": {
          "model_module": "@jupyter-widgets/controls",
          "model_name": "ProgressStyleModel",
          "state": {
            "_model_module": "@jupyter-widgets/controls",
            "_model_module_version": "1.5.0",
            "_model_name": "ProgressStyleModel",
            "_view_count": null,
            "_view_module": "@jupyter-widgets/base",
            "_view_module_version": "1.2.0",
            "_view_name": "StyleView",
            "bar_color": null,
            "description_width": "initial"
          }
        },
        "b45b92d0135847d294b7ac0b2aa433b4": {
          "model_module": "@jupyter-widgets/base",
          "model_name": "LayoutModel",
          "state": {
            "_model_module": "@jupyter-widgets/base",
            "_model_module_version": "1.2.0",
            "_model_name": "LayoutModel",
            "_view_count": null,
            "_view_module": "@jupyter-widgets/base",
            "_view_module_version": "1.2.0",
            "_view_name": "LayoutView",
            "align_content": null,
            "align_items": null,
            "align_self": null,
            "border": null,
            "bottom": null,
            "display": null,
            "flex": null,
            "flex_flow": null,
            "grid_area": null,
            "grid_auto_columns": null,
            "grid_auto_flow": null,
            "grid_auto_rows": null,
            "grid_column": null,
            "grid_gap": null,
            "grid_row": null,
            "grid_template_areas": null,
            "grid_template_columns": null,
            "grid_template_rows": null,
            "height": null,
            "justify_content": null,
            "justify_items": null,
            "left": null,
            "margin": null,
            "max_height": null,
            "max_width": null,
            "min_height": null,
            "min_width": null,
            "object_fit": null,
            "object_position": null,
            "order": null,
            "overflow": null,
            "overflow_x": null,
            "overflow_y": null,
            "padding": null,
            "right": null,
            "top": null,
            "visibility": null,
            "width": null
          }
        },
        "721d8a574e3d4c4aa619270acfc590a8": {
          "model_module": "@jupyter-widgets/controls",
          "model_name": "DescriptionStyleModel",
          "state": {
            "_model_module": "@jupyter-widgets/controls",
            "_model_module_version": "1.5.0",
            "_model_name": "DescriptionStyleModel",
            "_view_count": null,
            "_view_module": "@jupyter-widgets/base",
            "_view_module_version": "1.2.0",
            "_view_name": "StyleView",
            "description_width": ""
          }
        },
        "d027bdb1c5bb4a7788ebd8d4a2012948": {
          "model_module": "@jupyter-widgets/controls",
          "model_name": "HBoxModel",
          "state": {
            "_dom_classes": [],
            "_model_module": "@jupyter-widgets/controls",
            "_model_module_version": "1.5.0",
            "_model_name": "HBoxModel",
            "_view_count": null,
            "_view_module": "@jupyter-widgets/controls",
            "_view_module_version": "1.5.0",
            "_view_name": "HBoxView",
            "box_style": "",
            "children": [
              "IPY_MODEL_9d340fba3e764eab8acd92d64f40b7cb",
              "IPY_MODEL_bc42054425a74d8281d1803c2a97fd6b"
            ],
            "layout": "IPY_MODEL_8240ee439c434a0db47d5781d2b1f763"
          }
        },
        "9d340fba3e764eab8acd92d64f40b7cb": {
          "model_module": "@jupyter-widgets/controls",
          "model_name": "FloatProgressModel",
          "state": {
            "_dom_classes": [],
            "_model_module": "@jupyter-widgets/controls",
            "_model_module_version": "1.5.0",
            "_model_name": "FloatProgressModel",
            "_view_count": null,
            "_view_module": "@jupyter-widgets/controls",
            "_view_module_version": "1.5.0",
            "_view_name": "ProgressView",
            "bar_style": "danger",
            "description": " 32%",
            "description_tooltip": null,
            "layout": "IPY_MODEL_436c7588fd374e5baee12f3170096f64",
            "max": 25000,
            "min": 0,
            "orientation": "horizontal",
            "style": "IPY_MODEL_6409e16570764b15a707deee57ba74ce",
            "value": 7946
          }
        },
        "bc42054425a74d8281d1803c2a97fd6b": {
          "model_module": "@jupyter-widgets/controls",
          "model_name": "HTMLModel",
          "state": {
            "_dom_classes": [],
            "_model_module": "@jupyter-widgets/controls",
            "_model_module_version": "1.5.0",
            "_model_name": "HTMLModel",
            "_view_count": null,
            "_view_module": "@jupyter-widgets/controls",
            "_view_module_version": "1.5.0",
            "_view_name": "HTMLView",
            "description": "",
            "description_tooltip": null,
            "layout": "IPY_MODEL_7e56d89b806149e3a72e4a090a5ec656",
            "placeholder": "​",
            "style": "IPY_MODEL_0c2295eba8434610a06244b78c3db6fd",
            "value": " 7946/25000 [00:00&lt;00:00, 79459.89 examples/s]"
          }
        },
        "8240ee439c434a0db47d5781d2b1f763": {
          "model_module": "@jupyter-widgets/base",
          "model_name": "LayoutModel",
          "state": {
            "_model_module": "@jupyter-widgets/base",
            "_model_module_version": "1.2.0",
            "_model_name": "LayoutModel",
            "_view_count": null,
            "_view_module": "@jupyter-widgets/base",
            "_view_module_version": "1.2.0",
            "_view_name": "LayoutView",
            "align_content": null,
            "align_items": null,
            "align_self": null,
            "border": null,
            "bottom": null,
            "display": null,
            "flex": null,
            "flex_flow": null,
            "grid_area": null,
            "grid_auto_columns": null,
            "grid_auto_flow": null,
            "grid_auto_rows": null,
            "grid_column": null,
            "grid_gap": null,
            "grid_row": null,
            "grid_template_areas": null,
            "grid_template_columns": null,
            "grid_template_rows": null,
            "height": null,
            "justify_content": null,
            "justify_items": null,
            "left": null,
            "margin": null,
            "max_height": null,
            "max_width": null,
            "min_height": null,
            "min_width": null,
            "object_fit": null,
            "object_position": null,
            "order": null,
            "overflow": null,
            "overflow_x": null,
            "overflow_y": null,
            "padding": null,
            "right": null,
            "top": null,
            "visibility": null,
            "width": null
          }
        },
        "436c7588fd374e5baee12f3170096f64": {
          "model_module": "@jupyter-widgets/base",
          "model_name": "LayoutModel",
          "state": {
            "_model_module": "@jupyter-widgets/base",
            "_model_module_version": "1.2.0",
            "_model_name": "LayoutModel",
            "_view_count": null,
            "_view_module": "@jupyter-widgets/base",
            "_view_module_version": "1.2.0",
            "_view_name": "LayoutView",
            "align_content": null,
            "align_items": null,
            "align_self": null,
            "border": null,
            "bottom": null,
            "display": null,
            "flex": null,
            "flex_flow": null,
            "grid_area": null,
            "grid_auto_columns": null,
            "grid_auto_flow": null,
            "grid_auto_rows": null,
            "grid_column": null,
            "grid_gap": null,
            "grid_row": null,
            "grid_template_areas": null,
            "grid_template_columns": null,
            "grid_template_rows": null,
            "height": null,
            "justify_content": null,
            "justify_items": null,
            "left": null,
            "margin": null,
            "max_height": null,
            "max_width": null,
            "min_height": null,
            "min_width": null,
            "object_fit": null,
            "object_position": null,
            "order": null,
            "overflow": null,
            "overflow_x": null,
            "overflow_y": null,
            "padding": null,
            "right": null,
            "top": null,
            "visibility": null,
            "width": null
          }
        },
        "6409e16570764b15a707deee57ba74ce": {
          "model_module": "@jupyter-widgets/controls",
          "model_name": "ProgressStyleModel",
          "state": {
            "_model_module": "@jupyter-widgets/controls",
            "_model_module_version": "1.5.0",
            "_model_name": "ProgressStyleModel",
            "_view_count": null,
            "_view_module": "@jupyter-widgets/base",
            "_view_module_version": "1.2.0",
            "_view_name": "StyleView",
            "bar_color": null,
            "description_width": "initial"
          }
        },
        "7e56d89b806149e3a72e4a090a5ec656": {
          "model_module": "@jupyter-widgets/base",
          "model_name": "LayoutModel",
          "state": {
            "_model_module": "@jupyter-widgets/base",
            "_model_module_version": "1.2.0",
            "_model_name": "LayoutModel",
            "_view_count": null,
            "_view_module": "@jupyter-widgets/base",
            "_view_module_version": "1.2.0",
            "_view_name": "LayoutView",
            "align_content": null,
            "align_items": null,
            "align_self": null,
            "border": null,
            "bottom": null,
            "display": null,
            "flex": null,
            "flex_flow": null,
            "grid_area": null,
            "grid_auto_columns": null,
            "grid_auto_flow": null,
            "grid_auto_rows": null,
            "grid_column": null,
            "grid_gap": null,
            "grid_row": null,
            "grid_template_areas": null,
            "grid_template_columns": null,
            "grid_template_rows": null,
            "height": null,
            "justify_content": null,
            "justify_items": null,
            "left": null,
            "margin": null,
            "max_height": null,
            "max_width": null,
            "min_height": null,
            "min_width": null,
            "object_fit": null,
            "object_position": null,
            "order": null,
            "overflow": null,
            "overflow_x": null,
            "overflow_y": null,
            "padding": null,
            "right": null,
            "top": null,
            "visibility": null,
            "width": null
          }
        },
        "0c2295eba8434610a06244b78c3db6fd": {
          "model_module": "@jupyter-widgets/controls",
          "model_name": "DescriptionStyleModel",
          "state": {
            "_model_module": "@jupyter-widgets/controls",
            "_model_module_version": "1.5.0",
            "_model_name": "DescriptionStyleModel",
            "_view_count": null,
            "_view_module": "@jupyter-widgets/base",
            "_view_module_version": "1.2.0",
            "_view_name": "StyleView",
            "description_width": ""
          }
        },
        "7e6a468478404f13bbd90e096aa9d50f": {
          "model_module": "@jupyter-widgets/controls",
          "model_name": "HBoxModel",
          "state": {
            "_dom_classes": [],
            "_model_module": "@jupyter-widgets/controls",
            "_model_module_version": "1.5.0",
            "_model_name": "HBoxModel",
            "_view_count": null,
            "_view_module": "@jupyter-widgets/controls",
            "_view_module_version": "1.5.0",
            "_view_name": "HBoxView",
            "box_style": "",
            "children": [
              "IPY_MODEL_3244838b4b0e48b3b2d1b2f9790db8c1",
              "IPY_MODEL_11bfc84c82904c5884d1e7de471ff500"
            ],
            "layout": "IPY_MODEL_66b38c77cf7c4c9598064ad933ccc3ac"
          }
        },
        "3244838b4b0e48b3b2d1b2f9790db8c1": {
          "model_module": "@jupyter-widgets/controls",
          "model_name": "FloatProgressModel",
          "state": {
            "_dom_classes": [],
            "_model_module": "@jupyter-widgets/controls",
            "_model_module_version": "1.5.0",
            "_model_name": "FloatProgressModel",
            "_view_count": null,
            "_view_module": "@jupyter-widgets/controls",
            "_view_module_version": "1.5.0",
            "_view_name": "ProgressView",
            "bar_style": "info",
            "description": "",
            "description_tooltip": null,
            "layout": "IPY_MODEL_6bcc770d0cba432187040592291f9768",
            "max": 1,
            "min": 0,
            "orientation": "horizontal",
            "style": "IPY_MODEL_872050ea77144cc4839c548d4cad01a1",
            "value": 1
          }
        },
        "11bfc84c82904c5884d1e7de471ff500": {
          "model_module": "@jupyter-widgets/controls",
          "model_name": "HTMLModel",
          "state": {
            "_dom_classes": [],
            "_model_module": "@jupyter-widgets/controls",
            "_model_module_version": "1.5.0",
            "_model_name": "HTMLModel",
            "_view_count": null,
            "_view_module": "@jupyter-widgets/controls",
            "_view_module_version": "1.5.0",
            "_view_name": "HTMLView",
            "description": "",
            "description_tooltip": null,
            "layout": "IPY_MODEL_ad61ab765e71409fb66ded8443e1fcec",
            "placeholder": "​",
            "style": "IPY_MODEL_3113f623c3d048409c4b2020a2811279",
            "value": " 50000/0 [01:02&lt;00:00, 867.26 examples/s]"
          }
        },
        "66b38c77cf7c4c9598064ad933ccc3ac": {
          "model_module": "@jupyter-widgets/base",
          "model_name": "LayoutModel",
          "state": {
            "_model_module": "@jupyter-widgets/base",
            "_model_module_version": "1.2.0",
            "_model_name": "LayoutModel",
            "_view_count": null,
            "_view_module": "@jupyter-widgets/base",
            "_view_module_version": "1.2.0",
            "_view_name": "LayoutView",
            "align_content": null,
            "align_items": null,
            "align_self": null,
            "border": null,
            "bottom": null,
            "display": null,
            "flex": null,
            "flex_flow": null,
            "grid_area": null,
            "grid_auto_columns": null,
            "grid_auto_flow": null,
            "grid_auto_rows": null,
            "grid_column": null,
            "grid_gap": null,
            "grid_row": null,
            "grid_template_areas": null,
            "grid_template_columns": null,
            "grid_template_rows": null,
            "height": null,
            "justify_content": null,
            "justify_items": null,
            "left": null,
            "margin": null,
            "max_height": null,
            "max_width": null,
            "min_height": null,
            "min_width": null,
            "object_fit": null,
            "object_position": null,
            "order": null,
            "overflow": null,
            "overflow_x": null,
            "overflow_y": null,
            "padding": null,
            "right": null,
            "top": null,
            "visibility": null,
            "width": null
          }
        },
        "6bcc770d0cba432187040592291f9768": {
          "model_module": "@jupyter-widgets/base",
          "model_name": "LayoutModel",
          "state": {
            "_model_module": "@jupyter-widgets/base",
            "_model_module_version": "1.2.0",
            "_model_name": "LayoutModel",
            "_view_count": null,
            "_view_module": "@jupyter-widgets/base",
            "_view_module_version": "1.2.0",
            "_view_name": "LayoutView",
            "align_content": null,
            "align_items": null,
            "align_self": null,
            "border": null,
            "bottom": null,
            "display": null,
            "flex": null,
            "flex_flow": null,
            "grid_area": null,
            "grid_auto_columns": null,
            "grid_auto_flow": null,
            "grid_auto_rows": null,
            "grid_column": null,
            "grid_gap": null,
            "grid_row": null,
            "grid_template_areas": null,
            "grid_template_columns": null,
            "grid_template_rows": null,
            "height": null,
            "justify_content": null,
            "justify_items": null,
            "left": null,
            "margin": null,
            "max_height": null,
            "max_width": null,
            "min_height": null,
            "min_width": null,
            "object_fit": null,
            "object_position": null,
            "order": null,
            "overflow": null,
            "overflow_x": null,
            "overflow_y": null,
            "padding": null,
            "right": null,
            "top": null,
            "visibility": null,
            "width": null
          }
        },
        "872050ea77144cc4839c548d4cad01a1": {
          "model_module": "@jupyter-widgets/controls",
          "model_name": "ProgressStyleModel",
          "state": {
            "_model_module": "@jupyter-widgets/controls",
            "_model_module_version": "1.5.0",
            "_model_name": "ProgressStyleModel",
            "_view_count": null,
            "_view_module": "@jupyter-widgets/base",
            "_view_module_version": "1.2.0",
            "_view_name": "StyleView",
            "bar_color": null,
            "description_width": "initial"
          }
        },
        "ad61ab765e71409fb66ded8443e1fcec": {
          "model_module": "@jupyter-widgets/base",
          "model_name": "LayoutModel",
          "state": {
            "_model_module": "@jupyter-widgets/base",
            "_model_module_version": "1.2.0",
            "_model_name": "LayoutModel",
            "_view_count": null,
            "_view_module": "@jupyter-widgets/base",
            "_view_module_version": "1.2.0",
            "_view_name": "LayoutView",
            "align_content": null,
            "align_items": null,
            "align_self": null,
            "border": null,
            "bottom": null,
            "display": null,
            "flex": null,
            "flex_flow": null,
            "grid_area": null,
            "grid_auto_columns": null,
            "grid_auto_flow": null,
            "grid_auto_rows": null,
            "grid_column": null,
            "grid_gap": null,
            "grid_row": null,
            "grid_template_areas": null,
            "grid_template_columns": null,
            "grid_template_rows": null,
            "height": null,
            "justify_content": null,
            "justify_items": null,
            "left": null,
            "margin": null,
            "max_height": null,
            "max_width": null,
            "min_height": null,
            "min_width": null,
            "object_fit": null,
            "object_position": null,
            "order": null,
            "overflow": null,
            "overflow_x": null,
            "overflow_y": null,
            "padding": null,
            "right": null,
            "top": null,
            "visibility": null,
            "width": null
          }
        },
        "3113f623c3d048409c4b2020a2811279": {
          "model_module": "@jupyter-widgets/controls",
          "model_name": "DescriptionStyleModel",
          "state": {
            "_model_module": "@jupyter-widgets/controls",
            "_model_module_version": "1.5.0",
            "_model_name": "DescriptionStyleModel",
            "_view_count": null,
            "_view_module": "@jupyter-widgets/base",
            "_view_module_version": "1.2.0",
            "_view_name": "StyleView",
            "description_width": ""
          }
        },
        "511ff8c52ad7469a98a491cefa66cc52": {
          "model_module": "@jupyter-widgets/controls",
          "model_name": "HBoxModel",
          "state": {
            "_dom_classes": [],
            "_model_module": "@jupyter-widgets/controls",
            "_model_module_version": "1.5.0",
            "_model_name": "HBoxModel",
            "_view_count": null,
            "_view_module": "@jupyter-widgets/controls",
            "_view_module_version": "1.5.0",
            "_view_name": "HBoxView",
            "box_style": "",
            "children": [
              "IPY_MODEL_6745d4663a1944ccbfb4f401a072f828",
              "IPY_MODEL_586fcd7aa34e4593b9233ee9938112fe"
            ],
            "layout": "IPY_MODEL_30941d83c0c441b2b957d5fbd06f254d"
          }
        },
        "6745d4663a1944ccbfb4f401a072f828": {
          "model_module": "@jupyter-widgets/controls",
          "model_name": "FloatProgressModel",
          "state": {
            "_dom_classes": [],
            "_model_module": "@jupyter-widgets/controls",
            "_model_module_version": "1.5.0",
            "_model_name": "FloatProgressModel",
            "_view_count": null,
            "_view_module": "@jupyter-widgets/controls",
            "_view_module_version": "1.5.0",
            "_view_name": "ProgressView",
            "bar_style": "danger",
            "description": " 60%",
            "description_tooltip": null,
            "layout": "IPY_MODEL_8c5e73d1161546e090ef0c72674ce744",
            "max": 50000,
            "min": 0,
            "orientation": "horizontal",
            "style": "IPY_MODEL_ebc4f97bd45c42b49a9a0dba283d5cc0",
            "value": 29775
          }
        },
        "586fcd7aa34e4593b9233ee9938112fe": {
          "model_module": "@jupyter-widgets/controls",
          "model_name": "HTMLModel",
          "state": {
            "_dom_classes": [],
            "_model_module": "@jupyter-widgets/controls",
            "_model_module_version": "1.5.0",
            "_model_name": "HTMLModel",
            "_view_count": null,
            "_view_module": "@jupyter-widgets/controls",
            "_view_module_version": "1.5.0",
            "_view_name": "HTMLView",
            "description": "",
            "description_tooltip": null,
            "layout": "IPY_MODEL_cd1d1ff3b1394f9681bf704f5279faf3",
            "placeholder": "​",
            "style": "IPY_MODEL_3e178f6686264b6cb0532fee695cd696",
            "value": " 29775/50000 [00:05&lt;00:05, 3374.01 examples/s]"
          }
        },
        "30941d83c0c441b2b957d5fbd06f254d": {
          "model_module": "@jupyter-widgets/base",
          "model_name": "LayoutModel",
          "state": {
            "_model_module": "@jupyter-widgets/base",
            "_model_module_version": "1.2.0",
            "_model_name": "LayoutModel",
            "_view_count": null,
            "_view_module": "@jupyter-widgets/base",
            "_view_module_version": "1.2.0",
            "_view_name": "LayoutView",
            "align_content": null,
            "align_items": null,
            "align_self": null,
            "border": null,
            "bottom": null,
            "display": null,
            "flex": null,
            "flex_flow": null,
            "grid_area": null,
            "grid_auto_columns": null,
            "grid_auto_flow": null,
            "grid_auto_rows": null,
            "grid_column": null,
            "grid_gap": null,
            "grid_row": null,
            "grid_template_areas": null,
            "grid_template_columns": null,
            "grid_template_rows": null,
            "height": null,
            "justify_content": null,
            "justify_items": null,
            "left": null,
            "margin": null,
            "max_height": null,
            "max_width": null,
            "min_height": null,
            "min_width": null,
            "object_fit": null,
            "object_position": null,
            "order": null,
            "overflow": null,
            "overflow_x": null,
            "overflow_y": null,
            "padding": null,
            "right": null,
            "top": null,
            "visibility": null,
            "width": null
          }
        },
        "8c5e73d1161546e090ef0c72674ce744": {
          "model_module": "@jupyter-widgets/base",
          "model_name": "LayoutModel",
          "state": {
            "_model_module": "@jupyter-widgets/base",
            "_model_module_version": "1.2.0",
            "_model_name": "LayoutModel",
            "_view_count": null,
            "_view_module": "@jupyter-widgets/base",
            "_view_module_version": "1.2.0",
            "_view_name": "LayoutView",
            "align_content": null,
            "align_items": null,
            "align_self": null,
            "border": null,
            "bottom": null,
            "display": null,
            "flex": null,
            "flex_flow": null,
            "grid_area": null,
            "grid_auto_columns": null,
            "grid_auto_flow": null,
            "grid_auto_rows": null,
            "grid_column": null,
            "grid_gap": null,
            "grid_row": null,
            "grid_template_areas": null,
            "grid_template_columns": null,
            "grid_template_rows": null,
            "height": null,
            "justify_content": null,
            "justify_items": null,
            "left": null,
            "margin": null,
            "max_height": null,
            "max_width": null,
            "min_height": null,
            "min_width": null,
            "object_fit": null,
            "object_position": null,
            "order": null,
            "overflow": null,
            "overflow_x": null,
            "overflow_y": null,
            "padding": null,
            "right": null,
            "top": null,
            "visibility": null,
            "width": null
          }
        },
        "ebc4f97bd45c42b49a9a0dba283d5cc0": {
          "model_module": "@jupyter-widgets/controls",
          "model_name": "ProgressStyleModel",
          "state": {
            "_model_module": "@jupyter-widgets/controls",
            "_model_module_version": "1.5.0",
            "_model_name": "ProgressStyleModel",
            "_view_count": null,
            "_view_module": "@jupyter-widgets/base",
            "_view_module_version": "1.2.0",
            "_view_name": "StyleView",
            "bar_color": null,
            "description_width": "initial"
          }
        },
        "cd1d1ff3b1394f9681bf704f5279faf3": {
          "model_module": "@jupyter-widgets/base",
          "model_name": "LayoutModel",
          "state": {
            "_model_module": "@jupyter-widgets/base",
            "_model_module_version": "1.2.0",
            "_model_name": "LayoutModel",
            "_view_count": null,
            "_view_module": "@jupyter-widgets/base",
            "_view_module_version": "1.2.0",
            "_view_name": "LayoutView",
            "align_content": null,
            "align_items": null,
            "align_self": null,
            "border": null,
            "bottom": null,
            "display": null,
            "flex": null,
            "flex_flow": null,
            "grid_area": null,
            "grid_auto_columns": null,
            "grid_auto_flow": null,
            "grid_auto_rows": null,
            "grid_column": null,
            "grid_gap": null,
            "grid_row": null,
            "grid_template_areas": null,
            "grid_template_columns": null,
            "grid_template_rows": null,
            "height": null,
            "justify_content": null,
            "justify_items": null,
            "left": null,
            "margin": null,
            "max_height": null,
            "max_width": null,
            "min_height": null,
            "min_width": null,
            "object_fit": null,
            "object_position": null,
            "order": null,
            "overflow": null,
            "overflow_x": null,
            "overflow_y": null,
            "padding": null,
            "right": null,
            "top": null,
            "visibility": null,
            "width": null
          }
        },
        "3e178f6686264b6cb0532fee695cd696": {
          "model_module": "@jupyter-widgets/controls",
          "model_name": "DescriptionStyleModel",
          "state": {
            "_model_module": "@jupyter-widgets/controls",
            "_model_module_version": "1.5.0",
            "_model_name": "DescriptionStyleModel",
            "_view_count": null,
            "_view_module": "@jupyter-widgets/base",
            "_view_module_version": "1.2.0",
            "_view_name": "StyleView",
            "description_width": ""
          }
        }
      }
    }
  },
  "cells": [
    {
      "cell_type": "markdown",
      "metadata": {
        "id": "view-in-github",
        "colab_type": "text"
      },
      "source": [
        "<a href=\"https://colab.research.google.com/github/skhazaei/TensorFlow-repo/blob/master/imdb_conv1D.ipynb\" target=\"_parent\"><img src=\"https://colab.research.google.com/assets/colab-badge.svg\" alt=\"Open In Colab\"/></a>"
      ]
    },
    {
      "cell_type": "markdown",
      "metadata": {
        "id": "Awtds760XyoI"
      },
      "source": [
        "## Download the imdb dataset and split into train and test sets"
      ]
    },
    {
      "cell_type": "code",
      "metadata": {
        "colab": {
          "base_uri": "https://localhost:8080/",
          "height": 384,
          "referenced_widgets": [
            "4f69a9bc3d0e4abe9f80a9ce3f415b65",
            "497d24a52743410381c72a3fc0ed6af6",
            "bf46ba537385453e9fb78d3ed3b2417c",
            "a1bc468910e14adb864c33e6d21c0412",
            "48de5c3f5c624b9bb691e51544d74023",
            "03eaebf9cbc44d93ae1e95158faf5c5d",
            "ea0467580d7448499dd16bbeaf6409da",
            "b702d099656a49e4a0f139bd5f503cd4",
            "c321a299821849a6b4e693206c722c2c",
            "8c83d55d69384d96b2d8cfb18eafad30",
            "55e2678896664013abd76aa433e27ee9",
            "77970f698d944e2a9063171af3b5b6f3",
            "4a4f411137964b04998ab77f169cc06f",
            "3eec234f7dfa46d885d4b3c7389605b4",
            "de97b60d841f4bdf9dfbace025dd403f",
            "567a9eff80ed473b8301c02c2442d251",
            "890ab08be5e54c50b141807f3efabac3",
            "425b15b92fdd46f9a4d6742c561c9bac",
            "e45c9cc8955245e8987029bd93639d9f",
            "4c07bf0c6bd04ebc94fe24f068e540e1",
            "916279c8b76642c1af5353ced89b970f",
            "70c8323bc07e4384bc8629372107961b",
            "f8371f0b0ba8430b91fbe4965ac2d551",
            "06a631f195f046eeb70144afcdd473e4",
            "1e987acc2c354f42862eae06e73cbd47",
            "814cab558b1848fcb0d5afa278bb115e",
            "e35ac310c24d458eb11bba929c3f2cd8",
            "eb6f0d9dfac04ba58631fa69c079b4f2",
            "56c2716ed87f4372b4e6c67fb9600774",
            "bd6ae25f7cc642979fe9dc941332962a",
            "2c3dabde0d9941578f3b58ae2349444b",
            "35a37b69efc147e2bb23d9a23fdb869b",
            "8e0cd9e6a2164ea88156644465e61e0d",
            "8aa84a2bfa9d43d481cd09003d67f017",
            "19782086db1f48d081f7a55a1c126f96",
            "9d52708bed7b4795b26baf08c6e01e0b",
            "858431e9e5a24ef39775a583c828a022",
            "3e2f3f80a2bc4d79a5877138d89e5d1f",
            "b45b92d0135847d294b7ac0b2aa433b4",
            "721d8a574e3d4c4aa619270acfc590a8",
            "d027bdb1c5bb4a7788ebd8d4a2012948",
            "9d340fba3e764eab8acd92d64f40b7cb",
            "bc42054425a74d8281d1803c2a97fd6b",
            "8240ee439c434a0db47d5781d2b1f763",
            "436c7588fd374e5baee12f3170096f64",
            "6409e16570764b15a707deee57ba74ce",
            "7e56d89b806149e3a72e4a090a5ec656",
            "0c2295eba8434610a06244b78c3db6fd",
            "7e6a468478404f13bbd90e096aa9d50f",
            "3244838b4b0e48b3b2d1b2f9790db8c1",
            "11bfc84c82904c5884d1e7de471ff500",
            "66b38c77cf7c4c9598064ad933ccc3ac",
            "6bcc770d0cba432187040592291f9768",
            "872050ea77144cc4839c548d4cad01a1",
            "ad61ab765e71409fb66ded8443e1fcec",
            "3113f623c3d048409c4b2020a2811279",
            "511ff8c52ad7469a98a491cefa66cc52",
            "6745d4663a1944ccbfb4f401a072f828",
            "586fcd7aa34e4593b9233ee9938112fe",
            "30941d83c0c441b2b957d5fbd06f254d",
            "8c5e73d1161546e090ef0c72674ce744",
            "ebc4f97bd45c42b49a9a0dba283d5cc0",
            "cd1d1ff3b1394f9681bf704f5279faf3",
            "3e178f6686264b6cb0532fee695cd696"
          ]
        },
        "id": "0ohVtXRaW4Ei",
        "outputId": "c25cea1c-069b-43c0-aad0-8df04040603a"
      },
      "source": [
        "import tensorflow_datasets as tfds\n",
        "\n",
        "imdb, info = tfds.load('imdb_reviews/subwords8k', with_info=True, as_supervised=True)\n",
        "train_data, test_data = imdb['train'], imdb['test']"
      ],
      "execution_count": null,
      "outputs": [
        {
          "output_type": "stream",
          "text": [
            "WARNING:absl:TFDS datasets with text encoding are deprecated and will be removed in a future version. Instead, you should use the plain text version and tokenize the text using `tensorflow_text` (See: https://www.tensorflow.org/tutorials/tensorflow_text/intro#tfdata_example)\n"
          ],
          "name": "stderr"
        },
        {
          "output_type": "stream",
          "text": [
            "\u001b[1mDownloading and preparing dataset imdb_reviews/subwords8k/1.0.0 (download: 80.23 MiB, generated: Unknown size, total: 80.23 MiB) to /root/tensorflow_datasets/imdb_reviews/subwords8k/1.0.0...\u001b[0m\n"
          ],
          "name": "stdout"
        },
        {
          "output_type": "display_data",
          "data": {
            "application/vnd.jupyter.widget-view+json": {
              "model_id": "4f69a9bc3d0e4abe9f80a9ce3f415b65",
              "version_major": 2,
              "version_minor": 0
            },
            "text/plain": [
              "HBox(children=(FloatProgress(value=1.0, bar_style='info', description='Dl Completed...', max=1.0, style=Progre…"
            ]
          },
          "metadata": {
            "tags": []
          }
        },
        {
          "output_type": "display_data",
          "data": {
            "application/vnd.jupyter.widget-view+json": {
              "model_id": "c321a299821849a6b4e693206c722c2c",
              "version_major": 2,
              "version_minor": 0
            },
            "text/plain": [
              "HBox(children=(FloatProgress(value=1.0, bar_style='info', description='Dl Size...', max=1.0, style=ProgressSty…"
            ]
          },
          "metadata": {
            "tags": []
          }
        },
        {
          "output_type": "stream",
          "text": [
            "\n",
            "\n",
            "\n",
            "\n"
          ],
          "name": "stdout"
        },
        {
          "output_type": "display_data",
          "data": {
            "application/vnd.jupyter.widget-view+json": {
              "model_id": "890ab08be5e54c50b141807f3efabac3",
              "version_major": 2,
              "version_minor": 0
            },
            "text/plain": [
              "HBox(children=(FloatProgress(value=1.0, bar_style='info', max=1.0), HTML(value='')))"
            ]
          },
          "metadata": {
            "tags": []
          }
        },
        {
          "output_type": "stream",
          "text": [
            "\rShuffling and writing examples to /root/tensorflow_datasets/imdb_reviews/subwords8k/1.0.0.incompleteF326AV/imdb_reviews-train.tfrecord\n"
          ],
          "name": "stdout"
        },
        {
          "output_type": "display_data",
          "data": {
            "application/vnd.jupyter.widget-view+json": {
              "model_id": "1e987acc2c354f42862eae06e73cbd47",
              "version_major": 2,
              "version_minor": 0
            },
            "text/plain": [
              "HBox(children=(FloatProgress(value=0.0, max=25000.0), HTML(value='')))"
            ]
          },
          "metadata": {
            "tags": []
          }
        },
        {
          "output_type": "stream",
          "text": [
            "\r"
          ],
          "name": "stdout"
        },
        {
          "output_type": "display_data",
          "data": {
            "application/vnd.jupyter.widget-view+json": {
              "model_id": "8e0cd9e6a2164ea88156644465e61e0d",
              "version_major": 2,
              "version_minor": 0
            },
            "text/plain": [
              "HBox(children=(FloatProgress(value=1.0, bar_style='info', max=1.0), HTML(value='')))"
            ]
          },
          "metadata": {
            "tags": []
          }
        },
        {
          "output_type": "stream",
          "text": [
            "\rShuffling and writing examples to /root/tensorflow_datasets/imdb_reviews/subwords8k/1.0.0.incompleteF326AV/imdb_reviews-test.tfrecord\n"
          ],
          "name": "stdout"
        },
        {
          "output_type": "display_data",
          "data": {
            "application/vnd.jupyter.widget-view+json": {
              "model_id": "d027bdb1c5bb4a7788ebd8d4a2012948",
              "version_major": 2,
              "version_minor": 0
            },
            "text/plain": [
              "HBox(children=(FloatProgress(value=0.0, max=25000.0), HTML(value='')))"
            ]
          },
          "metadata": {
            "tags": []
          }
        },
        {
          "output_type": "stream",
          "text": [
            "\r"
          ],
          "name": "stdout"
        },
        {
          "output_type": "display_data",
          "data": {
            "application/vnd.jupyter.widget-view+json": {
              "model_id": "7e6a468478404f13bbd90e096aa9d50f",
              "version_major": 2,
              "version_minor": 0
            },
            "text/plain": [
              "HBox(children=(FloatProgress(value=1.0, bar_style='info', max=1.0), HTML(value='')))"
            ]
          },
          "metadata": {
            "tags": []
          }
        },
        {
          "output_type": "stream",
          "text": [
            "\rShuffling and writing examples to /root/tensorflow_datasets/imdb_reviews/subwords8k/1.0.0.incompleteF326AV/imdb_reviews-unsupervised.tfrecord\n"
          ],
          "name": "stdout"
        },
        {
          "output_type": "display_data",
          "data": {
            "application/vnd.jupyter.widget-view+json": {
              "model_id": "511ff8c52ad7469a98a491cefa66cc52",
              "version_major": 2,
              "version_minor": 0
            },
            "text/plain": [
              "HBox(children=(FloatProgress(value=0.0, max=50000.0), HTML(value='')))"
            ]
          },
          "metadata": {
            "tags": []
          }
        },
        {
          "output_type": "stream",
          "text": [
            "WARNING:absl:Dataset is using deprecated text encoder API which will be removed soon. Please use the plain_text version of the dataset and migrate to `tensorflow_text`.\n"
          ],
          "name": "stderr"
        },
        {
          "output_type": "stream",
          "text": [
            "\u001b[1mDataset imdb_reviews downloaded and prepared to /root/tensorflow_datasets/imdb_reviews/subwords8k/1.0.0. Subsequent calls will reuse this data.\u001b[0m\n"
          ],
          "name": "stdout"
        }
      ]
    },
    {
      "cell_type": "markdown",
      "metadata": {
        "id": "alPbxnfAYbx-"
      },
      "source": [
        "## Take the tokenizer and try some sample string to encode and decode"
      ]
    },
    {
      "cell_type": "code",
      "metadata": {
        "id": "M6aVqCVAYNqI"
      },
      "source": [
        "tokenizer = info.features['text'].encoder"
      ],
      "execution_count": null,
      "outputs": []
    },
    {
      "cell_type": "code",
      "metadata": {
        "id": "Qb6wwYZkYwfQ"
      },
      "source": [
        "sample_string = 'In other words, cats do love you ... \\n even if they don\\'t show it.\\n The research, published in the journal Current Biology,\\n found that cats form attachments\\n to their owners that are similar to \\n those that dogs and even babies \\n form with their caregivers.\\n'"
      ],
      "execution_count": null,
      "outputs": []
    },
    {
      "cell_type": "code",
      "metadata": {
        "colab": {
          "base_uri": "https://localhost:8080/"
        },
        "id": "3DK6kCKpZH1m",
        "outputId": "b6ba9d0f-db29-4332-d524-2a37b67b9145"
      },
      "source": [
        "tokenized_string = tokenizer.encode(sample_string)\n",
        "print('tokenized string is: {}'.format(tokenized_string))"
      ],
      "execution_count": null,
      "outputs": [
        {
          "output_type": "stream",
          "text": [
            "tokenized string is: [147, 108, 3165, 2, 871, 8, 110, 174, 151, 2831, 7939, 7961, 78, 75, 53, 109, 7968, 21, 191, 39, 7975, 7939, 7961, 19, 3899, 2, 7192, 6891, 36, 11, 1, 7757, 7961, 2497, 1423, 897, 6291, 7973, 7939, 7961, 321, 13, 871, 8, 1642, 7724, 503, 8044, 7939, 7961, 7, 79, 3386, 8, 13, 29, 1243, 254, 7961, 7939, 7961, 198, 13, 2486, 8, 5, 78, 3196, 737, 7961, 7939, 7961, 1642, 22, 79, 2337, 5822, 690, 7975, 7939]\n"
          ],
          "name": "stdout"
        }
      ]
    },
    {
      "cell_type": "code",
      "metadata": {
        "colab": {
          "base_uri": "https://localhost:8080/"
        },
        "id": "opWdorMKZTKn",
        "outputId": "744a7c9e-af0a-4923-b597-e35c85766dbf"
      },
      "source": [
        "original_string = tokenizer.decode(tokenized_string)\n",
        "print('original string is:\\n\\n {}'.format(original_string))"
      ],
      "execution_count": null,
      "outputs": [
        {
          "output_type": "stream",
          "text": [
            "original string is:\n",
            "\n",
            " In other words, cats do love you ... \n",
            " even if they don't show it.\n",
            " The research, published in the journal Current Biology,\n",
            " found that cats form attachments\n",
            " to their owners that are similar to \n",
            " those that dogs and even babies \n",
            " form with their caregivers.\n",
            "\n"
          ],
          "name": "stdout"
        }
      ]
    },
    {
      "cell_type": "code",
      "metadata": {
        "colab": {
          "base_uri": "https://localhost:8080/"
        },
        "id": "oJw1QxFGZea-",
        "outputId": "533a6886-82d8-4c8c-d88f-7e5bc898248f"
      },
      "source": [
        "for ts in tokenized_string:\n",
        "  print('{}---->{}'.format(ts, tokenizer.decode([ts])))"
      ],
      "execution_count": null,
      "outputs": [
        {
          "output_type": "stream",
          "text": [
            "147---->In \n",
            "108---->other \n",
            "3165---->words\n",
            "2---->, \n",
            "871---->cat\n",
            "8---->s \n",
            "110---->do \n",
            "174---->love \n",
            "151---->you\n",
            "2831----> ... \n",
            "7939---->\n",
            "\n",
            "7961----> \n",
            "78---->even \n",
            "75---->if \n",
            "53---->they \n",
            "109---->don\n",
            "7968---->'\n",
            "21---->t \n",
            "191---->show \n",
            "39---->it\n",
            "7975---->.\n",
            "7939---->\n",
            "\n",
            "7961----> \n",
            "19---->The \n",
            "3899---->research\n",
            "2---->, \n",
            "7192---->pub\n",
            "6891---->lish\n",
            "36---->ed \n",
            "11---->in \n",
            "1---->the \n",
            "7757---->journal\n",
            "7961----> \n",
            "2497---->Cur\n",
            "1423---->rent \n",
            "897---->Bi\n",
            "6291---->ology\n",
            "7973---->,\n",
            "7939---->\n",
            "\n",
            "7961----> \n",
            "321---->found \n",
            "13---->that \n",
            "871---->cat\n",
            "8---->s \n",
            "1642---->form \n",
            "7724---->attach\n",
            "503---->ment\n",
            "8044---->s\n",
            "7939---->\n",
            "\n",
            "7961----> \n",
            "7---->to \n",
            "79---->their \n",
            "3386---->owner\n",
            "8---->s \n",
            "13---->that \n",
            "29---->are \n",
            "1243---->similar \n",
            "254---->to\n",
            "7961----> \n",
            "7939---->\n",
            "\n",
            "7961----> \n",
            "198---->those \n",
            "13---->that \n",
            "2486---->dog\n",
            "8---->s \n",
            "5---->and \n",
            "78---->even \n",
            "3196---->bab\n",
            "737---->ies\n",
            "7961----> \n",
            "7939---->\n",
            "\n",
            "7961----> \n",
            "1642---->form \n",
            "22---->with \n",
            "79---->their \n",
            "2337---->care\n",
            "5822---->giv\n",
            "690---->ers\n",
            "7975---->.\n",
            "7939---->\n",
            "\n"
          ],
          "name": "stdout"
        }
      ]
    },
    {
      "cell_type": "markdown",
      "metadata": {
        "id": "keXcNL9tcVcT"
      },
      "source": [
        "## Prepare `train_dataset` and `test_dataset` using `shuffle()` and `padded_batch()`"
      ]
    },
    {
      "cell_type": "code",
      "metadata": {
        "id": "WlRfuc4_cSLx"
      },
      "source": [
        "import tensorflow as tf\n",
        "\n",
        "train_dataset = train_data.shuffle(buffer_size=10000)\n",
        "train_dataset = train_dataset.padded_batch(batch_size=64, padded_shapes=tf.compat.v1.data.get_output_shapes(train_dataset))\n",
        "test_dataset = test_data.padded_batch(batch_size=64, padded_shapes=tf.compat.v1.data.get_output_shapes(test_data))"
      ],
      "execution_count": null,
      "outputs": []
    },
    {
      "cell_type": "markdown",
      "metadata": {
        "id": "VarqiSmldMvu"
      },
      "source": [
        "## Define the model using a convolutional network, in which the words will be grouped into the size of filter; in this case 5. The number of filters is 128."
      ]
    },
    {
      "cell_type": "code",
      "metadata": {
        "colab": {
          "base_uri": "https://localhost:8080/"
        },
        "id": "op9cPrj1c6N0",
        "outputId": "c47db883-6484-4bb0-efd8-e975b4c1d54d"
      },
      "source": [
        "max_length = 120\n",
        "\n",
        "model = tf.keras.models.Sequential([tf.keras.layers.Embedding(tokenizer.vocab_size, 64, input_length=max_length),\n",
        "                                    tf.keras.layers.Conv1D(128, 5, activation='relu'),\n",
        "                                    tf.keras.layers.GlobalAveragePooling1D(),\n",
        "                                    tf.keras.layers.Dense(64, activation='relu'),\n",
        "                                    tf.keras.layers.Dense(1, activation='sigmoid')])\n",
        "model.summary()"
      ],
      "execution_count": null,
      "outputs": [
        {
          "output_type": "stream",
          "text": [
            "Model: \"sequential\"\n",
            "_________________________________________________________________\n",
            "Layer (type)                 Output Shape              Param #   \n",
            "=================================================================\n",
            "embedding (Embedding)        (None, 120, 64)           523840    \n",
            "_________________________________________________________________\n",
            "conv1d (Conv1D)              (None, 116, 128)          41088     \n",
            "_________________________________________________________________\n",
            "global_average_pooling1d (Gl (None, 128)               0         \n",
            "_________________________________________________________________\n",
            "dense (Dense)                (None, 64)                8256      \n",
            "_________________________________________________________________\n",
            "dense_1 (Dense)              (None, 1)                 65        \n",
            "=================================================================\n",
            "Total params: 573,249\n",
            "Trainable params: 573,249\n",
            "Non-trainable params: 0\n",
            "_________________________________________________________________\n"
          ],
          "name": "stdout"
        }
      ]
    },
    {
      "cell_type": "markdown",
      "metadata": {
        "id": "SGBqz1qGhNjc"
      },
      "source": [
        "## Note that as the size of `input_length=120` words, and a filter that is 5 words long will shave off 2 words from the front and back, leaving us with 116."
      ]
    },
    {
      "cell_type": "code",
      "metadata": {
        "id": "RJUjvfMffCD0"
      },
      "source": [
        "model.compile(loss='binary_crossentropy', optimizer='adam', metrics=['accuracy'])"
      ],
      "execution_count": null,
      "outputs": []
    },
    {
      "cell_type": "code",
      "metadata": {
        "colab": {
          "base_uri": "https://localhost:8080/"
        },
        "id": "kYNtvdWlhyMi",
        "outputId": "0abf4f9e-21cc-4940-e43b-57fea5812621"
      },
      "source": [
        "history = model.fit(train_dataset, epochs=50, validation_data=test_dataset, verbose=2)"
      ],
      "execution_count": null,
      "outputs": [
        {
          "output_type": "stream",
          "text": [
            "Epoch 1/50\n",
            "391/391 - 50s - loss: 0.4535 - accuracy: 0.7753 - val_loss: 0.3161 - val_accuracy: 0.8724\n",
            "Epoch 2/50\n",
            "391/391 - 26s - loss: 0.2242 - accuracy: 0.9157 - val_loss: 0.3101 - val_accuracy: 0.8736\n",
            "Epoch 3/50\n",
            "391/391 - 23s - loss: 0.1716 - accuracy: 0.9382 - val_loss: 0.3290 - val_accuracy: 0.8751\n",
            "Epoch 4/50\n",
            "391/391 - 22s - loss: 0.1365 - accuracy: 0.9526 - val_loss: 0.3777 - val_accuracy: 0.8661\n",
            "Epoch 5/50\n",
            "391/391 - 22s - loss: 0.1110 - accuracy: 0.9618 - val_loss: 0.4264 - val_accuracy: 0.8648\n",
            "Epoch 6/50\n",
            "391/391 - 21s - loss: 0.0902 - accuracy: 0.9699 - val_loss: 0.5035 - val_accuracy: 0.8561\n",
            "Epoch 7/50\n",
            "391/391 - 20s - loss: 0.0710 - accuracy: 0.9770 - val_loss: 0.5465 - val_accuracy: 0.8531\n",
            "Epoch 8/50\n",
            "391/391 - 21s - loss: 0.0595 - accuracy: 0.9820 - val_loss: 0.6026 - val_accuracy: 0.8530\n",
            "Epoch 9/50\n",
            "391/391 - 20s - loss: 0.0414 - accuracy: 0.9882 - val_loss: 0.7576 - val_accuracy: 0.8554\n",
            "Epoch 10/50\n",
            "391/391 - 20s - loss: 0.0362 - accuracy: 0.9895 - val_loss: 0.8081 - val_accuracy: 0.8507\n",
            "Epoch 11/50\n",
            "391/391 - 20s - loss: 0.0389 - accuracy: 0.9894 - val_loss: 0.8205 - val_accuracy: 0.8536\n",
            "Epoch 12/50\n",
            "391/391 - 19s - loss: 0.0221 - accuracy: 0.9947 - val_loss: 0.9094 - val_accuracy: 0.8473\n",
            "Epoch 13/50\n",
            "391/391 - 20s - loss: 0.0171 - accuracy: 0.9966 - val_loss: 1.0638 - val_accuracy: 0.8536\n",
            "Epoch 14/50\n",
            "391/391 - 20s - loss: 0.0217 - accuracy: 0.9938 - val_loss: 1.0542 - val_accuracy: 0.8518\n",
            "Epoch 15/50\n",
            "391/391 - 20s - loss: 0.0203 - accuracy: 0.9947 - val_loss: 1.1063 - val_accuracy: 0.8504\n",
            "Epoch 16/50\n",
            "391/391 - 20s - loss: 0.0152 - accuracy: 0.9958 - val_loss: 1.1454 - val_accuracy: 0.8480\n",
            "Epoch 17/50\n",
            "391/391 - 20s - loss: 0.0091 - accuracy: 0.9985 - val_loss: 1.2658 - val_accuracy: 0.8427\n",
            "Epoch 18/50\n",
            "391/391 - 20s - loss: 0.0186 - accuracy: 0.9944 - val_loss: 1.2479 - val_accuracy: 0.8510\n",
            "Epoch 19/50\n",
            "391/391 - 20s - loss: 0.0172 - accuracy: 0.9948 - val_loss: 1.2567 - val_accuracy: 0.8462\n",
            "Epoch 20/50\n",
            "391/391 - 19s - loss: 0.0088 - accuracy: 0.9979 - val_loss: 1.3887 - val_accuracy: 0.8484\n",
            "Epoch 21/50\n",
            "391/391 - 20s - loss: 0.0078 - accuracy: 0.9982 - val_loss: 1.4231 - val_accuracy: 0.8464\n",
            "Epoch 22/50\n",
            "391/391 - 20s - loss: 0.0105 - accuracy: 0.9966 - val_loss: 1.3044 - val_accuracy: 0.8501\n",
            "Epoch 23/50\n",
            "391/391 - 19s - loss: 0.0095 - accuracy: 0.9976 - val_loss: 1.4772 - val_accuracy: 0.8464\n",
            "Epoch 24/50\n",
            "391/391 - 19s - loss: 0.0052 - accuracy: 0.9987 - val_loss: 1.6618 - val_accuracy: 0.8469\n",
            "Epoch 25/50\n",
            "391/391 - 19s - loss: 0.0231 - accuracy: 0.9922 - val_loss: 1.3473 - val_accuracy: 0.8491\n",
            "Epoch 26/50\n",
            "391/391 - 20s - loss: 0.0086 - accuracy: 0.9976 - val_loss: 1.4233 - val_accuracy: 0.8482\n",
            "Epoch 27/50\n",
            "391/391 - 20s - loss: 0.0022 - accuracy: 0.9999 - val_loss: 1.6534 - val_accuracy: 0.8485\n",
            "Epoch 28/50\n",
            "391/391 - 20s - loss: 9.5663e-04 - accuracy: 1.0000 - val_loss: 1.7414 - val_accuracy: 0.8475\n",
            "Epoch 29/50\n",
            "391/391 - 20s - loss: 6.4669e-04 - accuracy: 1.0000 - val_loss: 1.8124 - val_accuracy: 0.8477\n",
            "Epoch 30/50\n",
            "391/391 - 20s - loss: 3.0502e-04 - accuracy: 1.0000 - val_loss: 1.8771 - val_accuracy: 0.8473\n",
            "Epoch 31/50\n",
            "391/391 - 20s - loss: 2.2578e-04 - accuracy: 1.0000 - val_loss: 1.9442 - val_accuracy: 0.8480\n",
            "Epoch 32/50\n",
            "391/391 - 20s - loss: 1.7834e-04 - accuracy: 1.0000 - val_loss: 2.0138 - val_accuracy: 0.8477\n",
            "Epoch 33/50\n",
            "391/391 - 20s - loss: 1.4368e-04 - accuracy: 1.0000 - val_loss: 2.0907 - val_accuracy: 0.8482\n",
            "Epoch 34/50\n",
            "391/391 - 19s - loss: 1.2147e-04 - accuracy: 1.0000 - val_loss: 2.1785 - val_accuracy: 0.8492\n",
            "Epoch 35/50\n",
            "391/391 - 20s - loss: 9.2448e-05 - accuracy: 1.0000 - val_loss: 2.2479 - val_accuracy: 0.8486\n",
            "Epoch 36/50\n",
            "391/391 - 20s - loss: 7.4840e-05 - accuracy: 1.0000 - val_loss: 2.3238 - val_accuracy: 0.8494\n",
            "Epoch 37/50\n",
            "391/391 - 21s - loss: 5.5711e-05 - accuracy: 1.0000 - val_loss: 2.3900 - val_accuracy: 0.8486\n",
            "Epoch 38/50\n",
            "391/391 - 20s - loss: 4.3508e-05 - accuracy: 1.0000 - val_loss: 2.4598 - val_accuracy: 0.8480\n",
            "Epoch 39/50\n",
            "391/391 - 19s - loss: 4.1205e-05 - accuracy: 1.0000 - val_loss: 2.5312 - val_accuracy: 0.8483\n",
            "Epoch 40/50\n",
            "391/391 - 20s - loss: 5.0819e-05 - accuracy: 1.0000 - val_loss: 2.6195 - val_accuracy: 0.8494\n",
            "Epoch 41/50\n",
            "391/391 - 19s - loss: 0.0486 - accuracy: 0.9967 - val_loss: 2.2496 - val_accuracy: 0.8388\n",
            "Epoch 42/50\n",
            "391/391 - 20s - loss: 0.0462 - accuracy: 0.9848 - val_loss: 1.2586 - val_accuracy: 0.8516\n",
            "Epoch 43/50\n",
            "391/391 - 19s - loss: 0.0047 - accuracy: 0.9988 - val_loss: 1.7240 - val_accuracy: 0.8508\n",
            "Epoch 44/50\n",
            "391/391 - 19s - loss: 4.9061e-04 - accuracy: 1.0000 - val_loss: 1.8321 - val_accuracy: 0.8498\n",
            "Epoch 45/50\n",
            "391/391 - 19s - loss: 1.9497e-04 - accuracy: 1.0000 - val_loss: 1.9082 - val_accuracy: 0.8503\n",
            "Epoch 46/50\n",
            "391/391 - 19s - loss: 1.5112e-04 - accuracy: 1.0000 - val_loss: 1.9667 - val_accuracy: 0.8508\n",
            "Epoch 47/50\n",
            "391/391 - 19s - loss: 1.1133e-04 - accuracy: 1.0000 - val_loss: 2.0082 - val_accuracy: 0.8499\n",
            "Epoch 48/50\n",
            "391/391 - 19s - loss: 8.9662e-05 - accuracy: 1.0000 - val_loss: 2.0490 - val_accuracy: 0.8499\n",
            "Epoch 49/50\n",
            "391/391 - 19s - loss: 7.7137e-05 - accuracy: 1.0000 - val_loss: 2.0871 - val_accuracy: 0.8499\n",
            "Epoch 50/50\n",
            "391/391 - 19s - loss: 7.0221e-05 - accuracy: 1.0000 - val_loss: 2.1242 - val_accuracy: 0.8500\n"
          ],
          "name": "stdout"
        }
      ]
    },
    {
      "cell_type": "code",
      "metadata": {
        "colab": {
          "base_uri": "https://localhost:8080/",
          "height": 541
        },
        "id": "Wlfi4fY0h2qT",
        "outputId": "5030866a-6034-4a53-91cb-38568219d0fa"
      },
      "source": [
        "import matplotlib.pyplot as plt\n",
        "\n",
        "def plot_graphs(history, string):\n",
        "\n",
        "  plt.plot(history.history[string])\n",
        "  plt.plot(history.history['val_'+string])\n",
        "  plt.xlabel('epochs')\n",
        "  plt.ylabel(string)\n",
        "  plt.legend([string, 'val-'+string])\n",
        "  plt.show()\n",
        "\n",
        "plot_graphs(history, 'accuracy')\n",
        "plot_graphs(history, 'loss')"
      ],
      "execution_count": null,
      "outputs": [
        {
          "output_type": "display_data",
          "data": {
            "image/png": "[encoded data removed]",
            "text/plain": [
              "<Figure size 432x288 with 1 Axes>"
            ]
          },
          "metadata": {
            "tags": []
          }
        },
        {
          "output_type": "display_data",
          "data": {
            "image/png": "[encoded data removed]",
            "text/plain": [
              "<Figure size 432x288 with 1 Axes>"
            ]
          },
          "metadata": {
            "tags": []
          }
        }
      ]
    },
    {
      "cell_type": "markdown",
      "metadata": {
        "id": "xxNIgacbpeI_"
      },
      "source": [
        "## Let's try the model without setting the `max_length=120`"
      ]
    },
    {
      "cell_type": "code",
      "metadata": {
        "colab": {
          "base_uri": "https://localhost:8080/"
        },
        "id": "TOaAC5RhpdH3",
        "outputId": "304630a1-aa7d-4e5a-f251-d46f7962dfe6"
      },
      "source": [
        "model_2 = tf.keras.models.Sequential([tf.keras.layers.Embedding(tokenizer.vocab_size, 64),\n",
        "                                    tf.keras.layers.Conv1D(128, 5, activation='relu'),\n",
        "                                    tf.keras.layers.GlobalAveragePooling1D(),\n",
        "                                    tf.keras.layers.Dense(64, activation='relu'),\n",
        "                                    tf.keras.layers.Dense(1, activation='sigmoid')])\n",
        "model_2.summary()"
      ],
      "execution_count": null,
      "outputs": [
        {
          "output_type": "stream",
          "text": [
            "Model: \"sequential_1\"\n",
            "_________________________________________________________________\n",
            "Layer (type)                 Output Shape              Param #   \n",
            "=================================================================\n",
            "embedding_1 (Embedding)      (None, None, 64)          523840    \n",
            "_________________________________________________________________\n",
            "conv1d_1 (Conv1D)            (None, None, 128)         41088     \n",
            "_________________________________________________________________\n",
            "global_average_pooling1d_1 ( (None, 128)               0         \n",
            "_________________________________________________________________\n",
            "dense_2 (Dense)              (None, 64)                8256      \n",
            "_________________________________________________________________\n",
            "dense_3 (Dense)              (None, 1)                 65        \n",
            "=================================================================\n",
            "Total params: 573,249\n",
            "Trainable params: 573,249\n",
            "Non-trainable params: 0\n",
            "_________________________________________________________________\n"
          ],
          "name": "stdout"
        }
      ]
    },
    {
      "cell_type": "code",
      "metadata": {
        "id": "wU5et2iaptYq"
      },
      "source": [
        "model_2.compile(loss='binary_crossentropy', optimizer='adam', metrics=['accuracy'])"
      ],
      "execution_count": null,
      "outputs": []
    },
    {
      "cell_type": "code",
      "metadata": {
        "colab": {
          "background_save": true,
          "base_uri": "https://localhost:8080/"
        },
        "id": "IPY4X7fppzXV",
        "outputId": "cda7de10-df07-43b9-9f95-4df0c7e08295"
      },
      "source": [
        "history_2 = model_2.fit(train_dataset, epochs=50, validation_data=test_dataset, verbose=2)"
      ],
      "execution_count": null,
      "outputs": [
        {
          "output_type": "stream",
          "text": [
            "Epoch 1/50\n",
            "391/391 - 20s - loss: 0.4492 - accuracy: 0.7749 - val_loss: 0.3005 - val_accuracy: 0.8774\n",
            "Epoch 2/50\n",
            "391/391 - 19s - loss: 0.2200 - accuracy: 0.9174 - val_loss: 0.3091 - val_accuracy: 0.8747\n",
            "Epoch 3/50\n",
            "391/391 - 19s - loss: 0.1721 - accuracy: 0.9366 - val_loss: 0.3221 - val_accuracy: 0.8722\n",
            "Epoch 4/50\n",
            "391/391 - 19s - loss: 0.1365 - accuracy: 0.9531 - val_loss: 0.3580 - val_accuracy: 0.8694\n",
            "Epoch 5/50\n",
            "391/391 - 19s - loss: 0.1126 - accuracy: 0.9608 - val_loss: 0.3947 - val_accuracy: 0.8640\n",
            "Epoch 6/50\n",
            "391/391 - 19s - loss: 0.0862 - accuracy: 0.9715 - val_loss: 0.4604 - val_accuracy: 0.8624\n",
            "Epoch 7/50\n",
            "391/391 - 19s - loss: 0.0711 - accuracy: 0.9770 - val_loss: 0.5506 - val_accuracy: 0.8565\n",
            "Epoch 8/50\n",
            "391/391 - 20s - loss: 0.0544 - accuracy: 0.9836 - val_loss: 0.6731 - val_accuracy: 0.8496\n",
            "Epoch 9/50\n",
            "391/391 - 19s - loss: 0.0405 - accuracy: 0.9883 - val_loss: 0.8001 - val_accuracy: 0.8512\n",
            "Epoch 10/50\n",
            "391/391 - 19s - loss: 0.0392 - accuracy: 0.9877 - val_loss: 0.7686 - val_accuracy: 0.8462\n",
            "Epoch 11/50\n",
            "391/391 - 19s - loss: 0.0267 - accuracy: 0.9928 - val_loss: 0.9280 - val_accuracy: 0.8504\n",
            "Epoch 12/50\n",
            "391/391 - 19s - loss: 0.0173 - accuracy: 0.9966 - val_loss: 1.0428 - val_accuracy: 0.8505\n",
            "Epoch 13/50\n",
            "391/391 - 19s - loss: 0.0246 - accuracy: 0.9926 - val_loss: 0.8598 - val_accuracy: 0.8454\n",
            "Epoch 14/50\n",
            "391/391 - 19s - loss: 0.0223 - accuracy: 0.9932 - val_loss: 1.0545 - val_accuracy: 0.8486\n",
            "Epoch 15/50\n",
            "391/391 - 19s - loss: 0.0194 - accuracy: 0.9941 - val_loss: 1.0285 - val_accuracy: 0.8470\n",
            "Epoch 16/50\n",
            "391/391 - 20s - loss: 0.0155 - accuracy: 0.9956 - val_loss: 1.0101 - val_accuracy: 0.8487\n",
            "Epoch 17/50\n",
            "391/391 - 19s - loss: 0.0129 - accuracy: 0.9962 - val_loss: 1.1400 - val_accuracy: 0.8478\n",
            "Epoch 18/50\n",
            "391/391 - 19s - loss: 0.0096 - accuracy: 0.9974 - val_loss: 1.3324 - val_accuracy: 0.8462\n",
            "Epoch 19/50\n",
            "391/391 - 19s - loss: 0.0087 - accuracy: 0.9978 - val_loss: 1.4211 - val_accuracy: 0.8475\n",
            "Epoch 20/50\n",
            "391/391 - 19s - loss: 0.0136 - accuracy: 0.9954 - val_loss: 1.3217 - val_accuracy: 0.8464\n",
            "Epoch 21/50\n",
            "391/391 - 19s - loss: 0.0118 - accuracy: 0.9962 - val_loss: 1.4071 - val_accuracy: 0.8474\n",
            "Epoch 22/50\n",
            "391/391 - 19s - loss: 0.0075 - accuracy: 0.9984 - val_loss: 1.5076 - val_accuracy: 0.8462\n",
            "Epoch 23/50\n",
            "391/391 - 19s - loss: 0.0063 - accuracy: 0.9983 - val_loss: 1.5550 - val_accuracy: 0.8492\n",
            "Epoch 24/50\n",
            "391/391 - 20s - loss: 0.0071 - accuracy: 0.9984 - val_loss: 1.5705 - val_accuracy: 0.8454\n",
            "Epoch 25/50\n",
            "391/391 - 20s - loss: 0.0110 - accuracy: 0.9966 - val_loss: 1.3971 - val_accuracy: 0.8499\n",
            "Epoch 26/50\n",
            "391/391 - 20s - loss: 0.0099 - accuracy: 0.9967 - val_loss: 1.4740 - val_accuracy: 0.8473\n",
            "Epoch 27/50\n",
            "391/391 - 19s - loss: 0.0051 - accuracy: 0.9986 - val_loss: 1.6193 - val_accuracy: 0.8446\n",
            "Epoch 28/50\n",
            "391/391 - 19s - loss: 0.0049 - accuracy: 0.9983 - val_loss: 1.7021 - val_accuracy: 0.8468\n",
            "Epoch 29/50\n",
            "391/391 - 19s - loss: 0.0139 - accuracy: 0.9952 - val_loss: 1.4604 - val_accuracy: 0.8478\n",
            "Epoch 30/50\n",
            "391/391 - 19s - loss: 0.0081 - accuracy: 0.9975 - val_loss: 1.4485 - val_accuracy: 0.8470\n",
            "Epoch 31/50\n",
            "391/391 - 19s - loss: 0.0044 - accuracy: 0.9987 - val_loss: 1.7715 - val_accuracy: 0.8480\n",
            "Epoch 32/50\n",
            "391/391 - 19s - loss: 0.0026 - accuracy: 0.9994 - val_loss: 1.8933 - val_accuracy: 0.8461\n",
            "Epoch 33/50\n",
            "391/391 - 19s - loss: 0.0070 - accuracy: 0.9983 - val_loss: 1.7427 - val_accuracy: 0.8422\n",
            "Epoch 34/50\n",
            "391/391 - 19s - loss: 0.0077 - accuracy: 0.9976 - val_loss: 1.7838 - val_accuracy: 0.8448\n",
            "Epoch 35/50\n",
            "391/391 - 19s - loss: 0.0064 - accuracy: 0.9980 - val_loss: 1.8259 - val_accuracy: 0.8474\n",
            "Epoch 36/50\n",
            "391/391 - 19s - loss: 0.0028 - accuracy: 0.9992 - val_loss: 2.0494 - val_accuracy: 0.8394\n",
            "Epoch 37/50\n",
            "391/391 - 20s - loss: 0.0040 - accuracy: 0.9988 - val_loss: 1.8874 - val_accuracy: 0.8470\n",
            "Epoch 38/50\n",
            "391/391 - 19s - loss: 0.0078 - accuracy: 0.9972 - val_loss: 1.6640 - val_accuracy: 0.8467\n",
            "Epoch 39/50\n",
            "391/391 - 19s - loss: 0.0055 - accuracy: 0.9981 - val_loss: 1.9009 - val_accuracy: 0.8437\n",
            "Epoch 40/50\n",
            "391/391 - 20s - loss: 0.0043 - accuracy: 0.9986 - val_loss: 2.3270 - val_accuracy: 0.8352\n",
            "Epoch 41/50\n",
            "391/391 - 20s - loss: 0.0073 - accuracy: 0.9979 - val_loss: 1.9574 - val_accuracy: 0.8445\n",
            "Epoch 42/50\n",
            "391/391 - 22s - loss: 0.0035 - accuracy: 0.9991 - val_loss: 2.1333 - val_accuracy: 0.8461\n",
            "Epoch 43/50\n",
            "391/391 - 22s - loss: 0.0019 - accuracy: 0.9995 - val_loss: 2.3336 - val_accuracy: 0.8450\n",
            "Epoch 44/50\n",
            "391/391 - 22s - loss: 0.0090 - accuracy: 0.9973 - val_loss: 1.9800 - val_accuracy: 0.8428\n",
            "Epoch 45/50\n",
            "391/391 - 22s - loss: 0.0134 - accuracy: 0.9947 - val_loss: 1.9252 - val_accuracy: 0.8457\n",
            "Epoch 46/50\n",
            "391/391 - 22s - loss: 0.0034 - accuracy: 0.9990 - val_loss: 2.0092 - val_accuracy: 0.8477\n",
            "Epoch 47/50\n",
            "391/391 - 21s - loss: 6.5564e-04 - accuracy: 0.9999 - val_loss: 2.2320 - val_accuracy: 0.8474\n",
            "Epoch 48/50\n",
            "391/391 - 19s - loss: 2.3585e-04 - accuracy: 1.0000 - val_loss: 2.2575 - val_accuracy: 0.8469\n",
            "Epoch 49/50\n",
            "391/391 - 19s - loss: 1.1650e-04 - accuracy: 1.0000 - val_loss: 2.2983 - val_accuracy: 0.8469\n",
            "Epoch 50/50\n",
            "391/391 - 19s - loss: 8.9864e-05 - accuracy: 1.0000 - val_loss: 2.3420 - val_accuracy: 0.8470\n"
          ],
          "name": "stdout"
        }
      ]
    },
    {
      "cell_type": "code",
      "metadata": {
        "colab": {
          "background_save": true
        },
        "id": "wfWucqCKp18N",
        "outputId": "2adb1063-24e5-4df7-be52-2ae0812aee15"
      },
      "source": [
        "import matplotlib.pyplot as plt\n",
        "\n",
        "def plot_graphs(history, string):\n",
        "\n",
        "  plt.plot(history.history[string])\n",
        "  plt.plot(history.history['val_'+string])\n",
        "  plt.xlabel('epochs')\n",
        "  plt.ylabel(string)\n",
        "  plt.legend([string, 'val-'+string])\n",
        "  plt.show()\n",
        "\n",
        "plot_graphs(history_2, 'accuracy')\n",
        "plot_graphs(history_2, 'loss')"
      ],
      "execution_count": null,
      "outputs": [
        {
          "output_type": "display_data",
          "data": {
            "image/png": "[encoded data removed]",
            "text/plain": [
              "<Figure size 432x288 with 1 Axes>"
            ]
          },
          "metadata": {
            "tags": []
          }
        },
        {
          "output_type": "display_data",
          "data": {
            "image/png": "[encoded data removed]",
            "text/plain": [
              "<Figure size 432x288 with 1 Axes>"
            ]
          },
          "metadata": {
            "tags": []
          }
        }
      ]
    },
    {
      "cell_type": "markdown",
      "metadata": {
        "id": "zehpyEuYBi1a"
      },
      "source": [
        "As it can be seen, our accuracy does even better than LSTM model with close to about 100% on training and around 80% on validation. But as before, our loss increases in the validation set, indicating potential overfilling. As we have a super simple network here, it's not surprising, and it will take some experimentation with different combinations of conversational layers to improve on this."
      ]
    }
  ]
}