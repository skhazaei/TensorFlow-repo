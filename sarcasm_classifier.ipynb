{
  "nbformat": 4,
  "nbformat_minor": 0,
  "metadata": {
    "colab": {
      "name": "sarcasm_classifier.ipynb",
      "provenance": [],
      "collapsed_sections": [],
      "authorship_tag": "ABX9TyNbJKR6LtIhvwsSqby/e7iS",
      "include_colab_link": true
    },
    "kernelspec": {
      "name": "python3",
      "display_name": "Python 3"
    }
  },
  "cells": [
    {
      "cell_type": "markdown",
      "metadata": {
        "id": "view-in-github",
        "colab_type": "text"
      },
      "source": [
        "<a href=\"https://colab.research.google.com/github/skhazaei/TensorFlow-repo/blob/master/sarcasm_classifier.ipynb\" target=\"_parent\"><img src=\"https://colab.research.google.com/assets/colab-badge.svg\" alt=\"Open In Colab\"/></a>"
      ]
    },
    {
      "cell_type": "markdown",
      "metadata": {
        "id": "1SysRshDDrjb"
      },
      "source": [
        "## Download the sarcasm dataset"
      ]
    },
    {
      "cell_type": "code",
      "metadata": {
        "colab": {
          "base_uri": "https://localhost:8080/"
        },
        "id": "6W2SVKIQDIkF",
        "outputId": "97b2410b-c9a0-4375-efd0-449ff4545a22"
      },
      "source": [
        "!wget --no-check-certificate \\\n",
        "https://storage.googleapis.com/laurencemoroney-blog.appspot.com/sarcasm.json \\\n",
        "-O /tmp/sarcasm.json"
      ],
      "execution_count": 4,
      "outputs": [
        {
          "output_type": "stream",
          "text": [
            "--2021-02-16 18:18:51--  https://storage.googleapis.com/laurencemoroney-blog.appspot.com/sarcasm.json\n",
            "Resolving storage.googleapis.com (storage.googleapis.com)... 74.125.137.128, 142.250.101.128, 2607:f8b0:4023:c06::80, ...\n",
            "Connecting to storage.googleapis.com (storage.googleapis.com)|74.125.137.128|:443... connected.\n",
            "HTTP request sent, awaiting response... 200 OK\n",
            "Length: 5643545 (5.4M) [application/json]\n",
            "Saving to: ‘/tmp/sarcasm.json’\n",
            "\n",
            "\r/tmp/sarcasm.json     0%[                    ]       0  --.-KB/s               \r/tmp/sarcasm.json   100%[===================>]   5.38M  --.-KB/s    in 0.02s   \n",
            "\n",
            "2021-02-16 18:18:51 (284 MB/s) - ‘/tmp/sarcasm.json’ saved [5643545/5643545]\n",
            "\n"
          ],
          "name": "stdout"
        }
      ]
    },
    {
      "cell_type": "markdown",
      "metadata": {
        "id": "R_4Tg7VAEU2N"
      },
      "source": [
        "## Load the dataset, then read the headlines and labels"
      ]
    },
    {
      "cell_type": "code",
      "metadata": {
        "id": "y0W8zsAMEb7T"
      },
      "source": [
        "import json\n",
        "\n",
        "with open('/tmp/sarcasm.json', 'r') as f:\n",
        "  datastore=json.load(f)\n",
        "\n",
        "headlines=[]\n",
        "labels=[]\n",
        "\n",
        "for item in datastore:\n",
        "  headlines.append(item['headline'])\n",
        "  labels.append(item['is_sarcastic'])"
      ],
      "execution_count": 8,
      "outputs": []
    },
    {
      "cell_type": "markdown",
      "metadata": {
        "id": "iwAaz5xWFq2J"
      },
      "source": [
        "## Split the corpus to the training and validation sets\n",
        "\n",
        "Set training_size to 20,000 "
      ]
    },
    {
      "cell_type": "code",
      "metadata": {
        "colab": {
          "base_uri": "https://localhost:8080/"
        },
        "id": "l7OibVyZEyMP",
        "outputId": "00047b5e-2813-441e-ee18-3dbad9e9c770"
      },
      "source": [
        "print('The size of sarcasm dataset: ', len(datastore))"
      ],
      "execution_count": 11,
      "outputs": [
        {
          "output_type": "stream",
          "text": [
            "The size of sarcasm dataset:  26709\n"
          ],
          "name": "stdout"
        }
      ]
    },
    {
      "cell_type": "code",
      "metadata": {
        "id": "AGz57vslFuma"
      },
      "source": [
        "training_size = 20000\n",
        "\n",
        "training_headlines = headlines[0:training_size]\n",
        "training_labels = labels[0:training_size]\n",
        "\n",
        "test_headlines = headlines[training_size:]\n",
        "test_labels = labels[training_size:]"
      ],
      "execution_count": 13,
      "outputs": []
    },
    {
      "cell_type": "markdown",
      "metadata": {
        "id": "pNT6gd51HY7r"
      },
      "source": [
        "## Tokenize the headlines"
      ]
    },
    {
      "cell_type": "code",
      "metadata": {
        "id": "91xX9iYGGwPK"
      },
      "source": [
        "# hyperparameters\n",
        "vocab_size = 10000\n",
        "embedding_dim = 16\n",
        "max_length = 32\n",
        "trunc_type='post'\n",
        "padding_type='post'\n",
        "oov_tok = \"<OOV>\"\n",
        "training_size = 20000"
      ],
      "execution_count": 40,
      "outputs": []
    },
    {
      "cell_type": "code",
      "metadata": {
        "id": "3Ey4gJKhHby-"
      },
      "source": [
        "from tensorflow.keras.preprocessing.text import Tokenizer\n",
        "from tensorflow.keras.preprocessing.sequence import pad_sequences\n",
        "\n",
        "\n",
        "tokenizer = Tokenizer(num_words=vocab_size, oov_token=oov_tok)\n",
        "tokenizer.fit_on_texts(training_headlines)\n",
        "\n",
        "word_index = tokenizer.word_index\n",
        "\n",
        "sequences = tokenizer.texts_to_sequences(training_headlines)\n",
        "padded = pad_sequences(sequences, padding=padding_type,\n",
        "                       truncating=trunc_type, maxlen=max_length)\n",
        "\n",
        "test_seq = tokenizer.texts_to_sequences(test_headlines)\n",
        "test_padded = pad_sequences(test_seq, padding=padding_type,\n",
        "                            truncating=trunc_type, maxlen=max_length)"
      ],
      "execution_count": 41,
      "outputs": []
    },
    {
      "cell_type": "code",
      "metadata": {
        "id": "5_ohi1DxL1bK"
      },
      "source": [
        "import numpy as np\n",
        "\n",
        "## Convert the lists to the numpy array\n",
        "padded = np.array(padded)\n",
        "training_labels = np.array(training_labels)\n",
        "test_padded = np.array(test_padded)\n",
        "test_labels = np.array(test_labels)"
      ],
      "execution_count": 42,
      "outputs": []
    },
    {
      "cell_type": "markdown",
      "metadata": {
        "id": "_nA70UQQIdCR"
      },
      "source": [
        "## Define the neural network model"
      ]
    },
    {
      "cell_type": "code",
      "metadata": {
        "id": "Hb_-Wq46HyHv"
      },
      "source": [
        "import tensorflow as tf\n",
        "model = tf.keras.models.Sequential([tf.keras.layers.Embedding(vocab_size, embedding_dim, input_length=max_length),\n",
        "                                    tf.keras.layers.GlobalAveragePooling1D(),\n",
        "                                    tf.keras.layers.Dense(24, activation=tf.nn.relu),\n",
        "                                    tf.keras.layers.Dense(1, activation=tf.nn.sigmoid)])"
      ],
      "execution_count": 43,
      "outputs": []
    },
    {
      "cell_type": "code",
      "metadata": {
        "colab": {
          "base_uri": "https://localhost:8080/"
        },
        "id": "dQfeg9MSJ8kJ",
        "outputId": "8e0d09e4-5428-4fca-ba3e-4731d5371a4e"
      },
      "source": [
        "model.summary()"
      ],
      "execution_count": 44,
      "outputs": [
        {
          "output_type": "stream",
          "text": [
            "Model: \"sequential_2\"\n",
            "_________________________________________________________________\n",
            "Layer (type)                 Output Shape              Param #   \n",
            "=================================================================\n",
            "embedding_2 (Embedding)      (None, 32, 16)            160000    \n",
            "_________________________________________________________________\n",
            "global_average_pooling1d_2 ( (None, 16)                0         \n",
            "_________________________________________________________________\n",
            "dense_2 (Dense)              (None, 24)                408       \n",
            "_________________________________________________________________\n",
            "dense_3 (Dense)              (None, 1)                 25        \n",
            "=================================================================\n",
            "Total params: 160,433\n",
            "Trainable params: 160,433\n",
            "Non-trainable params: 0\n",
            "_________________________________________________________________\n"
          ],
          "name": "stdout"
        }
      ]
    },
    {
      "cell_type": "code",
      "metadata": {
        "id": "kwpg-RG1KQ_c"
      },
      "source": [
        "model.compile(optimizer=tf.optimizers.Adam(), loss='binary_crossentropy', metrics=['accuracy'])"
      ],
      "execution_count": 45,
      "outputs": []
    },
    {
      "cell_type": "code",
      "metadata": {
        "colab": {
          "base_uri": "https://localhost:8080/"
        },
        "id": "8nZR5PwXKhMc",
        "outputId": "2fa1e10a-b90f-4fcc-c510-5c904d3842e2"
      },
      "source": [
        "num_epochs = 30\n",
        "\n",
        "history = model.fit(padded, training_labels,\n",
        "                    validation_data=(test_padded, test_labels),\n",
        "                    epochs=num_epochs,\n",
        "                    verbose=2)"
      ],
      "execution_count": 46,
      "outputs": [
        {
          "output_type": "stream",
          "text": [
            "Epoch 1/30\n",
            "625/625 - 2s - loss: 0.5558 - accuracy: 0.7182 - val_loss: 0.3917 - val_accuracy: 0.8374\n",
            "Epoch 2/30\n",
            "625/625 - 2s - loss: 0.3096 - accuracy: 0.8756 - val_loss: 0.3411 - val_accuracy: 0.8575\n",
            "Epoch 3/30\n",
            "625/625 - 1s - loss: 0.2324 - accuracy: 0.9075 - val_loss: 0.3524 - val_accuracy: 0.8524\n",
            "Epoch 4/30\n",
            "625/625 - 1s - loss: 0.1884 - accuracy: 0.9273 - val_loss: 0.3759 - val_accuracy: 0.8433\n",
            "Epoch 5/30\n",
            "625/625 - 2s - loss: 0.1559 - accuracy: 0.9412 - val_loss: 0.3875 - val_accuracy: 0.8529\n",
            "Epoch 6/30\n",
            "625/625 - 1s - loss: 0.1312 - accuracy: 0.9532 - val_loss: 0.4177 - val_accuracy: 0.8484\n",
            "Epoch 7/30\n",
            "625/625 - 1s - loss: 0.1116 - accuracy: 0.9622 - val_loss: 0.4581 - val_accuracy: 0.8436\n",
            "Epoch 8/30\n",
            "625/625 - 1s - loss: 0.0961 - accuracy: 0.9681 - val_loss: 0.4993 - val_accuracy: 0.8407\n",
            "Epoch 9/30\n",
            "625/625 - 1s - loss: 0.0831 - accuracy: 0.9725 - val_loss: 0.5467 - val_accuracy: 0.8348\n",
            "Epoch 10/30\n",
            "625/625 - 1s - loss: 0.0717 - accuracy: 0.9774 - val_loss: 0.5923 - val_accuracy: 0.8340\n",
            "Epoch 11/30\n",
            "625/625 - 1s - loss: 0.0624 - accuracy: 0.9805 - val_loss: 0.6502 - val_accuracy: 0.8258\n",
            "Epoch 12/30\n",
            "625/625 - 1s - loss: 0.0552 - accuracy: 0.9832 - val_loss: 0.6923 - val_accuracy: 0.8280\n",
            "Epoch 13/30\n",
            "625/625 - 2s - loss: 0.0483 - accuracy: 0.9861 - val_loss: 0.7450 - val_accuracy: 0.8202\n",
            "Epoch 14/30\n",
            "625/625 - 2s - loss: 0.0413 - accuracy: 0.9878 - val_loss: 0.7942 - val_accuracy: 0.8222\n",
            "Epoch 15/30\n",
            "625/625 - 2s - loss: 0.0374 - accuracy: 0.9896 - val_loss: 0.8525 - val_accuracy: 0.8173\n",
            "Epoch 16/30\n",
            "625/625 - 2s - loss: 0.0335 - accuracy: 0.9908 - val_loss: 0.9055 - val_accuracy: 0.8143\n",
            "Epoch 17/30\n",
            "625/625 - 1s - loss: 0.0289 - accuracy: 0.9916 - val_loss: 0.9700 - val_accuracy: 0.8156\n",
            "Epoch 18/30\n",
            "625/625 - 1s - loss: 0.0256 - accuracy: 0.9927 - val_loss: 1.0263 - val_accuracy: 0.8122\n",
            "Epoch 19/30\n",
            "625/625 - 2s - loss: 0.0238 - accuracy: 0.9936 - val_loss: 1.0849 - val_accuracy: 0.8107\n",
            "Epoch 20/30\n",
            "625/625 - 2s - loss: 0.0211 - accuracy: 0.9943 - val_loss: 1.1612 - val_accuracy: 0.8044\n",
            "Epoch 21/30\n",
            "625/625 - 2s - loss: 0.0190 - accuracy: 0.9944 - val_loss: 1.2275 - val_accuracy: 0.8086\n",
            "Epoch 22/30\n",
            "625/625 - 2s - loss: 0.0161 - accuracy: 0.9955 - val_loss: 1.2796 - val_accuracy: 0.8068\n",
            "Epoch 23/30\n",
            "625/625 - 2s - loss: 0.0140 - accuracy: 0.9969 - val_loss: 1.3416 - val_accuracy: 0.8050\n",
            "Epoch 24/30\n",
            "625/625 - 2s - loss: 0.0155 - accuracy: 0.9952 - val_loss: 1.4136 - val_accuracy: 0.8055\n",
            "Epoch 25/30\n",
            "625/625 - 1s - loss: 0.0124 - accuracy: 0.9967 - val_loss: 1.4753 - val_accuracy: 0.8027\n",
            "Epoch 26/30\n",
            "625/625 - 2s - loss: 0.0117 - accuracy: 0.9963 - val_loss: 1.5649 - val_accuracy: 0.8030\n",
            "Epoch 27/30\n",
            "625/625 - 2s - loss: 0.0104 - accuracy: 0.9969 - val_loss: 1.6241 - val_accuracy: 0.7997\n",
            "Epoch 28/30\n",
            "625/625 - 2s - loss: 0.0091 - accuracy: 0.9974 - val_loss: 1.7049 - val_accuracy: 0.7997\n",
            "Epoch 29/30\n",
            "625/625 - 2s - loss: 0.0079 - accuracy: 0.9980 - val_loss: 1.7627 - val_accuracy: 0.8006\n",
            "Epoch 30/30\n",
            "625/625 - 2s - loss: 0.0083 - accuracy: 0.9971 - val_loss: 1.8290 - val_accuracy: 0.8001\n"
          ],
          "name": "stdout"
        }
      ]
    },
    {
      "cell_type": "code",
      "metadata": {
        "colab": {
          "base_uri": "https://localhost:8080/",
          "height": 541
        },
        "id": "WsTRyYOaK_OC",
        "outputId": "598484bf-48ba-411c-c573-23dabd6bea11"
      },
      "source": [
        "import matplotlib.pyplot as plt\n",
        "\n",
        "\n",
        "def plot_graphs(history, string):\n",
        "  plt.plot(history.history[string])\n",
        "  plt.plot(history.history['val_'+string])\n",
        "  plt.xlabel(\"Epochs\")\n",
        "  plt.ylabel(string)\n",
        "  plt.legend([string, 'val_'+string])\n",
        "  plt.show()\n",
        "  \n",
        "plot_graphs(history, \"accuracy\")\n",
        "plot_graphs(history, \"loss\")"
      ],
      "execution_count": 47,
      "outputs": [
        {
          "output_type": "display_data",
          "data": {
            "image/png": "[encoded data removed]",
            "text/plain": [
              "<Figure size 432x288 with 1 Axes>"
            ]
          },
          "metadata": {
            "tags": [],
            "needs_background": "light"
          }
        },
        {
          "output_type": "display_data",
          "data": {
            "image/png": "[encoded data removed]",
            "text/plain": [
              "<Figure size 432x288 with 1 Axes>"
            ]
          },
          "metadata": {
            "tags": [],
            "needs_background": "light"
          }
        }
      ]
    },
    {
      "cell_type": "markdown",
      "metadata": {
        "id": "1hMAMIBgNjiE"
      },
      "source": [
        "It can be seen the accuracy increase nicely as we trained and the validation accuracy was okay, but not great. What's interesting is the loss values, the training loss fall, but the validation loss increased. \n",
        "\n",
        "Loss in this context is can be considered as a confidence in the prediction. So while the number of accurate predictions increased over time, what was interesting was that the confidence per prediction effectively decreased. This migh happen a lot with text data. So it's very important to keep an eye on it. One way to do this is to explore the differences as you tweak the hyperparameters. "
      ]
    },
    {
      "cell_type": "code",
      "metadata": {
        "colab": {
          "base_uri": "https://localhost:8080/",
          "height": 1000
        },
        "id": "SCltnmKHOLAT",
        "outputId": "603b84f4-0794-49cd-fbc8-b5542b957987"
      },
      "source": [
        "# hyperparameters\n",
        "vocab_size = 1000   #this value was set to 10000\n",
        "embedding_dim = 16  \n",
        "max_length = 16 #this value was set to 32\n",
        "trunc_type='post'\n",
        "padding_type='post'\n",
        "oov_tok = \"<OOV>\"\n",
        "training_size = 20000\n",
        "\n",
        "\n",
        "\n",
        "from tensorflow.keras.preprocessing.text import Tokenizer\n",
        "from tensorflow.keras.preprocessing.sequence import pad_sequences\n",
        "\n",
        "\n",
        "tokenizer = Tokenizer(num_words=vocab_size, oov_token=oov_tok)\n",
        "tokenizer.fit_on_texts(training_headlines)\n",
        "\n",
        "word_index = tokenizer.word_index\n",
        "\n",
        "sequences = tokenizer.texts_to_sequences(training_headlines)\n",
        "padded = pad_sequences(sequences, padding=padding_type,\n",
        "                       truncating=trunc_type, maxlen=max_length)\n",
        "\n",
        "test_seq = tokenizer.texts_to_sequences(test_headlines)\n",
        "test_padded = pad_sequences(test_seq, padding=padding_type,\n",
        "                            truncating=trunc_type, maxlen=max_length)\n",
        "\n",
        "\n",
        "\n",
        "import numpy as np\n",
        "\n",
        "## Convert the lists to the numpy array\n",
        "padded = np.array(padded)\n",
        "training_labels = np.array(training_labels)\n",
        "test_padded = np.array(test_padded)\n",
        "test_labels = np.array(test_labels)\n",
        "\n",
        "\n",
        "\n",
        "import tensorflow as tf\n",
        "model = tf.keras.models.Sequential([tf.keras.layers.Embedding(vocab_size, embedding_dim, input_length=max_length),\n",
        "                                    tf.keras.layers.GlobalAveragePooling1D(),\n",
        "                                    tf.keras.layers.Dense(24, activation=tf.nn.relu),\n",
        "                                    tf.keras.layers.Dense(1, activation=tf.nn.sigmoid)])\n",
        "\n",
        "model.compile(optimizer=tf.optimizers.Adam(), loss='binary_crossentropy', metrics=['accuracy'])\n",
        "\n",
        "\n",
        "num_epochs = 30\n",
        "\n",
        "history = model.fit(padded, training_labels,\n",
        "                    validation_data=(test_padded, test_labels),\n",
        "                    epochs=num_epochs,\n",
        "                    verbose=2)\n",
        "\n",
        "\n",
        "\n",
        "import matplotlib.pyplot as plt\n",
        "\n",
        "\n",
        "def plot_graphs(history, string):\n",
        "  plt.plot(history.history[string])\n",
        "  plt.plot(history.history['val_'+string])\n",
        "  plt.xlabel(\"Epochs\")\n",
        "  plt.ylabel(string)\n",
        "  plt.legend([string, 'val_'+string])\n",
        "  plt.show()\n",
        "  \n",
        "plot_graphs(history, \"accuracy\")\n",
        "plot_graphs(history, \"loss\")"
      ],
      "execution_count": 49,
      "outputs": [
        {
          "output_type": "stream",
          "text": [
            "Epoch 1/30\n",
            "625/625 - 1s - loss: 0.5275 - accuracy: 0.7308 - val_loss: 0.4134 - val_accuracy: 0.8114\n",
            "Epoch 2/30\n",
            "625/625 - 1s - loss: 0.3805 - accuracy: 0.8271 - val_loss: 0.3990 - val_accuracy: 0.8135\n",
            "Epoch 3/30\n",
            "625/625 - 1s - loss: 0.3630 - accuracy: 0.8355 - val_loss: 0.4000 - val_accuracy: 0.8106\n",
            "Epoch 4/30\n",
            "625/625 - 1s - loss: 0.3584 - accuracy: 0.8350 - val_loss: 0.4016 - val_accuracy: 0.8152\n",
            "Epoch 5/30\n",
            "625/625 - 1s - loss: 0.3548 - accuracy: 0.8395 - val_loss: 0.4055 - val_accuracy: 0.8095\n",
            "Epoch 6/30\n",
            "625/625 - 1s - loss: 0.3531 - accuracy: 0.8412 - val_loss: 0.4034 - val_accuracy: 0.8146\n",
            "Epoch 7/30\n",
            "625/625 - 1s - loss: 0.3504 - accuracy: 0.8400 - val_loss: 0.4049 - val_accuracy: 0.8150\n",
            "Epoch 8/30\n",
            "625/625 - 1s - loss: 0.3475 - accuracy: 0.8416 - val_loss: 0.4002 - val_accuracy: 0.8143\n",
            "Epoch 9/30\n",
            "625/625 - 1s - loss: 0.3426 - accuracy: 0.8443 - val_loss: 0.3980 - val_accuracy: 0.8137\n",
            "Epoch 10/30\n",
            "625/625 - 1s - loss: 0.3386 - accuracy: 0.8467 - val_loss: 0.4002 - val_accuracy: 0.8146\n",
            "Epoch 11/30\n",
            "625/625 - 1s - loss: 0.3354 - accuracy: 0.8479 - val_loss: 0.3988 - val_accuracy: 0.8198\n",
            "Epoch 12/30\n",
            "625/625 - 1s - loss: 0.3316 - accuracy: 0.8516 - val_loss: 0.3947 - val_accuracy: 0.8217\n",
            "Epoch 13/30\n",
            "625/625 - 1s - loss: 0.3296 - accuracy: 0.8516 - val_loss: 0.3991 - val_accuracy: 0.8177\n",
            "Epoch 14/30\n",
            "625/625 - 1s - loss: 0.3259 - accuracy: 0.8540 - val_loss: 0.3948 - val_accuracy: 0.8208\n",
            "Epoch 15/30\n",
            "625/625 - 1s - loss: 0.3240 - accuracy: 0.8545 - val_loss: 0.3949 - val_accuracy: 0.8205\n",
            "Epoch 16/30\n",
            "625/625 - 1s - loss: 0.3214 - accuracy: 0.8563 - val_loss: 0.3967 - val_accuracy: 0.8208\n",
            "Epoch 17/30\n",
            "625/625 - 1s - loss: 0.3194 - accuracy: 0.8583 - val_loss: 0.3972 - val_accuracy: 0.8211\n",
            "Epoch 18/30\n",
            "625/625 - 1s - loss: 0.3168 - accuracy: 0.8600 - val_loss: 0.4045 - val_accuracy: 0.8193\n",
            "Epoch 19/30\n",
            "625/625 - 1s - loss: 0.3145 - accuracy: 0.8599 - val_loss: 0.4014 - val_accuracy: 0.8177\n",
            "Epoch 20/30\n",
            "625/625 - 1s - loss: 0.3132 - accuracy: 0.8619 - val_loss: 0.4032 - val_accuracy: 0.8189\n",
            "Epoch 21/30\n",
            "625/625 - 1s - loss: 0.3114 - accuracy: 0.8617 - val_loss: 0.4046 - val_accuracy: 0.8189\n",
            "Epoch 22/30\n",
            "625/625 - 1s - loss: 0.3096 - accuracy: 0.8638 - val_loss: 0.4039 - val_accuracy: 0.8196\n",
            "Epoch 23/30\n",
            "625/625 - 1s - loss: 0.3070 - accuracy: 0.8642 - val_loss: 0.4095 - val_accuracy: 0.8161\n",
            "Epoch 24/30\n",
            "625/625 - 1s - loss: 0.3060 - accuracy: 0.8621 - val_loss: 0.4092 - val_accuracy: 0.8199\n",
            "Epoch 25/30\n",
            "625/625 - 1s - loss: 0.3042 - accuracy: 0.8653 - val_loss: 0.4132 - val_accuracy: 0.8156\n",
            "Epoch 26/30\n",
            "625/625 - 1s - loss: 0.3016 - accuracy: 0.8657 - val_loss: 0.4150 - val_accuracy: 0.8147\n",
            "Epoch 27/30\n",
            "625/625 - 1s - loss: 0.2999 - accuracy: 0.8663 - val_loss: 0.4135 - val_accuracy: 0.8165\n",
            "Epoch 28/30\n",
            "625/625 - 1s - loss: 0.2981 - accuracy: 0.8669 - val_loss: 0.4138 - val_accuracy: 0.8155\n",
            "Epoch 29/30\n",
            "625/625 - 1s - loss: 0.2957 - accuracy: 0.8697 - val_loss: 0.4195 - val_accuracy: 0.8149\n",
            "Epoch 30/30\n",
            "625/625 - 1s - loss: 0.2937 - accuracy: 0.8701 - val_loss: 0.4218 - val_accuracy: 0.8149\n"
          ],
          "name": "stdout"
        },
        {
          "output_type": "display_data",
          "data": {
            "image/png": "[encoded data removed]",
            "text/plain": [
              "<Figure size 432x288 with 1 Axes>"
            ]
          },
          "metadata": {
            "tags": [],
            "needs_background": "light"
          }
        },
        {
          "output_type": "display_data",
          "data": {
            "image/png": "[encoded data removed]",
            "text/plain": [
              "<Figure size 432x288 with 1 Axes>"
            ]
          },
          "metadata": {
            "tags": [],
            "needs_background": "light"
          }
        }
      ]
    },
    {
      "cell_type": "code",
      "metadata": {
        "colab": {
          "base_uri": "https://localhost:8080/",
          "height": 1000
        },
        "id": "6lxoncdCPv3N",
        "outputId": "9540a7fb-eb5e-4cfc-a4b9-a0238b487cd5"
      },
      "source": [
        "# hyperparameters\n",
        "vocab_size = 1000   #this value was set to 10000\n",
        "embedding_dim = 32  #this value was set to 16\n",
        "max_length = 16 #this value was set to 32\n",
        "trunc_type='post'\n",
        "padding_type='post'\n",
        "oov_tok = \"<OOV>\"\n",
        "training_size = 20000\n",
        "\n",
        "\n",
        "\n",
        "from tensorflow.keras.preprocessing.text import Tokenizer\n",
        "from tensorflow.keras.preprocessing.sequence import pad_sequences\n",
        "\n",
        "\n",
        "tokenizer = Tokenizer(num_words=vocab_size, oov_token=oov_tok)\n",
        "tokenizer.fit_on_texts(training_headlines)\n",
        "\n",
        "word_index = tokenizer.word_index\n",
        "\n",
        "sequences = tokenizer.texts_to_sequences(training_headlines)\n",
        "padded = pad_sequences(sequences, padding=padding_type,\n",
        "                       truncating=trunc_type, maxlen=max_length)\n",
        "\n",
        "test_seq = tokenizer.texts_to_sequences(test_headlines)\n",
        "test_padded = pad_sequences(test_seq, padding=padding_type,\n",
        "                            truncating=trunc_type, maxlen=max_length)\n",
        "\n",
        "\n",
        "\n",
        "import numpy as np\n",
        "\n",
        "## Convert the lists to the numpy array\n",
        "padded = np.array(padded)\n",
        "training_labels = np.array(training_labels)\n",
        "test_padded = np.array(test_padded)\n",
        "test_labels = np.array(test_labels)\n",
        "\n",
        "\n",
        "\n",
        "import tensorflow as tf\n",
        "model = tf.keras.models.Sequential([tf.keras.layers.Embedding(vocab_size, embedding_dim, input_length=max_length),\n",
        "                                    tf.keras.layers.GlobalAveragePooling1D(),\n",
        "                                    tf.keras.layers.Dense(24, activation=tf.nn.relu),\n",
        "                                    tf.keras.layers.Dense(1, activation=tf.nn.sigmoid)])\n",
        "\n",
        "model.compile(optimizer=tf.optimizers.Adam(), loss='binary_crossentropy', metrics=['accuracy'])\n",
        "\n",
        "\n",
        "num_epochs = 30\n",
        "\n",
        "history = model.fit(padded, training_labels,\n",
        "                    validation_data=(test_padded, test_labels),\n",
        "                    epochs=num_epochs,\n",
        "                    verbose=2)\n",
        "\n",
        "\n",
        "\n",
        "import matplotlib.pyplot as plt\n",
        "\n",
        "\n",
        "def plot_graphs(history, string):\n",
        "  plt.plot(history.history[string])\n",
        "  plt.plot(history.history['val_'+string])\n",
        "  plt.xlabel(\"Epochs\")\n",
        "  plt.ylabel(string)\n",
        "  plt.legend([string, 'val_'+string])\n",
        "  plt.show()\n",
        "  \n",
        "plot_graphs(history, \"accuracy\")\n",
        "plot_graphs(history, \"loss\")"
      ],
      "execution_count": 50,
      "outputs": [
        {
          "output_type": "stream",
          "text": [
            "Epoch 1/30\n",
            "625/625 - 1s - loss: 0.4983 - accuracy: 0.7502 - val_loss: 0.4045 - val_accuracy: 0.8135\n",
            "Epoch 2/30\n",
            "625/625 - 1s - loss: 0.3758 - accuracy: 0.8292 - val_loss: 0.3985 - val_accuracy: 0.8162\n",
            "Epoch 3/30\n",
            "625/625 - 1s - loss: 0.3633 - accuracy: 0.8352 - val_loss: 0.4024 - val_accuracy: 0.8135\n",
            "Epoch 4/30\n",
            "625/625 - 1s - loss: 0.3585 - accuracy: 0.8362 - val_loss: 0.4025 - val_accuracy: 0.8138\n",
            "Epoch 5/30\n",
            "625/625 - 1s - loss: 0.3568 - accuracy: 0.8376 - val_loss: 0.4041 - val_accuracy: 0.8141\n",
            "Epoch 6/30\n",
            "625/625 - 1s - loss: 0.3551 - accuracy: 0.8377 - val_loss: 0.4033 - val_accuracy: 0.8089\n",
            "Epoch 7/30\n",
            "625/625 - 1s - loss: 0.3529 - accuracy: 0.8389 - val_loss: 0.4065 - val_accuracy: 0.8085\n",
            "Epoch 8/30\n",
            "625/625 - 1s - loss: 0.3501 - accuracy: 0.8397 - val_loss: 0.4006 - val_accuracy: 0.8132\n",
            "Epoch 9/30\n",
            "625/625 - 1s - loss: 0.3472 - accuracy: 0.8425 - val_loss: 0.3992 - val_accuracy: 0.8174\n",
            "Epoch 10/30\n",
            "625/625 - 1s - loss: 0.3433 - accuracy: 0.8420 - val_loss: 0.4017 - val_accuracy: 0.8131\n",
            "Epoch 11/30\n",
            "625/625 - 1s - loss: 0.3402 - accuracy: 0.8463 - val_loss: 0.3985 - val_accuracy: 0.8179\n",
            "Epoch 12/30\n",
            "625/625 - 1s - loss: 0.3366 - accuracy: 0.8483 - val_loss: 0.3982 - val_accuracy: 0.8170\n",
            "Epoch 13/30\n",
            "625/625 - 1s - loss: 0.3329 - accuracy: 0.8481 - val_loss: 0.3964 - val_accuracy: 0.8150\n",
            "Epoch 14/30\n",
            "625/625 - 1s - loss: 0.3307 - accuracy: 0.8507 - val_loss: 0.3994 - val_accuracy: 0.8189\n",
            "Epoch 15/30\n",
            "625/625 - 1s - loss: 0.3287 - accuracy: 0.8542 - val_loss: 0.3960 - val_accuracy: 0.8217\n",
            "Epoch 16/30\n",
            "625/625 - 1s - loss: 0.3249 - accuracy: 0.8557 - val_loss: 0.3957 - val_accuracy: 0.8185\n",
            "Epoch 17/30\n",
            "625/625 - 1s - loss: 0.3228 - accuracy: 0.8559 - val_loss: 0.3949 - val_accuracy: 0.8196\n",
            "Epoch 18/30\n",
            "625/625 - 1s - loss: 0.3201 - accuracy: 0.8580 - val_loss: 0.3974 - val_accuracy: 0.8185\n",
            "Epoch 19/30\n",
            "625/625 - 1s - loss: 0.3178 - accuracy: 0.8598 - val_loss: 0.3960 - val_accuracy: 0.8195\n",
            "Epoch 20/30\n",
            "625/625 - 1s - loss: 0.3151 - accuracy: 0.8615 - val_loss: 0.3992 - val_accuracy: 0.8162\n",
            "Epoch 21/30\n",
            "625/625 - 1s - loss: 0.3133 - accuracy: 0.8616 - val_loss: 0.4013 - val_accuracy: 0.8143\n",
            "Epoch 22/30\n",
            "625/625 - 1s - loss: 0.3103 - accuracy: 0.8638 - val_loss: 0.4027 - val_accuracy: 0.8161\n",
            "Epoch 23/30\n",
            "625/625 - 1s - loss: 0.3085 - accuracy: 0.8635 - val_loss: 0.4060 - val_accuracy: 0.8174\n",
            "Epoch 24/30\n",
            "625/625 - 1s - loss: 0.3063 - accuracy: 0.8648 - val_loss: 0.4056 - val_accuracy: 0.8183\n",
            "Epoch 25/30\n",
            "625/625 - 1s - loss: 0.3034 - accuracy: 0.8669 - val_loss: 0.4074 - val_accuracy: 0.8153\n",
            "Epoch 26/30\n",
            "625/625 - 1s - loss: 0.3026 - accuracy: 0.8662 - val_loss: 0.4164 - val_accuracy: 0.8080\n",
            "Epoch 27/30\n",
            "625/625 - 1s - loss: 0.3002 - accuracy: 0.8670 - val_loss: 0.4107 - val_accuracy: 0.8167\n",
            "Epoch 28/30\n",
            "625/625 - 1s - loss: 0.2979 - accuracy: 0.8668 - val_loss: 0.4181 - val_accuracy: 0.8094\n",
            "Epoch 29/30\n",
            "625/625 - 1s - loss: 0.2957 - accuracy: 0.8677 - val_loss: 0.4170 - val_accuracy: 0.8153\n",
            "Epoch 30/30\n",
            "625/625 - 1s - loss: 0.2937 - accuracy: 0.8690 - val_loss: 0.4171 - val_accuracy: 0.8146\n"
          ],
          "name": "stdout"
        },
        {
          "output_type": "display_data",
          "data": {
            "image/png": "[encoded data removed]",
            "text/plain": [
              "<Figure size 432x288 with 1 Axes>"
            ]
          },
          "metadata": {
            "tags": [],
            "needs_background": "light"
          }
        },
        {
          "output_type": "display_data",
          "data": {
            "image/png": "[encoded data removed]",
            "text/plain": [
              "<Figure size 432x288 with 1 Axes>"
            ]
          },
          "metadata": {
            "tags": [],
            "needs_background": "light"
          }
        }
      ]
    },
    {
      "cell_type": "code",
      "metadata": {
        "colab": {
          "base_uri": "https://localhost:8080/"
        },
        "id": "1529aaiBQ8If",
        "outputId": "dd857b41-0e19-46e7-97f7-ba2b0bf224b0"
      },
      "source": [
        "sentence = [\"granny starting to fear spiders in the garden might be real\", \"game of thrones season finale showing this sunday night\"]\n",
        "sequences = tokenizer.texts_to_sequences(sentence)\n",
        "padded = pad_sequences(sequences, maxlen=max_length, padding=padding_type, truncating=trunc_type)\n",
        "print(model.predict(padded))"
      ],
      "execution_count": 51,
      "outputs": [
        {
          "output_type": "stream",
          "text": [
            "[[0.45638537]\n",
            " [0.5631679 ]]\n"
          ],
          "name": "stdout"
        }
      ]
    }
  ]
}