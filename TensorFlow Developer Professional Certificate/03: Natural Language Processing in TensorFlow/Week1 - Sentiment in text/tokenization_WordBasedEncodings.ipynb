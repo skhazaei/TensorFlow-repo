{
  "nbformat": 4,
  "nbformat_minor": 0,
  "metadata": {
    "colab": {
      "name": "tokenization-WordBasedEncodings.ipynb",
      "provenance": [],
      "collapsed_sections": [],
      "authorship_tag": "ABX9TyOnX4ukP0TkbvbKaiQO6KQr",
      "include_colab_link": true
    },
    "kernelspec": {
      "name": "python3",
      "display_name": "Python 3"
    }
  },
  "cells": [
    {
      "cell_type": "markdown",
      "metadata": {
        "id": "view-in-github",
        "colab_type": "text"
      },
      "source": [
        "<a href=\"https://colab.research.google.com/github/skhazaei/TensorFlow-repo/blob/master/tokenization_WordBasedEncodings.ipynb\" target=\"_parent\"><img src=\"https://colab.research.google.com/assets/colab-badge.svg\" alt=\"Open In Colab\"/></a>"
      ]
    },
    {
      "cell_type": "markdown",
      "metadata": {
        "id": "SJsm8kJAqxWA"
      },
      "source": [
        "# Tokenization of the text:\n",
        "\n",
        " is the process of converting the words into numeric values, with a number representing a word or a character."
      ]
    },
    {
      "cell_type": "code",
      "metadata": {
        "colab": {
          "base_uri": "https://localhost:8080/"
        },
        "id": "YgkPVdREBOpE",
        "outputId": "9a11a8e6-3bf2-4281-e102-d960e2aeb968"
      },
      "source": [
        "from tensorflow.keras.preprocessing.text import Tokenizer\n",
        "\n",
        "\n",
        "sentences = ['I love my CaT',\n",
        "             'she loves her cat',\n",
        "             'hey, do You love pets?']\n",
        "\n",
        "tokenizer = Tokenizer(num_words=100)\n",
        "tokenizer.fit_on_texts(sentences)\n",
        "word_index = tokenizer.word_index\n",
        "\n",
        "print (word_index)"
      ],
      "execution_count": 8,
      "outputs": [
        {
          "output_type": "stream",
          "text": [
            "{'love': 1, 'cat': 2, 'i': 3, 'my': 4, 'she': 5, 'loves': 6, 'her': 7, 'hey': 8, 'do': 9, 'you': 10, 'pets': 11}\n"
          ],
          "name": "stdout"
        }
      ]
    }
  ]
}