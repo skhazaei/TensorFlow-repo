{
  "nbformat": 4,
  "nbformat_minor": 0,
  "metadata": {
    "colab": {
      "name": "sarcasm_with_Conv1D.ipynb",
      "provenance": [],
      "authorship_tag": "ABX9TyNYzAui8DIDstuWXuDv5LRj",
      "include_colab_link": true
    },
    "kernelspec": {
      "name": "python3",
      "display_name": "Python 3"
    },
    "accelerator": "GPU"
  },
  "cells": [
    {
      "cell_type": "markdown",
      "metadata": {
        "id": "view-in-github",
        "colab_type": "text"
      },
      "source": [
        "<a href=\"https://colab.research.google.com/github/skhazaei/TensorFlow-repo/blob/master/sarcasm_with_Conv1D.ipynb\" target=\"_parent\"><img src=\"https://colab.research.google.com/assets/colab-badge.svg\" alt=\"Open In Colab\"/></a>"
      ]
    },
    {
      "cell_type": "markdown",
      "metadata": {
        "id": "T2JBUehgZB3I"
      },
      "source": [
        "## Download the sarcasm dataset"
      ]
    },
    {
      "cell_type": "code",
      "metadata": {
        "colab": {
          "base_uri": "https://localhost:8080/"
        },
        "id": "4ui5m-rIYzqS",
        "outputId": "bce094ce-0b31-40ce-e60d-90a4caea9c21"
      },
      "source": [
        "!wget --no-check-certificate \\\n",
        "https://storage.googleapis.com/laurencemoroney-blog.appspot.com/sarcasm.json \\\n",
        "-O /tmp/sarcasm.json"
      ],
      "execution_count": 1,
      "outputs": [
        {
          "output_type": "stream",
          "text": [
            "--2021-02-17 23:48:09--  https://storage.googleapis.com/laurencemoroney-blog.appspot.com/sarcasm.json\n",
            "Resolving storage.googleapis.com (storage.googleapis.com)... 172.253.62.128, 172.253.63.128, 142.250.31.128, ...\n",
            "Connecting to storage.googleapis.com (storage.googleapis.com)|172.253.62.128|:443... connected.\n",
            "HTTP request sent, awaiting response... 200 OK\n",
            "Length: 5643545 (5.4M) [application/json]\n",
            "Saving to: ‘/tmp/sarcasm.json’\n",
            "\n",
            "\r/tmp/sarcasm.json     0%[                    ]       0  --.-KB/s               \r/tmp/sarcasm.json   100%[===================>]   5.38M  --.-KB/s    in 0.05s   \n",
            "\n",
            "2021-02-17 23:48:09 (107 MB/s) - ‘/tmp/sarcasm.json’ saved [5643545/5643545]\n",
            "\n"
          ],
          "name": "stdout"
        }
      ]
    },
    {
      "cell_type": "markdown",
      "metadata": {
        "id": "gF3lS1PVZPK3"
      },
      "source": [
        "## Save the headlines and labels as a list "
      ]
    },
    {
      "cell_type": "code",
      "metadata": {
        "id": "AKW1DFKdZEvL"
      },
      "source": [
        "import json\n",
        "\n",
        "with open('/tmp/sarcasm.json',  'r') as f:\n",
        "  datastore = json.load(f)\n",
        "\n",
        "headlines=[]\n",
        "labels=[]\n",
        "\n",
        "for items in datastore:\n",
        "  headlines.append(items['headline'])\n",
        "  labels.append(items['is_sarcastic'])"
      ],
      "execution_count": 3,
      "outputs": []
    },
    {
      "cell_type": "markdown",
      "metadata": {
        "id": "OWZytUkfZpR2"
      },
      "source": [
        "## How large is the dataset?"
      ]
    },
    {
      "cell_type": "code",
      "metadata": {
        "colab": {
          "base_uri": "https://localhost:8080/"
        },
        "id": "JUvvvh7NZRaN",
        "outputId": "cf4adc83-6fed-4c54-a63f-f024ffb730bd"
      },
      "source": [
        "print('Size of dataset: {}'.format(len(datastore)))"
      ],
      "execution_count": 4,
      "outputs": [
        {
          "output_type": "stream",
          "text": [
            "Size of dataset: 26709\n"
          ],
          "name": "stdout"
        }
      ]
    },
    {
      "cell_type": "markdown",
      "metadata": {
        "id": "X9W2YSdBZtw4"
      },
      "source": [
        "## Assign the first 20,000 examples to the training set and the rest to test set"
      ]
    },
    {
      "cell_type": "code",
      "metadata": {
        "id": "lH4jDPZlZrHb"
      },
      "source": [
        "training_size = 20000\n",
        "\n",
        "training_headlines = headlines[0:training_size]\n",
        "training_labels = labels[0:training_size]\n",
        "\n",
        "test_headlines = headlines[training_size:]\n",
        "test_labels = labels[training_size:]"
      ],
      "execution_count": 5,
      "outputs": []
    },
    {
      "cell_type": "markdown",
      "metadata": {
        "id": "SV9sraxlZyZK"
      },
      "source": [
        "## Tokenize and padding the headlines"
      ]
    },
    {
      "cell_type": "code",
      "metadata": {
        "id": "9s2Bw5riZvvK"
      },
      "source": [
        "from tensorflow.keras.preprocessing.text import Tokenizer\n",
        "\n",
        "vocab_size = 1000\n",
        "oov_tok = '<OOV>'\n",
        "trunc_type='post'\n",
        "max_length = 120\n",
        "\n",
        "tokenizer = Tokenizer(vocab_size, oov_token=oov_tok)\n",
        "tokenizer.fit_on_texts(training_headlines)\n",
        "sequences = tokenizer.texts_to_sequences(training_headlines)\n",
        "\n",
        "from tensorflow.keras.preprocessing.sequence import pad_sequences\n",
        "## padding the sequences\n",
        "padded = pad_sequences(sequences, truncating=trunc_type, maxlen=max_length)\n",
        "\n",
        "\n",
        "## test sequences and padding\n",
        "test_seq = tokenizer.texts_to_sequences(test_headlines)\n",
        "test_pad = pad_sequences(test_seq, maxlen=max_length, truncating=trunc_type)"
      ],
      "execution_count": 6,
      "outputs": []
    },
    {
      "cell_type": "markdown",
      "metadata": {
        "id": "CzDMMbmsZ3Qc"
      },
      "source": [
        "## Convert the padded headlines and labels to the numpy array"
      ]
    },
    {
      "cell_type": "code",
      "metadata": {
        "id": "036cxA1hZ0hv"
      },
      "source": [
        "import numpy as np\n",
        "\n",
        "padded = np.array(padded)\n",
        "training_labels = np.array(training_labels)\n",
        "\n",
        "test_pad = np.array(test_pad)\n",
        "test_labels = np.array(test_labels)"
      ],
      "execution_count": 7,
      "outputs": []
    },
    {
      "cell_type": "markdown",
      "metadata": {
        "id": "ULtefkWNZ7X0"
      },
      "source": [
        "## Define Conv1D model"
      ]
    },
    {
      "cell_type": "code",
      "metadata": {
        "colab": {
          "base_uri": "https://localhost:8080/"
        },
        "id": "A3hSakTyZ5Pb",
        "outputId": "bd1b6ac6-d9b9-4f6e-84b8-faaa190cb1c7"
      },
      "source": [
        "import tensorflow as tf\n",
        "\n",
        "embedding_dim = 16\n",
        "model = tf.keras.models.Sequential([tf.keras.layers.Embedding(vocab_size, embedding_dim, input_length=max_length),\n",
        "                                    tf.keras.layers.Conv1D(128, 5, activation='relu'),\n",
        "                                    tf.keras.layers.GlobalMaxPooling1D(),\n",
        "                                    tf.keras.layers.Dense(24, activation='relu'),\n",
        "                                    tf.keras.layers.Dense(1, activation='sigmoid')])\n",
        "model.summary()"
      ],
      "execution_count": 9,
      "outputs": [
        {
          "output_type": "stream",
          "text": [
            "Model: \"sequential_1\"\n",
            "_________________________________________________________________\n",
            "Layer (type)                 Output Shape              Param #   \n",
            "=================================================================\n",
            "embedding_1 (Embedding)      (None, 120, 16)           16000     \n",
            "_________________________________________________________________\n",
            "conv1d (Conv1D)              (None, 116, 128)          10368     \n",
            "_________________________________________________________________\n",
            "global_max_pooling1d (Global (None, 128)               0         \n",
            "_________________________________________________________________\n",
            "dense_2 (Dense)              (None, 24)                3096      \n",
            "_________________________________________________________________\n",
            "dense_3 (Dense)              (None, 1)                 25        \n",
            "=================================================================\n",
            "Total params: 29,489\n",
            "Trainable params: 29,489\n",
            "Non-trainable params: 0\n",
            "_________________________________________________________________\n"
          ],
          "name": "stdout"
        }
      ]
    },
    {
      "cell_type": "code",
      "metadata": {
        "id": "mxpgWBBRZ9TI"
      },
      "source": [
        "model.compile(loss='binary_crossentropy',optimizer='adam',metrics=['accuracy'])"
      ],
      "execution_count": 10,
      "outputs": []
    },
    {
      "cell_type": "code",
      "metadata": {
        "colab": {
          "base_uri": "https://localhost:8080/"
        },
        "id": "UrcPjumhaPHy",
        "outputId": "590acdaf-f9b8-468e-f5fd-aeefb2b8a843"
      },
      "source": [
        "history = model.fit(padded, training_labels, epochs=50, validation_data=(test_pad, test_labels), verbose=2)"
      ],
      "execution_count": 11,
      "outputs": [
        {
          "output_type": "stream",
          "text": [
            "Epoch 1/50\n",
            "625/625 - 10s - loss: 0.4552 - accuracy: 0.7704 - val_loss: 0.3980 - val_accuracy: 0.8164\n",
            "Epoch 2/50\n",
            "625/625 - 2s - loss: 0.3466 - accuracy: 0.8443 - val_loss: 0.3955 - val_accuracy: 0.8156\n",
            "Epoch 3/50\n",
            "625/625 - 2s - loss: 0.3141 - accuracy: 0.8595 - val_loss: 0.3787 - val_accuracy: 0.8286\n",
            "Epoch 4/50\n",
            "625/625 - 2s - loss: 0.2803 - accuracy: 0.8784 - val_loss: 0.3932 - val_accuracy: 0.8255\n",
            "Epoch 5/50\n",
            "625/625 - 2s - loss: 0.2498 - accuracy: 0.8944 - val_loss: 0.4216 - val_accuracy: 0.8216\n",
            "Epoch 6/50\n",
            "625/625 - 2s - loss: 0.2180 - accuracy: 0.9124 - val_loss: 0.4549 - val_accuracy: 0.8144\n",
            "Epoch 7/50\n",
            "625/625 - 2s - loss: 0.1854 - accuracy: 0.9262 - val_loss: 0.4849 - val_accuracy: 0.8168\n",
            "Epoch 8/50\n",
            "625/625 - 2s - loss: 0.1556 - accuracy: 0.9388 - val_loss: 0.5462 - val_accuracy: 0.8152\n",
            "Epoch 9/50\n",
            "625/625 - 2s - loss: 0.1293 - accuracy: 0.9504 - val_loss: 0.6299 - val_accuracy: 0.8076\n",
            "Epoch 10/50\n",
            "625/625 - 2s - loss: 0.1073 - accuracy: 0.9610 - val_loss: 0.6742 - val_accuracy: 0.8040\n",
            "Epoch 11/50\n",
            "625/625 - 2s - loss: 0.0862 - accuracy: 0.9690 - val_loss: 0.7794 - val_accuracy: 0.8044\n",
            "Epoch 12/50\n",
            "625/625 - 2s - loss: 0.0752 - accuracy: 0.9721 - val_loss: 0.8608 - val_accuracy: 0.7965\n",
            "Epoch 13/50\n",
            "625/625 - 2s - loss: 0.0627 - accuracy: 0.9776 - val_loss: 0.9955 - val_accuracy: 0.7948\n",
            "Epoch 14/50\n",
            "625/625 - 2s - loss: 0.0550 - accuracy: 0.9804 - val_loss: 1.0180 - val_accuracy: 0.7994\n",
            "Epoch 15/50\n",
            "625/625 - 2s - loss: 0.0485 - accuracy: 0.9822 - val_loss: 1.1264 - val_accuracy: 0.8004\n",
            "Epoch 16/50\n",
            "625/625 - 2s - loss: 0.0484 - accuracy: 0.9808 - val_loss: 1.1618 - val_accuracy: 0.7939\n",
            "Epoch 17/50\n",
            "625/625 - 2s - loss: 0.0428 - accuracy: 0.9836 - val_loss: 1.2552 - val_accuracy: 0.7968\n",
            "Epoch 18/50\n",
            "625/625 - 2s - loss: 0.0374 - accuracy: 0.9858 - val_loss: 1.3443 - val_accuracy: 0.7894\n",
            "Epoch 19/50\n",
            "625/625 - 2s - loss: 0.0331 - accuracy: 0.9870 - val_loss: 1.3896 - val_accuracy: 0.7973\n",
            "Epoch 20/50\n",
            "625/625 - 2s - loss: 0.0315 - accuracy: 0.9880 - val_loss: 1.4425 - val_accuracy: 0.7912\n",
            "Epoch 21/50\n",
            "625/625 - 2s - loss: 0.0312 - accuracy: 0.9875 - val_loss: 1.5715 - val_accuracy: 0.7888\n",
            "Epoch 22/50\n",
            "625/625 - 2s - loss: 0.0370 - accuracy: 0.9844 - val_loss: 1.6148 - val_accuracy: 0.7937\n",
            "Epoch 23/50\n",
            "625/625 - 2s - loss: 0.0307 - accuracy: 0.9879 - val_loss: 1.6077 - val_accuracy: 0.7965\n",
            "Epoch 24/50\n",
            "625/625 - 2s - loss: 0.0313 - accuracy: 0.9866 - val_loss: 1.6147 - val_accuracy: 0.7974\n",
            "Epoch 25/50\n",
            "625/625 - 2s - loss: 0.0285 - accuracy: 0.9880 - val_loss: 1.6183 - val_accuracy: 0.7976\n",
            "Epoch 26/50\n",
            "625/625 - 2s - loss: 0.0271 - accuracy: 0.9893 - val_loss: 1.8387 - val_accuracy: 0.7818\n",
            "Epoch 27/50\n",
            "625/625 - 2s - loss: 0.0270 - accuracy: 0.9891 - val_loss: 1.7303 - val_accuracy: 0.7951\n",
            "Epoch 28/50\n",
            "625/625 - 2s - loss: 0.0306 - accuracy: 0.9869 - val_loss: 1.7345 - val_accuracy: 0.7882\n",
            "Epoch 29/50\n",
            "625/625 - 2s - loss: 0.0245 - accuracy: 0.9897 - val_loss: 1.7890 - val_accuracy: 0.7922\n",
            "Epoch 30/50\n",
            "625/625 - 2s - loss: 0.0242 - accuracy: 0.9897 - val_loss: 1.8114 - val_accuracy: 0.7930\n",
            "Epoch 31/50\n",
            "625/625 - 2s - loss: 0.0267 - accuracy: 0.9892 - val_loss: 1.8853 - val_accuracy: 0.7918\n",
            "Epoch 32/50\n",
            "625/625 - 2s - loss: 0.0262 - accuracy: 0.9890 - val_loss: 1.9475 - val_accuracy: 0.7943\n",
            "Epoch 33/50\n",
            "625/625 - 2s - loss: 0.0230 - accuracy: 0.9908 - val_loss: 1.9323 - val_accuracy: 0.7922\n",
            "Epoch 34/50\n",
            "625/625 - 2s - loss: 0.0227 - accuracy: 0.9901 - val_loss: 2.1668 - val_accuracy: 0.7889\n",
            "Epoch 35/50\n",
            "625/625 - 2s - loss: 0.0259 - accuracy: 0.9880 - val_loss: 2.0379 - val_accuracy: 0.7900\n",
            "Epoch 36/50\n",
            "625/625 - 2s - loss: 0.0262 - accuracy: 0.9894 - val_loss: 2.1254 - val_accuracy: 0.7952\n",
            "Epoch 37/50\n",
            "625/625 - 2s - loss: 0.0235 - accuracy: 0.9899 - val_loss: 2.2151 - val_accuracy: 0.7846\n",
            "Epoch 38/50\n",
            "625/625 - 2s - loss: 0.0192 - accuracy: 0.9916 - val_loss: 2.1305 - val_accuracy: 0.7949\n",
            "Epoch 39/50\n",
            "625/625 - 2s - loss: 0.0184 - accuracy: 0.9916 - val_loss: 2.2369 - val_accuracy: 0.7915\n",
            "Epoch 40/50\n",
            "625/625 - 2s - loss: 0.0205 - accuracy: 0.9906 - val_loss: 2.1750 - val_accuracy: 0.7992\n",
            "Epoch 41/50\n",
            "625/625 - 2s - loss: 0.0228 - accuracy: 0.9896 - val_loss: 2.1966 - val_accuracy: 0.7907\n",
            "Epoch 42/50\n",
            "625/625 - 2s - loss: 0.0272 - accuracy: 0.9890 - val_loss: 2.1541 - val_accuracy: 0.7912\n",
            "Epoch 43/50\n",
            "625/625 - 2s - loss: 0.0211 - accuracy: 0.9911 - val_loss: 2.3071 - val_accuracy: 0.7927\n",
            "Epoch 44/50\n",
            "625/625 - 2s - loss: 0.0184 - accuracy: 0.9916 - val_loss: 2.2340 - val_accuracy: 0.7937\n",
            "Epoch 45/50\n",
            "625/625 - 2s - loss: 0.0189 - accuracy: 0.9915 - val_loss: 2.3029 - val_accuracy: 0.7913\n",
            "Epoch 46/50\n",
            "625/625 - 2s - loss: 0.0225 - accuracy: 0.9901 - val_loss: 2.4124 - val_accuracy: 0.7916\n",
            "Epoch 47/50\n",
            "625/625 - 2s - loss: 0.0210 - accuracy: 0.9912 - val_loss: 2.3192 - val_accuracy: 0.7977\n",
            "Epoch 48/50\n",
            "625/625 - 2s - loss: 0.0205 - accuracy: 0.9907 - val_loss: 2.5128 - val_accuracy: 0.7906\n",
            "Epoch 49/50\n",
            "625/625 - 2s - loss: 0.0187 - accuracy: 0.9913 - val_loss: 2.4834 - val_accuracy: 0.7925\n",
            "Epoch 50/50\n",
            "625/625 - 2s - loss: 0.0215 - accuracy: 0.9906 - val_loss: 2.5027 - val_accuracy: 0.7867\n"
          ],
          "name": "stdout"
        }
      ]
    },
    {
      "cell_type": "code",
      "metadata": {
        "colab": {
          "base_uri": "https://localhost:8080/",
          "height": 543
        },
        "id": "UBDZnyBHaQ6A",
        "outputId": "ecc8e133-d5f9-4492-e33b-ff32b5b2fc7c"
      },
      "source": [
        "import matplotlib.pyplot as plt\n",
        "\n",
        "\n",
        "def plot_graphs(history, string):\n",
        "  plt.plot(history.history[string])\n",
        "  plt.plot(history.history['val_'+string])\n",
        "  plt.xlabel(\"epochs\")\n",
        "  plt.ylabel(string)\n",
        "  plt.legend([string, 'val_'+string])\n",
        "  plt.show()\n",
        "\n",
        "plot_graphs(history, 'accuracy')\n",
        "plot_graphs(history, 'loss')"
      ],
      "execution_count": 12,
      "outputs": [
        {
          "output_type": "display_data",
          "data": {
            "image/png": "[encoded data removed]",
            "text/plain": [
              "<Figure size 432x288 with 1 Axes>"
            ]
          },
          "metadata": {
            "tags": [],
            "needs_background": "light"
          }
        },
        {
          "output_type": "display_data",
          "data": {
            "image/png": "[encoded data removed]",
            "text/plain": [
              "<Figure size 432x288 with 1 Axes>"
            ]
          },
          "metadata": {
            "tags": [],
            "needs_background": "light"
          }
        }
      ]
    },
    {
      "cell_type": "code",
      "metadata": {
        "id": "CIs1lizdaUYF"
      },
      "source": [
        "model.save('sarcasm_Conv1D.h5')"
      ],
      "execution_count": 13,
      "outputs": []
    }
  ]
}