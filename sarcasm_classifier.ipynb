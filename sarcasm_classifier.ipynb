{
  "nbformat": 4,
  "nbformat_minor": 0,
  "metadata": {
    "colab": {
      "name": "sarcasm_classifier.ipynb",
      "provenance": [],
      "collapsed_sections": [],
      "authorship_tag": "ABX9TyMhgi+pmzpn182nqtISqoJD",
      "include_colab_link": true
    },
    "kernelspec": {
      "name": "python3",
      "display_name": "Python 3"
    }
  },
  "cells": [
    {
      "cell_type": "markdown",
      "metadata": {
        "id": "view-in-github",
        "colab_type": "text"
      },
      "source": [
        "<a href=\"https://colab.research.google.com/github/skhazaei/TensorFlow-repo/blob/master/sarcasm_classifier.ipynb\" target=\"_parent\"><img src=\"https://colab.research.google.com/assets/colab-badge.svg\" alt=\"Open In Colab\"/></a>"
      ]
    },
    {
      "cell_type": "markdown",
      "metadata": {
        "id": "1SysRshDDrjb"
      },
      "source": [
        "## Download the sarcasm dataset"
      ]
    },
    {
      "cell_type": "code",
      "metadata": {
        "colab": {
          "base_uri": "https://localhost:8080/"
        },
        "id": "6W2SVKIQDIkF",
        "outputId": "97b2410b-c9a0-4375-efd0-449ff4545a22"
      },
      "source": [
        "!wget --no-check-certificate \\\n",
        "https://storage.googleapis.com/laurencemoroney-blog.appspot.com/sarcasm.json \\\n",
        "-O /tmp/sarcasm.json"
      ],
      "execution_count": 4,
      "outputs": [
        {
          "output_type": "stream",
          "text": [
            "--2021-02-16 18:18:51--  https://storage.googleapis.com/laurencemoroney-blog.appspot.com/sarcasm.json\n",
            "Resolving storage.googleapis.com (storage.googleapis.com)... 74.125.137.128, 142.250.101.128, 2607:f8b0:4023:c06::80, ...\n",
            "Connecting to storage.googleapis.com (storage.googleapis.com)|74.125.137.128|:443... connected.\n",
            "HTTP request sent, awaiting response... 200 OK\n",
            "Length: 5643545 (5.4M) [application/json]\n",
            "Saving to: ‘/tmp/sarcasm.json’\n",
            "\n",
            "\r/tmp/sarcasm.json     0%[                    ]       0  --.-KB/s               \r/tmp/sarcasm.json   100%[===================>]   5.38M  --.-KB/s    in 0.02s   \n",
            "\n",
            "2021-02-16 18:18:51 (284 MB/s) - ‘/tmp/sarcasm.json’ saved [5643545/5643545]\n",
            "\n"
          ],
          "name": "stdout"
        }
      ]
    },
    {
      "cell_type": "markdown",
      "metadata": {
        "id": "R_4Tg7VAEU2N"
      },
      "source": [
        "## Load the dataset, then read the headlines and labels"
      ]
    },
    {
      "cell_type": "code",
      "metadata": {
        "id": "y0W8zsAMEb7T"
      },
      "source": [
        "import json\n",
        "\n",
        "with open('/tmp/sarcasm.json', 'r') as f:\n",
        "  datastore=json.load(f)\n",
        "\n",
        "headlines=[]\n",
        "labels=[]\n",
        "\n",
        "for item in datastore:\n",
        "  headlines.append(item['headline'])\n",
        "  labels.append(item['is_sarcastic'])"
      ],
      "execution_count": 8,
      "outputs": []
    },
    {
      "cell_type": "markdown",
      "metadata": {
        "id": "iwAaz5xWFq2J"
      },
      "source": [
        "## Split the corpus to the training and validation sets\n",
        "\n",
        "Set training_size to 20,000 "
      ]
    },
    {
      "cell_type": "code",
      "metadata": {
        "colab": {
          "base_uri": "https://localhost:8080/"
        },
        "id": "l7OibVyZEyMP",
        "outputId": "00047b5e-2813-441e-ee18-3dbad9e9c770"
      },
      "source": [
        "print('The size of sarcasm dataset: ', len(datastore))"
      ],
      "execution_count": 11,
      "outputs": [
        {
          "output_type": "stream",
          "text": [
            "The size of sarcasm dataset:  26709\n"
          ],
          "name": "stdout"
        }
      ]
    },
    {
      "cell_type": "code",
      "metadata": {
        "id": "AGz57vslFuma"
      },
      "source": [
        "training_size = 20000\n",
        "\n",
        "training_headlines = headlines[0:training_size]\n",
        "training_labels = labels[0:training_size]\n",
        "\n",
        "test_headlines = headlines[training_size:]\n",
        "test_labels = labels[training_size:]"
      ],
      "execution_count": 13,
      "outputs": []
    },
    {
      "cell_type": "markdown",
      "metadata": {
        "id": "pNT6gd51HY7r"
      },
      "source": [
        "## Tokenize the headlines"
      ]
    },
    {
      "cell_type": "code",
      "metadata": {
        "id": "91xX9iYGGwPK"
      },
      "source": [
        "# hyperparameters\n",
        "vocab_size = 10000\n",
        "embedding_dim = 16\n",
        "max_length = 100\n",
        "trunc_type='post'\n",
        "padding_type='post'\n",
        "oov_tok = \"<OOV>\"\n",
        "training_size = 20000"
      ],
      "execution_count": 14,
      "outputs": []
    },
    {
      "cell_type": "code",
      "metadata": {
        "id": "3Ey4gJKhHby-"
      },
      "source": [
        "from tensorflow.keras.preprocessing.text import Tokenizer\n",
        "from tensorflow.keras.preprocessing.sequence import pad_sequences\n",
        "\n",
        "\n",
        "tokenizer = Tokenizer(num_words=vocab_size, oov_token=oov_tok)\n",
        "tokenizer.fit_on_texts(training_headlines)\n",
        "\n",
        "word_index = tokenizer.word_index\n",
        "\n",
        "sequences = tokenizer.texts_to_sequences(training_headlines)\n",
        "padded = pad_sequences(sequences, padding=padding_type,\n",
        "                       truncating=trunc_type, maxlen=max_length)\n",
        "\n",
        "test_seq = tokenizer.texts_to_sequences(test_headlines)\n",
        "test_padded = pad_sequences(test_seq, padding=padding_type,\n",
        "                            truncating=trunc_type, maxlen=max_length)"
      ],
      "execution_count": 26,
      "outputs": []
    },
    {
      "cell_type": "code",
      "metadata": {
        "id": "5_ohi1DxL1bK"
      },
      "source": [
        "import numpy as np\n",
        "\n",
        "## Convert the lists to the numpy array\n",
        "padded = np.array(padded)\n",
        "training_labels = np.array(training_labels)\n",
        "test_padded = np.array(test_padded)\n",
        "test_labels = np.array(test_labels)"
      ],
      "execution_count": 37,
      "outputs": []
    },
    {
      "cell_type": "markdown",
      "metadata": {
        "id": "_nA70UQQIdCR"
      },
      "source": [
        "## Define the neural network model"
      ]
    },
    {
      "cell_type": "code",
      "metadata": {
        "id": "Hb_-Wq46HyHv"
      },
      "source": [
        "import tensorflow as tf\n",
        "model = tf.keras.models.Sequential([tf.keras.layers.Embedding(vocab_size, embedding_dim, input_length=max_length),\n",
        "                                    tf.keras.layers.GlobalAveragePooling1D(),\n",
        "                                    tf.keras.layers.Dense(24, activation=tf.nn.relu),\n",
        "                                    tf.keras.layers.Dense(1, activation=tf.nn.sigmoid)])"
      ],
      "execution_count": 21,
      "outputs": []
    },
    {
      "cell_type": "code",
      "metadata": {
        "colab": {
          "base_uri": "https://localhost:8080/"
        },
        "id": "dQfeg9MSJ8kJ",
        "outputId": "8ab4742a-3f29-448f-fabe-9e51dd56c9ea"
      },
      "source": [
        "model.summary()"
      ],
      "execution_count": 22,
      "outputs": [
        {
          "output_type": "stream",
          "text": [
            "Model: \"sequential_1\"\n",
            "_________________________________________________________________\n",
            "Layer (type)                 Output Shape              Param #   \n",
            "=================================================================\n",
            "embedding_1 (Embedding)      (None, 100, 16)           160000    \n",
            "_________________________________________________________________\n",
            "global_average_pooling1d_1 ( (None, 16)                0         \n",
            "_________________________________________________________________\n",
            "dense (Dense)                (None, 24)                408       \n",
            "_________________________________________________________________\n",
            "dense_1 (Dense)              (None, 1)                 25        \n",
            "=================================================================\n",
            "Total params: 160,433\n",
            "Trainable params: 160,433\n",
            "Non-trainable params: 0\n",
            "_________________________________________________________________\n"
          ],
          "name": "stdout"
        }
      ]
    },
    {
      "cell_type": "code",
      "metadata": {
        "id": "kwpg-RG1KQ_c"
      },
      "source": [
        "model.compile(optimizer=tf.optimizers.Adam(), loss='binary_crossentropy', metrics=['accuracy'])"
      ],
      "execution_count": 27,
      "outputs": []
    },
    {
      "cell_type": "code",
      "metadata": {
        "colab": {
          "base_uri": "https://localhost:8080/"
        },
        "id": "8nZR5PwXKhMc",
        "outputId": "089d048c-b837-4930-c691-71bed006aced"
      },
      "source": [
        "num_epochs = 30\n",
        "\n",
        "history = model.fit(padded, training_labels,\n",
        "                    validation_data=(test_padded, test_labels),\n",
        "                    epochs=num_epochs,\n",
        "                    verbose=2)"
      ],
      "execution_count": 38,
      "outputs": [
        {
          "output_type": "stream",
          "text": [
            "Epoch 1/30\n",
            "625/625 - 2s - loss: 0.6523 - accuracy: 0.5984 - val_loss: 0.5409 - val_accuracy: 0.7927\n",
            "Epoch 2/30\n",
            "625/625 - 2s - loss: 0.4075 - accuracy: 0.8415 - val_loss: 0.3754 - val_accuracy: 0.8471\n",
            "Epoch 3/30\n",
            "625/625 - 2s - loss: 0.2990 - accuracy: 0.8796 - val_loss: 0.3628 - val_accuracy: 0.8398\n",
            "Epoch 4/30\n",
            "625/625 - 2s - loss: 0.2475 - accuracy: 0.9024 - val_loss: 0.3438 - val_accuracy: 0.8535\n",
            "Epoch 5/30\n",
            "625/625 - 2s - loss: 0.2119 - accuracy: 0.9190 - val_loss: 0.3509 - val_accuracy: 0.8523\n",
            "Epoch 6/30\n",
            "625/625 - 2s - loss: 0.1852 - accuracy: 0.9287 - val_loss: 0.3592 - val_accuracy: 0.8550\n",
            "Epoch 7/30\n",
            "625/625 - 2s - loss: 0.1651 - accuracy: 0.9373 - val_loss: 0.3943 - val_accuracy: 0.8444\n",
            "Epoch 8/30\n",
            "625/625 - 2s - loss: 0.1467 - accuracy: 0.9463 - val_loss: 0.4300 - val_accuracy: 0.8347\n",
            "Epoch 9/30\n",
            "625/625 - 2s - loss: 0.1315 - accuracy: 0.9525 - val_loss: 0.4172 - val_accuracy: 0.8477\n",
            "Epoch 10/30\n",
            "625/625 - 2s - loss: 0.1186 - accuracy: 0.9599 - val_loss: 0.4441 - val_accuracy: 0.8451\n",
            "Epoch 11/30\n",
            "625/625 - 2s - loss: 0.1076 - accuracy: 0.9624 - val_loss: 0.4628 - val_accuracy: 0.8445\n",
            "Epoch 12/30\n",
            "625/625 - 2s - loss: 0.0972 - accuracy: 0.9673 - val_loss: 0.4924 - val_accuracy: 0.8438\n",
            "Epoch 13/30\n",
            "625/625 - 2s - loss: 0.0888 - accuracy: 0.9707 - val_loss: 0.5220 - val_accuracy: 0.8393\n",
            "Epoch 14/30\n",
            "625/625 - 2s - loss: 0.0804 - accuracy: 0.9730 - val_loss: 0.5542 - val_accuracy: 0.8383\n",
            "Epoch 15/30\n",
            "625/625 - 2s - loss: 0.0739 - accuracy: 0.9755 - val_loss: 0.5981 - val_accuracy: 0.8335\n",
            "Epoch 16/30\n",
            "625/625 - 2s - loss: 0.0684 - accuracy: 0.9782 - val_loss: 0.6201 - val_accuracy: 0.8301\n",
            "Epoch 17/30\n",
            "625/625 - 2s - loss: 0.0607 - accuracy: 0.9809 - val_loss: 0.6647 - val_accuracy: 0.8296\n",
            "Epoch 18/30\n",
            "625/625 - 2s - loss: 0.0564 - accuracy: 0.9827 - val_loss: 0.6993 - val_accuracy: 0.8268\n",
            "Epoch 19/30\n",
            "625/625 - 2s - loss: 0.0518 - accuracy: 0.9843 - val_loss: 0.7861 - val_accuracy: 0.8217\n",
            "Epoch 20/30\n",
            "625/625 - 2s - loss: 0.0452 - accuracy: 0.9875 - val_loss: 0.8939 - val_accuracy: 0.8171\n",
            "Epoch 21/30\n",
            "625/625 - 2s - loss: 0.0441 - accuracy: 0.9862 - val_loss: 0.8216 - val_accuracy: 0.8207\n",
            "Epoch 22/30\n",
            "625/625 - 2s - loss: 0.0398 - accuracy: 0.9875 - val_loss: 0.9349 - val_accuracy: 0.8186\n",
            "Epoch 23/30\n",
            "625/625 - 2s - loss: 0.0361 - accuracy: 0.9888 - val_loss: 0.8985 - val_accuracy: 0.8171\n",
            "Epoch 24/30\n",
            "625/625 - 2s - loss: 0.0343 - accuracy: 0.9901 - val_loss: 0.9401 - val_accuracy: 0.8171\n",
            "Epoch 25/30\n",
            "625/625 - 2s - loss: 0.0296 - accuracy: 0.9922 - val_loss: 1.0137 - val_accuracy: 0.8144\n",
            "Epoch 26/30\n",
            "625/625 - 2s - loss: 0.0278 - accuracy: 0.9916 - val_loss: 1.0516 - val_accuracy: 0.8155\n",
            "Epoch 27/30\n",
            "625/625 - 2s - loss: 0.0257 - accuracy: 0.9926 - val_loss: 1.0716 - val_accuracy: 0.8138\n",
            "Epoch 28/30\n",
            "625/625 - 2s - loss: 0.0229 - accuracy: 0.9934 - val_loss: 1.1281 - val_accuracy: 0.8131\n",
            "Epoch 29/30\n",
            "625/625 - 2s - loss: 0.0220 - accuracy: 0.9945 - val_loss: 1.1396 - val_accuracy: 0.8128\n",
            "Epoch 30/30\n",
            "625/625 - 2s - loss: 0.0212 - accuracy: 0.9941 - val_loss: 1.2215 - val_accuracy: 0.8129\n"
          ],
          "name": "stdout"
        }
      ]
    },
    {
      "cell_type": "code",
      "metadata": {
        "colab": {
          "base_uri": "https://localhost:8080/",
          "height": 541
        },
        "id": "WsTRyYOaK_OC",
        "outputId": "a054274c-ef45-4df8-dcc0-0d48a071d301"
      },
      "source": [
        "import matplotlib.pyplot as plt\n",
        "\n",
        "\n",
        "def plot_graphs(history, string):\n",
        "  plt.plot(history.history[string])\n",
        "  plt.plot(history.history['val_'+string])\n",
        "  plt.xlabel(\"Epochs\")\n",
        "  plt.ylabel(string)\n",
        "  plt.legend([string, 'val_'+string])\n",
        "  plt.show()\n",
        "  \n",
        "plot_graphs(history, \"accuracy\")\n",
        "plot_graphs(history, \"loss\")"
      ],
      "execution_count": 39,
      "outputs": [
        {
          "output_type": "display_data",
          "data": {
            "image/png": "[encoded data removed]",
            "text/plain": [
              "<Figure size 432x288 with 1 Axes>"
            ]
          },
          "metadata": {
            "tags": [],
            "needs_background": "light"
          }
        },
        {
          "output_type": "display_data",
          "data": {
            "image/png": "[encoded data removed]",
            "text/plain": [
              "<Figure size 432x288 with 1 Axes>"
            ]
          },
          "metadata": {
            "tags": [],
            "needs_background": "light"
          }
        }
      ]
    },
    {
      "cell_type": "markdown",
      "metadata": {
        "id": "1hMAMIBgNjiE"
      },
      "source": [
        "It can be seen the accuracy increase nicely as we trained and the validation accuracy was okay, but not great. What's interesting is the loss values, the training loss fall, but the validation loss increased."
      ]
    }
  ]
}