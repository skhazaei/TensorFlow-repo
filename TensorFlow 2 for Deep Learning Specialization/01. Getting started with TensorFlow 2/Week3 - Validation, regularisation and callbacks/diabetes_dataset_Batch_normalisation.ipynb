{
  "nbformat": 4,
  "nbformat_minor": 0,
  "metadata": {
    "colab": {
      "name": "diabetes_dataset_Batch_normalisation.ipynb",
      "provenance": [],
      "collapsed_sections": [],
      "authorship_tag": "ABX9TyPNWoHL30tgBbQ9EY4t3DNp",
      "include_colab_link": true
    },
    "kernelspec": {
      "name": "python3",
      "display_name": "Python 3"
    },
    "accelerator": "GPU"
  },
  "cells": [
    {
      "cell_type": "markdown",
      "metadata": {
        "id": "view-in-github",
        "colab_type": "text"
      },
      "source": [
        "<a href=\"https://colab.research.google.com/github/skhazaei/TensorFlow-repo/blob/master/diabetes_dataset_Batch_normalisation.ipynb\" target=\"_parent\"><img src=\"https://colab.research.google.com/assets/colab-badge.svg\" alt=\"Open In Colab\"/></a>"
      ]
    },
    {
      "cell_type": "code",
      "metadata": {
        "id": "dnAddQjQ1rP6"
      },
      "source": [
        "import tensorflow as tf\n",
        "from sklearn.datasets import load_diabetes\n",
        "\n",
        "diabetes_dataset = load_diabetes()"
      ],
      "execution_count": 1,
      "outputs": []
    },
    {
      "cell_type": "code",
      "metadata": {
        "id": "UMHsN_kR2Ea7"
      },
      "source": [
        "data = diabetes_dataset['data']\n",
        "target = diabetes_dataset['target']"
      ],
      "execution_count": 2,
      "outputs": []
    },
    {
      "cell_type": "code",
      "metadata": {
        "id": "laHfq4mM2VtI"
      },
      "source": [
        "target = (target - target.mean(axis=0)) /target.std()"
      ],
      "execution_count": 3,
      "outputs": []
    },
    {
      "cell_type": "code",
      "metadata": {
        "id": "v7wpe4yq2gN6"
      },
      "source": [
        "from sklearn.model_selection import train_test_split\n",
        "\n",
        "train_data, test_data, train_target, test_target = train_test_split(data, target, test_size=0.1)"
      ],
      "execution_count": 4,
      "outputs": []
    },
    {
      "cell_type": "markdown",
      "metadata": {
        "id": "9BFsPoZS22fU"
      },
      "source": [
        "# **Batch normalisation:** Layer that normalizes its inputs.\n",
        "\n",
        "Batch normalization applies a transformation that maintains the mean output close to 0 and the output standard deviation close to 1.\n",
        "\n",
        " \n",
        "\n",
        "```\n",
        "tf.keras.layers.BatchNormalization(\n",
        "    axis=-1, momentum=0.99, epsilon=0.001, center=True, scale=True,\n",
        "    beta_initializer='zeros', gamma_initializer='ones',\n",
        "    moving_mean_initializer='zeros',\n",
        "    moving_variance_initializer='ones', beta_regularizer=None,\n",
        "    gamma_regularizer=None, beta_constraint=None, gamma_constraint=None,\n",
        "    renorm=False, renorm_clipping=None, renorm_momentum=0.99, fused=None,\n",
        "    trainable=True, virtual_batch_size=None, adjustment=None, name=None, **kwargs\n",
        ")\n",
        "```\n",
        "* **The hyperparameter momentum**: is the weighting given to the previous running mean when re-computing it with an extra minibatch. By default, it is set to 0.99.\n",
        "\n",
        "* **The hyperparameter $\\epsilon$**: is used for numeric stability when performing the normalisation over the minibatch. By default it is set to 0.001.\n",
        "\n",
        "* **The parameters $\\beta$ and $\\gamma$**: are used to implement an affine transformation after normalisation. By default, $\\beta$ is an all-zeros vector, and $\\gamma$ is an all-ones vector.\n",
        "\n"
      ]
    },
    {
      "cell_type": "code",
      "metadata": {
        "id": "1Nm16bVe3fB4"
      },
      "source": [
        "from tensorflow.keras.models import Sequential\n",
        "from tensorflow.keras.layers import Flatten, Dense, Conv2D, MaxPooling2D, BatchNormalization, Dropout"
      ],
      "execution_count": 5,
      "outputs": []
    },
    {
      "cell_type": "code",
      "metadata": {
        "id": "7LyIj5Sc2x3G"
      },
      "source": [
        "# Build the model\n",
        "\n",
        "model = Sequential([\n",
        "    Dense(64, input_shape=[train_data.shape[1],], activation=\"relu\"),\n",
        "    BatchNormalization(),  # <- Batch normalisation layer\n",
        "    Dropout(0.5),\n",
        "    BatchNormalization(),  # <- Batch normalisation layer\n",
        "    Dropout(0.5),\n",
        "    Dense(256, activation='relu'),\n",
        "])"
      ],
      "execution_count": 6,
      "outputs": []
    },
    {
      "cell_type": "code",
      "metadata": {
        "colab": {
          "base_uri": "https://localhost:8080/"
        },
        "id": "PY60M-r-3l_y",
        "outputId": "545b16fd-0830-44cc-832e-ec84c7bbbbe0"
      },
      "source": [
        "model.summary()"
      ],
      "execution_count": 7,
      "outputs": [
        {
          "output_type": "stream",
          "text": [
            "Model: \"sequential\"\n",
            "_________________________________________________________________\n",
            "Layer (type)                 Output Shape              Param #   \n",
            "=================================================================\n",
            "dense (Dense)                (None, 64)                704       \n",
            "_________________________________________________________________\n",
            "batch_normalization (BatchNo (None, 64)                256       \n",
            "_________________________________________________________________\n",
            "dropout (Dropout)            (None, 64)                0         \n",
            "_________________________________________________________________\n",
            "batch_normalization_1 (Batch (None, 64)                256       \n",
            "_________________________________________________________________\n",
            "dropout_1 (Dropout)          (None, 64)                0         \n",
            "_________________________________________________________________\n",
            "dense_1 (Dense)              (None, 256)               16640     \n",
            "=================================================================\n",
            "Total params: 17,856\n",
            "Trainable params: 17,600\n",
            "Non-trainable params: 256\n",
            "_________________________________________________________________\n"
          ],
          "name": "stdout"
        }
      ]
    },
    {
      "cell_type": "markdown",
      "metadata": {
        "id": "MjNlWUZw48L4"
      },
      "source": [
        "### Let's add a customized `BatchNormalization()` layer to the model "
      ]
    },
    {
      "cell_type": "code",
      "metadata": {
        "id": "aFVDTLtL3pH0"
      },
      "source": [
        "# Add a customised batch normalisation layer\n",
        "\n",
        "model.add(tf.keras.layers.BatchNormalization(\n",
        "    momentum=0.95, \n",
        "    epsilon=0.005,\n",
        "    axis = -1,\n",
        "    beta_initializer=tf.keras.initializers.RandomNormal(mean=0.0, stddev=0.05), \n",
        "    gamma_initializer=tf.keras.initializers.Constant(value=0.9)\n",
        "))"
      ],
      "execution_count": 8,
      "outputs": []
    },
    {
      "cell_type": "code",
      "metadata": {
        "id": "y6mVHM2j5PPT"
      },
      "source": [
        "model.add(Dense(1))"
      ],
      "execution_count": 9,
      "outputs": []
    },
    {
      "cell_type": "code",
      "metadata": {
        "id": "_VGSps5R5Xj0"
      },
      "source": [
        "# Compile the model\n",
        "\n",
        "model.compile(optimizer='adam',\n",
        "              loss='mse',\n",
        "              metrics=['mae'])"
      ],
      "execution_count": 10,
      "outputs": []
    },
    {
      "cell_type": "code",
      "metadata": {
        "colab": {
          "base_uri": "https://localhost:8080/"
        },
        "id": "7d4JNtex5aZp",
        "outputId": "62f95da0-6a14-45c9-ed85-5c2a07ba4d9c"
      },
      "source": [
        "# Train the model\n",
        "\n",
        "history = model.fit(train_data, train_target,\n",
        "                    epochs=100, validation_split=0.15,\n",
        "                    batch_size=64, verbose=2)"
      ],
      "execution_count": 11,
      "outputs": [
        {
          "output_type": "stream",
          "text": [
            "Epoch 1/100\n",
            "6/6 - 3s - loss: 1.5381 - mae: 0.9725 - val_loss: 0.9532 - val_mae: 0.8048\n",
            "Epoch 2/100\n",
            "6/6 - 0s - loss: 1.2016 - mae: 0.8847 - val_loss: 0.9501 - val_mae: 0.8035\n",
            "Epoch 3/100\n",
            "6/6 - 0s - loss: 1.0054 - mae: 0.7893 - val_loss: 0.9608 - val_mae: 0.8086\n",
            "Epoch 4/100\n",
            "6/6 - 0s - loss: 0.9619 - mae: 0.7781 - val_loss: 0.9725 - val_mae: 0.8116\n",
            "Epoch 5/100\n",
            "6/6 - 0s - loss: 0.9755 - mae: 0.8064 - val_loss: 0.9750 - val_mae: 0.8117\n",
            "Epoch 6/100\n",
            "6/6 - 0s - loss: 1.0513 - mae: 0.8128 - val_loss: 0.9516 - val_mae: 0.8044\n",
            "Epoch 7/100\n",
            "6/6 - 0s - loss: 0.9850 - mae: 0.7908 - val_loss: 0.9478 - val_mae: 0.8031\n",
            "Epoch 8/100\n",
            "6/6 - 0s - loss: 0.9270 - mae: 0.7717 - val_loss: 0.9448 - val_mae: 0.8020\n",
            "Epoch 9/100\n",
            "6/6 - 0s - loss: 0.8837 - mae: 0.7429 - val_loss: 0.9415 - val_mae: 0.8010\n",
            "Epoch 10/100\n",
            "6/6 - 0s - loss: 0.8833 - mae: 0.7655 - val_loss: 0.9346 - val_mae: 0.7979\n",
            "Epoch 11/100\n",
            "6/6 - 0s - loss: 0.9659 - mae: 0.7654 - val_loss: 0.9270 - val_mae: 0.7946\n",
            "Epoch 12/100\n",
            "6/6 - 0s - loss: 0.8196 - mae: 0.7162 - val_loss: 0.9222 - val_mae: 0.7923\n",
            "Epoch 13/100\n",
            "6/6 - 0s - loss: 0.8124 - mae: 0.7189 - val_loss: 0.9225 - val_mae: 0.7943\n",
            "Epoch 14/100\n",
            "6/6 - 0s - loss: 0.7323 - mae: 0.6745 - val_loss: 0.9274 - val_mae: 0.7967\n",
            "Epoch 15/100\n",
            "6/6 - 0s - loss: 0.7658 - mae: 0.6976 - val_loss: 0.9267 - val_mae: 0.7954\n",
            "Epoch 16/100\n",
            "6/6 - 0s - loss: 0.8753 - mae: 0.7218 - val_loss: 0.9214 - val_mae: 0.7932\n",
            "Epoch 17/100\n",
            "6/6 - 0s - loss: 0.9537 - mae: 0.7803 - val_loss: 0.9263 - val_mae: 0.7968\n",
            "Epoch 18/100\n",
            "6/6 - 0s - loss: 0.8527 - mae: 0.7614 - val_loss: 0.9285 - val_mae: 0.7976\n",
            "Epoch 19/100\n",
            "6/6 - 0s - loss: 0.8496 - mae: 0.7310 - val_loss: 0.9262 - val_mae: 0.7963\n",
            "Epoch 20/100\n",
            "6/6 - 0s - loss: 0.7877 - mae: 0.7147 - val_loss: 0.9204 - val_mae: 0.7938\n",
            "Epoch 21/100\n",
            "6/6 - 0s - loss: 0.7511 - mae: 0.7058 - val_loss: 0.9136 - val_mae: 0.7908\n",
            "Epoch 22/100\n",
            "6/6 - 0s - loss: 0.7563 - mae: 0.6846 - val_loss: 0.9097 - val_mae: 0.7872\n",
            "Epoch 23/100\n",
            "6/6 - 0s - loss: 0.8841 - mae: 0.7735 - val_loss: 0.9009 - val_mae: 0.7843\n",
            "Epoch 24/100\n",
            "6/6 - 0s - loss: 0.7001 - mae: 0.6745 - val_loss: 0.9057 - val_mae: 0.7871\n",
            "Epoch 25/100\n",
            "6/6 - 0s - loss: 0.7168 - mae: 0.6846 - val_loss: 0.9163 - val_mae: 0.7905\n",
            "Epoch 26/100\n",
            "6/6 - 0s - loss: 0.6813 - mae: 0.6609 - val_loss: 0.9150 - val_mae: 0.7894\n",
            "Epoch 27/100\n",
            "6/6 - 0s - loss: 0.7436 - mae: 0.6706 - val_loss: 0.9078 - val_mae: 0.7881\n",
            "Epoch 28/100\n",
            "6/6 - 0s - loss: 0.7010 - mae: 0.6688 - val_loss: 0.8934 - val_mae: 0.7828\n",
            "Epoch 29/100\n",
            "6/6 - 0s - loss: 0.7684 - mae: 0.6976 - val_loss: 0.8932 - val_mae: 0.7822\n",
            "Epoch 30/100\n",
            "6/6 - 0s - loss: 0.7687 - mae: 0.6962 - val_loss: 0.9014 - val_mae: 0.7859\n",
            "Epoch 31/100\n",
            "6/6 - 0s - loss: 0.7462 - mae: 0.6976 - val_loss: 0.9001 - val_mae: 0.7864\n",
            "Epoch 32/100\n",
            "6/6 - 0s - loss: 0.7163 - mae: 0.6704 - val_loss: 0.8931 - val_mae: 0.7832\n",
            "Epoch 33/100\n",
            "6/6 - 0s - loss: 0.6420 - mae: 0.6395 - val_loss: 0.8861 - val_mae: 0.7800\n",
            "Epoch 34/100\n",
            "6/6 - 0s - loss: 0.6553 - mae: 0.6439 - val_loss: 0.8859 - val_mae: 0.7799\n",
            "Epoch 35/100\n",
            "6/6 - 0s - loss: 0.7388 - mae: 0.6759 - val_loss: 0.8802 - val_mae: 0.7779\n",
            "Epoch 36/100\n",
            "6/6 - 0s - loss: 0.6694 - mae: 0.6599 - val_loss: 0.8741 - val_mae: 0.7766\n",
            "Epoch 37/100\n",
            "6/6 - 0s - loss: 0.6514 - mae: 0.6399 - val_loss: 0.8659 - val_mae: 0.7749\n",
            "Epoch 38/100\n",
            "6/6 - 0s - loss: 0.7145 - mae: 0.6924 - val_loss: 0.8634 - val_mae: 0.7723\n",
            "Epoch 39/100\n",
            "6/6 - 0s - loss: 0.6776 - mae: 0.6716 - val_loss: 0.8630 - val_mae: 0.7720\n",
            "Epoch 40/100\n",
            "6/6 - 0s - loss: 0.7002 - mae: 0.6728 - val_loss: 0.8737 - val_mae: 0.7760\n",
            "Epoch 41/100\n",
            "6/6 - 0s - loss: 0.6669 - mae: 0.6610 - val_loss: 0.8842 - val_mae: 0.7809\n",
            "Epoch 42/100\n",
            "6/6 - 0s - loss: 0.6343 - mae: 0.6550 - val_loss: 0.8822 - val_mae: 0.7800\n",
            "Epoch 43/100\n",
            "6/6 - 0s - loss: 0.6507 - mae: 0.6444 - val_loss: 0.8709 - val_mae: 0.7748\n",
            "Epoch 44/100\n",
            "6/6 - 0s - loss: 0.6893 - mae: 0.6678 - val_loss: 0.8521 - val_mae: 0.7673\n",
            "Epoch 45/100\n",
            "6/6 - 0s - loss: 0.6462 - mae: 0.6430 - val_loss: 0.8403 - val_mae: 0.7642\n",
            "Epoch 46/100\n",
            "6/6 - 0s - loss: 0.6427 - mae: 0.6423 - val_loss: 0.8422 - val_mae: 0.7634\n",
            "Epoch 47/100\n",
            "6/6 - 0s - loss: 0.6799 - mae: 0.6601 - val_loss: 0.8499 - val_mae: 0.7661\n",
            "Epoch 48/100\n",
            "6/6 - 0s - loss: 0.5972 - mae: 0.6260 - val_loss: 0.8516 - val_mae: 0.7646\n",
            "Epoch 49/100\n",
            "6/6 - 0s - loss: 0.6354 - mae: 0.6332 - val_loss: 0.8470 - val_mae: 0.7608\n",
            "Epoch 50/100\n",
            "6/6 - 0s - loss: 0.6975 - mae: 0.6537 - val_loss: 0.8397 - val_mae: 0.7594\n",
            "Epoch 51/100\n",
            "6/6 - 0s - loss: 0.5768 - mae: 0.6064 - val_loss: 0.8399 - val_mae: 0.7641\n",
            "Epoch 52/100\n",
            "6/6 - 0s - loss: 0.6210 - mae: 0.6428 - val_loss: 0.8303 - val_mae: 0.7585\n",
            "Epoch 53/100\n",
            "6/6 - 0s - loss: 0.6403 - mae: 0.6450 - val_loss: 0.8403 - val_mae: 0.7595\n",
            "Epoch 54/100\n",
            "6/6 - 0s - loss: 0.6738 - mae: 0.6540 - val_loss: 0.8360 - val_mae: 0.7577\n",
            "Epoch 55/100\n",
            "6/6 - 0s - loss: 0.6676 - mae: 0.6604 - val_loss: 0.8360 - val_mae: 0.7553\n",
            "Epoch 56/100\n",
            "6/6 - 0s - loss: 0.6685 - mae: 0.6806 - val_loss: 0.8308 - val_mae: 0.7527\n",
            "Epoch 57/100\n",
            "6/6 - 0s - loss: 0.6072 - mae: 0.6338 - val_loss: 0.8365 - val_mae: 0.7538\n",
            "Epoch 58/100\n",
            "6/6 - 0s - loss: 0.6058 - mae: 0.6384 - val_loss: 0.8265 - val_mae: 0.7476\n",
            "Epoch 59/100\n",
            "6/6 - 0s - loss: 0.5755 - mae: 0.6002 - val_loss: 0.8182 - val_mae: 0.7395\n",
            "Epoch 60/100\n",
            "6/6 - 0s - loss: 0.5742 - mae: 0.6074 - val_loss: 0.8071 - val_mae: 0.7366\n",
            "Epoch 61/100\n",
            "6/6 - 0s - loss: 0.6331 - mae: 0.6373 - val_loss: 0.8003 - val_mae: 0.7396\n",
            "Epoch 62/100\n",
            "6/6 - 0s - loss: 0.5898 - mae: 0.6092 - val_loss: 0.7976 - val_mae: 0.7417\n",
            "Epoch 63/100\n",
            "6/6 - 0s - loss: 0.6166 - mae: 0.6245 - val_loss: 0.7893 - val_mae: 0.7392\n",
            "Epoch 64/100\n",
            "6/6 - 0s - loss: 0.5721 - mae: 0.6033 - val_loss: 0.7783 - val_mae: 0.7363\n",
            "Epoch 65/100\n",
            "6/6 - 0s - loss: 0.5584 - mae: 0.6019 - val_loss: 0.7822 - val_mae: 0.7355\n",
            "Epoch 66/100\n",
            "6/6 - 0s - loss: 0.5578 - mae: 0.5930 - val_loss: 0.7864 - val_mae: 0.7355\n",
            "Epoch 67/100\n",
            "6/6 - 0s - loss: 0.6291 - mae: 0.6336 - val_loss: 0.7926 - val_mae: 0.7361\n",
            "Epoch 68/100\n",
            "6/6 - 0s - loss: 0.6260 - mae: 0.6361 - val_loss: 0.7865 - val_mae: 0.7313\n",
            "Epoch 69/100\n",
            "6/6 - 0s - loss: 0.5003 - mae: 0.5536 - val_loss: 0.7864 - val_mae: 0.7243\n",
            "Epoch 70/100\n",
            "6/6 - 0s - loss: 0.5753 - mae: 0.6118 - val_loss: 0.8008 - val_mae: 0.7255\n",
            "Epoch 71/100\n",
            "6/6 - 0s - loss: 0.5761 - mae: 0.6082 - val_loss: 0.7889 - val_mae: 0.7250\n",
            "Epoch 72/100\n",
            "6/6 - 0s - loss: 0.5536 - mae: 0.6106 - val_loss: 0.7647 - val_mae: 0.7202\n",
            "Epoch 73/100\n",
            "6/6 - 0s - loss: 0.6188 - mae: 0.6446 - val_loss: 0.7375 - val_mae: 0.7154\n",
            "Epoch 74/100\n",
            "6/6 - 0s - loss: 0.6135 - mae: 0.6488 - val_loss: 0.7301 - val_mae: 0.7150\n",
            "Epoch 75/100\n",
            "6/6 - 0s - loss: 0.5679 - mae: 0.5989 - val_loss: 0.7063 - val_mae: 0.7081\n",
            "Epoch 76/100\n",
            "6/6 - 0s - loss: 0.5823 - mae: 0.6149 - val_loss: 0.7216 - val_mae: 0.7132\n",
            "Epoch 77/100\n",
            "6/6 - 0s - loss: 0.5310 - mae: 0.5945 - val_loss: 0.7270 - val_mae: 0.7148\n",
            "Epoch 78/100\n",
            "6/6 - 0s - loss: 0.5402 - mae: 0.5842 - val_loss: 0.7083 - val_mae: 0.7044\n",
            "Epoch 79/100\n",
            "6/6 - 0s - loss: 0.5245 - mae: 0.5824 - val_loss: 0.7122 - val_mae: 0.7053\n",
            "Epoch 80/100\n",
            "6/6 - 0s - loss: 0.5905 - mae: 0.6181 - val_loss: 0.7182 - val_mae: 0.7072\n",
            "Epoch 81/100\n",
            "6/6 - 0s - loss: 0.6261 - mae: 0.6370 - val_loss: 0.7042 - val_mae: 0.7067\n",
            "Epoch 82/100\n",
            "6/6 - 0s - loss: 0.5294 - mae: 0.5857 - val_loss: 0.6946 - val_mae: 0.7006\n",
            "Epoch 83/100\n",
            "6/6 - 0s - loss: 0.5566 - mae: 0.5967 - val_loss: 0.6905 - val_mae: 0.6855\n",
            "Epoch 84/100\n",
            "6/6 - 0s - loss: 0.5203 - mae: 0.5742 - val_loss: 0.6908 - val_mae: 0.6814\n",
            "Epoch 85/100\n",
            "6/6 - 0s - loss: 0.5152 - mae: 0.5787 - val_loss: 0.6980 - val_mae: 0.6881\n",
            "Epoch 86/100\n",
            "6/6 - 0s - loss: 0.5240 - mae: 0.5814 - val_loss: 0.6939 - val_mae: 0.6872\n",
            "Epoch 87/100\n",
            "6/6 - 0s - loss: 0.4804 - mae: 0.5555 - val_loss: 0.6970 - val_mae: 0.6920\n",
            "Epoch 88/100\n",
            "6/6 - 0s - loss: 0.5325 - mae: 0.5841 - val_loss: 0.7169 - val_mae: 0.7022\n",
            "Epoch 89/100\n",
            "6/6 - 0s - loss: 0.4983 - mae: 0.5805 - val_loss: 0.7300 - val_mae: 0.7115\n",
            "Epoch 90/100\n",
            "6/6 - 0s - loss: 0.5490 - mae: 0.6065 - val_loss: 0.7007 - val_mae: 0.7050\n",
            "Epoch 91/100\n",
            "6/6 - 0s - loss: 0.5291 - mae: 0.5802 - val_loss: 0.6644 - val_mae: 0.6874\n",
            "Epoch 92/100\n",
            "6/6 - 0s - loss: 0.4623 - mae: 0.5402 - val_loss: 0.6488 - val_mae: 0.6818\n",
            "Epoch 93/100\n",
            "6/6 - 0s - loss: 0.5583 - mae: 0.5972 - val_loss: 0.6576 - val_mae: 0.6923\n",
            "Epoch 94/100\n",
            "6/6 - 0s - loss: 0.5406 - mae: 0.5955 - val_loss: 0.7005 - val_mae: 0.7210\n",
            "Epoch 95/100\n",
            "6/6 - 0s - loss: 0.5932 - mae: 0.6279 - val_loss: 0.7042 - val_mae: 0.7210\n",
            "Epoch 96/100\n",
            "6/6 - 0s - loss: 0.5695 - mae: 0.6100 - val_loss: 0.6754 - val_mae: 0.6959\n",
            "Epoch 97/100\n",
            "6/6 - 0s - loss: 0.6039 - mae: 0.6292 - val_loss: 0.6586 - val_mae: 0.6767\n",
            "Epoch 98/100\n",
            "6/6 - 0s - loss: 0.5465 - mae: 0.6035 - val_loss: 0.6495 - val_mae: 0.6750\n",
            "Epoch 99/100\n",
            "6/6 - 0s - loss: 0.5776 - mae: 0.6116 - val_loss: 0.6766 - val_mae: 0.6908\n",
            "Epoch 100/100\n",
            "6/6 - 0s - loss: 0.5214 - mae: 0.5906 - val_loss: 0.6539 - val_mae: 0.6660\n"
          ],
          "name": "stdout"
        }
      ]
    },
    {
      "cell_type": "code",
      "metadata": {
        "colab": {
          "base_uri": "https://localhost:8080/",
          "height": 312
        },
        "id": "m_1S4OGo5cOT",
        "outputId": "c5e2980f-7d4b-4400-a33e-abbf54ab6aac"
      },
      "source": [
        "# Plot the learning curves\n",
        "\n",
        "import pandas as pd\n",
        "import numpy as np\n",
        "import matplotlib.pyplot as plt\n",
        "%matplotlib inline\n",
        "\n",
        "frame = pd.DataFrame(history.history)\n",
        "epochs = np.arange(len(frame))\n",
        "\n",
        "fig = plt.figure(figsize=(12,4))\n",
        "\n",
        "# Loss plot\n",
        "ax = fig.add_subplot(121)\n",
        "ax.plot(epochs, frame['loss'], label=\"Train\")\n",
        "ax.plot(epochs, frame['val_loss'], label=\"Validation\")\n",
        "ax.set_xlabel(\"Epochs\")\n",
        "ax.set_ylabel(\"Loss\")\n",
        "ax.set_title(\"Loss vs Epochs\")\n",
        "ax.legend()\n",
        "\n",
        "# Accuracy plot\n",
        "ax = fig.add_subplot(122)\n",
        "ax.plot(epochs, frame['mae'], label=\"Train\")\n",
        "ax.plot(epochs, frame['val_mae'], label=\"Validation\")\n",
        "ax.set_xlabel(\"Epochs\")\n",
        "ax.set_ylabel(\"Mean Absolute Error\")\n",
        "ax.set_title(\"Mean Absolute Error vs Epochs\")\n",
        "ax.legend()"
      ],
      "execution_count": 12,
      "outputs": [
        {
          "output_type": "execute_result",
          "data": {
            "text/plain": [
              "<matplotlib.legend.Legend at 0x7fa86c64dda0>"
            ]
          },
          "metadata": {
            "tags": []
          },
          "execution_count": 12
        },
        {
          "output_type": "display_data",
          "data": {
            "image/png": "[encoded data removed]",
            "text/plain": [
              "<Figure size 864x288 with 2 Axes>"
            ]
          },
          "metadata": {
            "tags": [],
            "needs_background": "light"
          }
        }
      ]
    }
  ]
}