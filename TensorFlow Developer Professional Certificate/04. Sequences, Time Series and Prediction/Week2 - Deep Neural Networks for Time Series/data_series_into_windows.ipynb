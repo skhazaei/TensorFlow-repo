{
  "nbformat": 4,
  "nbformat_minor": 0,
  "metadata": {
    "colab": {
      "name": "data-series_into_windows.ipynb",
      "provenance": [],
      "collapsed_sections": [],
      "authorship_tag": "ABX9TyPDXIzSzOPJqpWtkwrF1Cl3",
      "include_colab_link": true
    },
    "kernelspec": {
      "name": "python3",
      "display_name": "Python 3"
    }
  },
  "cells": [
    {
      "cell_type": "markdown",
      "metadata": {
        "id": "view-in-github",
        "colab_type": "text"
      },
      "source": [
        "<a href=\"https://colab.research.google.com/github/skhazaei/TensorFlow-repo/blob/master/data_series_into_windows.ipynb\" target=\"_parent\"><img src=\"https://colab.research.google.com/assets/colab-badge.svg\" alt=\"Open In Colab\"/></a>"
      ]
    },
    {
      "cell_type": "markdown",
      "metadata": {
        "id": "BZHjeV00xEKB"
      },
      "source": [
        "## Prepare features and labels:\n",
        "Use `tf.data.Dataset` class to create a simple dataset with `range()` method."
      ]
    },
    {
      "cell_type": "code",
      "metadata": {
        "colab": {
          "base_uri": "https://localhost:8080/"
        },
        "id": "4OXlkNnAwuJG",
        "outputId": "143bb36e-30ec-42a1-cda0-e4f9bb16081b"
      },
      "source": [
        "import tensorflow as tf\n",
        "\n",
        "dataset = tf.data.Dataset.range(10)\n",
        "print(dataset)"
      ],
      "execution_count": 5,
      "outputs": [
        {
          "output_type": "stream",
          "text": [
            "<RangeDataset shapes: (), types: tf.int64>\n"
          ],
          "name": "stdout"
        }
      ]
    },
    {
      "cell_type": "code",
      "metadata": {
        "colab": {
          "base_uri": "https://localhost:8080/"
        },
        "id": "GVz_mbvfxX22",
        "outputId": "5c2618b4-7164-4fd7-a823-0c6ea589c258"
      },
      "source": [
        "for val in dataset:\n",
        "  print(val)"
      ],
      "execution_count": 6,
      "outputs": [
        {
          "output_type": "stream",
          "text": [
            "tf.Tensor(0, shape=(), dtype=int64)\n",
            "tf.Tensor(1, shape=(), dtype=int64)\n",
            "tf.Tensor(2, shape=(), dtype=int64)\n",
            "tf.Tensor(3, shape=(), dtype=int64)\n",
            "tf.Tensor(4, shape=(), dtype=int64)\n",
            "tf.Tensor(5, shape=(), dtype=int64)\n",
            "tf.Tensor(6, shape=(), dtype=int64)\n",
            "tf.Tensor(7, shape=(), dtype=int64)\n",
            "tf.Tensor(8, shape=(), dtype=int64)\n",
            "tf.Tensor(9, shape=(), dtype=int64)\n"
          ],
          "name": "stdout"
        }
      ]
    },
    {
      "cell_type": "code",
      "metadata": {
        "colab": {
          "base_uri": "https://localhost:8080/"
        },
        "id": "0Oa5W4Z9xlpI",
        "outputId": "37a96821-5443-4ba0-a46b-47f7b7ec4444"
      },
      "source": [
        "for val in dataset:\n",
        "  print(val.numpy())"
      ],
      "execution_count": 7,
      "outputs": [
        {
          "output_type": "stream",
          "text": [
            "0\n",
            "1\n",
            "2\n",
            "3\n",
            "4\n",
            "5\n",
            "6\n",
            "7\n",
            "8\n",
            "9\n"
          ],
          "name": "stdout"
        }
      ]
    },
    {
      "cell_type": "markdown",
      "metadata": {
        "id": "mWqkHcffy0l4"
      },
      "source": [
        "## Use `Dataset.window()` method to expand the dataset; window the data into chunks of five items, shifting by one each time."
      ]
    },
    {
      "cell_type": "code",
      "metadata": {
        "colab": {
          "base_uri": "https://localhost:8080/"
        },
        "id": "JpzCRkJ9yDm6",
        "outputId": "c9637e9d-fac5-4eeb-81f5-e0f032a18e84"
      },
      "source": [
        "dataset = tf.data.Dataset.range(10)\n",
        "dataset = dataset.window(size=5, shift=1)\n",
        "for val in dataset:\n",
        "  print(val)"
      ],
      "execution_count": 23,
      "outputs": [
        {
          "output_type": "stream",
          "text": [
            "<_VariantDataset shapes: (), types: tf.int64>\n",
            "<_VariantDataset shapes: (), types: tf.int64>\n",
            "<_VariantDataset shapes: (), types: tf.int64>\n",
            "<_VariantDataset shapes: (), types: tf.int64>\n",
            "<_VariantDataset shapes: (), types: tf.int64>\n",
            "<_VariantDataset shapes: (), types: tf.int64>\n",
            "<_VariantDataset shapes: (), types: tf.int64>\n",
            "<_VariantDataset shapes: (), types: tf.int64>\n",
            "<_VariantDataset shapes: (), types: tf.int64>\n",
            "<_VariantDataset shapes: (), types: tf.int64>\n"
          ],
          "name": "stdout"
        }
      ]
    },
    {
      "cell_type": "code",
      "metadata": {
        "colab": {
          "base_uri": "https://localhost:8080/"
        },
        "id": "og9k5vzuzQYP",
        "outputId": "043407fa-329a-4b0a-9045-e91f498ecfcc"
      },
      "source": [
        "for window_dataset in dataset:\n",
        "  for val in window_dataset:\n",
        "    print(val.numpy(), end='')\n",
        "  print()"
      ],
      "execution_count": 24,
      "outputs": [
        {
          "output_type": "stream",
          "text": [
            "01234\n",
            "12345\n",
            "23456\n",
            "34567\n",
            "45678\n",
            "56789\n",
            "6789\n",
            "789\n",
            "89\n",
            "9\n"
          ],
          "name": "stdout"
        }
      ]
    },
    {
      "cell_type": "markdown",
      "metadata": {
        "id": "yF1jhD5X00dk"
      },
      "source": [
        "## Use `drop_remainder` parameter to truncate the data by dropping all of the remainders."
      ]
    },
    {
      "cell_type": "code",
      "metadata": {
        "colab": {
          "base_uri": "https://localhost:8080/"
        },
        "id": "jIIVNEV3zjYs",
        "outputId": "e2041851-fa5b-48d8-eb04-f377ae0b3327"
      },
      "source": [
        "import tensorflow as tf\n",
        "\n",
        "dataset = tf.data.Dataset.range(10)\n",
        "dataset = dataset.window(size=5, shift=1, drop_remainder=True)\n",
        "for window_dataset in dataset:\n",
        "  for val in window_dataset:\n",
        "    print(val.numpy(), end='')\n",
        "  print()\n"
      ],
      "execution_count": 25,
      "outputs": [
        {
          "output_type": "stream",
          "text": [
            "01234\n",
            "12345\n",
            "23456\n",
            "34567\n",
            "45678\n",
            "56789\n"
          ],
          "name": "stdout"
        }
      ]
    },
    {
      "cell_type": "markdown",
      "metadata": {
        "id": "sDrjorOZ4Q3V"
      },
      "source": [
        "## Put the dataset into numpy lists using `flat_map(map_func)` to create listed in square brackets."
      ]
    },
    {
      "cell_type": "code",
      "metadata": {
        "colab": {
          "base_uri": "https://localhost:8080/"
        },
        "id": "jTP0uEBU1Z4-",
        "outputId": "58252d15-9eab-4e6f-9e2b-46586be5c8d7"
      },
      "source": [
        "dataset = tf.data.Dataset.range(10)\n",
        "dataset = dataset.window(size=5, shift=1, drop_remainder=True)\n",
        "dataset = dataset.flat_map(lambda window: window.batch(5))\n",
        "for window in dataset:\n",
        "  print(window)"
      ],
      "execution_count": 26,
      "outputs": [
        {
          "output_type": "stream",
          "text": [
            "tf.Tensor([0 1 2 3 4], shape=(5,), dtype=int64)\n",
            "tf.Tensor([1 2 3 4 5], shape=(5,), dtype=int64)\n",
            "tf.Tensor([2 3 4 5 6], shape=(5,), dtype=int64)\n",
            "tf.Tensor([3 4 5 6 7], shape=(5,), dtype=int64)\n",
            "tf.Tensor([4 5 6 7 8], shape=(5,), dtype=int64)\n",
            "tf.Tensor([5 6 7 8 9], shape=(5,), dtype=int64)\n"
          ],
          "name": "stdout"
        }
      ]
    },
    {
      "cell_type": "code",
      "metadata": {
        "colab": {
          "base_uri": "https://localhost:8080/"
        },
        "id": "TxC8mIWn5UNE",
        "outputId": "0bf7e53e-4d2c-4401-d823-c559fddfcd2c"
      },
      "source": [
        "for window in dataset:\n",
        "  print(window.numpy())"
      ],
      "execution_count": 27,
      "outputs": [
        {
          "output_type": "stream",
          "text": [
            "[0 1 2 3 4]\n",
            "[1 2 3 4 5]\n",
            "[2 3 4 5 6]\n",
            "[3 4 5 6 7]\n",
            "[4 5 6 7 8]\n",
            "[5 6 7 8 9]\n"
          ],
          "name": "stdout"
        }
      ]
    },
    {
      "cell_type": "markdown",
      "metadata": {
        "id": "7jEMT94N5tiI"
      },
      "source": [
        "## Now split the dataset into features and labels, namely x and y:"
      ]
    },
    {
      "cell_type": "code",
      "metadata": {
        "colab": {
          "base_uri": "https://localhost:8080/"
        },
        "id": "WYeHjGbw5bi4",
        "outputId": "dcdefe17-96b4-4c92-d98f-b297cd95a901"
      },
      "source": [
        "dataset = tf.data.Dataset.range(10)\n",
        "dataset = dataset.window(size=5, shift=1, drop_remainder=True)\n",
        "dataset = dataset.flat_map(lambda window: window.batch(5))\n",
        "dataset = dataset.map(lambda window: (window[:-1], window[-1:]))\n",
        "for x, y in dataset:\n",
        "  print(x, y)"
      ],
      "execution_count": 32,
      "outputs": [
        {
          "output_type": "stream",
          "text": [
            "tf.Tensor([0 1 2 3], shape=(4,), dtype=int64) tf.Tensor([4], shape=(1,), dtype=int64)\n",
            "tf.Tensor([1 2 3 4], shape=(4,), dtype=int64) tf.Tensor([5], shape=(1,), dtype=int64)\n",
            "tf.Tensor([2 3 4 5], shape=(4,), dtype=int64) tf.Tensor([6], shape=(1,), dtype=int64)\n",
            "tf.Tensor([3 4 5 6], shape=(4,), dtype=int64) tf.Tensor([7], shape=(1,), dtype=int64)\n",
            "tf.Tensor([4 5 6 7], shape=(4,), dtype=int64) tf.Tensor([8], shape=(1,), dtype=int64)\n",
            "tf.Tensor([5 6 7 8], shape=(4,), dtype=int64) tf.Tensor([9], shape=(1,), dtype=int64)\n"
          ],
          "name": "stdout"
        }
      ]
    },
    {
      "cell_type": "code",
      "metadata": {
        "colab": {
          "base_uri": "https://localhost:8080/"
        },
        "id": "-wfQfQW37Kwb",
        "outputId": "4be5231f-be5b-459d-d6a2-321e15ec9db6"
      },
      "source": [
        "for x, y in dataset:\n",
        "  print(x.numpy(), y.numpy())"
      ],
      "execution_count": 33,
      "outputs": [
        {
          "output_type": "stream",
          "text": [
            "[0 1 2 3] [4]\n",
            "[1 2 3 4] [5]\n",
            "[2 3 4 5] [6]\n",
            "[3 4 5 6] [7]\n",
            "[4 5 6 7] [8]\n",
            "[5 6 7 8] [9]\n"
          ],
          "name": "stdout"
        }
      ]
    },
    {
      "cell_type": "markdown",
      "metadata": {
        "id": "qJzpCWSA76wC"
      },
      "source": [
        "## Use the `shuffle(buffer_size)` method to shuffle data before training. This helps to rearrange the data so as not to accidentally introduce a sequence bias."
      ]
    },
    {
      "cell_type": "code",
      "metadata": {
        "id": "bwlaBR7h7jLn"
      },
      "source": [
        "dataset = tf.data.Dataset.range(10)\n",
        "dataset = dataset.window(size=5, shift=1, drop_remainder=True)\n",
        "dataset = dataset.flat_map(lambda window: window.batch(5))\n",
        "dataset = dataset.map(lambda window: (window[:-1], window[-1:]))\n",
        "dataset = dataset.shuffle(buffer_size=10)"
      ],
      "execution_count": 35,
      "outputs": []
    },
    {
      "cell_type": "code",
      "metadata": {
        "colab": {
          "base_uri": "https://localhost:8080/"
        },
        "id": "sNAGNuvV8wkK",
        "outputId": "e6e3b670-121e-431b-bede-183cb47cdc29"
      },
      "source": [
        "for x, y in dataset:\n",
        "  print(x.numpy(), y.numpy())"
      ],
      "execution_count": 36,
      "outputs": [
        {
          "output_type": "stream",
          "text": [
            "[1 2 3 4] [5]\n",
            "[2 3 4 5] [6]\n",
            "[4 5 6 7] [8]\n",
            "[5 6 7 8] [9]\n",
            "[0 1 2 3] [4]\n",
            "[3 4 5 6] [7]\n"
          ],
          "name": "stdout"
        }
      ]
    },
    {
      "cell_type": "code",
      "metadata": {
        "colab": {
          "base_uri": "https://localhost:8080/"
        },
        "id": "JxT3e78y81Na",
        "outputId": "fcce7dde-06f0-49fd-ef92-73f85d319ff8"
      },
      "source": [
        "for x, y in dataset:\n",
        "  print(x.numpy(), y.numpy())"
      ],
      "execution_count": 38,
      "outputs": [
        {
          "output_type": "stream",
          "text": [
            "[2 3 4 5] [6]\n",
            "[4 5 6 7] [8]\n",
            "[5 6 7 8] [9]\n",
            "[0 1 2 3] [4]\n",
            "[3 4 5 6] [7]\n",
            "[1 2 3 4] [5]\n"
          ],
          "name": "stdout"
        }
      ]
    },
    {
      "cell_type": "markdown",
      "metadata": {
        "id": "mbA3KQ3S9Rr2"
      },
      "source": [
        "## Use `batch()` method to batch dataset.\n",
        "\n",
        "By setting a batch size of two, our data gets batched into two x's and two y's at a time."
      ]
    },
    {
      "cell_type": "code",
      "metadata": {
        "id": "PqdLJw6e8289"
      },
      "source": [
        "dataset = tf.data.Dataset.range(10)\n",
        "dataset = dataset.window(size=5, shift=1, drop_remainder=True)\n",
        "dataset = dataset.flat_map(lambda window: window.batch(5))\n",
        "dataset = dataset.map(lambda window: (window[:-1], window[-1:]))\n",
        "dataset = dataset.shuffle(buffer_size=10)\n",
        "dataset = dataset.batch(2).prefetch(1)"
      ],
      "execution_count": 40,
      "outputs": []
    },
    {
      "cell_type": "code",
      "metadata": {
        "colab": {
          "base_uri": "https://localhost:8080/"
        },
        "id": "OG0mcxAW-AnX",
        "outputId": "ef13771b-acf7-4330-abba-bc6418897dd9"
      },
      "source": [
        "for x, y in dataset:\n",
        "  print(\"x= \", x.numpy())\n",
        "  print(\"y= \", y.numpy(), '\\n\\n')"
      ],
      "execution_count": 50,
      "outputs": [
        {
          "output_type": "stream",
          "text": [
            "x=  [[3 4 5 6]\n",
            " [0 1 2 3]]\n",
            "y=  [[7]\n",
            " [4]] \n",
            "\n",
            "\n",
            "x=  [[5 6 7 8]\n",
            " [1 2 3 4]]\n",
            "y=  [[9]\n",
            " [5]] \n",
            "\n",
            "\n",
            "x=  [[4 5 6 7]\n",
            " [2 3 4 5]]\n",
            "y=  [[8]\n",
            " [6]] \n",
            "\n",
            "\n"
          ],
          "name": "stdout"
        }
      ]
    },
    {
      "cell_type": "code",
      "metadata": {
        "colab": {
          "base_uri": "https://localhost:8080/"
        },
        "id": "IRsIPCyv-LxE",
        "outputId": "9261e91b-a3dc-4950-9937-d313ed6952a7"
      },
      "source": [
        "for x, y in dataset:\n",
        "  print(\"x= \", x.numpy())\n",
        "  print(\"y= \", y.numpy(), '\\n\\n')"
      ],
      "execution_count": 51,
      "outputs": [
        {
          "output_type": "stream",
          "text": [
            "x=  [[0 1 2 3]\n",
            " [1 2 3 4]]\n",
            "y=  [[4]\n",
            " [5]] \n",
            "\n",
            "\n",
            "x=  [[3 4 5 6]\n",
            " [2 3 4 5]]\n",
            "y=  [[7]\n",
            " [6]] \n",
            "\n",
            "\n",
            "x=  [[5 6 7 8]\n",
            " [4 5 6 7]]\n",
            "y=  [[9]\n",
            " [8]] \n",
            "\n",
            "\n"
          ],
          "name": "stdout"
        }
      ]
    }
  ]
}