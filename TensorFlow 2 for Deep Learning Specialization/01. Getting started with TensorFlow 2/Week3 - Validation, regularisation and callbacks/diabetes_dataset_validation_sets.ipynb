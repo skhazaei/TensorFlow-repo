{
  "nbformat": 4,
  "nbformat_minor": 0,
  "metadata": {
    "colab": {
      "name": "diabetes_dataset_validation_sets.ipynb",
      "provenance": [],
      "collapsed_sections": [],
      "authorship_tag": "ABX9TyOFhtcf6SUjIyAzWwW4JC/j",
      "include_colab_link": true
    },
    "kernelspec": {
      "name": "python3",
      "display_name": "Python 3"
    }
  },
  "cells": [
    {
      "cell_type": "markdown",
      "metadata": {
        "id": "view-in-github",
        "colab_type": "text"
      },
      "source": [
        "<a href=\"https://colab.research.google.com/github/skhazaei/TensorFlow-repo/blob/master/diabetes_dataset_validation_sets.ipynb\" target=\"_parent\"><img src=\"https://colab.research.google.com/assets/colab-badge.svg\" alt=\"Open In Colab\"/></a>"
      ]
    },
    {
      "cell_type": "markdown",
      "metadata": {
        "id": "ilJ7PNQrdxN6"
      },
      "source": [
        "# Load and return the diabetes dataset (regression) from `sklearn.datasets`"
      ]
    },
    {
      "cell_type": "code",
      "metadata": {
        "id": "au1Wcyoaadm8"
      },
      "source": [
        "from sklearn.datasets import load_diabetes\n",
        "diabetes_dataset = load_diabetes()"
      ],
      "execution_count": 1,
      "outputs": []
    },
    {
      "cell_type": "markdown",
      "metadata": {
        "id": "ADDmSQSLe_Z3"
      },
      "source": [
        "## Check [here](https://scikit-learn.org/stable/modules/generated/sklearn.datasets.load_diabetes.html) to learn more about the dataset and `keys()`.\n"
      ]
    },
    {
      "cell_type": "code",
      "metadata": {
        "colab": {
          "base_uri": "https://localhost:8080/"
        },
        "id": "1R2yH7dKgv3w",
        "outputId": "68a6b668-2809-426a-d6a9-9c1b00ff5b8a"
      },
      "source": [
        "print(diabetes_dataset.keys())"
      ],
      "execution_count": 2,
      "outputs": [
        {
          "output_type": "stream",
          "text": [
            "dict_keys(['data', 'target', 'DESCR', 'feature_names', 'data_filename', 'target_filename'])\n"
          ],
          "name": "stdout"
        }
      ]
    },
    {
      "cell_type": "code",
      "metadata": {
        "colab": {
          "base_uri": "https://localhost:8080/"
        },
        "id": "KDq9C0prfGLb",
        "outputId": "1d23c209-98ee-4e5e-bd4d-c551add9f10c"
      },
      "source": [
        "print(diabetes_dataset['DESCR'])"
      ],
      "execution_count": 3,
      "outputs": [
        {
          "output_type": "stream",
          "text": [
            ".. _diabetes_dataset:\n",
            "\n",
            "Diabetes dataset\n",
            "----------------\n",
            "\n",
            "Ten baseline variables, age, sex, body mass index, average blood\n",
            "pressure, and six blood serum measurements were obtained for each of n =\n",
            "442 diabetes patients, as well as the response of interest, a\n",
            "quantitative measure of disease progression one year after baseline.\n",
            "\n",
            "**Data Set Characteristics:**\n",
            "\n",
            "  :Number of Instances: 442\n",
            "\n",
            "  :Number of Attributes: First 10 columns are numeric predictive values\n",
            "\n",
            "  :Target: Column 11 is a quantitative measure of disease progression one year after baseline\n",
            "\n",
            "  :Attribute Information:\n",
            "      - Age\n",
            "      - Sex\n",
            "      - Body mass index\n",
            "      - Average blood pressure\n",
            "      - S1\n",
            "      - S2\n",
            "      - S3\n",
            "      - S4\n",
            "      - S5\n",
            "      - S6\n",
            "\n",
            "Note: Each of these 10 feature variables have been mean centered and scaled by the standard deviation times `n_samples` (i.e. the sum of squares of each column totals 1).\n",
            "\n",
            "Source URL:\n",
            "https://www4.stat.ncsu.edu/~boos/var.select/diabetes.html\n",
            "\n",
            "For more information see:\n",
            "Bradley Efron, Trevor Hastie, Iain Johnstone and Robert Tibshirani (2004) \"Least Angle Regression,\" Annals of Statistics (with discussion), 407-499.\n",
            "(https://web.stanford.edu/~hastie/Papers/LARS/LeastAngle_2002.pdf)\n"
          ],
          "name": "stdout"
        }
      ]
    },
    {
      "cell_type": "code",
      "metadata": {
        "colab": {
          "base_uri": "https://localhost:8080/"
        },
        "id": "VdJ8a5HFeABG",
        "outputId": "f890a128-a911-472a-9166-38d4248418d2"
      },
      "source": [
        "print(diabetes_dataset['feature_names'])"
      ],
      "execution_count": 4,
      "outputs": [
        {
          "output_type": "stream",
          "text": [
            "['age', 'sex', 'bmi', 'bp', 's1', 's2', 's3', 's4', 's5', 's6']\n"
          ],
          "name": "stdout"
        }
      ]
    },
    {
      "cell_type": "code",
      "metadata": {
        "colab": {
          "base_uri": "https://localhost:8080/"
        },
        "id": "9XoifXHFfyUX",
        "outputId": "98c763ca-6ad0-4fdb-a7d2-aa9066042fa5"
      },
      "source": [
        "print(diabetes_dataset['data'])"
      ],
      "execution_count": 5,
      "outputs": [
        {
          "output_type": "stream",
          "text": [
            "[[ 0.03807591  0.05068012  0.06169621 ... -0.00259226  0.01990842\n",
            "  -0.01764613]\n",
            " [-0.00188202 -0.04464164 -0.05147406 ... -0.03949338 -0.06832974\n",
            "  -0.09220405]\n",
            " [ 0.08529891  0.05068012  0.04445121 ... -0.00259226  0.00286377\n",
            "  -0.02593034]\n",
            " ...\n",
            " [ 0.04170844  0.05068012 -0.01590626 ... -0.01107952 -0.04687948\n",
            "   0.01549073]\n",
            " [-0.04547248 -0.04464164  0.03906215 ...  0.02655962  0.04452837\n",
            "  -0.02593034]\n",
            " [-0.04547248 -0.04464164 -0.0730303  ... -0.03949338 -0.00421986\n",
            "   0.00306441]]\n"
          ],
          "name": "stdout"
        }
      ]
    },
    {
      "cell_type": "code",
      "metadata": {
        "colab": {
          "base_uri": "https://localhost:8080/"
        },
        "id": "Xf_eaSGBgVwz",
        "outputId": "a3d15f5e-900d-450a-c73b-88d50a56e193"
      },
      "source": [
        "print(diabetes_dataset['target'])"
      ],
      "execution_count": 6,
      "outputs": [
        {
          "output_type": "stream",
          "text": [
            "[151.  75. 141. 206. 135.  97. 138.  63. 110. 310. 101.  69. 179. 185.\n",
            " 118. 171. 166. 144.  97. 168.  68.  49.  68. 245. 184. 202. 137.  85.\n",
            " 131. 283. 129.  59. 341.  87.  65. 102. 265. 276. 252.  90. 100.  55.\n",
            "  61.  92. 259.  53. 190. 142.  75. 142. 155. 225.  59. 104. 182. 128.\n",
            "  52.  37. 170. 170.  61. 144.  52. 128.  71. 163. 150.  97. 160. 178.\n",
            "  48. 270. 202. 111.  85.  42. 170. 200. 252. 113. 143.  51.  52. 210.\n",
            "  65. 141.  55. 134.  42. 111.  98. 164.  48.  96.  90. 162. 150. 279.\n",
            "  92.  83. 128. 102. 302. 198.  95.  53. 134. 144. 232.  81. 104.  59.\n",
            " 246. 297. 258. 229. 275. 281. 179. 200. 200. 173. 180.  84. 121. 161.\n",
            "  99. 109. 115. 268. 274. 158. 107.  83. 103. 272.  85. 280. 336. 281.\n",
            " 118. 317. 235.  60. 174. 259. 178. 128.  96. 126. 288.  88. 292.  71.\n",
            " 197. 186.  25.  84.  96. 195.  53. 217. 172. 131. 214.  59.  70. 220.\n",
            " 268. 152.  47.  74. 295. 101. 151. 127. 237. 225.  81. 151. 107.  64.\n",
            " 138. 185. 265. 101. 137. 143. 141.  79. 292. 178.  91. 116.  86. 122.\n",
            "  72. 129. 142.  90. 158.  39. 196. 222. 277.  99. 196. 202. 155.  77.\n",
            " 191.  70.  73.  49.  65. 263. 248. 296. 214. 185.  78.  93. 252. 150.\n",
            "  77. 208.  77. 108. 160.  53. 220. 154. 259.  90. 246. 124.  67.  72.\n",
            " 257. 262. 275. 177.  71.  47. 187. 125.  78.  51. 258. 215. 303. 243.\n",
            "  91. 150. 310. 153. 346.  63.  89.  50.  39. 103. 308. 116. 145.  74.\n",
            "  45. 115. 264.  87. 202. 127. 182. 241.  66.  94. 283.  64. 102. 200.\n",
            " 265.  94. 230. 181. 156. 233.  60. 219.  80.  68. 332. 248.  84. 200.\n",
            "  55.  85.  89.  31. 129.  83. 275.  65. 198. 236. 253. 124.  44. 172.\n",
            " 114. 142. 109. 180. 144. 163. 147.  97. 220. 190. 109. 191. 122. 230.\n",
            " 242. 248. 249. 192. 131. 237.  78. 135. 244. 199. 270. 164.  72.  96.\n",
            " 306.  91. 214.  95. 216. 263. 178. 113. 200. 139. 139.  88. 148.  88.\n",
            " 243.  71.  77. 109. 272.  60.  54. 221.  90. 311. 281. 182. 321.  58.\n",
            " 262. 206. 233. 242. 123. 167.  63. 197.  71. 168. 140. 217. 121. 235.\n",
            " 245.  40.  52. 104. 132.  88.  69. 219.  72. 201. 110.  51. 277.  63.\n",
            " 118.  69. 273. 258.  43. 198. 242. 232. 175.  93. 168. 275. 293. 281.\n",
            "  72. 140. 189. 181. 209. 136. 261. 113. 131. 174. 257.  55.  84.  42.\n",
            " 146. 212. 233.  91. 111. 152. 120.  67. 310.  94. 183.  66. 173.  72.\n",
            "  49.  64.  48. 178. 104. 132. 220.  57.]\n"
          ],
          "name": "stdout"
        }
      ]
    },
    {
      "cell_type": "markdown",
      "metadata": {
        "id": "8das2wIehCfi"
      },
      "source": [
        "## Let's save the input data and target for training"
      ]
    },
    {
      "cell_type": "code",
      "metadata": {
        "colab": {
          "base_uri": "https://localhost:8080/"
        },
        "id": "RAsk4KlggaFz",
        "outputId": "c0cdcfa8-954d-4240-ead0-41102fd0a023"
      },
      "source": [
        "data = diabetes_dataset['data']\n",
        "target = diabetes_dataset['target']\n",
        "print(type(target))"
      ],
      "execution_count": 7,
      "outputs": [
        {
          "output_type": "stream",
          "text": [
            "<class 'numpy.ndarray'>\n"
          ],
          "name": "stdout"
        }
      ]
    },
    {
      "cell_type": "markdown",
      "metadata": {
        "id": "Ul8xlkDGhhxY"
      },
      "source": [
        "## Use `mean()` and `std()` to normalize the target so that the values are between 0 and 1"
      ]
    },
    {
      "cell_type": "code",
      "metadata": {
        "id": "O9oXa_SEhRVQ"
      },
      "source": [
        "target = (target - target.mean(axis=0)) / target.std()"
      ],
      "execution_count": 8,
      "outputs": []
    },
    {
      "cell_type": "code",
      "metadata": {
        "colab": {
          "base_uri": "https://localhost:8080/"
        },
        "id": "pDbjIyD4iIzh",
        "outputId": "7d2203c7-6d29-40a9-c401-499a98a1547f"
      },
      "source": [
        "print(f'target after normalization: \\n\\n{target}')"
      ],
      "execution_count": 9,
      "outputs": [
        {
          "output_type": "stream",
          "text": [
            "target after normalization: \n",
            "\n",
            "[-1.47194752e-02 -1.00165882e+00 -1.44579915e-01  6.99512942e-01\n",
            " -2.22496178e-01 -7.15965848e-01 -1.83538046e-01 -1.15749134e+00\n",
            " -5.47147277e-01  2.05006151e+00 -6.64021672e-01 -1.07957508e+00\n",
            "  3.48889755e-01  4.26806019e-01 -4.43258925e-01  2.45001404e-01\n",
            "  1.80071184e-01 -1.05621783e-01 -7.15965848e-01  2.06043272e-01\n",
            " -1.09256112e+00 -1.33929596e+00 -1.09256112e+00  1.20596866e+00\n",
            "  4.13819975e-01  6.47568766e-01 -1.96524090e-01 -8.71798376e-01\n",
            " -2.74440354e-01  1.69943833e+00 -3.00412442e-01 -1.20943552e+00\n",
            "  2.45262887e+00 -8.45826288e-01 -1.13151925e+00 -6.51035629e-01\n",
            "  1.46568953e+00  1.60853602e+00  1.29687096e+00 -8.06868156e-01\n",
            " -6.77007716e-01 -1.26137969e+00 -1.18346343e+00 -7.80896068e-01\n",
            "  1.38777327e+00 -1.28735178e+00  4.91736239e-01 -1.31593871e-01\n",
            " -1.00165882e+00 -1.31593871e-01  3.72247006e-02  9.46247777e-01\n",
            " -1.20943552e+00 -6.25063541e-01  3.87847887e-01 -3.13398486e-01\n",
            " -1.30033783e+00 -1.49512849e+00  2.32015360e-01  2.32015360e-01\n",
            " -1.18346343e+00 -1.05621783e-01 -1.30033783e+00 -3.13398486e-01\n",
            " -1.05360299e+00  1.41113052e-01 -2.77055191e-02 -7.15965848e-01\n",
            "  1.02154920e-01  3.35903711e-01 -1.35228200e+00  1.53061975e+00\n",
            "  6.47568766e-01 -5.34161233e-01 -8.71798376e-01 -1.43019827e+00\n",
            "  2.32015360e-01  6.21596678e-01  1.29687096e+00 -5.08189145e-01\n",
            " -1.18607827e-01 -1.31332387e+00 -1.30033783e+00  7.51457118e-01\n",
            " -1.13151925e+00 -1.44579915e-01 -1.26137969e+00 -2.35482222e-01\n",
            " -1.43019827e+00 -5.34161233e-01 -7.02979804e-01  1.54099096e-01\n",
            " -1.35228200e+00 -7.28951892e-01 -8.06868156e-01  1.28127008e-01\n",
            " -2.77055191e-02  1.64749415e+00 -7.80896068e-01 -8.97770464e-01\n",
            " -3.13398486e-01 -6.51035629e-01  1.94617316e+00  5.95624590e-01\n",
            " -7.41937936e-01 -1.28735178e+00 -2.35482222e-01 -1.05621783e-01\n",
            "  1.03715008e+00 -9.23742551e-01 -6.25063541e-01 -1.20943552e+00\n",
            "  1.21895470e+00  1.88124294e+00  1.37478723e+00  9.98191953e-01\n",
            "  1.59554997e+00  1.67346624e+00  3.48889755e-01  6.21596678e-01\n",
            "  6.21596678e-01  2.70973492e-01  3.61875799e-01 -8.84784420e-01\n",
            " -4.04300794e-01  1.15140964e-01 -6.89993760e-01 -5.60133321e-01\n",
            " -4.82217057e-01  1.50464767e+00  1.58256393e+00  7.61828325e-02\n",
            " -5.86105409e-01 -8.97770464e-01 -6.38049585e-01  1.55659184e+00\n",
            " -8.71798376e-01  1.66048019e+00  2.38769865e+00  1.67346624e+00\n",
            " -4.43258925e-01  2.14096382e+00  1.07610822e+00 -1.19644947e+00\n",
            "  2.83959536e-01  1.38777327e+00  3.35903711e-01 -3.13398486e-01\n",
            " -7.28951892e-01 -3.39370574e-01  1.76436855e+00 -8.32840244e-01\n",
            "  1.81631272e+00 -1.05360299e+00  5.82638546e-01  4.39792063e-01\n",
            " -1.65096101e+00 -8.84784420e-01 -7.28951892e-01  5.56666458e-01\n",
            " -1.28735178e+00  8.42359425e-01  2.57987448e-01 -2.74440354e-01\n",
            "  8.03401293e-01 -1.20943552e+00 -1.06658903e+00  8.81317557e-01\n",
            "  1.50464767e+00 -1.73343121e-03 -1.36526805e+00 -1.01464486e+00\n",
            "  1.85527085e+00 -6.64021672e-01 -1.47194752e-02 -3.26384530e-01\n",
            "  1.10208030e+00  9.46247777e-01 -9.23742551e-01 -1.47194752e-02\n",
            " -5.86105409e-01 -1.14450530e+00 -1.83538046e-01  4.26806019e-01\n",
            "  1.46568953e+00 -6.64021672e-01 -1.96524090e-01 -1.18607827e-01\n",
            " -1.44579915e-01 -9.49714639e-01  1.81631272e+00  3.35903711e-01\n",
            " -7.93882112e-01 -4.69231013e-01 -8.58812332e-01 -3.91314750e-01\n",
            " -1.04061695e+00 -3.00412442e-01 -1.31593871e-01 -8.06868156e-01\n",
            "  7.61828325e-02 -1.46915640e+00  5.69652502e-01  9.07289645e-01\n",
            "  1.62152206e+00 -6.89993760e-01  5.69652502e-01  6.47568766e-01\n",
            "  3.72247006e-02 -9.75686727e-01  5.04722283e-01 -1.06658903e+00\n",
            " -1.02763090e+00 -1.33929596e+00 -1.13151925e+00  1.43971745e+00\n",
            "  1.24492679e+00  1.86825690e+00  8.03401293e-01  4.26806019e-01\n",
            " -9.62700683e-01 -7.67910024e-01  1.29687096e+00 -2.77055191e-02\n",
            " -9.75686727e-01  7.25485030e-01 -9.75686727e-01 -5.73119365e-01\n",
            "  1.02154920e-01 -1.28735178e+00  8.81317557e-01  2.42386567e-02\n",
            "  1.38777327e+00 -8.06868156e-01  1.21895470e+00 -3.65342662e-01\n",
            " -1.10554717e+00 -1.04061695e+00  1.36180118e+00  1.42673140e+00\n",
            "  1.59554997e+00  3.22917667e-01 -1.05360299e+00 -1.36526805e+00\n",
            "  4.52778107e-01 -3.52356618e-01 -9.62700683e-01 -1.31332387e+00\n",
            "  1.37478723e+00  8.16387337e-01  1.95915920e+00  1.17999657e+00\n",
            " -7.93882112e-01 -2.77055191e-02  2.05006151e+00  1.12526127e-02\n",
            "  2.51755909e+00 -1.15749134e+00 -8.19854200e-01 -1.32630991e+00\n",
            " -1.46915640e+00 -6.38049585e-01  2.02408942e+00 -4.69231013e-01\n",
            " -9.26357388e-02 -1.01464486e+00 -1.39124013e+00 -4.82217057e-01\n",
            "  1.45270349e+00 -8.45826288e-01  6.47568766e-01 -3.26384530e-01\n",
            "  3.87847887e-01  1.15402448e+00 -1.11853321e+00 -7.54923980e-01\n",
            "  1.69943833e+00 -1.14450530e+00 -6.51035629e-01  6.21596678e-01\n",
            "  1.46568953e+00 -7.54923980e-01  1.01117800e+00  3.74861843e-01\n",
            "  5.02107446e-02  1.05013613e+00 -1.19644947e+00  8.68331513e-01\n",
            " -9.36728595e-01 -1.09256112e+00  2.33575448e+00  1.24492679e+00\n",
            " -8.84784420e-01  6.21596678e-01 -1.26137969e+00 -8.71798376e-01\n",
            " -8.19854200e-01 -1.57304475e+00 -3.00412442e-01 -8.97770464e-01\n",
            "  1.59554997e+00 -1.13151925e+00  5.95624590e-01  1.08909426e+00\n",
            "  1.30985701e+00 -3.65342662e-01 -1.40422618e+00  2.57987448e-01\n",
            " -4.95203101e-01 -1.31593871e-01 -5.60133321e-01  3.61875799e-01\n",
            " -1.05621783e-01  1.41113052e-01 -6.66636509e-02 -7.15965848e-01\n",
            "  8.81317557e-01  4.91736239e-01 -5.60133321e-01  5.04722283e-01\n",
            " -3.91314750e-01  1.01117800e+00  1.16701052e+00  1.24492679e+00\n",
            "  1.25791283e+00  5.17708327e-01 -2.74440354e-01  1.10208030e+00\n",
            " -9.62700683e-01 -2.22496178e-01  1.19298261e+00  6.08610634e-01\n",
            "  1.53061975e+00  1.54099096e-01 -1.04061695e+00 -7.28951892e-01\n",
            "  1.99811734e+00 -7.93882112e-01  8.03401293e-01 -7.41937936e-01\n",
            "  8.29373381e-01  1.43971745e+00  3.35903711e-01 -5.08189145e-01\n",
            "  6.21596678e-01 -1.70552003e-01 -1.70552003e-01 -8.32840244e-01\n",
            " -5.36776070e-02 -8.32840244e-01  1.17999657e+00 -1.05360299e+00\n",
            " -9.75686727e-01 -5.60133321e-01  1.55659184e+00 -1.19644947e+00\n",
            " -1.27436574e+00  8.94303601e-01 -8.06868156e-01  2.06304756e+00\n",
            "  1.67346624e+00  3.87847887e-01  2.19290800e+00 -1.22242156e+00\n",
            "  1.42673140e+00  6.99512942e-01  1.05013613e+00  1.16701052e+00\n",
            " -3.78328706e-01  1.93057228e-01 -1.15749134e+00  5.82638546e-01\n",
            " -1.05360299e+00  2.06043272e-01 -1.57565959e-01  8.42359425e-01\n",
            " -4.04300794e-01  1.07610822e+00  1.20596866e+00 -1.45617035e+00\n",
            " -1.30033783e+00 -6.25063541e-01 -2.61454310e-01 -8.32840244e-01\n",
            " -1.07957508e+00  8.68331513e-01 -1.04061695e+00  6.34582722e-01\n",
            " -5.47147277e-01 -1.31332387e+00  1.62152206e+00 -1.15749134e+00\n",
            " -4.43258925e-01 -1.07957508e+00  1.56957789e+00  1.37478723e+00\n",
            " -1.41721222e+00  5.95624590e-01  1.16701052e+00  1.03715008e+00\n",
            "  2.96945580e-01 -7.67910024e-01  2.06043272e-01  1.59554997e+00\n",
            "  1.82929877e+00  1.67346624e+00 -1.04061695e+00 -1.57565959e-01\n",
            "  4.78750195e-01  3.74861843e-01  7.38471074e-01 -2.09510134e-01\n",
            "  1.41374536e+00 -5.08189145e-01 -2.74440354e-01  2.83959536e-01\n",
            "  1.36180118e+00 -1.26137969e+00 -8.84784420e-01 -1.43019827e+00\n",
            " -7.96496949e-02  7.77429206e-01  1.05013613e+00 -7.93882112e-01\n",
            " -5.34161233e-01 -1.73343121e-03 -4.17286837e-01 -1.10554717e+00\n",
            "  2.05006151e+00 -7.54923980e-01  4.00833931e-01 -1.11853321e+00\n",
            "  2.70973492e-01 -1.04061695e+00 -1.33929596e+00 -1.14450530e+00\n",
            " -1.35228200e+00  3.35903711e-01 -6.25063541e-01 -2.61454310e-01\n",
            "  8.81317557e-01 -1.23540761e+00]\n"
          ],
          "name": "stdout"
        }
      ]
    },
    {
      "cell_type": "markdown",
      "metadata": {
        "id": "s9z_686Zjepp"
      },
      "source": [
        "## Split the data into train and test sets, test size to be 0.1 of total examples"
      ]
    },
    {
      "cell_type": "code",
      "metadata": {
        "id": "XMX8Xyk1ix0i"
      },
      "source": [
        "from sklearn.model_selection import train_test_split\n",
        "train_set, test_set, train_target, test_target = train_test_split(data, target, test_size=0.1)"
      ],
      "execution_count": 10,
      "outputs": []
    },
    {
      "cell_type": "markdown",
      "metadata": {
        "id": "ntiKkU24ku7-"
      },
      "source": [
        "## Let's check the shape of train and test sets"
      ]
    },
    {
      "cell_type": "code",
      "metadata": {
        "colab": {
          "base_uri": "https://localhost:8080/"
        },
        "id": "jeWLsqvrkLCr",
        "outputId": "44ca273b-3982-4be7-e678-c0e35977e771"
      },
      "source": [
        "print(f'train size {train_set.shape}')\n",
        "print(f'test size {test_set.shape}')\n",
        "print(f'train target {train_target.shape}')\n",
        "print(f'test target {test_target.shape}')"
      ],
      "execution_count": 11,
      "outputs": [
        {
          "output_type": "stream",
          "text": [
            "train size (397, 10)\n",
            "test size (45, 10)\n",
            "train target (397,)\n",
            "test target (45,)\n"
          ],
          "name": "stdout"
        }
      ]
    },
    {
      "cell_type": "markdown",
      "metadata": {
        "id": "WDeSfoVkNrku"
      },
      "source": [
        "## Define a feedforward neural network"
      ]
    },
    {
      "cell_type": "code",
      "metadata": {
        "id": "ybXmiqg7lNPt"
      },
      "source": [
        "import tensorflow as tf\n",
        "\n",
        "def get_model():\n",
        "  model = tf.keras.models.Sequential([\n",
        "                                     tf.keras.layers.Dense(128, activation='relu', input_shape=(train_set.shape[1],)),\n",
        "                                     tf.keras.layers.Dense(128, activation='relu'),\n",
        "                                     tf.keras.layers.Dense(128, activation='relu'),\n",
        "                                     tf.keras.layers.Dense(128, activation='relu'),\n",
        "                                     tf.keras.layers.Dense(128, activation='relu'),\n",
        "                                     tf.keras.layers.Dense(128, activation='relu'),\n",
        "                                     tf.keras.layers.Dense(1)\n",
        "  ])\n",
        "  return model"
      ],
      "execution_count": 12,
      "outputs": []
    },
    {
      "cell_type": "code",
      "metadata": {
        "colab": {
          "base_uri": "https://localhost:8080/"
        },
        "id": "bFqSKVHmO-hC",
        "outputId": "cb9ac786-78d4-4c2b-8ddb-5392c3fcd992"
      },
      "source": [
        "model = get_model()\n",
        "model.summary()"
      ],
      "execution_count": 13,
      "outputs": [
        {
          "output_type": "stream",
          "text": [
            "Model: \"sequential\"\n",
            "_________________________________________________________________\n",
            "Layer (type)                 Output Shape              Param #   \n",
            "=================================================================\n",
            "dense (Dense)                (None, 128)               1408      \n",
            "_________________________________________________________________\n",
            "dense_1 (Dense)              (None, 128)               16512     \n",
            "_________________________________________________________________\n",
            "dense_2 (Dense)              (None, 128)               16512     \n",
            "_________________________________________________________________\n",
            "dense_3 (Dense)              (None, 128)               16512     \n",
            "_________________________________________________________________\n",
            "dense_4 (Dense)              (None, 128)               16512     \n",
            "_________________________________________________________________\n",
            "dense_5 (Dense)              (None, 128)               16512     \n",
            "_________________________________________________________________\n",
            "dense_6 (Dense)              (None, 1)                 129       \n",
            "=================================================================\n",
            "Total params: 84,097\n",
            "Trainable params: 84,097\n",
            "Non-trainable params: 0\n",
            "_________________________________________________________________\n"
          ],
          "name": "stdout"
        }
      ]
    },
    {
      "cell_type": "code",
      "metadata": {
        "id": "hXPZyEYKPTVt"
      },
      "source": [
        "model.compile(optimizer=tf.keras.optimizers.Adam(), loss=tf.keras.losses.MeanSquaredError(), metrics=['mae'])"
      ],
      "execution_count": 14,
      "outputs": []
    },
    {
      "cell_type": "code",
      "metadata": {
        "colab": {
          "base_uri": "https://localhost:8080/"
        },
        "id": "aoLZDt1mQ0QN",
        "outputId": "91414a01-f461-468d-c313-f193066f7608"
      },
      "source": [
        "history = model.fit(train_set, train_target,\n",
        "          validation_split=0.15,\n",
        "          batch_size=64, epochs=100,\n",
        "          verbose=2)"
      ],
      "execution_count": 15,
      "outputs": [
        {
          "output_type": "stream",
          "text": [
            "Epoch 1/100\n",
            "6/6 - 1s - loss: 1.0057 - mae: 0.8608 - val_loss: 0.8604 - val_mae: 0.7479\n",
            "Epoch 2/100\n",
            "6/6 - 0s - loss: 0.9183 - mae: 0.8170 - val_loss: 0.7755 - val_mae: 0.7179\n",
            "Epoch 3/100\n",
            "6/6 - 0s - loss: 0.7233 - mae: 0.7190 - val_loss: 0.6673 - val_mae: 0.6704\n",
            "Epoch 4/100\n",
            "6/6 - 0s - loss: 0.5685 - mae: 0.6148 - val_loss: 0.7001 - val_mae: 0.6818\n",
            "Epoch 5/100\n",
            "6/6 - 0s - loss: 0.5115 - mae: 0.5799 - val_loss: 0.4378 - val_mae: 0.5452\n",
            "Epoch 6/100\n",
            "6/6 - 0s - loss: 0.5319 - mae: 0.5998 - val_loss: 0.4563 - val_mae: 0.5592\n",
            "Epoch 7/100\n",
            "6/6 - 0s - loss: 0.4781 - mae: 0.5642 - val_loss: 0.5030 - val_mae: 0.5694\n",
            "Epoch 8/100\n",
            "6/6 - 0s - loss: 0.4580 - mae: 0.5323 - val_loss: 0.5332 - val_mae: 0.5805\n",
            "Epoch 9/100\n",
            "6/6 - 0s - loss: 0.4692 - mae: 0.5571 - val_loss: 0.4606 - val_mae: 0.5453\n",
            "Epoch 10/100\n",
            "6/6 - 0s - loss: 0.4363 - mae: 0.5281 - val_loss: 0.4744 - val_mae: 0.5406\n",
            "Epoch 11/100\n",
            "6/6 - 0s - loss: 0.4321 - mae: 0.5208 - val_loss: 0.4704 - val_mae: 0.5354\n",
            "Epoch 12/100\n",
            "6/6 - 0s - loss: 0.4264 - mae: 0.5120 - val_loss: 0.4884 - val_mae: 0.5447\n",
            "Epoch 13/100\n",
            "6/6 - 0s - loss: 0.4116 - mae: 0.5106 - val_loss: 0.4586 - val_mae: 0.5372\n",
            "Epoch 14/100\n",
            "6/6 - 0s - loss: 0.4188 - mae: 0.5089 - val_loss: 0.5301 - val_mae: 0.5701\n",
            "Epoch 15/100\n",
            "6/6 - 0s - loss: 0.4057 - mae: 0.5032 - val_loss: 0.4838 - val_mae: 0.5364\n",
            "Epoch 16/100\n",
            "6/6 - 0s - loss: 0.3981 - mae: 0.4955 - val_loss: 0.4542 - val_mae: 0.5187\n",
            "Epoch 17/100\n",
            "6/6 - 0s - loss: 0.3848 - mae: 0.4856 - val_loss: 0.4861 - val_mae: 0.5324\n",
            "Epoch 18/100\n",
            "6/6 - 0s - loss: 0.3738 - mae: 0.4766 - val_loss: 0.5054 - val_mae: 0.5399\n",
            "Epoch 19/100\n",
            "6/6 - 0s - loss: 0.3707 - mae: 0.4743 - val_loss: 0.4920 - val_mae: 0.5345\n",
            "Epoch 20/100\n",
            "6/6 - 0s - loss: 0.3635 - mae: 0.4745 - val_loss: 0.5172 - val_mae: 0.5490\n",
            "Epoch 21/100\n",
            "6/6 - 0s - loss: 0.3538 - mae: 0.4655 - val_loss: 0.5400 - val_mae: 0.5554\n",
            "Epoch 22/100\n",
            "6/6 - 0s - loss: 0.3547 - mae: 0.4588 - val_loss: 0.5302 - val_mae: 0.5539\n",
            "Epoch 23/100\n",
            "6/6 - 0s - loss: 0.3509 - mae: 0.4588 - val_loss: 0.6299 - val_mae: 0.6154\n",
            "Epoch 24/100\n",
            "6/6 - 0s - loss: 0.3678 - mae: 0.4656 - val_loss: 0.5142 - val_mae: 0.5447\n",
            "Epoch 25/100\n",
            "6/6 - 0s - loss: 0.3358 - mae: 0.4497 - val_loss: 0.4823 - val_mae: 0.5317\n",
            "Epoch 26/100\n",
            "6/6 - 0s - loss: 0.3241 - mae: 0.4446 - val_loss: 0.5141 - val_mae: 0.5470\n",
            "Epoch 27/100\n",
            "6/6 - 0s - loss: 0.3159 - mae: 0.4325 - val_loss: 0.5542 - val_mae: 0.5783\n",
            "Epoch 28/100\n",
            "6/6 - 0s - loss: 0.3426 - mae: 0.4577 - val_loss: 0.4829 - val_mae: 0.5329\n",
            "Epoch 29/100\n",
            "6/6 - 0s - loss: 0.3232 - mae: 0.4497 - val_loss: 0.9535 - val_mae: 0.7860\n",
            "Epoch 30/100\n",
            "6/6 - 0s - loss: 0.4306 - mae: 0.5144 - val_loss: 0.5553 - val_mae: 0.5705\n",
            "Epoch 31/100\n",
            "6/6 - 0s - loss: 0.3247 - mae: 0.4549 - val_loss: 0.4797 - val_mae: 0.5377\n",
            "Epoch 32/100\n",
            "6/6 - 0s - loss: 0.3399 - mae: 0.4564 - val_loss: 0.5874 - val_mae: 0.5856\n",
            "Epoch 33/100\n",
            "6/6 - 0s - loss: 0.3361 - mae: 0.4567 - val_loss: 0.5696 - val_mae: 0.5720\n",
            "Epoch 34/100\n",
            "6/6 - 0s - loss: 0.3138 - mae: 0.4299 - val_loss: 0.5586 - val_mae: 0.5597\n",
            "Epoch 35/100\n",
            "6/6 - 0s - loss: 0.2992 - mae: 0.4233 - val_loss: 0.5821 - val_mae: 0.5842\n",
            "Epoch 36/100\n",
            "6/6 - 0s - loss: 0.3099 - mae: 0.4365 - val_loss: 0.5290 - val_mae: 0.5513\n",
            "Epoch 37/100\n",
            "6/6 - 0s - loss: 0.2928 - mae: 0.4127 - val_loss: 0.5733 - val_mae: 0.5885\n",
            "Epoch 38/100\n",
            "6/6 - 0s - loss: 0.3135 - mae: 0.4357 - val_loss: 0.7812 - val_mae: 0.7005\n",
            "Epoch 39/100\n",
            "6/6 - 0s - loss: 0.3289 - mae: 0.4564 - val_loss: 0.5259 - val_mae: 0.5585\n",
            "Epoch 40/100\n",
            "6/6 - 0s - loss: 0.2973 - mae: 0.4292 - val_loss: 0.5747 - val_mae: 0.5630\n",
            "Epoch 41/100\n",
            "6/6 - 0s - loss: 0.2898 - mae: 0.4109 - val_loss: 0.7163 - val_mae: 0.6567\n",
            "Epoch 42/100\n",
            "6/6 - 0s - loss: 0.3062 - mae: 0.4380 - val_loss: 0.5519 - val_mae: 0.5802\n",
            "Epoch 43/100\n",
            "6/6 - 0s - loss: 0.2837 - mae: 0.4173 - val_loss: 0.5873 - val_mae: 0.5773\n",
            "Epoch 44/100\n",
            "6/6 - 0s - loss: 0.2752 - mae: 0.4065 - val_loss: 0.6776 - val_mae: 0.6004\n",
            "Epoch 45/100\n",
            "6/6 - 0s - loss: 0.2443 - mae: 0.3860 - val_loss: 0.5527 - val_mae: 0.5632\n",
            "Epoch 46/100\n",
            "6/6 - 0s - loss: 0.2243 - mae: 0.3682 - val_loss: 0.5677 - val_mae: 0.5709\n",
            "Epoch 47/100\n",
            "6/6 - 0s - loss: 0.2156 - mae: 0.3591 - val_loss: 0.7032 - val_mae: 0.6280\n",
            "Epoch 48/100\n",
            "6/6 - 0s - loss: 0.2241 - mae: 0.3619 - val_loss: 0.5857 - val_mae: 0.5850\n",
            "Epoch 49/100\n",
            "6/6 - 0s - loss: 0.2100 - mae: 0.3556 - val_loss: 0.5904 - val_mae: 0.5854\n",
            "Epoch 50/100\n",
            "6/6 - 0s - loss: 0.2033 - mae: 0.3381 - val_loss: 0.5975 - val_mae: 0.6007\n",
            "Epoch 51/100\n",
            "6/6 - 0s - loss: 0.1974 - mae: 0.3402 - val_loss: 0.5660 - val_mae: 0.5607\n",
            "Epoch 52/100\n",
            "6/6 - 0s - loss: 0.1903 - mae: 0.3388 - val_loss: 0.7022 - val_mae: 0.6304\n",
            "Epoch 53/100\n",
            "6/6 - 0s - loss: 0.1993 - mae: 0.3422 - val_loss: 0.6317 - val_mae: 0.5936\n",
            "Epoch 54/100\n",
            "6/6 - 0s - loss: 0.1713 - mae: 0.3141 - val_loss: 0.6070 - val_mae: 0.6068\n",
            "Epoch 55/100\n",
            "6/6 - 0s - loss: 0.2068 - mae: 0.3558 - val_loss: 0.6490 - val_mae: 0.6177\n",
            "Epoch 56/100\n",
            "6/6 - 0s - loss: 0.2873 - mae: 0.4107 - val_loss: 0.8148 - val_mae: 0.6965\n",
            "Epoch 57/100\n",
            "6/6 - 0s - loss: 0.2537 - mae: 0.3955 - val_loss: 0.5737 - val_mae: 0.5692\n",
            "Epoch 58/100\n",
            "6/6 - 0s - loss: 0.2393 - mae: 0.3842 - val_loss: 0.5084 - val_mae: 0.5411\n",
            "Epoch 59/100\n",
            "6/6 - 0s - loss: 0.2239 - mae: 0.3718 - val_loss: 0.7138 - val_mae: 0.6533\n",
            "Epoch 60/100\n",
            "6/6 - 0s - loss: 0.2210 - mae: 0.3658 - val_loss: 0.5764 - val_mae: 0.5733\n",
            "Epoch 61/100\n",
            "6/6 - 0s - loss: 0.1856 - mae: 0.3286 - val_loss: 0.5970 - val_mae: 0.5768\n",
            "Epoch 62/100\n",
            "6/6 - 0s - loss: 0.1963 - mae: 0.3413 - val_loss: 0.6290 - val_mae: 0.5909\n",
            "Epoch 63/100\n",
            "6/6 - 0s - loss: 0.1555 - mae: 0.3048 - val_loss: 0.6307 - val_mae: 0.5936\n",
            "Epoch 64/100\n",
            "6/6 - 0s - loss: 0.1470 - mae: 0.2951 - val_loss: 0.5715 - val_mae: 0.5600\n",
            "Epoch 65/100\n",
            "6/6 - 0s - loss: 0.1447 - mae: 0.2936 - val_loss: 0.6285 - val_mae: 0.5901\n",
            "Epoch 66/100\n",
            "6/6 - 0s - loss: 0.1323 - mae: 0.2700 - val_loss: 0.6691 - val_mae: 0.6130\n",
            "Epoch 67/100\n",
            "6/6 - 0s - loss: 0.1279 - mae: 0.2742 - val_loss: 0.6453 - val_mae: 0.5959\n",
            "Epoch 68/100\n",
            "6/6 - 0s - loss: 0.1299 - mae: 0.2770 - val_loss: 0.6033 - val_mae: 0.5758\n",
            "Epoch 69/100\n",
            "6/6 - 0s - loss: 0.1281 - mae: 0.2709 - val_loss: 0.5904 - val_mae: 0.5633\n",
            "Epoch 70/100\n",
            "6/6 - 0s - loss: 0.1221 - mae: 0.2677 - val_loss: 0.6264 - val_mae: 0.5904\n",
            "Epoch 71/100\n",
            "6/6 - 0s - loss: 0.1392 - mae: 0.2875 - val_loss: 0.6214 - val_mae: 0.5843\n",
            "Epoch 72/100\n",
            "6/6 - 0s - loss: 0.1103 - mae: 0.2571 - val_loss: 0.6129 - val_mae: 0.5664\n",
            "Epoch 73/100\n",
            "6/6 - 0s - loss: 0.1201 - mae: 0.2650 - val_loss: 0.6378 - val_mae: 0.5893\n",
            "Epoch 74/100\n",
            "6/6 - 0s - loss: 0.0958 - mae: 0.2304 - val_loss: 0.6366 - val_mae: 0.5913\n",
            "Epoch 75/100\n",
            "6/6 - 0s - loss: 0.0929 - mae: 0.2311 - val_loss: 0.6388 - val_mae: 0.5923\n",
            "Epoch 76/100\n",
            "6/6 - 0s - loss: 0.0910 - mae: 0.2265 - val_loss: 0.7297 - val_mae: 0.6401\n",
            "Epoch 77/100\n",
            "6/6 - 0s - loss: 0.0989 - mae: 0.2415 - val_loss: 0.6713 - val_mae: 0.6052\n",
            "Epoch 78/100\n",
            "6/6 - 0s - loss: 0.1020 - mae: 0.2448 - val_loss: 0.6716 - val_mae: 0.5973\n",
            "Epoch 79/100\n",
            "6/6 - 0s - loss: 0.0887 - mae: 0.2245 - val_loss: 0.6482 - val_mae: 0.5914\n",
            "Epoch 80/100\n",
            "6/6 - 0s - loss: 0.0833 - mae: 0.2194 - val_loss: 0.7165 - val_mae: 0.6182\n",
            "Epoch 81/100\n",
            "6/6 - 0s - loss: 0.0794 - mae: 0.2107 - val_loss: 0.6571 - val_mae: 0.5985\n",
            "Epoch 82/100\n",
            "6/6 - 0s - loss: 0.0871 - mae: 0.2223 - val_loss: 0.7454 - val_mae: 0.6336\n",
            "Epoch 83/100\n",
            "6/6 - 0s - loss: 0.0838 - mae: 0.2244 - val_loss: 0.6717 - val_mae: 0.6012\n",
            "Epoch 84/100\n",
            "6/6 - 0s - loss: 0.0833 - mae: 0.2215 - val_loss: 0.6691 - val_mae: 0.6105\n",
            "Epoch 85/100\n",
            "6/6 - 0s - loss: 0.0877 - mae: 0.2246 - val_loss: 0.6414 - val_mae: 0.5807\n",
            "Epoch 86/100\n",
            "6/6 - 0s - loss: 0.0795 - mae: 0.2130 - val_loss: 0.6955 - val_mae: 0.6038\n",
            "Epoch 87/100\n",
            "6/6 - 0s - loss: 0.0896 - mae: 0.2271 - val_loss: 0.6746 - val_mae: 0.6135\n",
            "Epoch 88/100\n",
            "6/6 - 0s - loss: 0.0680 - mae: 0.1968 - val_loss: 0.6090 - val_mae: 0.5760\n",
            "Epoch 89/100\n",
            "6/6 - 0s - loss: 0.0647 - mae: 0.1925 - val_loss: 0.6511 - val_mae: 0.6023\n",
            "Epoch 90/100\n",
            "6/6 - 0s - loss: 0.0726 - mae: 0.2046 - val_loss: 0.6044 - val_mae: 0.5762\n",
            "Epoch 91/100\n",
            "6/6 - 0s - loss: 0.0563 - mae: 0.1766 - val_loss: 0.6838 - val_mae: 0.6002\n",
            "Epoch 92/100\n",
            "6/6 - 0s - loss: 0.0574 - mae: 0.1795 - val_loss: 0.6314 - val_mae: 0.5967\n",
            "Epoch 93/100\n",
            "6/6 - 0s - loss: 0.0752 - mae: 0.2121 - val_loss: 0.6103 - val_mae: 0.5988\n",
            "Epoch 94/100\n",
            "6/6 - 0s - loss: 0.0776 - mae: 0.2179 - val_loss: 0.6630 - val_mae: 0.6066\n",
            "Epoch 95/100\n",
            "6/6 - 0s - loss: 0.1077 - mae: 0.2497 - val_loss: 0.5579 - val_mae: 0.5712\n",
            "Epoch 96/100\n",
            "6/6 - 0s - loss: 0.0851 - mae: 0.2231 - val_loss: 0.6582 - val_mae: 0.5903\n",
            "Epoch 97/100\n",
            "6/6 - 0s - loss: 0.0806 - mae: 0.2157 - val_loss: 0.5969 - val_mae: 0.5853\n",
            "Epoch 98/100\n",
            "6/6 - 0s - loss: 0.0670 - mae: 0.1921 - val_loss: 0.6400 - val_mae: 0.5854\n",
            "Epoch 99/100\n",
            "6/6 - 0s - loss: 0.0560 - mae: 0.1757 - val_loss: 0.7236 - val_mae: 0.6434\n",
            "Epoch 100/100\n",
            "6/6 - 0s - loss: 0.0635 - mae: 0.1892 - val_loss: 0.6456 - val_mae: 0.6021\n"
          ],
          "name": "stdout"
        }
      ]
    },
    {
      "cell_type": "code",
      "metadata": {
        "colab": {
          "base_uri": "https://localhost:8080/"
        },
        "id": "8ROtYGRVRrcR",
        "outputId": "f23cc5aa-29b7-4d9e-85d5-848a5e67e0d5"
      },
      "source": [
        "model.evaluate(test_set, test_target, verbose=2)"
      ],
      "execution_count": 16,
      "outputs": [
        {
          "output_type": "stream",
          "text": [
            "2/2 - 0s - loss: 1.1835 - mae: 0.8070\n"
          ],
          "name": "stdout"
        },
        {
          "output_type": "execute_result",
          "data": {
            "text/plain": [
              "[1.1834850311279297, 0.8070473670959473]"
            ]
          },
          "metadata": {
            "tags": []
          },
          "execution_count": 16
        }
      ]
    },
    {
      "cell_type": "code",
      "metadata": {
        "colab": {
          "base_uri": "https://localhost:8080/",
          "height": 295
        },
        "id": "VXP4oK6LSKoV",
        "outputId": "88f02dd8-3a07-47d1-addd-1c3852b75316"
      },
      "source": [
        "import matplotlib.pyplot as plt\n",
        "\n",
        "def plot_graphs(history, string):\n",
        "  plt.plot(history.history[string], 'b', label=string)\n",
        "  plt.plot(history.history['val_'+string], 'r', label='val_'+string)\n",
        "  plt.xlabel('epochs')\n",
        "  plt.ylabel(string)\n",
        "  plt.title('Loss vs. epochs')\n",
        "  plt.legend()\n",
        "  plt.show()\n",
        "\n",
        "plot_graphs(history, 'loss')\n"
      ],
      "execution_count": 17,
      "outputs": [
        {
          "output_type": "display_data",
          "data": {
            "image/png": "[encoded data removed]",
            "text/plain": [
              "<Figure size 432x288 with 1 Axes>"
            ]
          },
          "metadata": {
            "tags": [],
            "needs_background": "light"
          }
        }
      ]
    }
  ]
}