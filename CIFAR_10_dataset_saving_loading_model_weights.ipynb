{
  "nbformat": 4,
  "nbformat_minor": 0,
  "metadata": {
    "colab": {
      "name": "CIFAR-10_dataset_saving_loading_model_weights.ipynb",
      "provenance": [],
      "collapsed_sections": [],
      "authorship_tag": "ABX9TyMlIxDj22CdxGnTDBbFvfo8",
      "include_colab_link": true
    },
    "kernelspec": {
      "name": "python3",
      "display_name": "Python 3"
    }
  },
  "cells": [
    {
      "cell_type": "markdown",
      "metadata": {
        "id": "view-in-github",
        "colab_type": "text"
      },
      "source": [
        "<a href=\"https://colab.research.google.com/github/skhazaei/TensorFlow-repo/blob/master/CIFAR_10_dataset_saving_loading_model_weights.ipynb\" target=\"_parent\"><img src=\"https://colab.research.google.com/assets/colab-badge.svg\" alt=\"Open In Colab\"/></a>"
      ]
    },
    {
      "cell_type": "markdown",
      "metadata": {
        "id": "tRw6wJPGpjFl"
      },
      "source": [
        "## Load the CIFAR-10 image dataset"
      ]
    },
    {
      "cell_type": "code",
      "metadata": {
        "colab": {
          "base_uri": "https://localhost:8080/"
        },
        "id": "yfLp9edJnpgz",
        "outputId": "782d272b-2d45-40c8-8a3c-c4987b36eb22"
      },
      "source": [
        "import tensorflow as tf\n",
        "\n",
        "cifar = tf.keras.datasets.cifar10\n",
        "(x_train, y_train), (x_test, y_test) = cifar.load_data()"
      ],
      "execution_count": 2,
      "outputs": [
        {
          "output_type": "stream",
          "text": [
            "Downloading data from https://www.cs.toronto.edu/~kriz/cifar-10-python.tar.gz\n",
            "170500096/170498071 [==============================] - 8s 0us/step\n"
          ],
          "name": "stdout"
        }
      ]
    },
    {
      "cell_type": "code",
      "metadata": {
        "colab": {
          "base_uri": "https://localhost:8080/"
        },
        "id": "BY9fnJ5Mp6Sq",
        "outputId": "94531cdf-fe0f-4224-b13f-2ee84401fc2a"
      },
      "source": [
        "print('x train shape: {}'.format(x_train.shape))\n",
        "print('y train shape: {}'.format(y_train.shape))\n",
        "print('x test shape: {}'.format(x_test.shape))\n",
        "print('y test shape: {}'.format(y_test.shape))"
      ],
      "execution_count": 5,
      "outputs": [
        {
          "output_type": "stream",
          "text": [
            "x train shape: (50000, 32, 32, 3)\n",
            "y train shape: (50000, 1)\n",
            "x test shape: (10000, 32, 32, 3)\n",
            "y test shape: (10000, 1)\n"
          ],
          "name": "stdout"
        }
      ]
    },
    {
      "cell_type": "markdown",
      "metadata": {
        "id": "yH36stYZq5kZ"
      },
      "source": [
        "This is a dataset of 50,000 32x32 color training images and 10,000 test images, labeled over 10 categories. See more info at the [CIFAR homepage](https://www.cs.toronto.edu/%7Ekriz/cifar.html).\n",
        "\n"
      ]
    },
    {
      "cell_type": "code",
      "metadata": {
        "id": "oaG2ygeiqgqM"
      },
      "source": [
        "labels = ['airplane',\n",
        "          'automobile',\n",
        "          'bird',\n",
        "          'cat',\n",
        "          'deer',\n",
        "          'dog',\n",
        "          'frog',\n",
        "          'horse',\n",
        "          'ship',\n",
        "          'truck']"
      ],
      "execution_count": 6,
      "outputs": []
    },
    {
      "cell_type": "code",
      "metadata": {
        "id": "YTHEIKWhrVNV"
      },
      "source": [
        "x_train = x_train / 255.0\n",
        "x_test = x_test / 255.0"
      ],
      "execution_count": 7,
      "outputs": []
    },
    {
      "cell_type": "markdown",
      "metadata": {
        "id": "73BxioIErwGW"
      },
      "source": [
        "###Let's use a smaller subset of dataset to speed up the things"
      ]
    },
    {
      "cell_type": "code",
      "metadata": {
        "id": "f6bmxN-trtLe"
      },
      "source": [
        "x_train = x_train[:10000]\n",
        "y_train = y_train[:10000]\n",
        "x_test = x_test[:1000]\n",
        "y_test = y_test[:1000]"
      ],
      "execution_count": 8,
      "outputs": []
    },
    {
      "cell_type": "code",
      "metadata": {
        "colab": {
          "base_uri": "https://localhost:8080/"
        },
        "id": "2uImc_I0sKM-",
        "outputId": "c358f50c-2aa0-442a-b558-029313ca5c2d"
      },
      "source": [
        "print('x train shape: {}'.format(x_train.shape))\n",
        "print('y train shape: {}'.format(y_train.shape))\n",
        "print('x test shape: {}'.format(x_test.shape))\n",
        "print('y test shape: {}'.format(y_test.shape))"
      ],
      "execution_count": 9,
      "outputs": [
        {
          "output_type": "stream",
          "text": [
            "x train shape: (10000, 32, 32, 3)\n",
            "y train shape: (10000, 1)\n",
            "x test shape: (1000, 32, 32, 3)\n",
            "y test shape: (1000, 1)\n"
          ],
          "name": "stdout"
        }
      ]
    },
    {
      "cell_type": "markdown",
      "metadata": {
        "id": "j6TNa8RpsZPW"
      },
      "source": [
        "###Let's plot some of images"
      ]
    },
    {
      "cell_type": "code",
      "metadata": {
        "colab": {
          "base_uri": "https://localhost:8080/",
          "height": 300
        },
        "id": "9YH_BBTksRRO",
        "outputId": "3aa229b0-77fb-4e97-ce6f-698038f31537"
      },
      "source": [
        "import matplotlib.pyplot as plt\n",
        "import numpy as np\n",
        "\n",
        "inx = np.random.choice(x_train.shape[0])\n",
        "\n",
        "img_x = x_train[inx]\n",
        "img_y = y_train[inx]\n",
        "plt.figure(figsize=(4,4))\n",
        "plt.imshow(img_x)\n",
        "plt.show()\n",
        "print('\\n this is an image of {}'.format(labels[img_y[0]]))"
      ],
      "execution_count": 56,
      "outputs": [
        {
          "output_type": "display_data",
          "data": {
            "image/png": "[encoded data removed]",
            "text/plain": [
              "<Figure size 288x288 with 1 Axes>"
            ]
          },
          "metadata": {
            "tags": [],
            "needs_background": "light"
          }
        },
        {
          "output_type": "stream",
          "text": [
            "\n",
            " this is an image of deer\n"
          ],
          "name": "stdout"
        }
      ]
    },
    {
      "cell_type": "markdown",
      "metadata": {
        "id": "zHPsZyomyR1G"
      },
      "source": [
        "Let's plot 10 of these images in a row"
      ]
    },
    {
      "cell_type": "code",
      "metadata": {
        "colab": {
          "base_uri": "https://localhost:8080/",
          "height": 139
        },
        "id": "GGn-81D-spfV",
        "outputId": "3ca85d56-c460-4ba8-94e9-07f62e18beb2"
      },
      "source": [
        "fig, ax = plt.subplots(1, 10, figsize=(15, 15))\n",
        "img_labels=[]\n",
        "\n",
        "for i in range(10):\n",
        "  inx = np.random.choice(x_train.shape[0])\n",
        "  img = x_train[inx]\n",
        "  ax[i].imshow(img)\n",
        "  img_labels.append(labels[y_train[inx][0]])\n",
        "  #ax[i].set_axis_off()\n",
        "print(img_labels)"
      ],
      "execution_count": 50,
      "outputs": [
        {
          "output_type": "stream",
          "text": [
            "['truck', 'frog', 'truck', 'dog', 'bird', 'automobile', 'dog', 'bird', 'horse', 'bird']\n"
          ],
          "name": "stdout"
        },
        {
          "output_type": "display_data",
          "data": {
            "image/png": "[encoded data removed]",
            "text/plain": [
              "<Figure size 1080x1080 with 10 Axes>"
            ]
          },
          "metadata": {
            "tags": [],
            "needs_background": "light"
          }
        }
      ]
    },
    {
      "cell_type": "markdown",
      "metadata": {
        "id": "hyBqNvgazVBy"
      },
      "source": [
        "# Build a sequential convolutional neural network for image classification\n"
      ]
    },
    {
      "cell_type": "code",
      "metadata": {
        "id": "by2j9uVCvl12"
      },
      "source": [
        "from tensorflow.keras.layers import Dense, Conv2D, MaxPooling2D, Flatten\n",
        "from tensorflow.keras.models import Sequential\n",
        "\n",
        "def get_model():\n",
        "  model = Sequential([Conv2D(filters=16, kernel_size=(3,3),\n",
        "                             input_shape=(32, 32, 3), activation='relu',\n",
        "                             name='Conv2D_1'),\n",
        "                      Conv2D(filters=8, kernel_size=(3,3), activation='relu',\n",
        "                             name='Conv2D_2'),\n",
        "                      MaxPooling2D(pool_size=(4,4), name='MaxPooling2D_1'),\n",
        "                      Flatten(name='flatten'),\n",
        "                      Dense(32, activation='relu', name='Dense_1'),\n",
        "                      Dense(10, activation='softmax', name='Dense_2')\n",
        "  ])\n",
        "  model.compile(optimizer='adam', loss='sparse_categorical_crossentropy', \n",
        "                metrics=['accuracy'])\n",
        "  return model\n",
        "\n"
      ],
      "execution_count": 65,
      "outputs": []
    },
    {
      "cell_type": "code",
      "metadata": {
        "colab": {
          "base_uri": "https://localhost:8080/"
        },
        "id": "8v8kYacV0xG_",
        "outputId": "12cb509f-d244-419f-9863-55633ced0cfe"
      },
      "source": [
        "model = get_model()\n",
        "model.summary()"
      ],
      "execution_count": 69,
      "outputs": [
        {
          "output_type": "stream",
          "text": [
            "Model: \"sequential_5\"\n",
            "_________________________________________________________________\n",
            "Layer (type)                 Output Shape              Param #   \n",
            "=================================================================\n",
            "Conv2D_1 (Conv2D)            (None, 30, 30, 16)        448       \n",
            "_________________________________________________________________\n",
            "Conv2D_2 (Conv2D)            (None, 28, 28, 8)         1160      \n",
            "_________________________________________________________________\n",
            "MaxPooling2D_1 (MaxPooling2D (None, 7, 7, 8)           0         \n",
            "_________________________________________________________________\n",
            "flatten (Flatten)            (None, 392)               0         \n",
            "_________________________________________________________________\n",
            "Dense_1 (Dense)              (None, 32)                12576     \n",
            "_________________________________________________________________\n",
            "Dense_2 (Dense)              (None, 10)                330       \n",
            "=================================================================\n",
            "Total params: 14,514\n",
            "Trainable params: 14,514\n",
            "Non-trainable params: 0\n",
            "_________________________________________________________________\n"
          ],
          "name": "stdout"
        }
      ]
    },
    {
      "cell_type": "markdown",
      "metadata": {
        "id": "svfyyI3Y2KT9"
      },
      "source": [
        "## Let's also define a helper function to evaluate the model on test images"
      ]
    },
    {
      "cell_type": "code",
      "metadata": {
        "id": "c50OUaTY0_Oc"
      },
      "source": [
        "def get_test_accuracy(model, x_test, y_test):\n",
        "  test_loss, test_acc = model.evaluate(x=x_test, y=y_test, verbose=False)\n",
        "  print('test accuracy: {}'.format(test_acc))"
      ],
      "execution_count": 73,
      "outputs": []
    },
    {
      "cell_type": "code",
      "metadata": {
        "colab": {
          "base_uri": "https://localhost:8080/"
        },
        "id": "1CHKcrQQ21b4",
        "outputId": "da3165c1-d622-45a3-b5a9-8bfb6c39ff34"
      },
      "source": [
        "get_test_accuracy(model, x_test, y_test)"
      ],
      "execution_count": 74,
      "outputs": [
        {
          "output_type": "stream",
          "text": [
            "test accuracy: 0.11500000208616257\n"
          ],
          "name": "stdout"
        }
      ]
    },
    {
      "cell_type": "markdown",
      "metadata": {
        "id": "P3X8E2tuN02x"
      },
      "source": [
        "# Train the model with Checkpoints"
      ]
    },
    {
      "cell_type": "code",
      "metadata": {
        "id": "b1cJDsURN4GE"
      },
      "source": [
        "from tensorflow.keras.callbacks import ModelCheckpoint\n",
        "\n",
        "checkpoint_path = 'model_checkpoints/checkpoint'"
      ],
      "execution_count": 77,
      "outputs": []
    },
    {
      "cell_type": "code",
      "metadata": {
        "id": "o82uoAKrOJYB"
      },
      "source": [
        "checkpoint = ModelCheckpoint(filepath=checkpoint_path,\n",
        "                             save_freq='epoch',\n",
        "                             save_weights_only=True,\n",
        "                             verbose=1)"
      ],
      "execution_count": 78,
      "outputs": []
    },
    {
      "cell_type": "code",
      "metadata": {
        "colab": {
          "base_uri": "https://localhost:8080/"
        },
        "id": "oTLw9XsXPP3c",
        "outputId": "91d27a81-0d1a-46c3-d410-84606addd2f5"
      },
      "source": [
        "model.fit(x_train, y_train, epochs=3, callbacks=[checkpoint])"
      ],
      "execution_count": 81,
      "outputs": [
        {
          "output_type": "stream",
          "text": [
            "Epoch 1/3\n",
            "313/313 [==============================] - 12s 36ms/step - loss: 1.9499 - accuracy: 0.2925\n",
            "\n",
            "Epoch 00001: saving model to model_checkpoints/checkpoint\n",
            "Epoch 2/3\n",
            "313/313 [==============================] - 10s 33ms/step - loss: 1.6294 - accuracy: 0.4092\n",
            "\n",
            "Epoch 00002: saving model to model_checkpoints/checkpoint\n",
            "Epoch 3/3\n",
            "313/313 [==============================] - 10s 33ms/step - loss: 1.5111 - accuracy: 0.4510\n",
            "\n",
            "Epoch 00003: saving model to model_checkpoints/checkpoint\n"
          ],
          "name": "stdout"
        },
        {
          "output_type": "execute_result",
          "data": {
            "text/plain": [
              "<tensorflow.python.keras.callbacks.History at 0x7f2e283bc320>"
            ]
          },
          "metadata": {
            "tags": []
          },
          "execution_count": 81
        }
      ]
    },
    {
      "cell_type": "markdown",
      "metadata": {
        "id": "Izlump3aQwJG"
      },
      "source": [
        "So it saved the model in the directory `model_checkpoints` to a file called `checkpoint` and does this to every epoch. So at the end of every epoch, we overwrite the same checkpoint file. "
      ]
    },
    {
      "cell_type": "code",
      "metadata": {
        "colab": {
          "base_uri": "https://localhost:8080/"
        },
        "id": "Z27PGZ3KPjRb",
        "outputId": "42716d0c-f740-4927-d39c-6540dd7a8e1f"
      },
      "source": [
        "! ls -lh"
      ],
      "execution_count": 82,
      "outputs": [
        {
          "output_type": "stream",
          "text": [
            "total 8.0K\n",
            "drwxr-xr-x 2 root root 4.0K Feb 23 18:55 model_checkpoints\n",
            "drwxr-xr-x 1 root root 4.0K Feb 16 16:35 sample_data\n"
          ],
          "name": "stdout"
        }
      ]
    },
    {
      "cell_type": "code",
      "metadata": {
        "colab": {
          "base_uri": "https://localhost:8080/",
          "height": 37
        },
        "id": "iO-SI-OtPvQ4",
        "outputId": "2d0baf52-6480-4511-c4c2-500bce64d3d7"
      },
      "source": [
        "! pwd"
      ],
      "execution_count": 90,
      "outputs": [
        {
          "output_type": "execute_result",
          "data": {
            "application/vnd.google.colaboratory.intrinsic+json": {
              "type": "string"
            },
            "text/plain": [
              "'/content/model_checkpoints'"
            ]
          },
          "metadata": {
            "tags": []
          },
          "execution_count": 90
        }
      ]
    },
    {
      "cell_type": "code",
      "metadata": {
        "colab": {
          "base_uri": "https://localhost:8080/"
        },
        "id": "oimQV4_TPw8d",
        "outputId": "b213685a-8da9-40dc-a0c8-1e6cc42e43a3"
      },
      "source": [
        "! ls -lh "
      ],
      "execution_count": 92,
      "outputs": [
        {
          "output_type": "stream",
          "text": [
            "total 184K\n",
            "-rw-r--r-- 1 root root   77 Feb 23 18:55 checkpoint\n",
            "-rw-r--r-- 1 root root 174K Feb 23 18:55 checkpoint.data-00000-of-00001\n",
            "-rw-r--r-- 1 root root 2.0K Feb 23 18:55 checkpoint.index\n"
          ],
          "name": "stdout"
        }
      ]
    },
    {
      "cell_type": "markdown",
      "metadata": {
        "id": "ZPtfSpnPRXeg"
      },
      "source": [
        "this `checkpoint.data-00000-of-00001` which is by far the biggest file, 174 kilobytes is where the actual weights are stored."
      ]
    },
    {
      "cell_type": "code",
      "metadata": {
        "colab": {
          "base_uri": "https://localhost:8080/"
        },
        "id": "D15jdwemP4ax",
        "outputId": "44d241b0-de8d-4f9b-f526-0c2f3ebea145"
      },
      "source": [
        "get_test_accuracy(model, x_test, y_test)"
      ],
      "execution_count": 93,
      "outputs": [
        {
          "output_type": "stream",
          "text": [
            "test accuracy: 0.4410000145435333\n"
          ],
          "name": "stdout"
        }
      ]
    },
    {
      "cell_type": "markdown",
      "metadata": {
        "id": "CJ1v5o_wSEns"
      },
      "source": [
        "# Create a new model instance and load the saved weights"
      ]
    },
    {
      "cell_type": "code",
      "metadata": {
        "colab": {
          "base_uri": "https://localhost:8080/"
        },
        "id": "Eh3Tj2EqR4rD",
        "outputId": "2b682542-8559-4394-8e13-a83cd0f82717"
      },
      "source": [
        "model = get_model()\n",
        "get_test_accuracy(model, x_test, y_test)"
      ],
      "execution_count": 96,
      "outputs": [
        {
          "output_type": "stream",
          "text": [
            "test accuracy: 0.10700000077486038\n"
          ],
          "name": "stdout"
        }
      ]
    },
    {
      "cell_type": "markdown",
      "metadata": {
        "id": "aQc8SX3WS0iv"
      },
      "source": [
        "So let's now load the weights into the model and check the test accuracy again. We expect the test accuracy to be the same as 0.44 we got earlier. "
      ]
    },
    {
      "cell_type": "code",
      "metadata": {
        "colab": {
          "base_uri": "https://localhost:8080/"
        },
        "id": "xxLTTUhwSocy",
        "outputId": "62179d2e-f878-4f32-8f4e-eeb5a3863e38"
      },
      "source": [
        "! ls -lh"
      ],
      "execution_count": 104,
      "outputs": [
        {
          "output_type": "stream",
          "text": [
            "total 8.0K\n",
            "drwxr-xr-x 2 root root 4.0K Feb 23 18:55 model_checkpoints\n",
            "drwxr-xr-x 1 root root 4.0K Feb 16 16:35 sample_data\n"
          ],
          "name": "stdout"
        }
      ]
    },
    {
      "cell_type": "code",
      "metadata": {
        "colab": {
          "base_uri": "https://localhost:8080/"
        },
        "id": "_ioIRGFCTH87",
        "outputId": "317fb26b-ed41-40e2-bd9b-806aa8318008"
      },
      "source": [
        "model.load_weights(checkpoint_path)"
      ],
      "execution_count": 105,
      "outputs": [
        {
          "output_type": "execute_result",
          "data": {
            "text/plain": [
              "<tensorflow.python.training.tracking.util.CheckpointLoadStatus at 0x7f2e2770d0f0>"
            ]
          },
          "metadata": {
            "tags": []
          },
          "execution_count": 105
        }
      ]
    },
    {
      "cell_type": "code",
      "metadata": {
        "colab": {
          "base_uri": "https://localhost:8080/"
        },
        "id": "U3NCb4eITWIB",
        "outputId": "bc4c3c8b-0cb9-47ed-eb72-c595666af56e"
      },
      "source": [
        "get_test_accuracy(model, x_test, y_test)"
      ],
      "execution_count": 106,
      "outputs": [
        {
          "output_type": "stream",
          "text": [
            "test accuracy: 0.4410000145435333\n"
          ],
          "name": "stdout"
        }
      ]
    },
    {
      "cell_type": "code",
      "metadata": {
        "id": "K4lqzl5-UCnf"
      },
      "source": [
        "# clear the directory \n",
        "! rm -r model_checkpoints"
      ],
      "execution_count": null,
      "outputs": []
    },
    {
      "cell_type": "code",
      "metadata": {
        "colab": {
          "base_uri": "https://localhost:8080/"
        },
        "id": "BTh1cyncUK8W",
        "outputId": "f34a19b2-5713-49ab-be46-f8d97ed95ae0"
      },
      "source": [
        "! ls -lh"
      ],
      "execution_count": 108,
      "outputs": [
        {
          "output_type": "stream",
          "text": [
            "total 4.0K\n",
            "drwxr-xr-x 1 root root 4.0K Feb 16 16:35 sample_data\n"
          ],
          "name": "stdout"
        }
      ]
    }
  ]
}