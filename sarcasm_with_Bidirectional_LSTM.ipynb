{
  "nbformat": 4,
  "nbformat_minor": 0,
  "metadata": {
    "colab": {
      "name": "sarcasm_with_Bidirectional_LSTM.ipynb",
      "provenance": [],
      "collapsed_sections": [],
      "authorship_tag": "ABX9TyPuzxYII2wt8wfpqZkVbMjd",
      "include_colab_link": true
    },
    "kernelspec": {
      "name": "python3",
      "display_name": "Python 3"
    },
    "accelerator": "GPU"
  },
  "cells": [
    {
      "cell_type": "markdown",
      "metadata": {
        "id": "view-in-github",
        "colab_type": "text"
      },
      "source": [
        "<a href=\"https://colab.research.google.com/github/skhazaei/TensorFlow-repo/blob/master/sarcasm_with_Bidirectional_LSTM.ipynb\" target=\"_parent\"><img src=\"https://colab.research.google.com/assets/colab-badge.svg\" alt=\"Open In Colab\"/></a>"
      ]
    },
    {
      "cell_type": "markdown",
      "metadata": {
        "id": "mz864KB9LeS1"
      },
      "source": [
        "## Download the sarcasm dataset"
      ]
    },
    {
      "cell_type": "code",
      "metadata": {
        "colab": {
          "base_uri": "https://localhost:8080/"
        },
        "id": "SK8mkcUgK3hi",
        "outputId": "5bb5fe27-f279-4173-a0cb-d6298b307eb2"
      },
      "source": [
        "!wget --no-check-certificate \\\n",
        "https://storage.googleapis.com/laurencemoroney-blog.appspot.com/sarcasm.json \\\n",
        "-O /tmp/sarcasm.json"
      ],
      "execution_count": 1,
      "outputs": [
        {
          "output_type": "stream",
          "text": [
            "--2021-02-17 23:38:03--  https://storage.googleapis.com/laurencemoroney-blog.appspot.com/sarcasm.json\n",
            "Resolving storage.googleapis.com (storage.googleapis.com)... 172.217.164.144, 142.250.73.240, 172.253.62.128, ...\n",
            "Connecting to storage.googleapis.com (storage.googleapis.com)|172.217.164.144|:443... connected.\n",
            "HTTP request sent, awaiting response... 200 OK\n",
            "Length: 5643545 (5.4M) [application/json]\n",
            "Saving to: ‘/tmp/sarcasm.json’\n",
            "\n",
            "\r/tmp/sarcasm.json     0%[                    ]       0  --.-KB/s               \r/tmp/sarcasm.json   100%[===================>]   5.38M  --.-KB/s    in 0.05s   \n",
            "\n",
            "2021-02-17 23:38:03 (107 MB/s) - ‘/tmp/sarcasm.json’ saved [5643545/5643545]\n",
            "\n"
          ],
          "name": "stdout"
        }
      ]
    },
    {
      "cell_type": "markdown",
      "metadata": {
        "id": "Adt0UxpVLxj5"
      },
      "source": [
        "## Save the headlines and labels as a list "
      ]
    },
    {
      "cell_type": "code",
      "metadata": {
        "id": "Q74YqIrCLo1Z"
      },
      "source": [
        "import json\n",
        "\n",
        "with open('/tmp/sarcasm.json',  'r') as f:\n",
        "  datastore = json.load(f)\n",
        "\n",
        "headlines=[]\n",
        "labels=[]\n",
        "\n",
        "for items in datastore:\n",
        "  headlines.append(items['headline'])\n",
        "  labels.append(items['is_sarcastic'])\n"
      ],
      "execution_count": 2,
      "outputs": []
    },
    {
      "cell_type": "markdown",
      "metadata": {
        "id": "NOfscABZMyX5"
      },
      "source": [
        "## Convert the headlines and labels to numpy array"
      ]
    },
    {
      "cell_type": "code",
      "metadata": {
        "id": "JtUldSLLMTRb"
      },
      "source": [
        "import numpy as np\n",
        "\n",
        "#headlines = np.array(headlines)\n",
        "#labels = np.array(labels) "
      ],
      "execution_count": 3,
      "outputs": []
    },
    {
      "cell_type": "markdown",
      "metadata": {
        "id": "uLXxAZdYNNg8"
      },
      "source": [
        "## How large is the dataset?"
      ]
    },
    {
      "cell_type": "code",
      "metadata": {
        "colab": {
          "base_uri": "https://localhost:8080/"
        },
        "id": "1sCjYOOHNXnO",
        "outputId": "3527df61-39de-4a5e-e35e-ec62eb97df92"
      },
      "source": [
        "print('Size of dataset: {}'.format(len(datastore)))"
      ],
      "execution_count": 4,
      "outputs": [
        {
          "output_type": "stream",
          "text": [
            "Size of dataset: 26709\n"
          ],
          "name": "stdout"
        }
      ]
    },
    {
      "cell_type": "markdown",
      "metadata": {
        "id": "sEpZGEMfNl8I"
      },
      "source": [
        "## Assign the first 20,000 examples to the training set and the rest to test set"
      ]
    },
    {
      "cell_type": "code",
      "metadata": {
        "id": "CfKDWcBqNbLF"
      },
      "source": [
        "training_size = 20000\n",
        "\n",
        "training_headlines = headlines[0:training_size]\n",
        "training_labels = labels[0:training_size]\n",
        "\n",
        "test_headlines = headlines[training_size:]\n",
        "test_labels = labels[training_size:]"
      ],
      "execution_count": 5,
      "outputs": []
    },
    {
      "cell_type": "markdown",
      "metadata": {
        "id": "6IQkMYxgOODR"
      },
      "source": [
        "## Tokenize and padding the headlines"
      ]
    },
    {
      "cell_type": "code",
      "metadata": {
        "id": "9bPPHuFaOIor"
      },
      "source": [
        "from tensorflow.keras.preprocessing.text import Tokenizer\n",
        "\n",
        "vocab_size = 1000\n",
        "oov_tok = '<OOV>'\n",
        "trunc_type='post'\n",
        "max_length = 120\n",
        "\n",
        "tokenizer = Tokenizer(vocab_size, oov_token=oov_tok)\n",
        "tokenizer.fit_on_texts(training_headlines)\n",
        "sequences = tokenizer.texts_to_sequences(training_headlines)\n",
        "\n",
        "from tensorflow.keras.preprocessing.sequence import pad_sequences\n",
        "## padding the sequences\n",
        "padded = pad_sequences(sequences, truncating=trunc_type, maxlen=max_length)\n",
        "\n",
        "\n",
        "## test sequences and padding\n",
        "test_seq = tokenizer.texts_to_sequences(test_headlines)\n",
        "test_pad = pad_sequences(test_seq, maxlen=max_length, truncating=trunc_type)"
      ],
      "execution_count": 6,
      "outputs": []
    },
    {
      "cell_type": "markdown",
      "metadata": {
        "id": "VLSJ7f_KRdxd"
      },
      "source": [
        "## Convert the padded headlines and labels to the numpy array"
      ]
    },
    {
      "cell_type": "code",
      "metadata": {
        "id": "rw8YezZkPWuc"
      },
      "source": [
        "import numpy as np\n",
        "\n",
        "padded = np.array(padded)\n",
        "training_labels = np.array(training_labels)\n",
        "\n",
        "test_pad = np.array(test_pad)\n",
        "test_labels = np.array(test_labels)"
      ],
      "execution_count": 7,
      "outputs": []
    },
    {
      "cell_type": "markdown",
      "metadata": {
        "id": "NaUAr278SFLQ"
      },
      "source": [
        "## Define LSTM model"
      ]
    },
    {
      "cell_type": "code",
      "metadata": {
        "colab": {
          "base_uri": "https://localhost:8080/"
        },
        "id": "SO0D8ex1R1aw",
        "outputId": "3202f876-28cb-4cf6-e2fd-1e2466498792"
      },
      "source": [
        "import tensorflow as tf\n",
        "\n",
        "embedding_dim = 16\n",
        "model = tf.keras.models.Sequential([tf.keras.layers.Embedding(vocab_size, embedding_dim, input_length=max_length),\n",
        "                                    tf.keras.layers.Bidirectional(tf.keras.layers.LSTM(32)),\n",
        "                                    tf.keras.layers.Dense(24, activation='relu'),\n",
        "                                    tf.keras.layers.Dense(1, activation='sigmoid')])\n",
        "model.summary()"
      ],
      "execution_count": 8,
      "outputs": [
        {
          "output_type": "stream",
          "text": [
            "Model: \"sequential\"\n",
            "_________________________________________________________________\n",
            "Layer (type)                 Output Shape              Param #   \n",
            "=================================================================\n",
            "embedding (Embedding)        (None, 120, 16)           16000     \n",
            "_________________________________________________________________\n",
            "bidirectional (Bidirectional (None, 64)                12544     \n",
            "_________________________________________________________________\n",
            "dense (Dense)                (None, 24)                1560      \n",
            "_________________________________________________________________\n",
            "dense_1 (Dense)              (None, 1)                 25        \n",
            "=================================================================\n",
            "Total params: 30,129\n",
            "Trainable params: 30,129\n",
            "Non-trainable params: 0\n",
            "_________________________________________________________________\n"
          ],
          "name": "stdout"
        }
      ]
    },
    {
      "cell_type": "code",
      "metadata": {
        "id": "QKIXSXXDTEMP"
      },
      "source": [
        "model.compile(loss='binary_crossentropy',optimizer='adam',metrics=['accuracy'])"
      ],
      "execution_count": 9,
      "outputs": []
    },
    {
      "cell_type": "code",
      "metadata": {
        "colab": {
          "base_uri": "https://localhost:8080/"
        },
        "id": "f-tiXx7mTLxo",
        "outputId": "0b3b1cc9-0ab2-4527-b6ad-76196ae90c21"
      },
      "source": [
        "history = model.fit(padded, training_labels, epochs=50, validation_data=(test_pad, test_labels), verbose=2)"
      ],
      "execution_count": 10,
      "outputs": [
        {
          "output_type": "stream",
          "text": [
            "Epoch 1/50\n",
            "625/625 - 16s - loss: 0.4777 - accuracy: 0.7609 - val_loss: 0.4067 - val_accuracy: 0.8138\n",
            "Epoch 2/50\n",
            "625/625 - 6s - loss: 0.3703 - accuracy: 0.8318 - val_loss: 0.3950 - val_accuracy: 0.8196\n",
            "Epoch 3/50\n",
            "625/625 - 6s - loss: 0.3639 - accuracy: 0.8342 - val_loss: 0.3962 - val_accuracy: 0.8234\n",
            "Epoch 4/50\n",
            "625/625 - 6s - loss: 0.3502 - accuracy: 0.8425 - val_loss: 0.3966 - val_accuracy: 0.8223\n",
            "Epoch 5/50\n",
            "625/625 - 6s - loss: 0.3374 - accuracy: 0.8490 - val_loss: 0.3922 - val_accuracy: 0.8231\n",
            "Epoch 6/50\n",
            "625/625 - 6s - loss: 0.3271 - accuracy: 0.8521 - val_loss: 0.3909 - val_accuracy: 0.8234\n",
            "Epoch 7/50\n",
            "625/625 - 6s - loss: 0.3182 - accuracy: 0.8579 - val_loss: 0.3959 - val_accuracy: 0.8267\n",
            "Epoch 8/50\n",
            "625/625 - 6s - loss: 0.3139 - accuracy: 0.8612 - val_loss: 0.4015 - val_accuracy: 0.8144\n",
            "Epoch 9/50\n",
            "625/625 - 6s - loss: 0.3088 - accuracy: 0.8628 - val_loss: 0.3975 - val_accuracy: 0.8229\n",
            "Epoch 10/50\n",
            "625/625 - 6s - loss: 0.3042 - accuracy: 0.8669 - val_loss: 0.4002 - val_accuracy: 0.8207\n",
            "Epoch 11/50\n",
            "625/625 - 6s - loss: 0.2991 - accuracy: 0.8663 - val_loss: 0.4394 - val_accuracy: 0.8071\n",
            "Epoch 12/50\n",
            "625/625 - 6s - loss: 0.2950 - accuracy: 0.8683 - val_loss: 0.4045 - val_accuracy: 0.8204\n",
            "Epoch 13/50\n",
            "625/625 - 6s - loss: 0.2886 - accuracy: 0.8711 - val_loss: 0.4036 - val_accuracy: 0.8198\n",
            "Epoch 14/50\n",
            "625/625 - 6s - loss: 0.2789 - accuracy: 0.8749 - val_loss: 0.4324 - val_accuracy: 0.8217\n",
            "Epoch 15/50\n",
            "625/625 - 6s - loss: 0.2731 - accuracy: 0.8773 - val_loss: 0.4243 - val_accuracy: 0.8171\n",
            "Epoch 16/50\n",
            "625/625 - 6s - loss: 0.2646 - accuracy: 0.8815 - val_loss: 0.4592 - val_accuracy: 0.8165\n",
            "Epoch 17/50\n",
            "625/625 - 6s - loss: 0.2562 - accuracy: 0.8843 - val_loss: 0.4632 - val_accuracy: 0.8180\n",
            "Epoch 18/50\n",
            "625/625 - 6s - loss: 0.2476 - accuracy: 0.8893 - val_loss: 0.5223 - val_accuracy: 0.8190\n",
            "Epoch 19/50\n",
            "625/625 - 6s - loss: 0.2392 - accuracy: 0.8939 - val_loss: 0.5059 - val_accuracy: 0.8100\n",
            "Epoch 20/50\n",
            "625/625 - 6s - loss: 0.2294 - accuracy: 0.8981 - val_loss: 0.5606 - val_accuracy: 0.8174\n",
            "Epoch 21/50\n",
            "625/625 - 6s - loss: 0.2208 - accuracy: 0.9028 - val_loss: 0.5470 - val_accuracy: 0.8125\n",
            "Epoch 22/50\n",
            "625/625 - 6s - loss: 0.2127 - accuracy: 0.9071 - val_loss: 0.5688 - val_accuracy: 0.8094\n",
            "Epoch 23/50\n",
            "625/625 - 6s - loss: 0.2080 - accuracy: 0.9096 - val_loss: 0.5298 - val_accuracy: 0.8053\n",
            "Epoch 24/50\n",
            "625/625 - 6s - loss: 0.1963 - accuracy: 0.9151 - val_loss: 0.6009 - val_accuracy: 0.8027\n",
            "Epoch 25/50\n",
            "625/625 - 6s - loss: 0.1900 - accuracy: 0.9189 - val_loss: 0.5938 - val_accuracy: 0.8012\n",
            "Epoch 26/50\n",
            "625/625 - 6s - loss: 0.1823 - accuracy: 0.9226 - val_loss: 0.6595 - val_accuracy: 0.8001\n",
            "Epoch 27/50\n",
            "625/625 - 6s - loss: 0.1751 - accuracy: 0.9265 - val_loss: 0.7206 - val_accuracy: 0.8056\n",
            "Epoch 28/50\n",
            "625/625 - 6s - loss: 0.1716 - accuracy: 0.9259 - val_loss: 0.6771 - val_accuracy: 0.8009\n",
            "Epoch 29/50\n",
            "625/625 - 6s - loss: 0.1627 - accuracy: 0.9309 - val_loss: 0.7333 - val_accuracy: 0.7973\n",
            "Epoch 30/50\n",
            "625/625 - 6s - loss: 0.1559 - accuracy: 0.9352 - val_loss: 0.7925 - val_accuracy: 0.8053\n",
            "Epoch 31/50\n",
            "625/625 - 6s - loss: 0.1523 - accuracy: 0.9359 - val_loss: 0.7882 - val_accuracy: 0.8025\n",
            "Epoch 32/50\n",
            "625/625 - 6s - loss: 0.1451 - accuracy: 0.9420 - val_loss: 0.7785 - val_accuracy: 0.8018\n",
            "Epoch 33/50\n",
            "625/625 - 6s - loss: 0.1363 - accuracy: 0.9441 - val_loss: 0.8723 - val_accuracy: 0.7953\n",
            "Epoch 34/50\n",
            "625/625 - 6s - loss: 0.1339 - accuracy: 0.9449 - val_loss: 0.8636 - val_accuracy: 0.7977\n",
            "Epoch 35/50\n",
            "625/625 - 6s - loss: 0.1282 - accuracy: 0.9467 - val_loss: 0.9645 - val_accuracy: 0.7974\n",
            "Epoch 36/50\n",
            "625/625 - 6s - loss: 0.1232 - accuracy: 0.9503 - val_loss: 0.9483 - val_accuracy: 0.8058\n",
            "Epoch 37/50\n",
            "625/625 - 6s - loss: 0.1166 - accuracy: 0.9535 - val_loss: 1.0762 - val_accuracy: 0.8009\n",
            "Epoch 38/50\n",
            "625/625 - 6s - loss: 0.1148 - accuracy: 0.9547 - val_loss: 1.0012 - val_accuracy: 0.7998\n",
            "Epoch 39/50\n",
            "625/625 - 6s - loss: 0.1112 - accuracy: 0.9553 - val_loss: 1.0949 - val_accuracy: 0.7985\n",
            "Epoch 40/50\n",
            "625/625 - 6s - loss: 0.1056 - accuracy: 0.9586 - val_loss: 1.0855 - val_accuracy: 0.7945\n",
            "Epoch 41/50\n",
            "625/625 - 6s - loss: 0.1006 - accuracy: 0.9602 - val_loss: 1.1776 - val_accuracy: 0.8007\n",
            "Epoch 42/50\n",
            "625/625 - 6s - loss: 0.0988 - accuracy: 0.9610 - val_loss: 1.1705 - val_accuracy: 0.7942\n",
            "Epoch 43/50\n",
            "625/625 - 6s - loss: 0.0933 - accuracy: 0.9622 - val_loss: 1.1757 - val_accuracy: 0.7959\n",
            "Epoch 44/50\n",
            "625/625 - 6s - loss: 0.0858 - accuracy: 0.9674 - val_loss: 1.2302 - val_accuracy: 0.7988\n",
            "Epoch 45/50\n",
            "625/625 - 6s - loss: 0.0839 - accuracy: 0.9663 - val_loss: 1.3483 - val_accuracy: 0.7961\n",
            "Epoch 46/50\n",
            "625/625 - 6s - loss: 0.0879 - accuracy: 0.9636 - val_loss: 1.3436 - val_accuracy: 0.7973\n",
            "Epoch 47/50\n",
            "625/625 - 6s - loss: 0.0799 - accuracy: 0.9660 - val_loss: 1.3905 - val_accuracy: 0.7977\n",
            "Epoch 48/50\n",
            "625/625 - 6s - loss: 0.0746 - accuracy: 0.9700 - val_loss: 1.4587 - val_accuracy: 0.7961\n",
            "Epoch 49/50\n",
            "625/625 - 6s - loss: 0.0791 - accuracy: 0.9685 - val_loss: 1.3467 - val_accuracy: 0.7909\n",
            "Epoch 50/50\n",
            "625/625 - 6s - loss: 0.0731 - accuracy: 0.9703 - val_loss: 1.4405 - val_accuracy: 0.7927\n"
          ],
          "name": "stdout"
        }
      ]
    },
    {
      "cell_type": "code",
      "metadata": {
        "colab": {
          "base_uri": "https://localhost:8080/",
          "height": 541
        },
        "id": "kjjy-f31Tm_O",
        "outputId": "c6888c89-503a-467b-d283-dfb0be8016d0"
      },
      "source": [
        "import matplotlib.pyplot as plt\n",
        "\n",
        "\n",
        "def plot_graphs(history, string):\n",
        "  plt.plot(history.history[string])\n",
        "  plt.plot(history.history['val_'+string])\n",
        "  plt.xlabel(\"epochs\")\n",
        "  plt.ylabel(string)\n",
        "  plt.legend([string, 'val_'+string])\n",
        "  plt.show()\n",
        "\n",
        "plot_graphs(history, 'accuracy')\n",
        "plot_graphs(history, 'loss')"
      ],
      "execution_count": 11,
      "outputs": [
        {
          "output_type": "display_data",
          "data": {
            "image/png": "[encoded data removed]",
            "text/plain": [
              "<Figure size 432x288 with 1 Axes>"
            ]
          },
          "metadata": {
            "tags": [],
            "needs_background": "light"
          }
        },
        {
          "output_type": "display_data",
          "data": {
            "image/png": "[encoded data removed]",
            "text/plain": [
              "<Figure size 432x288 with 1 Axes>"
            ]
          },
          "metadata": {
            "tags": [],
            "needs_background": "light"
          }
        }
      ]
    },
    {
      "cell_type": "code",
      "metadata": {
        "id": "kseYgioyTpis"
      },
      "source": [
        "model.save('sarcasm_LSTM.h5')"
      ],
      "execution_count": 12,
      "outputs": []
    }
  ]
}