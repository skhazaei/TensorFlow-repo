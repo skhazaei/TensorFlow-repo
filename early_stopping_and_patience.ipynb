{
  "nbformat": 4,
  "nbformat_minor": 0,
  "metadata": {
    "colab": {
      "name": "early_stopping_and_patience.ipynb",
      "provenance": [],
      "collapsed_sections": [],
      "authorship_tag": "ABX9TyNToL3uJoTfK9baU4/wnY4Z",
      "include_colab_link": true
    },
    "kernelspec": {
      "name": "python3",
      "display_name": "Python 3"
    }
  },
  "cells": [
    {
      "cell_type": "markdown",
      "metadata": {
        "id": "view-in-github",
        "colab_type": "text"
      },
      "source": [
        "<a href=\"https://colab.research.google.com/github/skhazaei/TensorFlow-repo/blob/master/early_stopping_and_patience.ipynb\" target=\"_parent\"><img src=\"https://colab.research.google.com/assets/colab-badge.svg\" alt=\"Open In Colab\"/></a>"
      ]
    },
    {
      "cell_type": "code",
      "metadata": {
        "id": "tBIzbBG3ZWOW"
      },
      "source": [
        "from sklearn.datasets import load_diabetes\n",
        "\n",
        "diabete_dataset = load_diabetes()"
      ],
      "execution_count": 1,
      "outputs": []
    },
    {
      "cell_type": "code",
      "metadata": {
        "colab": {
          "base_uri": "https://localhost:8080/"
        },
        "id": "qSddrMEHciP-",
        "outputId": "13618838-505b-4e5e-fe36-80b40c26b308"
      },
      "source": [
        "print(diabete_dataset.keys())"
      ],
      "execution_count": 2,
      "outputs": [
        {
          "output_type": "stream",
          "text": [
            "dict_keys(['data', 'target', 'DESCR', 'feature_names', 'data_filename', 'target_filename'])\n"
          ],
          "name": "stdout"
        }
      ]
    },
    {
      "cell_type": "code",
      "metadata": {
        "id": "N_oW8ycycuEG"
      },
      "source": [
        "data = diabete_dataset['data']\n",
        "target = diabete_dataset['target']"
      ],
      "execution_count": 3,
      "outputs": []
    },
    {
      "cell_type": "code",
      "metadata": {
        "id": "bbl8RjQ2cz7B"
      },
      "source": [
        "target = (target - target.mean(axis=0)) / target.std()"
      ],
      "execution_count": 4,
      "outputs": []
    },
    {
      "cell_type": "code",
      "metadata": {
        "id": "KeuEeMc_c5mF"
      },
      "source": [
        "from sklearn.model_selection import train_test_split\n",
        "\n",
        "train_data, test_data, train_target, test_target = train_test_split(data, target, test_size=0.1)"
      ],
      "execution_count": 5,
      "outputs": []
    },
    {
      "cell_type": "code",
      "metadata": {
        "colab": {
          "base_uri": "https://localhost:8080/"
        },
        "id": "bIyYea7BdcgB",
        "outputId": "b863f85f-d0b5-4ec2-d151-744c000e38d8"
      },
      "source": [
        "print(f'train set shape: {train_data.shape}')\n",
        "print(f'test set shape: {test_data.shape}')\n",
        "print(f'train target shape: {train_target.shape}')\n",
        "print(f'test target shape: {test_target.shape}')"
      ],
      "execution_count": 6,
      "outputs": [
        {
          "output_type": "stream",
          "text": [
            "train set shape: (397, 10)\n",
            "test set shape: (45, 10)\n",
            "train target shape: (397,)\n",
            "test target shape: (45,)\n"
          ],
          "name": "stdout"
        }
      ]
    },
    {
      "cell_type": "markdown",
      "metadata": {
        "id": "-Ko1SQtWeAP_"
      },
      "source": [
        "# Define unregularised model"
      ]
    },
    {
      "cell_type": "code",
      "metadata": {
        "id": "k8eKyMPAdlfy"
      },
      "source": [
        "import tensorflow as tf\n",
        "\n",
        "def get_unregularised_model():\n",
        "\n",
        "  model = tf.keras.models.Sequential([tf.keras.layers.Dense(128, activation='relu', input_shape=(train_data.shape[1],)),\n",
        "                                      tf.keras.layers.Dense(128, activation='relu'),\n",
        "                                      tf.keras.layers.Dense(128, activation='relu'),\n",
        "                                      tf.keras.layers.Dense(128, activation='relu'),\n",
        "                                      tf.keras.layers.Dense(128, activation='relu'),\n",
        "                                      tf.keras.layers.Dense(128, activation='relu'),\n",
        "                                      tf.keras.layers.Dense(1)])\n",
        "  return model"
      ],
      "execution_count": 7,
      "outputs": []
    },
    {
      "cell_type": "markdown",
      "metadata": {
        "id": "pbvE3Wlofq9E"
      },
      "source": [
        "## Train the unregularised model with `EarlyStopping()`"
      ]
    },
    {
      "cell_type": "code",
      "metadata": {
        "colab": {
          "base_uri": "https://localhost:8080/"
        },
        "id": "hIx3gOXPfMoO",
        "outputId": "e331d351-bef4-4afc-96ad-e364addb208a"
      },
      "source": [
        "unregularised_model = get_unregularised_model()\n",
        "unregularised_model.compile(optimizer='adam', loss='mse', metrics=tf.keras.metrics.MeanAbsoluteError())\n",
        "unreg_history = unregularised_model.fit(train_data, train_target,\n",
        "                          validation_split=0.15, batch_size=64, \n",
        "                          epochs =100, verbose=2,\n",
        "                          callbacks=[tf.keras.callbacks.EarlyStopping()])"
      ],
      "execution_count": 8,
      "outputs": [
        {
          "output_type": "stream",
          "text": [
            "Epoch 1/100\n",
            "6/6 - 1s - loss: 0.9951 - mean_absolute_error: 0.8489 - val_loss: 0.8153 - val_mean_absolute_error: 0.7952\n",
            "Epoch 2/100\n",
            "6/6 - 0s - loss: 0.8809 - mean_absolute_error: 0.7962 - val_loss: 0.6554 - val_mean_absolute_error: 0.7091\n",
            "Epoch 3/100\n",
            "6/6 - 0s - loss: 0.6416 - mean_absolute_error: 0.6697 - val_loss: 0.5577 - val_mean_absolute_error: 0.6005\n",
            "Epoch 4/100\n",
            "6/6 - 0s - loss: 0.5011 - mean_absolute_error: 0.5660 - val_loss: 0.4596 - val_mean_absolute_error: 0.5064\n",
            "Epoch 5/100\n",
            "6/6 - 0s - loss: 0.4768 - mean_absolute_error: 0.5521 - val_loss: 0.4522 - val_mean_absolute_error: 0.5131\n",
            "Epoch 6/100\n",
            "6/6 - 0s - loss: 0.4783 - mean_absolute_error: 0.5569 - val_loss: 0.5021 - val_mean_absolute_error: 0.4990\n"
          ],
          "name": "stdout"
        }
      ]
    },
    {
      "cell_type": "code",
      "metadata": {
        "colab": {
          "base_uri": "https://localhost:8080/"
        },
        "id": "CBH3toP3gE8P",
        "outputId": "25afe3b9-33aa-4636-fe61-309ef6b1c78c"
      },
      "source": [
        "unregularised_model.evaluate(test_data, test_target, verbose=2)"
      ],
      "execution_count": 9,
      "outputs": [
        {
          "output_type": "stream",
          "text": [
            "2/2 - 0s - loss: 0.8019 - mean_absolute_error: 0.7019\n"
          ],
          "name": "stdout"
        },
        {
          "output_type": "execute_result",
          "data": {
            "text/plain": [
              "[0.8018995523452759, 0.7018653154373169]"
            ]
          },
          "metadata": {
            "tags": []
          },
          "execution_count": 9
        }
      ]
    },
    {
      "cell_type": "markdown",
      "metadata": {
        "id": "TnTtBrDtlsC6"
      },
      "source": [
        "# Define regularised model"
      ]
    },
    {
      "cell_type": "code",
      "metadata": {
        "id": "TTE6EbbolHPC"
      },
      "source": [
        "import tensorflow as tf\n",
        "\n",
        "def get_regularised_model(wd, rate):\n",
        "\n",
        "  model = tf.keras.models.Sequential([tf.keras.layers.Dense(128, activation='relu', input_shape=(train_data.shape[1],),\n",
        "                                                            kernel_regularizer=tf.keras.regularizers.l2(wd)),\n",
        "                                      tf.keras.layers.Dropout(rate),\n",
        "                                      tf.keras.layers.Dense(128, activation='relu', kernel_regularizer=tf.keras.regularizers.l2(wd)),\n",
        "                                      tf.keras.layers.Dropout(rate),\n",
        "                                      tf.keras.layers.Dense(128, activation='relu', kernel_regularizer=tf.keras.regularizers.l2(wd)),\n",
        "                                      tf.keras.layers.Dropout(rate),\n",
        "                                      tf.keras.layers.Dense(128, activation='relu', kernel_regularizer=tf.keras.regularizers.l2(wd)),\n",
        "                                      tf.keras.layers.Dropout(rate),\n",
        "                                      tf.keras.layers.Dense(128, activation='relu', kernel_regularizer=tf.keras.regularizers.l2(wd)),\n",
        "                                      tf.keras.layers.Dropout(rate),\n",
        "                                      tf.keras.layers.Dense(128, activation='relu', kernel_regularizer=tf.keras.regularizers.l2(wd)),\n",
        "                                      tf.keras.layers.Dropout(rate),\n",
        "                                      tf.keras.layers.Dense(1)])\n",
        "  return model"
      ],
      "execution_count": 10,
      "outputs": []
    },
    {
      "cell_type": "code",
      "metadata": {
        "colab": {
          "base_uri": "https://localhost:8080/"
        },
        "id": "QLVi1ZpDmZZ5",
        "outputId": "35d3ec1c-148f-4068-f84b-457859cfc7f9"
      },
      "source": [
        "reg_model = get_regularised_model(1e-8, 0.2)\n",
        "reg_model.compile(optimizer='adam', loss='mse', metrics=tf.keras.metrics.MeanAbsoluteError())\n",
        "reg_history = reg_model.fit(train_data, train_target, validation_split=0.15, verbose=2,\n",
        "              epochs=100, batch_size=64, callbacks=[tf.keras.callbacks.EarlyStopping()],)"
      ],
      "execution_count": 11,
      "outputs": [
        {
          "output_type": "stream",
          "text": [
            "Epoch 1/100\n",
            "6/6 - 1s - loss: 1.0093 - mean_absolute_error: 0.8579 - val_loss: 0.8666 - val_mean_absolute_error: 0.8230\n",
            "Epoch 2/100\n",
            "6/6 - 0s - loss: 0.9750 - mean_absolute_error: 0.8426 - val_loss: 0.7949 - val_mean_absolute_error: 0.7892\n",
            "Epoch 3/100\n",
            "6/6 - 0s - loss: 0.8504 - mean_absolute_error: 0.7888 - val_loss: 0.6435 - val_mean_absolute_error: 0.7025\n",
            "Epoch 4/100\n",
            "6/6 - 0s - loss: 0.6249 - mean_absolute_error: 0.6630 - val_loss: 0.6418 - val_mean_absolute_error: 0.5570\n",
            "Epoch 5/100\n",
            "6/6 - 0s - loss: 0.6521 - mean_absolute_error: 0.6306 - val_loss: 0.5729 - val_mean_absolute_error: 0.5456\n",
            "Epoch 6/100\n",
            "6/6 - 0s - loss: 0.5341 - mean_absolute_error: 0.6018 - val_loss: 0.5391 - val_mean_absolute_error: 0.5877\n",
            "Epoch 7/100\n",
            "6/6 - 0s - loss: 0.5293 - mean_absolute_error: 0.6126 - val_loss: 0.5561 - val_mean_absolute_error: 0.6156\n"
          ],
          "name": "stdout"
        }
      ]
    },
    {
      "cell_type": "code",
      "metadata": {
        "colab": {
          "base_uri": "https://localhost:8080/"
        },
        "id": "rOxVUUvLmlzI",
        "outputId": "253288e2-e2bf-4a64-9dcd-2e996c3365ee"
      },
      "source": [
        "reg_model.evaluate(test_data, test_target, verbose=2)"
      ],
      "execution_count": 12,
      "outputs": [
        {
          "output_type": "stream",
          "text": [
            "2/2 - 0s - loss: 0.6485 - mean_absolute_error: 0.6624\n"
          ],
          "name": "stdout"
        },
        {
          "output_type": "execute_result",
          "data": {
            "text/plain": [
              "[0.6484860777854919, 0.6624079942703247]"
            ]
          },
          "metadata": {
            "tags": []
          },
          "execution_count": 12
        }
      ]
    },
    {
      "cell_type": "markdown",
      "metadata": {
        "id": "FiYj_cLjnxIj"
      },
      "source": [
        "# Plot learning curves"
      ]
    },
    {
      "cell_type": "code",
      "metadata": {
        "colab": {
          "base_uri": "https://localhost:8080/",
          "height": 573
        },
        "id": "PzyYr9LhneX9",
        "outputId": "ef50ddb8-2a00-4bbd-8826-12fe6629e51a"
      },
      "source": [
        "import matplotlib.pyplot as plt \n",
        "\n",
        "def plot_graphs(history, string, model_type):\n",
        "\n",
        "  plt.plot(history.history[string], 'b', label=string)\n",
        "  plt.plot(history.history['val_'+string], 'r', label='val_'+string)\n",
        "  plt.title(model_type + ' / ' +string+' vs epochs')\n",
        "  plt.xlabel('epochs')\n",
        "  plt.ylabel(string)\n",
        "  plt.grid()\n",
        "  plt.legend()\n",
        "  plt.show()\n",
        "\n",
        "plot_graphs(reg_history, 'loss', 'Regularized model')\n",
        "plot_graphs(unreg_history, 'loss', 'Unregularised model')"
      ],
      "execution_count": 13,
      "outputs": [
        {
          "output_type": "display_data",
          "data": {
            "image/png": "[encoded data removed]",
            "text/plain": [
              "<Figure size 432x288 with 1 Axes>"
            ]
          },
          "metadata": {
            "tags": [],
            "needs_background": "light"
          }
        },
        {
          "output_type": "display_data",
          "data": {
            "image/png": "[encoded data removed]",
            "text/plain": [
              "<Figure size 432x288 with 1 Axes>"
            ]
          },
          "metadata": {
            "tags": [],
            "needs_background": "light"
          }
        }
      ]
    },
    {
      "cell_type": "code",
      "metadata": {
        "id": "DCxwI5gGthq5"
      },
      "source": [
        "tf.keras.backend.clear_session()"
      ],
      "execution_count": 14,
      "outputs": []
    },
    {
      "cell_type": "markdown",
      "metadata": {
        "id": "K29YrZCzqL8k"
      },
      "source": [
        "# Train the models with in `EarlyStopping(patience=10)`"
      ]
    },
    {
      "cell_type": "code",
      "metadata": {
        "colab": {
          "base_uri": "https://localhost:8080/"
        },
        "id": "V4VFr91kqxdu",
        "outputId": "3cb9429b-5a54-46ab-9054-dfc4029f110b"
      },
      "source": [
        "unregularised_model = get_unregularised_model()\n",
        "unregularised_model.compile(optimizer='adam', loss='mse', metrics=tf.keras.metrics.MeanAbsoluteError())\n",
        "unreg_history = unregularised_model.fit(train_data, train_target,\n",
        "                          validation_split=0.15, batch_size=64, \n",
        "                          epochs =100, verbose=2,\n",
        "                          callbacks=[tf.keras.callbacks.EarlyStopping(patience=10)])\n",
        "unregularised_model.evaluate(test_data, test_target, verbose=2)"
      ],
      "execution_count": 15,
      "outputs": [
        {
          "output_type": "stream",
          "text": [
            "Epoch 1/100\n",
            "6/6 - 1s - loss: 0.9914 - mean_absolute_error: 0.8487 - val_loss: 0.8108 - val_mean_absolute_error: 0.7941\n",
            "Epoch 2/100\n",
            "6/6 - 0s - loss: 0.8746 - mean_absolute_error: 0.7945 - val_loss: 0.6401 - val_mean_absolute_error: 0.6850\n",
            "Epoch 3/100\n",
            "6/6 - 0s - loss: 0.6435 - mean_absolute_error: 0.6642 - val_loss: 0.5662 - val_mean_absolute_error: 0.5920\n",
            "Epoch 4/100\n",
            "6/6 - 0s - loss: 0.5524 - mean_absolute_error: 0.6044 - val_loss: 0.5665 - val_mean_absolute_error: 0.5189\n",
            "Epoch 5/100\n",
            "6/6 - 0s - loss: 0.5043 - mean_absolute_error: 0.5774 - val_loss: 0.4569 - val_mean_absolute_error: 0.5304\n",
            "Epoch 6/100\n",
            "6/6 - 0s - loss: 0.4447 - mean_absolute_error: 0.5375 - val_loss: 0.4542 - val_mean_absolute_error: 0.5067\n",
            "Epoch 7/100\n",
            "6/6 - 0s - loss: 0.4548 - mean_absolute_error: 0.5411 - val_loss: 0.4630 - val_mean_absolute_error: 0.4980\n",
            "Epoch 8/100\n",
            "6/6 - 0s - loss: 0.4382 - mean_absolute_error: 0.5279 - val_loss: 0.4921 - val_mean_absolute_error: 0.5566\n",
            "Epoch 9/100\n",
            "6/6 - 0s - loss: 0.4242 - mean_absolute_error: 0.5255 - val_loss: 0.5077 - val_mean_absolute_error: 0.5133\n",
            "Epoch 10/100\n",
            "6/6 - 0s - loss: 0.4547 - mean_absolute_error: 0.5347 - val_loss: 0.5060 - val_mean_absolute_error: 0.5699\n",
            "Epoch 11/100\n",
            "6/6 - 0s - loss: 0.4259 - mean_absolute_error: 0.5281 - val_loss: 0.4774 - val_mean_absolute_error: 0.5210\n",
            "Epoch 12/100\n",
            "6/6 - 0s - loss: 0.3993 - mean_absolute_error: 0.5092 - val_loss: 0.4921 - val_mean_absolute_error: 0.5442\n",
            "Epoch 13/100\n",
            "6/6 - 0s - loss: 0.3928 - mean_absolute_error: 0.5008 - val_loss: 0.4938 - val_mean_absolute_error: 0.5008\n",
            "Epoch 14/100\n",
            "6/6 - 0s - loss: 0.3883 - mean_absolute_error: 0.4981 - val_loss: 0.4811 - val_mean_absolute_error: 0.5451\n",
            "Epoch 15/100\n",
            "6/6 - 0s - loss: 0.3912 - mean_absolute_error: 0.5011 - val_loss: 0.4831 - val_mean_absolute_error: 0.5150\n",
            "Epoch 16/100\n",
            "6/6 - 0s - loss: 0.3784 - mean_absolute_error: 0.4909 - val_loss: 0.4870 - val_mean_absolute_error: 0.5220\n",
            "2/2 - 0s - loss: 0.6869 - mean_absolute_error: 0.6441\n"
          ],
          "name": "stdout"
        },
        {
          "output_type": "execute_result",
          "data": {
            "text/plain": [
              "[0.686880350112915, 0.6441280245780945]"
            ]
          },
          "metadata": {
            "tags": []
          },
          "execution_count": 15
        }
      ]
    },
    {
      "cell_type": "code",
      "metadata": {
        "colab": {
          "base_uri": "https://localhost:8080/"
        },
        "id": "KJm8ibyRo1Iw",
        "outputId": "bc20c68f-3a4f-4ca9-a32e-930e033a7f17"
      },
      "source": [
        "reg_model = get_regularised_model(1e-8, 0.2)\n",
        "reg_model.compile(optimizer='adam', loss='mse', metrics=tf.keras.metrics.MeanAbsoluteError())\n",
        "reg_history = reg_model.fit(train_data, train_target, validation_split=0.15, verbose=2,\n",
        "              epochs=100, batch_size=64, callbacks=[tf.keras.callbacks.EarlyStopping(patience=10)],)\n",
        "reg_model.evaluate(test_data, test_target, verbose=2)"
      ],
      "execution_count": 16,
      "outputs": [
        {
          "output_type": "stream",
          "text": [
            "Epoch 1/100\n",
            "6/6 - 1s - loss: 1.0096 - mean_absolute_error: 0.8584 - val_loss: 0.8706 - val_mean_absolute_error: 0.8253\n",
            "Epoch 2/100\n",
            "6/6 - 0s - loss: 0.9849 - mean_absolute_error: 0.8479 - val_loss: 0.8311 - val_mean_absolute_error: 0.8090\n",
            "Epoch 3/100\n",
            "6/6 - 0s - loss: 0.9142 - mean_absolute_error: 0.8225 - val_loss: 0.7523 - val_mean_absolute_error: 0.7707\n",
            "Epoch 4/100\n",
            "6/6 - 0s - loss: 0.7728 - mean_absolute_error: 0.7554 - val_loss: 0.6700 - val_mean_absolute_error: 0.7074\n",
            "Epoch 5/100\n",
            "6/6 - 0s - loss: 0.6113 - mean_absolute_error: 0.6687 - val_loss: 0.5738 - val_mean_absolute_error: 0.5854\n",
            "Epoch 6/100\n",
            "6/6 - 0s - loss: 0.6024 - mean_absolute_error: 0.6291 - val_loss: 0.5747 - val_mean_absolute_error: 0.5708\n",
            "Epoch 7/100\n",
            "6/6 - 0s - loss: 0.5613 - mean_absolute_error: 0.6187 - val_loss: 0.5263 - val_mean_absolute_error: 0.5795\n",
            "Epoch 8/100\n",
            "6/6 - 0s - loss: 0.5478 - mean_absolute_error: 0.6067 - val_loss: 0.5129 - val_mean_absolute_error: 0.5843\n",
            "Epoch 9/100\n",
            "6/6 - 0s - loss: 0.5108 - mean_absolute_error: 0.5905 - val_loss: 0.4954 - val_mean_absolute_error: 0.5413\n",
            "Epoch 10/100\n",
            "6/6 - 0s - loss: 0.5203 - mean_absolute_error: 0.5916 - val_loss: 0.4965 - val_mean_absolute_error: 0.5540\n",
            "Epoch 11/100\n",
            "6/6 - 0s - loss: 0.4936 - mean_absolute_error: 0.5669 - val_loss: 0.4957 - val_mean_absolute_error: 0.5381\n",
            "Epoch 12/100\n",
            "6/6 - 0s - loss: 0.5068 - mean_absolute_error: 0.5828 - val_loss: 0.4849 - val_mean_absolute_error: 0.5596\n",
            "Epoch 13/100\n",
            "6/6 - 0s - loss: 0.4820 - mean_absolute_error: 0.5667 - val_loss: 0.4990 - val_mean_absolute_error: 0.5597\n",
            "Epoch 14/100\n",
            "6/6 - 0s - loss: 0.4552 - mean_absolute_error: 0.5579 - val_loss: 0.4920 - val_mean_absolute_error: 0.5438\n",
            "Epoch 15/100\n",
            "6/6 - 0s - loss: 0.4807 - mean_absolute_error: 0.5581 - val_loss: 0.5033 - val_mean_absolute_error: 0.5683\n",
            "Epoch 16/100\n",
            "6/6 - 0s - loss: 0.4536 - mean_absolute_error: 0.5478 - val_loss: 0.4942 - val_mean_absolute_error: 0.5407\n",
            "Epoch 17/100\n",
            "6/6 - 0s - loss: 0.4683 - mean_absolute_error: 0.5483 - val_loss: 0.4990 - val_mean_absolute_error: 0.5318\n",
            "Epoch 18/100\n",
            "6/6 - 0s - loss: 0.4494 - mean_absolute_error: 0.5387 - val_loss: 0.5061 - val_mean_absolute_error: 0.5338\n",
            "Epoch 19/100\n",
            "6/6 - 0s - loss: 0.4570 - mean_absolute_error: 0.5430 - val_loss: 0.5072 - val_mean_absolute_error: 0.5422\n",
            "Epoch 20/100\n",
            "6/6 - 0s - loss: 0.4478 - mean_absolute_error: 0.5330 - val_loss: 0.5032 - val_mean_absolute_error: 0.5572\n",
            "Epoch 21/100\n",
            "6/6 - 0s - loss: 0.4408 - mean_absolute_error: 0.5308 - val_loss: 0.5166 - val_mean_absolute_error: 0.5557\n",
            "Epoch 22/100\n",
            "6/6 - 0s - loss: 0.4298 - mean_absolute_error: 0.5248 - val_loss: 0.5118 - val_mean_absolute_error: 0.5364\n",
            "2/2 - 0s - loss: 0.6370 - mean_absolute_error: 0.6211\n"
          ],
          "name": "stdout"
        },
        {
          "output_type": "execute_result",
          "data": {
            "text/plain": [
              "[0.6369557976722717, 0.6210547089576721]"
            ]
          },
          "metadata": {
            "tags": []
          },
          "execution_count": 16
        }
      ]
    },
    {
      "cell_type": "code",
      "metadata": {
        "colab": {
          "base_uri": "https://localhost:8080/",
          "height": 573
        },
        "id": "gz_vtzByqklb",
        "outputId": "e51ea3bc-743a-40f1-d90b-149571114f72"
      },
      "source": [
        "import matplotlib.pyplot as plt \n",
        "\n",
        "def plot_graphs(history, string, model_type):\n",
        "\n",
        "  plt.plot(history.history[string], 'b', label=string)\n",
        "  plt.plot(history.history['val_'+string], 'r', label='val_'+string)\n",
        "  plt.title(model_type + ' / ' +string+' vs epochs')\n",
        "  plt.xlabel('epochs')\n",
        "  plt.ylabel(string)\n",
        "  plt.grid()\n",
        "  plt.legend()\n",
        "  plt.show()\n",
        "\n",
        "plot_graphs(reg_history, 'loss', 'Regularized model')\n",
        "plot_graphs(unreg_history, 'loss', 'Unregularised model')"
      ],
      "execution_count": 17,
      "outputs": [
        {
          "output_type": "display_data",
          "data": {
            "image/png": "[encoded data removed]",
            "text/plain": [
              "<Figure size 432x288 with 1 Axes>"
            ]
          },
          "metadata": {
            "tags": [],
            "needs_background": "light"
          }
        },
        {
          "output_type": "display_data",
          "data": {
            "image/png": "[encoded data removed]",
            "text/plain": [
              "<Figure size 432x288 with 1 Axes>"
            ]
          },
          "metadata": {
            "tags": [],
            "needs_background": "light"
          }
        }
      ]
    },
    {
      "cell_type": "code",
      "metadata": {
        "id": "jw_kL-CttnyW"
      },
      "source": [
        "tf.keras.backend.clear_session()"
      ],
      "execution_count": 18,
      "outputs": []
    },
    {
      "cell_type": "markdown",
      "metadata": {
        "id": "wLPmyo5XrGRU"
      },
      "source": [
        "# Train the models with in `EarlyStopping(patience=2)`"
      ]
    },
    {
      "cell_type": "code",
      "metadata": {
        "colab": {
          "base_uri": "https://localhost:8080/"
        },
        "id": "oYm4l_lDq_21",
        "outputId": "2b78f69c-8467-4094-ea75-09e82e968982"
      },
      "source": [
        "unregularised_model = get_unregularised_model()\n",
        "unregularised_model.compile(optimizer='adam', loss='mse', metrics=tf.keras.metrics.MeanAbsoluteError())\n",
        "unreg_history = unregularised_model.fit(train_data, train_target,\n",
        "                          validation_split=0.15, batch_size=64, \n",
        "                          epochs =100, verbose=2,\n",
        "                          callbacks=[tf.keras.callbacks.EarlyStopping(patience=2)])\n",
        "unregularised_model.evaluate(test_data, test_target, verbose=2)"
      ],
      "execution_count": 19,
      "outputs": [
        {
          "output_type": "stream",
          "text": [
            "Epoch 1/100\n",
            "6/6 - 1s - loss: 0.9990 - mean_absolute_error: 0.8527 - val_loss: 0.8407 - val_mean_absolute_error: 0.8121\n",
            "Epoch 2/100\n",
            "6/6 - 0s - loss: 0.9198 - mean_absolute_error: 0.8183 - val_loss: 0.7281 - val_mean_absolute_error: 0.7553\n",
            "Epoch 3/100\n",
            "6/6 - 0s - loss: 0.7114 - mean_absolute_error: 0.7183 - val_loss: 0.5596 - val_mean_absolute_error: 0.6249\n",
            "Epoch 4/100\n",
            "6/6 - 0s - loss: 0.5555 - mean_absolute_error: 0.6016 - val_loss: 0.5664 - val_mean_absolute_error: 0.5255\n",
            "Epoch 5/100\n",
            "6/6 - 0s - loss: 0.5185 - mean_absolute_error: 0.5760 - val_loss: 0.5014 - val_mean_absolute_error: 0.5698\n",
            "Epoch 6/100\n",
            "6/6 - 0s - loss: 0.4920 - mean_absolute_error: 0.5719 - val_loss: 0.4918 - val_mean_absolute_error: 0.5696\n",
            "Epoch 7/100\n",
            "6/6 - 0s - loss: 0.4626 - mean_absolute_error: 0.5634 - val_loss: 0.4843 - val_mean_absolute_error: 0.5459\n",
            "Epoch 8/100\n",
            "6/6 - 0s - loss: 0.4399 - mean_absolute_error: 0.5374 - val_loss: 0.4987 - val_mean_absolute_error: 0.5243\n",
            "Epoch 9/100\n",
            "6/6 - 0s - loss: 0.4297 - mean_absolute_error: 0.5258 - val_loss: 0.4931 - val_mean_absolute_error: 0.5487\n",
            "2/2 - 0s - loss: 0.6732 - mean_absolute_error: 0.6445\n"
          ],
          "name": "stdout"
        },
        {
          "output_type": "execute_result",
          "data": {
            "text/plain": [
              "[0.6732474565505981, 0.644474446773529]"
            ]
          },
          "metadata": {
            "tags": []
          },
          "execution_count": 19
        }
      ]
    },
    {
      "cell_type": "code",
      "metadata": {
        "colab": {
          "base_uri": "https://localhost:8080/"
        },
        "id": "u7yAuWRCrQUa",
        "outputId": "5c2301c6-8c86-4bb6-faf3-50562920eaf6"
      },
      "source": [
        "reg_model = get_regularised_model(1e-8, 0.2)\n",
        "reg_model.compile(optimizer='adam', loss='mse', metrics=tf.keras.metrics.MeanAbsoluteError())\n",
        "reg_history = reg_model.fit(train_data, train_target, validation_split=0.15, verbose=2,\n",
        "              epochs=100, batch_size=64, callbacks=[tf.keras.callbacks.EarlyStopping(patience=2)],)\n",
        "reg_model.evaluate(test_data, test_target, verbose=2)"
      ],
      "execution_count": 20,
      "outputs": [
        {
          "output_type": "stream",
          "text": [
            "Epoch 1/100\n",
            "6/6 - 1s - loss: 1.0055 - mean_absolute_error: 0.8561 - val_loss: 0.8597 - val_mean_absolute_error: 0.8202\n",
            "Epoch 2/100\n",
            "6/6 - 0s - loss: 0.9682 - mean_absolute_error: 0.8411 - val_loss: 0.7947 - val_mean_absolute_error: 0.7911\n",
            "Epoch 3/100\n",
            "6/6 - 0s - loss: 0.8483 - mean_absolute_error: 0.7935 - val_loss: 0.6712 - val_mean_absolute_error: 0.7148\n",
            "Epoch 4/100\n",
            "6/6 - 0s - loss: 0.6656 - mean_absolute_error: 0.6955 - val_loss: 0.5679 - val_mean_absolute_error: 0.5840\n",
            "Epoch 5/100\n",
            "6/6 - 0s - loss: 0.5984 - mean_absolute_error: 0.6340 - val_loss: 0.6733 - val_mean_absolute_error: 0.6494\n",
            "Epoch 6/100\n",
            "6/6 - 0s - loss: 0.6161 - mean_absolute_error: 0.6356 - val_loss: 0.5149 - val_mean_absolute_error: 0.5351\n",
            "Epoch 7/100\n",
            "6/6 - 0s - loss: 0.5622 - mean_absolute_error: 0.6095 - val_loss: 0.5064 - val_mean_absolute_error: 0.5498\n",
            "Epoch 8/100\n",
            "6/6 - 0s - loss: 0.5352 - mean_absolute_error: 0.6143 - val_loss: 0.5409 - val_mean_absolute_error: 0.5927\n",
            "Epoch 9/100\n",
            "6/6 - 0s - loss: 0.5327 - mean_absolute_error: 0.5998 - val_loss: 0.5054 - val_mean_absolute_error: 0.5088\n",
            "Epoch 10/100\n",
            "6/6 - 0s - loss: 0.5018 - mean_absolute_error: 0.5789 - val_loss: 0.5194 - val_mean_absolute_error: 0.5622\n",
            "Epoch 11/100\n",
            "6/6 - 0s - loss: 0.5251 - mean_absolute_error: 0.5929 - val_loss: 0.4788 - val_mean_absolute_error: 0.5129\n",
            "Epoch 12/100\n",
            "6/6 - 0s - loss: 0.5059 - mean_absolute_error: 0.5791 - val_loss: 0.4746 - val_mean_absolute_error: 0.5274\n",
            "Epoch 13/100\n",
            "6/6 - 0s - loss: 0.4781 - mean_absolute_error: 0.5649 - val_loss: 0.5110 - val_mean_absolute_error: 0.5831\n",
            "Epoch 14/100\n",
            "6/6 - 0s - loss: 0.4779 - mean_absolute_error: 0.5619 - val_loss: 0.5054 - val_mean_absolute_error: 0.5065\n",
            "2/2 - 0s - loss: 0.7303 - mean_absolute_error: 0.6947\n"
          ],
          "name": "stdout"
        },
        {
          "output_type": "execute_result",
          "data": {
            "text/plain": [
              "[0.730317234992981, 0.6946715712547302]"
            ]
          },
          "metadata": {
            "tags": []
          },
          "execution_count": 20
        }
      ]
    },
    {
      "cell_type": "code",
      "metadata": {
        "colab": {
          "base_uri": "https://localhost:8080/",
          "height": 573
        },
        "id": "npznyulPrV0O",
        "outputId": "d2902918-af0c-476e-8d18-48c637ab9fb1"
      },
      "source": [
        "import matplotlib.pyplot as plt \n",
        "\n",
        "def plot_graphs(history, string, model_type):\n",
        "\n",
        "  plt.plot(history.history[string], 'b', label=string)\n",
        "  plt.plot(history.history['val_'+string], 'r', label='val_'+string)\n",
        "  plt.title(model_type + ' / ' +string+' vs epochs')\n",
        "  plt.xlabel('epochs')\n",
        "  plt.ylabel(string)\n",
        "  plt.grid()\n",
        "  plt.legend()\n",
        "  plt.show()\n",
        "\n",
        "plot_graphs(reg_history, 'loss', 'Regularized model')\n",
        "plot_graphs(unreg_history, 'loss', 'Unregularised model')"
      ],
      "execution_count": 21,
      "outputs": [
        {
          "output_type": "display_data",
          "data": {
            "image/png": "[encoded data removed]",
            "text/plain": [
              "<Figure size 432x288 with 1 Axes>"
            ]
          },
          "metadata": {
            "tags": [],
            "needs_background": "light"
          }
        },
        {
          "output_type": "display_data",
          "data": {
            "image/png": "[encoded data removed]",
            "text/plain": [
              "<Figure size 432x288 with 1 Axes>"
            ]
          },
          "metadata": {
            "tags": [],
            "needs_background": "light"
          }
        }
      ]
    },
    {
      "cell_type": "code",
      "metadata": {
        "id": "Ni4qtahHtswr"
      },
      "source": [
        "tf.keras.backend.clear_session()"
      ],
      "execution_count": 22,
      "outputs": []
    }
  ]
}