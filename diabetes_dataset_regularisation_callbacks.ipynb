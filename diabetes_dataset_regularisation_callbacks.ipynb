{
  "nbformat": 4,
  "nbformat_minor": 0,
  "metadata": {
    "colab": {
      "name": "diabetes_dataset_regularisation_callbacks.ipynb",
      "provenance": [],
      "authorship_tag": "ABX9TyOw1q9rkZeMhaWuPbOAIjqN",
      "include_colab_link": true
    },
    "kernelspec": {
      "name": "python3",
      "display_name": "Python 3"
    }
  },
  "cells": [
    {
      "cell_type": "markdown",
      "metadata": {
        "id": "view-in-github",
        "colab_type": "text"
      },
      "source": [
        "<a href=\"https://colab.research.google.com/github/skhazaei/TensorFlow-repo/blob/master/diabetes_dataset_regularisation_callbacks.ipynb\" target=\"_parent\"><img src=\"https://colab.research.google.com/assets/colab-badge.svg\" alt=\"Open In Colab\"/></a>"
      ]
    },
    {
      "cell_type": "markdown",
      "metadata": {
        "id": "LyOvx-4RAu_g"
      },
      "source": [
        "# Load and return the diabetes dataset (regression) from `sklearn.datasets`\n"
      ]
    },
    {
      "cell_type": "code",
      "metadata": {
        "id": "4mHzvsbnAKXl"
      },
      "source": [
        "from sklearn.datasets import load_diabetes\n",
        "diabete_dataset = load_diabetes()"
      ],
      "execution_count": 1,
      "outputs": []
    },
    {
      "cell_type": "code",
      "metadata": {
        "colab": {
          "base_uri": "https://localhost:8080/"
        },
        "id": "pzgFd1iTA6rf",
        "outputId": "0cfb1948-69fd-4ab8-f1a8-701b72381b81"
      },
      "source": [
        "print(diabete_dataset.keys())"
      ],
      "execution_count": 2,
      "outputs": [
        {
          "output_type": "stream",
          "text": [
            "dict_keys(['data', 'target', 'DESCR', 'feature_names', 'data_filename', 'target_filename'])\n"
          ],
          "name": "stdout"
        }
      ]
    },
    {
      "cell_type": "code",
      "metadata": {
        "id": "HV2MYNI1BCwN"
      },
      "source": [
        "data = diabete_dataset['data']\n",
        "target = diabete_dataset['target']"
      ],
      "execution_count": 3,
      "outputs": []
    },
    {
      "cell_type": "code",
      "metadata": {
        "id": "Mc50E-qaBMjz"
      },
      "source": [
        "target = (target - target.mean(axis=0)) / target.std()"
      ],
      "execution_count": 4,
      "outputs": []
    },
    {
      "cell_type": "code",
      "metadata": {
        "id": "tbo3jyNbBT_O"
      },
      "source": [
        "from sklearn.model_selection import train_test_split\n",
        "\n",
        "train_data, test_data, train_target, test_target = train_test_split(data, target, test_size=0.1)"
      ],
      "execution_count": 5,
      "outputs": []
    },
    {
      "cell_type": "code",
      "metadata": {
        "colab": {
          "base_uri": "https://localhost:8080/"
        },
        "id": "jVlmwGLiBpzH",
        "outputId": "c35a9f99-b406-4849-a46a-a4d9025164c2"
      },
      "source": [
        "print(f'train data shape: {train_data.shape}')\n",
        "print(f'train target shape: {train_target.shape}')\n",
        "print(f'test data shape: {test_data.shape}')\n",
        "print(f'test target shape: {test_target.shape}')"
      ],
      "execution_count": 6,
      "outputs": [
        {
          "output_type": "stream",
          "text": [
            "train data shape: (397, 10)\n",
            "train target shape: (397,)\n",
            "test data shape: (45, 10)\n",
            "test target shape: (45,)\n"
          ],
          "name": "stdout"
        }
      ]
    },
    {
      "cell_type": "code",
      "metadata": {
        "id": "GF1RmqnNByff"
      },
      "source": [
        "import tensorflow as tf\n",
        "\n",
        "def get_regularized_model(wd, rate):\n",
        "  model = tf.keras.models.Sequential([tf.keras.layers.Dense(128, activation='relu', input_shape=(train_data.shape[1],),\n",
        "                                                            kernel_regularizer=tf.keras.regularizers.l2(wd)),\n",
        "                                      tf.keras.layers.Dropout(rate),\n",
        "                                      tf.keras.layers.Dense(128, activation='relu', kernel_regularizer=tf.keras.regularizers.l2(rate)),\n",
        "                                      tf.keras.layers.Dropout(rate),\n",
        "                                      tf.keras.layers.Dense(128, activation='relu', kernel_regularizer=tf.keras.regularizers.l2(rate)),\n",
        "                                      tf.keras.layers.Dropout(rate),\n",
        "                                      tf.keras.layers.Dense(128, activation='relu', kernel_regularizer=tf.keras.regularizers.l2(rate)),\n",
        "                                      tf.keras.layers.Dropout(rate),\n",
        "                                      tf.keras.layers.Dense(128, activation='relu', kernel_regularizer=tf.keras.regularizers.l2(rate)),\n",
        "                                      tf.keras.layers.Dropout(rate),\n",
        "                                      tf.keras.layers.Dense(128, activation='relu', kernel_regularizer=tf.keras.regularizers.l2(rate)),\n",
        "                                      tf.keras.layers.Dropout(rate),\n",
        "                                      tf.keras.layers.Dense(1)\n",
        "                                      ])\n",
        "  return model\n"
      ],
      "execution_count": 7,
      "outputs": []
    },
    {
      "cell_type": "markdown",
      "metadata": {
        "id": "og0o5Ti8Dmju"
      },
      "source": [
        "# Define a training callback"
      ]
    },
    {
      "cell_type": "code",
      "metadata": {
        "id": "IEyrdynODPqH"
      },
      "source": [
        "class myTrainingCallback(tf.keras.callbacks.Callback):\n",
        "  \n",
        "  def on_train_begin(self, logs=None):\n",
        "    print(f'Starting training ...')\n",
        "\n",
        "  def on_epoch_begin(self, epoch, logs=None):\n",
        "    print(f'Starting epoch: {epoch}')\n",
        "\n",
        "  def on_train_batch_begin(self, batch, logs=None):\n",
        "    print(f'Training: starting batch {batch}')\n",
        "  \n",
        "  def on_train_batch_end(self, batch, logs=None):\n",
        "    print(f'Training: finished batch {batch}')\n",
        "  \n",
        "  def on_epoch_end(self, epoch, logs=None):\n",
        "    print(f'Finished epoch: {epoch}')\n",
        "\n",
        "  def on_train_end(self, logs=None):\n",
        "    print(f'Finished training.')"
      ],
      "execution_count": 8,
      "outputs": []
    },
    {
      "cell_type": "code",
      "metadata": {
        "id": "crXxoUNuF-O1"
      },
      "source": [
        "model = get_regularized_model(1e-5, 0.3)"
      ],
      "execution_count": 9,
      "outputs": []
    },
    {
      "cell_type": "code",
      "metadata": {
        "id": "y63nONQzGFCh"
      },
      "source": [
        "model.compile(optimizer='adam', loss='mse', metrics=['accuracy'])"
      ],
      "execution_count": 10,
      "outputs": []
    },
    {
      "cell_type": "markdown",
      "metadata": {
        "id": "74B0gA0XGar2"
      },
      "source": [
        "# Train the model with the callback"
      ]
    },
    {
      "cell_type": "code",
      "metadata": {
        "colab": {
          "base_uri": "https://localhost:8080/"
        },
        "id": "fKKzI1AUGQHs",
        "outputId": "289dc425-703a-4c54-9db4-c37def020491"
      },
      "source": [
        "history = model.fit(train_data, train_target, validation_split=0.15,\n",
        "                    epochs= 4, batch_size=64, callbacks=[myTrainingCallback()], verbose=2)"
      ],
      "execution_count": 11,
      "outputs": [
        {
          "output_type": "stream",
          "text": [
            "Starting training ...\n",
            "Epoch 1/4\n",
            "Starting epoch: 0\n",
            "Training: starting batch 0\n",
            "Training: finished batch 0\n",
            "Training: starting batch 1\n",
            "Training: finished batch 1\n",
            "Training: starting batch 2\n",
            "Training: finished batch 2\n",
            "Training: starting batch 3\n",
            "Training: finished batch 3\n",
            "Training: starting batch 4\n",
            "Training: finished batch 4\n",
            "Training: starting batch 5\n",
            "Training: finished batch 5\n",
            "6/6 - 2s - loss: 184.3621 - accuracy: 0.0000e+00 - val_loss: 170.7771 - val_accuracy: 0.0000e+00\n",
            "Finished epoch: 0\n",
            "Epoch 2/4\n",
            "Starting epoch: 1\n",
            "Training: starting batch 0\n",
            "Training: finished batch 0\n",
            "Training: starting batch 1\n",
            "Training: finished batch 1\n",
            "Training: starting batch 2\n",
            "Training: finished batch 2\n",
            "Training: starting batch 3\n",
            "Training: finished batch 3\n",
            "Training: starting batch 4\n",
            "Training: finished batch 4\n",
            "Training: starting batch 5\n",
            "Training: finished batch 5\n",
            "6/6 - 0s - loss: 163.4277 - accuracy: 0.0000e+00 - val_loss: 151.0314 - val_accuracy: 0.0000e+00\n",
            "Finished epoch: 1\n",
            "Epoch 3/4\n",
            "Starting epoch: 2\n",
            "Training: starting batch 0\n",
            "Training: finished batch 0\n",
            "Training: starting batch 1\n",
            "Training: finished batch 1\n",
            "Training: starting batch 2\n",
            "Training: finished batch 2\n",
            "Training: starting batch 3\n",
            "Training: finished batch 3\n",
            "Training: starting batch 4\n",
            "Training: finished batch 4\n",
            "Training: starting batch 5\n",
            "Training: finished batch 5\n",
            "6/6 - 0s - loss: 144.3493 - accuracy: 0.0000e+00 - val_loss: 133.1418 - val_accuracy: 0.0000e+00\n",
            "Finished epoch: 2\n",
            "Epoch 4/4\n",
            "Starting epoch: 3\n",
            "Training: starting batch 0\n",
            "Training: finished batch 0\n",
            "Training: starting batch 1\n",
            "Training: finished batch 1\n",
            "Training: starting batch 2\n",
            "Training: finished batch 2\n",
            "Training: starting batch 3\n",
            "Training: finished batch 3\n",
            "Training: starting batch 4\n",
            "Training: finished batch 4\n",
            "Training: starting batch 5\n",
            "Training: finished batch 5\n",
            "6/6 - 0s - loss: 127.1128 - accuracy: 0.0000e+00 - val_loss: 117.0516 - val_accuracy: 0.0000e+00\n",
            "Finished epoch: 3\n",
            "Finished training.\n"
          ],
          "name": "stdout"
        }
      ]
    },
    {
      "cell_type": "markdown",
      "metadata": {
        "id": "GiB7jbDRH67q"
      },
      "source": [
        "# Evaluate the model on test sets with callback"
      ]
    },
    {
      "cell_type": "code",
      "metadata": {
        "id": "B3foEhb9G3F2"
      },
      "source": [
        "class myTestingCallback(tf.keras.callbacks.Callback):\n",
        "\n",
        "  def on_test_begin(self, logs=None):\n",
        "    print(f'Start testing')\n",
        "\n",
        "  def on_epoch_begin(self, epoch, logs=None):\n",
        "    print(f'Starting epoch {epoch}')\n",
        "\n",
        "  def on_test_batch_begin(self, batch, logs=None):\n",
        "    print(f'testing: starting batch {batch}')\n",
        "  \n",
        "  def on_test_batch_end(self, batch, logs=None):\n",
        "    print(f'testing: finished batch {batch}')\n",
        "  \n",
        "  def on_epoch_end(self, epoch, logs=None):\n",
        "    print(f'Finished epoch {epoch}')\n",
        "\n",
        "  def on_test_end(self, logs=None):\n",
        "    print(f'Finished testing')"
      ],
      "execution_count": 12,
      "outputs": []
    },
    {
      "cell_type": "code",
      "metadata": {
        "colab": {
          "base_uri": "https://localhost:8080/"
        },
        "id": "MCvOB6dvJXPS",
        "outputId": "9946a0d5-fac8-446c-bf6f-337d2c1195d8"
      },
      "source": [
        "model.evaluate(test_data, test_target, verbose=2, callbacks=[myTestingCallback()])"
      ],
      "execution_count": 13,
      "outputs": [
        {
          "output_type": "stream",
          "text": [
            "Start testing\n",
            "testing: starting batch 0\n",
            "testing: finished batch 0\n",
            "testing: starting batch 1\n",
            "testing: finished batch 1\n",
            "2/2 - 0s - loss: 117.1653 - accuracy: 0.0000e+00\n",
            "Finished testing\n"
          ],
          "name": "stdout"
        },
        {
          "output_type": "execute_result",
          "data": {
            "text/plain": [
              "[117.16534423828125, 0.0]"
            ]
          },
          "metadata": {
            "tags": []
          },
          "execution_count": 13
        }
      ]
    },
    {
      "cell_type": "markdown",
      "metadata": {
        "id": "3Jt193MSJ7KH"
      },
      "source": [
        "# Prediction callback"
      ]
    },
    {
      "cell_type": "code",
      "metadata": {
        "id": "OUklQ0jzJfDl"
      },
      "source": [
        "class myPredictionCallback(tf.keras.callbacks.Callback):\n",
        "\n",
        "  def on_predict_begin(self, logs=None):\n",
        "    print(f'Starting prediction ...')\n",
        "\n",
        "  def on_epoch_begin(self, epoch, logs=None):\n",
        "    print(f'Prediction: epoch {epoch}')\n",
        "\n",
        "  def on_predict_batch_begin(self, batch, logs=None):\n",
        "    print(f'starting batch {batch}')\n",
        "\n",
        "  def on_predict_batch_end(self, batch, logs=None):\n",
        "    print(f'Finished batch {batch}')\n",
        "  \n",
        "  def on_epoch_end(self, epoch, logs=None):\n",
        "    print(f'Finished epoch {epoch}')\n",
        "  \n",
        "  def on_predict_end(self, logs=None):\n",
        "    print(f'Finished prediction')"
      ],
      "execution_count": 14,
      "outputs": []
    },
    {
      "cell_type": "code",
      "metadata": {
        "colab": {
          "base_uri": "https://localhost:8080/"
        },
        "id": "hmD-B_C2LOjd",
        "outputId": "58d4dd01-f585-491e-9dee-7672a68d9bd0"
      },
      "source": [
        "model.predict(test_data, verbose=2, callbacks=[myPredictionCallback()])"
      ],
      "execution_count": 15,
      "outputs": [
        {
          "output_type": "stream",
          "text": [
            "Starting prediction ...\n",
            "starting batch 0\n",
            "Finished batch 0\n",
            "starting batch 1\n",
            "Finished batch 1\n",
            "2/2 - 0s\n",
            "Finished prediction\n"
          ],
          "name": "stdout"
        },
        {
          "output_type": "execute_result",
          "data": {
            "text/plain": [
              "array([[-0.00452242],\n",
              "       [-0.01416905],\n",
              "       [-0.01085173],\n",
              "       [-0.00522856],\n",
              "       [-0.00982116],\n",
              "       [ 0.00387532],\n",
              "       [-0.00668642],\n",
              "       [ 0.00713858],\n",
              "       [-0.01257619],\n",
              "       [-0.01102835],\n",
              "       [ 0.00503015],\n",
              "       [-0.01023284],\n",
              "       [ 0.00084649],\n",
              "       [ 0.00199564],\n",
              "       [ 0.00476592],\n",
              "       [ 0.00658903],\n",
              "       [-0.00291959],\n",
              "       [-0.01010456],\n",
              "       [-0.0086866 ],\n",
              "       [-0.0117946 ],\n",
              "       [ 0.00189638],\n",
              "       [-0.00825729],\n",
              "       [-0.00924252],\n",
              "       [ 0.00275086],\n",
              "       [ 0.00129047],\n",
              "       [-0.00809698],\n",
              "       [ 0.00429168],\n",
              "       [-0.00696066],\n",
              "       [-0.00256508],\n",
              "       [-0.00397631],\n",
              "       [-0.00617415],\n",
              "       [-0.0102554 ],\n",
              "       [-0.00052834],\n",
              "       [-0.00618516],\n",
              "       [-0.01049056],\n",
              "       [ 0.0002201 ],\n",
              "       [ 0.00247102],\n",
              "       [-0.00315312],\n",
              "       [-0.00947857],\n",
              "       [-0.00538108],\n",
              "       [-0.01140872],\n",
              "       [-0.00084271],\n",
              "       [-0.00923288],\n",
              "       [-0.00921156],\n",
              "       [-0.0017106 ]], dtype=float32)"
            ]
          },
          "metadata": {
            "tags": []
          },
          "execution_count": 15
        }
      ]
    }
  ]
}