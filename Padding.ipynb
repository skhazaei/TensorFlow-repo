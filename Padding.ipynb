{
  "nbformat": 4,
  "nbformat_minor": 0,
  "metadata": {
    "colab": {
      "name": "Padding.ipynb",
      "provenance": [],
      "collapsed_sections": [],
      "authorship_tag": "ABX9TyNDhXnHen8vY+9hsEzLBRpk",
      "include_colab_link": true
    },
    "kernelspec": {
      "name": "python3",
      "display_name": "Python 3"
    }
  },
  "cells": [
    {
      "cell_type": "markdown",
      "metadata": {
        "id": "view-in-github",
        "colab_type": "text"
      },
      "source": [
        "<a href=\"https://colab.research.google.com/github/skhazaei/TensorFlow-repo/blob/master/Padding.ipynb\" target=\"_parent\"><img src=\"https://colab.research.google.com/assets/colab-badge.svg\" alt=\"Open In Colab\"/></a>"
      ]
    },
    {
      "cell_type": "code",
      "metadata": {
        "colab": {
          "base_uri": "https://localhost:8080/"
        },
        "id": "l0Kl-HwD9hV4",
        "outputId": "617ca61f-aa15-4641-b672-8416ee88fe79"
      },
      "source": [
        "from tensorflow.keras.preprocessing.text import Tokenizer\n",
        "\n",
        "sentences = ['my cat',\n",
        "             'I love my cat',\n",
        "             'My cat is lovely',\n",
        "             'do you think my cat is amazing?']\n",
        "\n",
        "tokenizer = Tokenizer(num_words=100, oov_token='<OOV>')\n",
        "tokenizer.fit_on_texts(sentences)\n",
        "word_index = tokenizer.word_index\n",
        "sequences = tokenizer.texts_to_sequences(sentences)\n",
        "\n",
        "print ('\\n word index: ', word_index)\n",
        "print ('\\n sequences: ', sequences)"
      ],
      "execution_count": 9,
      "outputs": [
        {
          "output_type": "stream",
          "text": [
            "\n",
            " word index:  {'<OOV>': 1, 'my': 2, 'cat': 3, 'is': 4, 'i': 5, 'love': 6, 'lovely': 7, 'do': 8, 'you': 9, 'think': 10, 'amazing': 11}\n",
            "\n",
            " sequences:  [[2, 3], [5, 6, 2, 3], [2, 3, 4, 7], [8, 9, 10, 2, 3, 4, 11]]\n"
          ],
          "name": "stdout"
        }
      ]
    },
    {
      "cell_type": "markdown",
      "metadata": {
        "id": "yhn16HG7ACmo"
      },
      "source": [
        "# Pad the sequences to generate fix length of sequences"
      ]
    },
    {
      "cell_type": "code",
      "metadata": {
        "colab": {
          "base_uri": "https://localhost:8080/"
        },
        "id": "-Khv5qeW_vzC",
        "outputId": "d21e55b2-934e-48b3-f740-448a64d9a7f4"
      },
      "source": [
        "from tensorflow.keras.preprocessing.sequence import pad_sequences\n",
        "\n",
        "\n",
        "padded = pad_sequences(sequences)\n",
        "print ('Padded sequences: \\n\\n', padded)"
      ],
      "execution_count": 11,
      "outputs": [
        {
          "output_type": "stream",
          "text": [
            "Padded sequences: \n",
            "\n",
            " [[ 0  0  0  0  0  2  3]\n",
            " [ 0  0  0  5  6  2  3]\n",
            " [ 0  0  0  2  3  4  7]\n",
            " [ 8  9 10  2  3  4 11]]\n"
          ],
          "name": "stdout"
        }
      ]
    },
    {
      "cell_type": "code",
      "metadata": {
        "colab": {
          "base_uri": "https://localhost:8080/"
        },
        "id": "EsrCeZkYAJY4",
        "outputId": "7cc8dc35-063e-4db3-ad40-1b3541071793"
      },
      "source": [
        "padded_post = pad_sequences(sequences, padding='post')\n",
        "print ('Padded sequences: \\n\\n', padded_post)"
      ],
      "execution_count": 15,
      "outputs": [
        {
          "output_type": "stream",
          "text": [
            "Padded sequences: \n",
            "\n",
            " [[ 2  3  0  0  0  0  0]\n",
            " [ 5  6  2  3  0  0  0]\n",
            " [ 2  3  4  7  0  0  0]\n",
            " [ 8  9 10  2  3  4 11]]\n"
          ],
          "name": "stdout"
        }
      ]
    },
    {
      "cell_type": "code",
      "metadata": {
        "colab": {
          "base_uri": "https://localhost:8080/"
        },
        "id": "J7cYgnq2BMD7",
        "outputId": "2445ffd8-0dbe-4f59-accd-20df5b02098f"
      },
      "source": [
        "padded_post_maxlen = pad_sequences(sequences, padding='post',\n",
        "                                   maxlen=4)\n",
        "print ('Padded sequences: \\n\\n', padded_post_maxlen)\n"
      ],
      "execution_count": 21,
      "outputs": [
        {
          "output_type": "stream",
          "text": [
            "Padded sequences: \n",
            "\n",
            " [[ 2  3  0  0]\n",
            " [ 5  6  2  3]\n",
            " [ 2  3  4  7]\n",
            " [ 2  3  4 11]]\n"
          ],
          "name": "stdout"
        }
      ]
    },
    {
      "cell_type": "code",
      "metadata": {
        "colab": {
          "base_uri": "https://localhost:8080/"
        },
        "id": "Mzf6oc9HBoeq",
        "outputId": "a4a10fdb-7229-4c0c-8887-9c3dea13347a"
      },
      "source": [
        "padded_post_maxlen_post = pad_sequences(sequences, padding='post',\n",
        "                                        truncating='post',\n",
        "                                        maxlen=4)\n",
        "print ('Padded sequences: \\n\\n', padded_post_maxlen_post)"
      ],
      "execution_count": 20,
      "outputs": [
        {
          "output_type": "stream",
          "text": [
            "Padded sequences: \n",
            "\n",
            " [[ 2  3  0  0]\n",
            " [ 5  6  2  3]\n",
            " [ 2  3  4  7]\n",
            " [ 8  9 10  2]]\n"
          ],
          "name": "stdout"
        }
      ]
    },
    {
      "cell_type": "markdown",
      "metadata": {
        "id": "heKqV3ujCQR8"
      },
      "source": [
        "# Let's try with words that tokenizer has not seen"
      ]
    },
    {
      "cell_type": "code",
      "metadata": {
        "colab": {
          "base_uri": "https://localhost:8080/"
        },
        "id": "eqcKr34XCALn",
        "outputId": "69c7cadb-8554-4833-97f2-0c9a7c12a7bc"
      },
      "source": [
        "test_data = ['my DOG',\n",
        "             'I really my CaT',\n",
        "             'do you think my Dog is lovely?']\n",
        "\n",
        "test_seq = tokenizer.texts_to_sequences(test_data)\n",
        "test_pad = pad_sequences(test_seq, padding='post')\n",
        "\n",
        "print ('\\n test sequences: ', test_seq)\n",
        "print ('\\n test pad: \\n\\n', test_pad)"
      ],
      "execution_count": 27,
      "outputs": [
        {
          "output_type": "stream",
          "text": [
            "\n",
            " test sequences:  [[2, 1], [5, 1, 2, 3], [8, 9, 10, 2, 1, 4, 7]]\n",
            "\n",
            " test pad: \n",
            "\n",
            " [[ 2  1  0  0  0  0  0]\n",
            " [ 5  1  2  3  0  0  0]\n",
            " [ 8  9 10  2  1  4  7]]\n"
          ],
          "name": "stdout"
        }
      ]
    }
  ]
}