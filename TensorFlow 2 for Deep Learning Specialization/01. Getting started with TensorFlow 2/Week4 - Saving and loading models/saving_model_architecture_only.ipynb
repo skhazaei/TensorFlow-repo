{
  "nbformat": 4,
  "nbformat_minor": 0,
  "metadata": {
    "colab": {
      "name": "saving_model_architecture_only.ipynb",
      "provenance": [],
      "collapsed_sections": [],
      "authorship_tag": "ABX9TyPVoPYO/oJR09tFosgl+bGu",
      "include_colab_link": true
    },
    "kernelspec": {
      "name": "python3",
      "display_name": "Python 3"
    }
  },
  "cells": [
    {
      "cell_type": "markdown",
      "metadata": {
        "id": "view-in-github",
        "colab_type": "text"
      },
      "source": [
        "<a href=\"https://colab.research.google.com/github/skhazaei/TensorFlow-repo/blob/master/saving_model_architecture_only.ipynb\" target=\"_parent\"><img src=\"https://colab.research.google.com/assets/colab-badge.svg\" alt=\"Open In Colab\"/></a>"
      ]
    },
    {
      "cell_type": "markdown",
      "metadata": {
        "id": "OTM2xYQ4-Jhd"
      },
      "source": [
        "# Here we learn about:\n",
        "\n",
        "* `get_config()`\n",
        "\n",
        "* `tf.keras.Sequential.from_config()`\n",
        "\n",
        "* `to_json()`\n",
        "\n",
        "* `tf.keras.models.model_from_json()`\n",
        "\n",
        "* `to_yaml()`\n",
        "\n",
        "* `tf.keras.models.model_from_yaml()`"
      ]
    },
    {
      "cell_type": "markdown",
      "metadata": {
        "id": "eyz65B99fLcy"
      },
      "source": [
        "# Accessing a model's configuration `get_config()`\n",
        "A model's *configuration* refers to its architecture. TensorFlow has a convenient way to retrieve a model's architecture as a dictionary. We start by creating a simple fully connected feedforward neural network with 1 hidden layer."
      ]
    },
    {
      "cell_type": "code",
      "metadata": {
        "id": "Clg5u12Re8Zr"
      },
      "source": [
        "import tensorflow as tf\n",
        "from tensorflow.keras.models import Sequential\n",
        "from tensorflow.keras.layers import Dense\n",
        "\n",
        "model = Sequential([\n",
        "    Dense(units=32, input_shape=(32, 32, 3), activation='relu', name='dense_1'),\n",
        "    Dense(units=10, activation='softmax', name='dense_2')\n",
        "])"
      ],
      "execution_count": 1,
      "outputs": []
    },
    {
      "cell_type": "code",
      "metadata": {
        "colab": {
          "base_uri": "https://localhost:8080/"
        },
        "id": "xRnj4wVPfTbw",
        "outputId": "8bedab64-8e8f-475c-f5b6-e08f3d602969"
      },
      "source": [
        "model.summary()"
      ],
      "execution_count": 2,
      "outputs": [
        {
          "output_type": "stream",
          "text": [
            "Model: \"sequential\"\n",
            "_________________________________________________________________\n",
            "Layer (type)                 Output Shape              Param #   \n",
            "=================================================================\n",
            "dense_1 (Dense)              (None, 32, 32, 32)        128       \n",
            "_________________________________________________________________\n",
            "dense_2 (Dense)              (None, 32, 32, 10)        330       \n",
            "=================================================================\n",
            "Total params: 458\n",
            "Trainable params: 458\n",
            "Non-trainable params: 0\n",
            "_________________________________________________________________\n"
          ],
          "name": "stdout"
        }
      ]
    },
    {
      "cell_type": "markdown",
      "metadata": {
        "id": "KO99meatfjVj"
      },
      "source": [
        "A TensorFlow model has an inbuilt method `get_config` which returns the model's architecture as a dictionary:"
      ]
    },
    {
      "cell_type": "code",
      "metadata": {
        "id": "Xr8t5cbNfiou"
      },
      "source": [
        "config_dic = model.get_config()"
      ],
      "execution_count": 3,
      "outputs": []
    },
    {
      "cell_type": "code",
      "metadata": {
        "colab": {
          "base_uri": "https://localhost:8080/"
        },
        "id": "H75b9TBvfq0E",
        "outputId": "0b218b76-5e79-4ae7-d3f6-a0cee9867d39"
      },
      "source": [
        "print(config_dic)"
      ],
      "execution_count": 4,
      "outputs": [
        {
          "output_type": "stream",
          "text": [
            "{'name': 'sequential', 'layers': [{'class_name': 'InputLayer', 'config': {'batch_input_shape': (None, 32, 32, 3), 'dtype': 'float32', 'sparse': False, 'ragged': False, 'name': 'dense_1_input'}}, {'class_name': 'Dense', 'config': {'name': 'dense_1', 'trainable': True, 'batch_input_shape': (None, 32, 32, 3), 'dtype': 'float32', 'units': 32, 'activation': 'relu', 'use_bias': True, 'kernel_initializer': {'class_name': 'GlorotUniform', 'config': {'seed': None}}, 'bias_initializer': {'class_name': 'Zeros', 'config': {}}, 'kernel_regularizer': None, 'bias_regularizer': None, 'activity_regularizer': None, 'kernel_constraint': None, 'bias_constraint': None}}, {'class_name': 'Dense', 'config': {'name': 'dense_2', 'trainable': True, 'dtype': 'float32', 'units': 10, 'activation': 'softmax', 'use_bias': True, 'kernel_initializer': {'class_name': 'GlorotUniform', 'config': {'seed': None}}, 'bias_initializer': {'class_name': 'Zeros', 'config': {}}, 'kernel_regularizer': None, 'bias_regularizer': None, 'activity_regularizer': None, 'kernel_constraint': None, 'bias_constraint': None}}]}\n"
          ],
          "name": "stdout"
        }
      ]
    },
    {
      "cell_type": "markdown",
      "metadata": {
        "id": "TRYIaflzgADi"
      },
      "source": [
        "# Creating a new model from the config: `tf.keras.Sequential.from_config()`\n",
        "A new TensorFlow model can be created from this config dictionary. This model will have reinitialized weights, which are not the same as the original model.*italicized text*"
      ]
    },
    {
      "cell_type": "code",
      "metadata": {
        "id": "2wza1r17fw3J"
      },
      "source": [
        "model_same_config = tf.keras.Sequential.from_config(config_dic)"
      ],
      "execution_count": 5,
      "outputs": []
    },
    {
      "cell_type": "code",
      "metadata": {
        "colab": {
          "base_uri": "https://localhost:8080/"
        },
        "id": "PsW3gk3Xgfz9",
        "outputId": "99c63c48-6600-4300-fab6-113a3b97a728"
      },
      "source": [
        "print(model_same_config.summary())"
      ],
      "execution_count": 6,
      "outputs": [
        {
          "output_type": "stream",
          "text": [
            "Model: \"sequential\"\n",
            "_________________________________________________________________\n",
            "Layer (type)                 Output Shape              Param #   \n",
            "=================================================================\n",
            "dense_1 (Dense)              (None, 32, 32, 32)        128       \n",
            "_________________________________________________________________\n",
            "dense_2 (Dense)              (None, 32, 32, 10)        330       \n",
            "=================================================================\n",
            "Total params: 458\n",
            "Trainable params: 458\n",
            "Non-trainable params: 0\n",
            "_________________________________________________________________\n",
            "None\n"
          ],
          "name": "stdout"
        }
      ]
    },
    {
      "cell_type": "markdown",
      "metadata": {
        "id": "qD_KCaPt5Izd"
      },
      "source": [
        "### Use `np.allclose()` which returns True if two arrays are element-wise equal within a tolerance.\n"
      ]
    },
    {
      "cell_type": "code",
      "metadata": {
        "colab": {
          "base_uri": "https://localhost:8080/"
        },
        "id": "DtxCGXrB5gUC",
        "outputId": "c39b4e1f-87bd-4146-f7f5-147b5dafc0a0"
      },
      "source": [
        "import numpy as np\n",
        "\n",
        "a = np.array([1.0, 2.0])\n",
        "b = np.array([1, 2.0000006])\n",
        "print(np.allclose(a,b))"
      ],
      "execution_count": 7,
      "outputs": [
        {
          "output_type": "stream",
          "text": [
            "True\n"
          ],
          "name": "stdout"
        }
      ]
    },
    {
      "cell_type": "markdown",
      "metadata": {
        "id": "SKVmWzkE6dxY"
      },
      "source": [
        "## So now let's compare two models `model` and `model_same_config` to see if there are the same? \n",
        "The model configuration is the same but the weights are different."
      ]
    },
    {
      "cell_type": "code",
      "metadata": {
        "colab": {
          "base_uri": "https://localhost:8080/"
        },
        "id": "8Np8AHRmgr1h",
        "outputId": "127b4b47-bbe7-4375-eb63-9c47c5aa5998"
      },
      "source": [
        "import numpy as np\n",
        "\n",
        "print('same config: ',model.get_config()==model_same_config.get_config())\n",
        "\n",
        "print('Same value for first weight matrix:', \n",
        "      np.allclose(model.weights[0].numpy(), model_same_config.weights[0].numpy()))\n",
        " "
      ],
      "execution_count": 8,
      "outputs": [
        {
          "output_type": "stream",
          "text": [
            "same config:  True\n",
            "Same value for first weight matrix: False\n"
          ],
          "name": "stdout"
        }
      ]
    },
    {
      "cell_type": "markdown",
      "metadata": {
        "id": "m_oavFvL8GGI"
      },
      "source": [
        "For models that are not `Sequential` models, use `tf.keras.Model.from_config` instead of `tf.keras.Sequential.from_config`."
      ]
    },
    {
      "cell_type": "markdown",
      "metadata": {
        "id": "-uySGQyq9WEd"
      },
      "source": [
        "# Other file formats: JSON \n",
        "It is also possible to obtain a model's config in JSON. \n",
        "\n",
        "* Use `to_json()` to convert the model to JSON \n",
        "\n",
        "* Use `tf.keras.models.model_from_json()`  \n",
        "\n",
        " ```\n",
        "tf.keras.models.model_from_json(\n",
        "    json_string, custom_objects=None\n",
        ")\n",
        "```"
      ]
    },
    {
      "cell_type": "code",
      "metadata": {
        "id": "30myR1r9g78V",
        "colab": {
          "base_uri": "https://localhost:8080/"
        },
        "outputId": "13dc8994-f312-4ab6-d8bb-2162235bdb81"
      },
      "source": [
        "# Convert the model to JSON\n",
        "\n",
        "json_string = model.to_json()\n",
        "print(json_string)"
      ],
      "execution_count": 9,
      "outputs": [
        {
          "output_type": "stream",
          "text": [
            "{\"class_name\": \"Sequential\", \"config\": {\"name\": \"sequential\", \"layers\": [{\"class_name\": \"InputLayer\", \"config\": {\"batch_input_shape\": [null, 32, 32, 3], \"dtype\": \"float32\", \"sparse\": false, \"ragged\": false, \"name\": \"dense_1_input\"}}, {\"class_name\": \"Dense\", \"config\": {\"name\": \"dense_1\", \"trainable\": true, \"batch_input_shape\": [null, 32, 32, 3], \"dtype\": \"float32\", \"units\": 32, \"activation\": \"relu\", \"use_bias\": true, \"kernel_initializer\": {\"class_name\": \"GlorotUniform\", \"config\": {\"seed\": null}}, \"bias_initializer\": {\"class_name\": \"Zeros\", \"config\": {}}, \"kernel_regularizer\": null, \"bias_regularizer\": null, \"activity_regularizer\": null, \"kernel_constraint\": null, \"bias_constraint\": null}}, {\"class_name\": \"Dense\", \"config\": {\"name\": \"dense_2\", \"trainable\": true, \"dtype\": \"float32\", \"units\": 10, \"activation\": \"softmax\", \"use_bias\": true, \"kernel_initializer\": {\"class_name\": \"GlorotUniform\", \"config\": {\"seed\": null}}, \"bias_initializer\": {\"class_name\": \"Zeros\", \"config\": {}}, \"kernel_regularizer\": null, \"bias_regularizer\": null, \"activity_regularizer\": null, \"kernel_constraint\": null, \"bias_constraint\": null}}]}, \"keras_version\": \"2.4.0\", \"backend\": \"tensorflow\"}\n"
          ],
          "name": "stdout"
        }
      ]
    },
    {
      "cell_type": "code",
      "metadata": {
        "id": "EA8TqFk39t-Y"
      },
      "source": [
        "# Create the model from json_string\n",
        "\n",
        "model_same_json = tf.keras.models.model_from_json(json_string)"
      ],
      "execution_count": 10,
      "outputs": []
    },
    {
      "cell_type": "code",
      "metadata": {
        "colab": {
          "base_uri": "https://localhost:8080/"
        },
        "id": "lJsSUzQ3EPlS",
        "outputId": "48bb8bff-b407-4e0e-ec38-57e5da433449"
      },
      "source": [
        "print('same model: ', model.get_config()==model_same_json.get_config())\n",
        "print('same value for first weight matrix: ', np.allclose(model.weights[0].numpy(), model_same_json.weights[0].numpy()))"
      ],
      "execution_count": 12,
      "outputs": [
        {
          "output_type": "stream",
          "text": [
            "same model:  True\n",
            "same value for first weight matrix:  False\n"
          ],
          "name": "stdout"
        }
      ]
    },
    {
      "cell_type": "markdown",
      "metadata": {
        "id": "pW_CRRcFA8OK"
      },
      "source": [
        "# Other file formats: YAML\n",
        "It is also possible to obtain a model's config in JSON or YAML formats. \n",
        "\n",
        "* Use to_yaml() to convert the model to yaml string\n",
        "\n",
        "* Use `tf.keras.models.model_from_yaml()` to create a model from yaml string\n",
        "```\n",
        "tf.keras.models.model_from_yaml(\n",
        "    yaml_string, custom_objects=None\n",
        ")\n",
        "```"
      ]
    },
    {
      "cell_type": "code",
      "metadata": {
        "colab": {
          "base_uri": "https://localhost:8080/"
        },
        "id": "NCLBWUN-A8rY",
        "outputId": "773a3985-5364-4adf-acda-e1e0d5636451"
      },
      "source": [
        "yaml_string = model.to_yaml()\n",
        "print(yaml_string)"
      ],
      "execution_count": 17,
      "outputs": [
        {
          "output_type": "stream",
          "text": [
            "backend: tensorflow\n",
            "class_name: Sequential\n",
            "config:\n",
            "  layers:\n",
            "  - class_name: InputLayer\n",
            "    config:\n",
            "      batch_input_shape: !!python/tuple [null, 32, 32, 3]\n",
            "      dtype: float32\n",
            "      name: dense_1_input\n",
            "      ragged: false\n",
            "      sparse: false\n",
            "  - class_name: Dense\n",
            "    config:\n",
            "      activation: relu\n",
            "      activity_regularizer: null\n",
            "      batch_input_shape: !!python/tuple [null, 32, 32, 3]\n",
            "      bias_constraint: null\n",
            "      bias_initializer:\n",
            "        class_name: Zeros\n",
            "        config: {}\n",
            "      bias_regularizer: null\n",
            "      dtype: float32\n",
            "      kernel_constraint: null\n",
            "      kernel_initializer:\n",
            "        class_name: GlorotUniform\n",
            "        config: {seed: null}\n",
            "      kernel_regularizer: null\n",
            "      name: dense_1\n",
            "      trainable: true\n",
            "      units: 32\n",
            "      use_bias: true\n",
            "  - class_name: Dense\n",
            "    config:\n",
            "      activation: softmax\n",
            "      activity_regularizer: null\n",
            "      bias_constraint: null\n",
            "      bias_initializer:\n",
            "        class_name: Zeros\n",
            "        config: {}\n",
            "      bias_regularizer: null\n",
            "      dtype: float32\n",
            "      kernel_constraint: null\n",
            "      kernel_initializer:\n",
            "        class_name: GlorotUniform\n",
            "        config: {seed: null}\n",
            "      kernel_regularizer: null\n",
            "      name: dense_2\n",
            "      trainable: true\n",
            "      units: 10\n",
            "      use_bias: true\n",
            "  name: sequential\n",
            "keras_version: 2.4.0\n",
            "\n"
          ],
          "name": "stdout"
        }
      ]
    },
    {
      "cell_type": "code",
      "metadata": {
        "id": "QOHxkNAiFw1w"
      },
      "source": [
        "model_same_yaml = tf.keras.models.model_from_yaml(yaml_string)"
      ],
      "execution_count": 14,
      "outputs": []
    },
    {
      "cell_type": "code",
      "metadata": {
        "colab": {
          "base_uri": "https://localhost:8080/"
        },
        "id": "n9OMdWgxF50w",
        "outputId": "d43104f7-313b-451f-bedf-4685d701dfe7"
      },
      "source": [
        "print('same model: ', model.get_config()==model_same_yaml.get_config())\n",
        "print('same value for first weight matrix: ', np.allclose(model.weights[0].numpy(), model_same_yaml.weights[0].numpy()))"
      ],
      "execution_count": 16,
      "outputs": [
        {
          "output_type": "stream",
          "text": [
            "same model:  True\n",
            "same value for first weight matrix:  False\n"
          ],
          "name": "stdout"
        }
      ]
    },
    {
      "cell_type": "markdown",
      "metadata": {
        "id": "bV3MFe-YKZmt"
      },
      "source": [
        "# The JSON and YAML formats can easily be written out and saved as a file:"
      ]
    },
    {
      "cell_type": "code",
      "metadata": {
        "id": "9j3RGlJqGDTa"
      },
      "source": [
        "import json\n",
        "\n",
        "# write out the json string\n",
        "with open('config.json', 'w') as f:\n",
        "  json.dump(json_string, f)\n",
        "\n",
        "# delete the json_string\n",
        "del json_string "
      ],
      "execution_count": 22,
      "outputs": []
    },
    {
      "cell_type": "code",
      "metadata": {
        "colab": {
          "base_uri": "https://localhost:8080/",
          "height": 164
        },
        "id": "rLnfFcemK0kz",
        "outputId": "5cbb857b-f64d-4f02-ae63-eab58ab92400"
      },
      "source": [
        "print(json_string)"
      ],
      "execution_count": 23,
      "outputs": [
        {
          "output_type": "error",
          "ename": "NameError",
          "evalue": "ignored",
          "traceback": [
            "\u001b[0;31m---------------------------------------------------------------------------\u001b[0m",
            "\u001b[0;31mNameError\u001b[0m                                 Traceback (most recent call last)",
            "\u001b[0;32m<ipython-input-23-b2038fe2dce0>\u001b[0m in \u001b[0;36m<module>\u001b[0;34m()\u001b[0m\n\u001b[0;32m----> 1\u001b[0;31m \u001b[0mprint\u001b[0m\u001b[0;34m(\u001b[0m\u001b[0mjson_string\u001b[0m\u001b[0;34m)\u001b[0m\u001b[0;34m\u001b[0m\u001b[0;34m\u001b[0m\u001b[0m\n\u001b[0m",
            "\u001b[0;31mNameError\u001b[0m: name 'json_string' is not defined"
          ]
        }
      ]
    },
    {
      "cell_type": "code",
      "metadata": {
        "id": "qhd1LV-JLo_e"
      },
      "source": [
        "# Read in JSON config file again\n",
        "\n",
        "with open('config.json', 'r') as f:\n",
        "  json_string = json.load(f)"
      ],
      "execution_count": 24,
      "outputs": []
    },
    {
      "cell_type": "code",
      "metadata": {
        "colab": {
          "base_uri": "https://localhost:8080/"
        },
        "id": "UPt68lawMD7c",
        "outputId": "d042ad34-f31b-4ce3-8ca8-238185b02e1e"
      },
      "source": [
        "print(json_string)"
      ],
      "execution_count": 25,
      "outputs": [
        {
          "output_type": "stream",
          "text": [
            "{\"class_name\": \"Sequential\", \"config\": {\"name\": \"sequential\", \"layers\": [{\"class_name\": \"InputLayer\", \"config\": {\"batch_input_shape\": [null, 32, 32, 3], \"dtype\": \"float32\", \"sparse\": false, \"ragged\": false, \"name\": \"dense_1_input\"}}, {\"class_name\": \"Dense\", \"config\": {\"name\": \"dense_1\", \"trainable\": true, \"batch_input_shape\": [null, 32, 32, 3], \"dtype\": \"float32\", \"units\": 32, \"activation\": \"relu\", \"use_bias\": true, \"kernel_initializer\": {\"class_name\": \"GlorotUniform\", \"config\": {\"seed\": null}}, \"bias_initializer\": {\"class_name\": \"Zeros\", \"config\": {}}, \"kernel_regularizer\": null, \"bias_regularizer\": null, \"activity_regularizer\": null, \"kernel_constraint\": null, \"bias_constraint\": null}}, {\"class_name\": \"Dense\", \"config\": {\"name\": \"dense_2\", \"trainable\": true, \"dtype\": \"float32\", \"units\": 10, \"activation\": \"softmax\", \"use_bias\": true, \"kernel_initializer\": {\"class_name\": \"GlorotUniform\", \"config\": {\"seed\": null}}, \"bias_initializer\": {\"class_name\": \"Zeros\", \"config\": {}}, \"kernel_regularizer\": null, \"bias_regularizer\": null, \"activity_regularizer\": null, \"kernel_constraint\": null, \"bias_constraint\": null}}]}, \"keras_version\": \"2.4.0\", \"backend\": \"tensorflow\"}\n"
          ],
          "name": "stdout"
        }
      ]
    },
    {
      "cell_type": "markdown",
      "metadata": {
        "id": "YLqkfQo0MRfW"
      },
      "source": [
        "### Let's try with YAML format"
      ]
    },
    {
      "cell_type": "code",
      "metadata": {
        "id": "Fa-s9XQNMGLB"
      },
      "source": [
        "import yaml\n",
        "\n",
        "# write out the yaml string\n",
        "\n",
        "with open('config.yaml', 'w') as f:\n",
        "  yaml.dump(yaml_string, f)\n",
        "\n",
        "# delete yaml_string\n",
        "del yaml_string"
      ],
      "execution_count": 27,
      "outputs": []
    },
    {
      "cell_type": "code",
      "metadata": {
        "colab": {
          "base_uri": "https://localhost:8080/",
          "height": 164
        },
        "id": "VZpoDFYgMneZ",
        "outputId": "8df6344f-f148-468c-b8e1-14d043ab39b3"
      },
      "source": [
        "print(yaml_string)"
      ],
      "execution_count": 28,
      "outputs": [
        {
          "output_type": "error",
          "ename": "NameError",
          "evalue": "ignored",
          "traceback": [
            "\u001b[0;31m---------------------------------------------------------------------------\u001b[0m",
            "\u001b[0;31mNameError\u001b[0m                                 Traceback (most recent call last)",
            "\u001b[0;32m<ipython-input-28-aa15b38616c5>\u001b[0m in \u001b[0;36m<module>\u001b[0;34m()\u001b[0m\n\u001b[0;32m----> 1\u001b[0;31m \u001b[0mprint\u001b[0m\u001b[0;34m(\u001b[0m\u001b[0myaml_string\u001b[0m\u001b[0;34m)\u001b[0m\u001b[0;34m\u001b[0m\u001b[0;34m\u001b[0m\u001b[0m\n\u001b[0m",
            "\u001b[0;31mNameError\u001b[0m: name 'yaml_string' is not defined"
          ]
        }
      ]
    },
    {
      "cell_type": "code",
      "metadata": {
        "id": "mdahFuTCMu12"
      },
      "source": [
        "# read in config.yaml again\n",
        "\n",
        "with open('config.yaml', 'r') as f:\n",
        "  yaml_string = yaml.load(f)\n"
      ],
      "execution_count": 29,
      "outputs": []
    },
    {
      "cell_type": "code",
      "metadata": {
        "colab": {
          "base_uri": "https://localhost:8080/"
        },
        "id": "xPPaBcdxNDlI",
        "outputId": "1d3bd527-01a5-424c-845a-f157a323481d"
      },
      "source": [
        "print(yaml_string)"
      ],
      "execution_count": 30,
      "outputs": [
        {
          "output_type": "stream",
          "text": [
            "backend: tensorflow\n",
            "class_name: Sequential\n",
            "config:\n",
            "  layers:\n",
            "  - class_name: InputLayer\n",
            "    config:\n",
            "      batch_input_shape: !!python/tuple [null, 32, 32, 3]\n",
            "      dtype: float32\n",
            "      name: dense_1_input\n",
            "      ragged: false\n",
            "      sparse: false\n",
            "  - class_name: Dense\n",
            "    config:\n",
            "      activation: relu\n",
            "      activity_regularizer: null\n",
            "      batch_input_shape: !!python/tuple [null, 32, 32, 3]\n",
            "      bias_constraint: null\n",
            "      bias_initializer:\n",
            "        class_name: Zeros\n",
            "        config: {}\n",
            "      bias_regularizer: null\n",
            "      dtype: float32\n",
            "      kernel_constraint: null\n",
            "      kernel_initializer:\n",
            "        class_name: GlorotUniform\n",
            "        config: {seed: null}\n",
            "      kernel_regularizer: null\n",
            "      name: dense_1\n",
            "      trainable: true\n",
            "      units: 32\n",
            "      use_bias: true\n",
            "  - class_name: Dense\n",
            "    config:\n",
            "      activation: softmax\n",
            "      activity_regularizer: null\n",
            "      bias_constraint: null\n",
            "      bias_initializer:\n",
            "        class_name: Zeros\n",
            "        config: {}\n",
            "      bias_regularizer: null\n",
            "      dtype: float32\n",
            "      kernel_constraint: null\n",
            "      kernel_initializer:\n",
            "        class_name: GlorotUniform\n",
            "        config: {seed: null}\n",
            "      kernel_regularizer: null\n",
            "      name: dense_2\n",
            "      trainable: true\n",
            "      units: 10\n",
            "      use_bias: true\n",
            "  name: sequential\n",
            "keras_version: 2.4.0\n",
            "\n"
          ],
          "name": "stdout"
        }
      ]
    }
  ]
}