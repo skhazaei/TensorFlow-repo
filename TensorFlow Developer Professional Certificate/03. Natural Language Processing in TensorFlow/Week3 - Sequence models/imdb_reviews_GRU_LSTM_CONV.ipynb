{
  "nbformat": 4,
  "nbformat_minor": 0,
  "metadata": {
    "colab": {
      "name": "imdb_reviews_GRU_LSTM_CONV.ipynb",
      "provenance": [],
      "collapsed_sections": [],
      "authorship_tag": "ABX9TyM/7Fo1BvrVIAyMDQSl1s47",
      "include_colab_link": true
    },
    "kernelspec": {
      "name": "python3",
      "display_name": "Python 3"
    },
    "accelerator": "GPU",
    "widgets": {
      "application/vnd.jupyter.widget-state+json": {
        "3dbc4c4913d54143903b455e30a79155": {
          "model_module": "@jupyter-widgets/controls",
          "model_name": "HBoxModel",
          "state": {
            "_view_name": "HBoxView",
            "_dom_classes": [],
            "_model_name": "HBoxModel",
            "_view_module": "@jupyter-widgets/controls",
            "_model_module_version": "1.5.0",
            "_view_count": null,
            "_view_module_version": "1.5.0",
            "box_style": "",
            "layout": "IPY_MODEL_269c305bf8b245b3934c4ad14a844d72",
            "_model_module": "@jupyter-widgets/controls",
            "children": [
              "IPY_MODEL_4a36d9c78c9345e3a4c41dda9530e4ac",
              "IPY_MODEL_77b55fbff75d4bf5aba4c59e20f816c3"
            ]
          }
        },
        "269c305bf8b245b3934c4ad14a844d72": {
          "model_module": "@jupyter-widgets/base",
          "model_name": "LayoutModel",
          "state": {
            "_view_name": "LayoutView",
            "grid_template_rows": null,
            "right": null,
            "justify_content": null,
            "_view_module": "@jupyter-widgets/base",
            "overflow": null,
            "_model_module_version": "1.2.0",
            "_view_count": null,
            "flex_flow": null,
            "width": null,
            "min_width": null,
            "border": null,
            "align_items": null,
            "bottom": null,
            "_model_module": "@jupyter-widgets/base",
            "top": null,
            "grid_column": null,
            "overflow_y": null,
            "overflow_x": null,
            "grid_auto_flow": null,
            "grid_area": null,
            "grid_template_columns": null,
            "flex": null,
            "_model_name": "LayoutModel",
            "justify_items": null,
            "grid_row": null,
            "max_height": null,
            "align_content": null,
            "visibility": null,
            "align_self": null,
            "height": null,
            "min_height": null,
            "padding": null,
            "grid_auto_rows": null,
            "grid_gap": null,
            "max_width": null,
            "order": null,
            "_view_module_version": "1.2.0",
            "grid_template_areas": null,
            "object_position": null,
            "object_fit": null,
            "grid_auto_columns": null,
            "margin": null,
            "display": null,
            "left": null
          }
        },
        "4a36d9c78c9345e3a4c41dda9530e4ac": {
          "model_module": "@jupyter-widgets/controls",
          "model_name": "FloatProgressModel",
          "state": {
            "_view_name": "ProgressView",
            "style": "IPY_MODEL_2e1f6ca2c1b6419ca6011e489d9e79e9",
            "_dom_classes": [],
            "description": "Dl Completed...: 100%",
            "_model_name": "FloatProgressModel",
            "bar_style": "success",
            "max": 1,
            "_view_module": "@jupyter-widgets/controls",
            "_model_module_version": "1.5.0",
            "value": 1,
            "_view_count": null,
            "_view_module_version": "1.5.0",
            "orientation": "horizontal",
            "min": 0,
            "description_tooltip": null,
            "_model_module": "@jupyter-widgets/controls",
            "layout": "IPY_MODEL_1defbbe2895e48eea7058daa52f6383d"
          }
        },
        "77b55fbff75d4bf5aba4c59e20f816c3": {
          "model_module": "@jupyter-widgets/controls",
          "model_name": "HTMLModel",
          "state": {
            "_view_name": "HTMLView",
            "style": "IPY_MODEL_1e92fc56004b427eb6407df7f7f99168",
            "_dom_classes": [],
            "description": "",
            "_model_name": "HTMLModel",
            "placeholder": "​",
            "_view_module": "@jupyter-widgets/controls",
            "_model_module_version": "1.5.0",
            "value": " 1/1 [00:03&lt;00:00,  3.95s/ url]",
            "_view_count": null,
            "_view_module_version": "1.5.0",
            "description_tooltip": null,
            "_model_module": "@jupyter-widgets/controls",
            "layout": "IPY_MODEL_20d4af2b983a412f99c733e463eb1f2c"
          }
        },
        "2e1f6ca2c1b6419ca6011e489d9e79e9": {
          "model_module": "@jupyter-widgets/controls",
          "model_name": "ProgressStyleModel",
          "state": {
            "_view_name": "StyleView",
            "_model_name": "ProgressStyleModel",
            "description_width": "initial",
            "_view_module": "@jupyter-widgets/base",
            "_model_module_version": "1.5.0",
            "_view_count": null,
            "_view_module_version": "1.2.0",
            "bar_color": null,
            "_model_module": "@jupyter-widgets/controls"
          }
        },
        "1defbbe2895e48eea7058daa52f6383d": {
          "model_module": "@jupyter-widgets/base",
          "model_name": "LayoutModel",
          "state": {
            "_view_name": "LayoutView",
            "grid_template_rows": null,
            "right": null,
            "justify_content": null,
            "_view_module": "@jupyter-widgets/base",
            "overflow": null,
            "_model_module_version": "1.2.0",
            "_view_count": null,
            "flex_flow": null,
            "width": null,
            "min_width": null,
            "border": null,
            "align_items": null,
            "bottom": null,
            "_model_module": "@jupyter-widgets/base",
            "top": null,
            "grid_column": null,
            "overflow_y": null,
            "overflow_x": null,
            "grid_auto_flow": null,
            "grid_area": null,
            "grid_template_columns": null,
            "flex": null,
            "_model_name": "LayoutModel",
            "justify_items": null,
            "grid_row": null,
            "max_height": null,
            "align_content": null,
            "visibility": null,
            "align_self": null,
            "height": null,
            "min_height": null,
            "padding": null,
            "grid_auto_rows": null,
            "grid_gap": null,
            "max_width": null,
            "order": null,
            "_view_module_version": "1.2.0",
            "grid_template_areas": null,
            "object_position": null,
            "object_fit": null,
            "grid_auto_columns": null,
            "margin": null,
            "display": null,
            "left": null
          }
        },
        "1e92fc56004b427eb6407df7f7f99168": {
          "model_module": "@jupyter-widgets/controls",
          "model_name": "DescriptionStyleModel",
          "state": {
            "_view_name": "StyleView",
            "_model_name": "DescriptionStyleModel",
            "description_width": "",
            "_view_module": "@jupyter-widgets/base",
            "_model_module_version": "1.5.0",
            "_view_count": null,
            "_view_module_version": "1.2.0",
            "_model_module": "@jupyter-widgets/controls"
          }
        },
        "20d4af2b983a412f99c733e463eb1f2c": {
          "model_module": "@jupyter-widgets/base",
          "model_name": "LayoutModel",
          "state": {
            "_view_name": "LayoutView",
            "grid_template_rows": null,
            "right": null,
            "justify_content": null,
            "_view_module": "@jupyter-widgets/base",
            "overflow": null,
            "_model_module_version": "1.2.0",
            "_view_count": null,
            "flex_flow": null,
            "width": null,
            "min_width": null,
            "border": null,
            "align_items": null,
            "bottom": null,
            "_model_module": "@jupyter-widgets/base",
            "top": null,
            "grid_column": null,
            "overflow_y": null,
            "overflow_x": null,
            "grid_auto_flow": null,
            "grid_area": null,
            "grid_template_columns": null,
            "flex": null,
            "_model_name": "LayoutModel",
            "justify_items": null,
            "grid_row": null,
            "max_height": null,
            "align_content": null,
            "visibility": null,
            "align_self": null,
            "height": null,
            "min_height": null,
            "padding": null,
            "grid_auto_rows": null,
            "grid_gap": null,
            "max_width": null,
            "order": null,
            "_view_module_version": "1.2.0",
            "grid_template_areas": null,
            "object_position": null,
            "object_fit": null,
            "grid_auto_columns": null,
            "margin": null,
            "display": null,
            "left": null
          }
        },
        "868645b257c441229411dbb42064ca46": {
          "model_module": "@jupyter-widgets/controls",
          "model_name": "HBoxModel",
          "state": {
            "_view_name": "HBoxView",
            "_dom_classes": [],
            "_model_name": "HBoxModel",
            "_view_module": "@jupyter-widgets/controls",
            "_model_module_version": "1.5.0",
            "_view_count": null,
            "_view_module_version": "1.5.0",
            "box_style": "",
            "layout": "IPY_MODEL_a4202cce10c141daa49344fe88715d01",
            "_model_module": "@jupyter-widgets/controls",
            "children": [
              "IPY_MODEL_cccccf212779467aba6b172f76437500",
              "IPY_MODEL_5077dbb7ce594051a4372f29d0e9d585"
            ]
          }
        },
        "a4202cce10c141daa49344fe88715d01": {
          "model_module": "@jupyter-widgets/base",
          "model_name": "LayoutModel",
          "state": {
            "_view_name": "LayoutView",
            "grid_template_rows": null,
            "right": null,
            "justify_content": null,
            "_view_module": "@jupyter-widgets/base",
            "overflow": null,
            "_model_module_version": "1.2.0",
            "_view_count": null,
            "flex_flow": null,
            "width": null,
            "min_width": null,
            "border": null,
            "align_items": null,
            "bottom": null,
            "_model_module": "@jupyter-widgets/base",
            "top": null,
            "grid_column": null,
            "overflow_y": null,
            "overflow_x": null,
            "grid_auto_flow": null,
            "grid_area": null,
            "grid_template_columns": null,
            "flex": null,
            "_model_name": "LayoutModel",
            "justify_items": null,
            "grid_row": null,
            "max_height": null,
            "align_content": null,
            "visibility": null,
            "align_self": null,
            "height": null,
            "min_height": null,
            "padding": null,
            "grid_auto_rows": null,
            "grid_gap": null,
            "max_width": null,
            "order": null,
            "_view_module_version": "1.2.0",
            "grid_template_areas": null,
            "object_position": null,
            "object_fit": null,
            "grid_auto_columns": null,
            "margin": null,
            "display": null,
            "left": null
          }
        },
        "cccccf212779467aba6b172f76437500": {
          "model_module": "@jupyter-widgets/controls",
          "model_name": "FloatProgressModel",
          "state": {
            "_view_name": "ProgressView",
            "style": "IPY_MODEL_61144900ba02416bb28aab6d71882272",
            "_dom_classes": [],
            "description": "Dl Size...: 100%",
            "_model_name": "FloatProgressModel",
            "bar_style": "success",
            "max": 1,
            "_view_module": "@jupyter-widgets/controls",
            "_model_module_version": "1.5.0",
            "value": 1,
            "_view_count": null,
            "_view_module_version": "1.5.0",
            "orientation": "horizontal",
            "min": 0,
            "description_tooltip": null,
            "_model_module": "@jupyter-widgets/controls",
            "layout": "IPY_MODEL_40922ddd42fd48bc9fe0471ecbdeb781"
          }
        },
        "5077dbb7ce594051a4372f29d0e9d585": {
          "model_module": "@jupyter-widgets/controls",
          "model_name": "HTMLModel",
          "state": {
            "_view_name": "HTMLView",
            "style": "IPY_MODEL_bef4e2e27dae4446aeeac449cdbfe30b",
            "_dom_classes": [],
            "description": "",
            "_model_name": "HTMLModel",
            "placeholder": "​",
            "_view_module": "@jupyter-widgets/controls",
            "_model_module_version": "1.5.0",
            "value": " 80/80 [00:03&lt;00:00, 20.43 MiB/s]",
            "_view_count": null,
            "_view_module_version": "1.5.0",
            "description_tooltip": null,
            "_model_module": "@jupyter-widgets/controls",
            "layout": "IPY_MODEL_fafcf49e190d40c5af95c682f9165c3d"
          }
        },
        "61144900ba02416bb28aab6d71882272": {
          "model_module": "@jupyter-widgets/controls",
          "model_name": "ProgressStyleModel",
          "state": {
            "_view_name": "StyleView",
            "_model_name": "ProgressStyleModel",
            "description_width": "initial",
            "_view_module": "@jupyter-widgets/base",
            "_model_module_version": "1.5.0",
            "_view_count": null,
            "_view_module_version": "1.2.0",
            "bar_color": null,
            "_model_module": "@jupyter-widgets/controls"
          }
        },
        "40922ddd42fd48bc9fe0471ecbdeb781": {
          "model_module": "@jupyter-widgets/base",
          "model_name": "LayoutModel",
          "state": {
            "_view_name": "LayoutView",
            "grid_template_rows": null,
            "right": null,
            "justify_content": null,
            "_view_module": "@jupyter-widgets/base",
            "overflow": null,
            "_model_module_version": "1.2.0",
            "_view_count": null,
            "flex_flow": null,
            "width": null,
            "min_width": null,
            "border": null,
            "align_items": null,
            "bottom": null,
            "_model_module": "@jupyter-widgets/base",
            "top": null,
            "grid_column": null,
            "overflow_y": null,
            "overflow_x": null,
            "grid_auto_flow": null,
            "grid_area": null,
            "grid_template_columns": null,
            "flex": null,
            "_model_name": "LayoutModel",
            "justify_items": null,
            "grid_row": null,
            "max_height": null,
            "align_content": null,
            "visibility": null,
            "align_self": null,
            "height": null,
            "min_height": null,
            "padding": null,
            "grid_auto_rows": null,
            "grid_gap": null,
            "max_width": null,
            "order": null,
            "_view_module_version": "1.2.0",
            "grid_template_areas": null,
            "object_position": null,
            "object_fit": null,
            "grid_auto_columns": null,
            "margin": null,
            "display": null,
            "left": null
          }
        },
        "bef4e2e27dae4446aeeac449cdbfe30b": {
          "model_module": "@jupyter-widgets/controls",
          "model_name": "DescriptionStyleModel",
          "state": {
            "_view_name": "StyleView",
            "_model_name": "DescriptionStyleModel",
            "description_width": "",
            "_view_module": "@jupyter-widgets/base",
            "_model_module_version": "1.5.0",
            "_view_count": null,
            "_view_module_version": "1.2.0",
            "_model_module": "@jupyter-widgets/controls"
          }
        },
        "fafcf49e190d40c5af95c682f9165c3d": {
          "model_module": "@jupyter-widgets/base",
          "model_name": "LayoutModel",
          "state": {
            "_view_name": "LayoutView",
            "grid_template_rows": null,
            "right": null,
            "justify_content": null,
            "_view_module": "@jupyter-widgets/base",
            "overflow": null,
            "_model_module_version": "1.2.0",
            "_view_count": null,
            "flex_flow": null,
            "width": null,
            "min_width": null,
            "border": null,
            "align_items": null,
            "bottom": null,
            "_model_module": "@jupyter-widgets/base",
            "top": null,
            "grid_column": null,
            "overflow_y": null,
            "overflow_x": null,
            "grid_auto_flow": null,
            "grid_area": null,
            "grid_template_columns": null,
            "flex": null,
            "_model_name": "LayoutModel",
            "justify_items": null,
            "grid_row": null,
            "max_height": null,
            "align_content": null,
            "visibility": null,
            "align_self": null,
            "height": null,
            "min_height": null,
            "padding": null,
            "grid_auto_rows": null,
            "grid_gap": null,
            "max_width": null,
            "order": null,
            "_view_module_version": "1.2.0",
            "grid_template_areas": null,
            "object_position": null,
            "object_fit": null,
            "grid_auto_columns": null,
            "margin": null,
            "display": null,
            "left": null
          }
        },
        "afe623d036a04019af52ea48d0376bb2": {
          "model_module": "@jupyter-widgets/controls",
          "model_name": "HBoxModel",
          "state": {
            "_view_name": "HBoxView",
            "_dom_classes": [],
            "_model_name": "HBoxModel",
            "_view_module": "@jupyter-widgets/controls",
            "_model_module_version": "1.5.0",
            "_view_count": null,
            "_view_module_version": "1.5.0",
            "box_style": "",
            "layout": "IPY_MODEL_18273e1a7ea242e5bcff50e4b0c610d6",
            "_model_module": "@jupyter-widgets/controls",
            "children": [
              "IPY_MODEL_8676c0afdadf49b4874bf2fdccf1ad73",
              "IPY_MODEL_79101a1b2666408aa9f791f4c301a08f"
            ]
          }
        },
        "18273e1a7ea242e5bcff50e4b0c610d6": {
          "model_module": "@jupyter-widgets/base",
          "model_name": "LayoutModel",
          "state": {
            "_view_name": "LayoutView",
            "grid_template_rows": null,
            "right": null,
            "justify_content": null,
            "_view_module": "@jupyter-widgets/base",
            "overflow": null,
            "_model_module_version": "1.2.0",
            "_view_count": null,
            "flex_flow": null,
            "width": null,
            "min_width": null,
            "border": null,
            "align_items": null,
            "bottom": null,
            "_model_module": "@jupyter-widgets/base",
            "top": null,
            "grid_column": null,
            "overflow_y": null,
            "overflow_x": null,
            "grid_auto_flow": null,
            "grid_area": null,
            "grid_template_columns": null,
            "flex": null,
            "_model_name": "LayoutModel",
            "justify_items": null,
            "grid_row": null,
            "max_height": null,
            "align_content": null,
            "visibility": null,
            "align_self": null,
            "height": null,
            "min_height": null,
            "padding": null,
            "grid_auto_rows": null,
            "grid_gap": null,
            "max_width": null,
            "order": null,
            "_view_module_version": "1.2.0",
            "grid_template_areas": null,
            "object_position": null,
            "object_fit": null,
            "grid_auto_columns": null,
            "margin": null,
            "display": null,
            "left": null
          }
        },
        "8676c0afdadf49b4874bf2fdccf1ad73": {
          "model_module": "@jupyter-widgets/controls",
          "model_name": "FloatProgressModel",
          "state": {
            "_view_name": "ProgressView",
            "style": "IPY_MODEL_a04da4a69439434991691b5d08c7b882",
            "_dom_classes": [],
            "description": "",
            "_model_name": "FloatProgressModel",
            "bar_style": "info",
            "max": 1,
            "_view_module": "@jupyter-widgets/controls",
            "_model_module_version": "1.5.0",
            "value": 1,
            "_view_count": null,
            "_view_module_version": "1.5.0",
            "orientation": "horizontal",
            "min": 0,
            "description_tooltip": null,
            "_model_module": "@jupyter-widgets/controls",
            "layout": "IPY_MODEL_aea6bf60854a4a06aae99afe56c5a897"
          }
        },
        "79101a1b2666408aa9f791f4c301a08f": {
          "model_module": "@jupyter-widgets/controls",
          "model_name": "HTMLModel",
          "state": {
            "_view_name": "HTMLView",
            "style": "IPY_MODEL_2babed6d36a34e98aa4f5a2d838f8d1d",
            "_dom_classes": [],
            "description": "",
            "_model_name": "HTMLModel",
            "placeholder": "​",
            "_view_module": "@jupyter-widgets/controls",
            "_model_module_version": "1.5.0",
            "value": " 25000/0 [00:12&lt;00:00, 3641.98 examples/s]",
            "_view_count": null,
            "_view_module_version": "1.5.0",
            "description_tooltip": null,
            "_model_module": "@jupyter-widgets/controls",
            "layout": "IPY_MODEL_c7da98651aaa42f883c24230973999ed"
          }
        },
        "a04da4a69439434991691b5d08c7b882": {
          "model_module": "@jupyter-widgets/controls",
          "model_name": "ProgressStyleModel",
          "state": {
            "_view_name": "StyleView",
            "_model_name": "ProgressStyleModel",
            "description_width": "initial",
            "_view_module": "@jupyter-widgets/base",
            "_model_module_version": "1.5.0",
            "_view_count": null,
            "_view_module_version": "1.2.0",
            "bar_color": null,
            "_model_module": "@jupyter-widgets/controls"
          }
        },
        "aea6bf60854a4a06aae99afe56c5a897": {
          "model_module": "@jupyter-widgets/base",
          "model_name": "LayoutModel",
          "state": {
            "_view_name": "LayoutView",
            "grid_template_rows": null,
            "right": null,
            "justify_content": null,
            "_view_module": "@jupyter-widgets/base",
            "overflow": null,
            "_model_module_version": "1.2.0",
            "_view_count": null,
            "flex_flow": null,
            "width": null,
            "min_width": null,
            "border": null,
            "align_items": null,
            "bottom": null,
            "_model_module": "@jupyter-widgets/base",
            "top": null,
            "grid_column": null,
            "overflow_y": null,
            "overflow_x": null,
            "grid_auto_flow": null,
            "grid_area": null,
            "grid_template_columns": null,
            "flex": null,
            "_model_name": "LayoutModel",
            "justify_items": null,
            "grid_row": null,
            "max_height": null,
            "align_content": null,
            "visibility": null,
            "align_self": null,
            "height": null,
            "min_height": null,
            "padding": null,
            "grid_auto_rows": null,
            "grid_gap": null,
            "max_width": null,
            "order": null,
            "_view_module_version": "1.2.0",
            "grid_template_areas": null,
            "object_position": null,
            "object_fit": null,
            "grid_auto_columns": null,
            "margin": null,
            "display": null,
            "left": null
          }
        },
        "2babed6d36a34e98aa4f5a2d838f8d1d": {
          "model_module": "@jupyter-widgets/controls",
          "model_name": "DescriptionStyleModel",
          "state": {
            "_view_name": "StyleView",
            "_model_name": "DescriptionStyleModel",
            "description_width": "",
            "_view_module": "@jupyter-widgets/base",
            "_model_module_version": "1.5.0",
            "_view_count": null,
            "_view_module_version": "1.2.0",
            "_model_module": "@jupyter-widgets/controls"
          }
        },
        "c7da98651aaa42f883c24230973999ed": {
          "model_module": "@jupyter-widgets/base",
          "model_name": "LayoutModel",
          "state": {
            "_view_name": "LayoutView",
            "grid_template_rows": null,
            "right": null,
            "justify_content": null,
            "_view_module": "@jupyter-widgets/base",
            "overflow": null,
            "_model_module_version": "1.2.0",
            "_view_count": null,
            "flex_flow": null,
            "width": null,
            "min_width": null,
            "border": null,
            "align_items": null,
            "bottom": null,
            "_model_module": "@jupyter-widgets/base",
            "top": null,
            "grid_column": null,
            "overflow_y": null,
            "overflow_x": null,
            "grid_auto_flow": null,
            "grid_area": null,
            "grid_template_columns": null,
            "flex": null,
            "_model_name": "LayoutModel",
            "justify_items": null,
            "grid_row": null,
            "max_height": null,
            "align_content": null,
            "visibility": null,
            "align_self": null,
            "height": null,
            "min_height": null,
            "padding": null,
            "grid_auto_rows": null,
            "grid_gap": null,
            "max_width": null,
            "order": null,
            "_view_module_version": "1.2.0",
            "grid_template_areas": null,
            "object_position": null,
            "object_fit": null,
            "grid_auto_columns": null,
            "margin": null,
            "display": null,
            "left": null
          }
        },
        "e2c14e5d91a143888d24aa6ccf972236": {
          "model_module": "@jupyter-widgets/controls",
          "model_name": "HBoxModel",
          "state": {
            "_view_name": "HBoxView",
            "_dom_classes": [],
            "_model_name": "HBoxModel",
            "_view_module": "@jupyter-widgets/controls",
            "_model_module_version": "1.5.0",
            "_view_count": null,
            "_view_module_version": "1.5.0",
            "box_style": "",
            "layout": "IPY_MODEL_8dc9a41d6b0d4cca90dd21ffe70d748e",
            "_model_module": "@jupyter-widgets/controls",
            "children": [
              "IPY_MODEL_d88a29e6ccb644a5953c29c9c3581293",
              "IPY_MODEL_7ac724fef371402395273bf6ed5612d0"
            ]
          }
        },
        "8dc9a41d6b0d4cca90dd21ffe70d748e": {
          "model_module": "@jupyter-widgets/base",
          "model_name": "LayoutModel",
          "state": {
            "_view_name": "LayoutView",
            "grid_template_rows": null,
            "right": null,
            "justify_content": null,
            "_view_module": "@jupyter-widgets/base",
            "overflow": null,
            "_model_module_version": "1.2.0",
            "_view_count": null,
            "flex_flow": null,
            "width": null,
            "min_width": null,
            "border": null,
            "align_items": null,
            "bottom": null,
            "_model_module": "@jupyter-widgets/base",
            "top": null,
            "grid_column": null,
            "overflow_y": null,
            "overflow_x": null,
            "grid_auto_flow": null,
            "grid_area": null,
            "grid_template_columns": null,
            "flex": null,
            "_model_name": "LayoutModel",
            "justify_items": null,
            "grid_row": null,
            "max_height": null,
            "align_content": null,
            "visibility": null,
            "align_self": null,
            "height": null,
            "min_height": null,
            "padding": null,
            "grid_auto_rows": null,
            "grid_gap": null,
            "max_width": null,
            "order": null,
            "_view_module_version": "1.2.0",
            "grid_template_areas": null,
            "object_position": null,
            "object_fit": null,
            "grid_auto_columns": null,
            "margin": null,
            "display": null,
            "left": null
          }
        },
        "d88a29e6ccb644a5953c29c9c3581293": {
          "model_module": "@jupyter-widgets/controls",
          "model_name": "FloatProgressModel",
          "state": {
            "_view_name": "ProgressView",
            "style": "IPY_MODEL_0e346b093ad2406a8ffd6cdbdc01d1bd",
            "_dom_classes": [],
            "description": " 60%",
            "_model_name": "FloatProgressModel",
            "bar_style": "danger",
            "max": 25000,
            "_view_module": "@jupyter-widgets/controls",
            "_model_module_version": "1.5.0",
            "value": 15011,
            "_view_count": null,
            "_view_module_version": "1.5.0",
            "orientation": "horizontal",
            "min": 0,
            "description_tooltip": null,
            "_model_module": "@jupyter-widgets/controls",
            "layout": "IPY_MODEL_5e2207eeec974e46a55437400ce463fd"
          }
        },
        "7ac724fef371402395273bf6ed5612d0": {
          "model_module": "@jupyter-widgets/controls",
          "model_name": "HTMLModel",
          "state": {
            "_view_name": "HTMLView",
            "style": "IPY_MODEL_0570c04f4dec4776885f064f5d24fa4c",
            "_dom_classes": [],
            "description": "",
            "_model_name": "HTMLModel",
            "placeholder": "​",
            "_view_module": "@jupyter-widgets/controls",
            "_model_module_version": "1.5.0",
            "value": " 15011/25000 [00:00&lt;00:00, 150107.64 examples/s]",
            "_view_count": null,
            "_view_module_version": "1.5.0",
            "description_tooltip": null,
            "_model_module": "@jupyter-widgets/controls",
            "layout": "IPY_MODEL_1c7a067fa0ca4382b15a5b442c783ff8"
          }
        },
        "0e346b093ad2406a8ffd6cdbdc01d1bd": {
          "model_module": "@jupyter-widgets/controls",
          "model_name": "ProgressStyleModel",
          "state": {
            "_view_name": "StyleView",
            "_model_name": "ProgressStyleModel",
            "description_width": "initial",
            "_view_module": "@jupyter-widgets/base",
            "_model_module_version": "1.5.0",
            "_view_count": null,
            "_view_module_version": "1.2.0",
            "bar_color": null,
            "_model_module": "@jupyter-widgets/controls"
          }
        },
        "5e2207eeec974e46a55437400ce463fd": {
          "model_module": "@jupyter-widgets/base",
          "model_name": "LayoutModel",
          "state": {
            "_view_name": "LayoutView",
            "grid_template_rows": null,
            "right": null,
            "justify_content": null,
            "_view_module": "@jupyter-widgets/base",
            "overflow": null,
            "_model_module_version": "1.2.0",
            "_view_count": null,
            "flex_flow": null,
            "width": null,
            "min_width": null,
            "border": null,
            "align_items": null,
            "bottom": null,
            "_model_module": "@jupyter-widgets/base",
            "top": null,
            "grid_column": null,
            "overflow_y": null,
            "overflow_x": null,
            "grid_auto_flow": null,
            "grid_area": null,
            "grid_template_columns": null,
            "flex": null,
            "_model_name": "LayoutModel",
            "justify_items": null,
            "grid_row": null,
            "max_height": null,
            "align_content": null,
            "visibility": null,
            "align_self": null,
            "height": null,
            "min_height": null,
            "padding": null,
            "grid_auto_rows": null,
            "grid_gap": null,
            "max_width": null,
            "order": null,
            "_view_module_version": "1.2.0",
            "grid_template_areas": null,
            "object_position": null,
            "object_fit": null,
            "grid_auto_columns": null,
            "margin": null,
            "display": null,
            "left": null
          }
        },
        "0570c04f4dec4776885f064f5d24fa4c": {
          "model_module": "@jupyter-widgets/controls",
          "model_name": "DescriptionStyleModel",
          "state": {
            "_view_name": "StyleView",
            "_model_name": "DescriptionStyleModel",
            "description_width": "",
            "_view_module": "@jupyter-widgets/base",
            "_model_module_version": "1.5.0",
            "_view_count": null,
            "_view_module_version": "1.2.0",
            "_model_module": "@jupyter-widgets/controls"
          }
        },
        "1c7a067fa0ca4382b15a5b442c783ff8": {
          "model_module": "@jupyter-widgets/base",
          "model_name": "LayoutModel",
          "state": {
            "_view_name": "LayoutView",
            "grid_template_rows": null,
            "right": null,
            "justify_content": null,
            "_view_module": "@jupyter-widgets/base",
            "overflow": null,
            "_model_module_version": "1.2.0",
            "_view_count": null,
            "flex_flow": null,
            "width": null,
            "min_width": null,
            "border": null,
            "align_items": null,
            "bottom": null,
            "_model_module": "@jupyter-widgets/base",
            "top": null,
            "grid_column": null,
            "overflow_y": null,
            "overflow_x": null,
            "grid_auto_flow": null,
            "grid_area": null,
            "grid_template_columns": null,
            "flex": null,
            "_model_name": "LayoutModel",
            "justify_items": null,
            "grid_row": null,
            "max_height": null,
            "align_content": null,
            "visibility": null,
            "align_self": null,
            "height": null,
            "min_height": null,
            "padding": null,
            "grid_auto_rows": null,
            "grid_gap": null,
            "max_width": null,
            "order": null,
            "_view_module_version": "1.2.0",
            "grid_template_areas": null,
            "object_position": null,
            "object_fit": null,
            "grid_auto_columns": null,
            "margin": null,
            "display": null,
            "left": null
          }
        },
        "41ed0d0cfe914b2baf86523c9cc05641": {
          "model_module": "@jupyter-widgets/controls",
          "model_name": "HBoxModel",
          "state": {
            "_view_name": "HBoxView",
            "_dom_classes": [],
            "_model_name": "HBoxModel",
            "_view_module": "@jupyter-widgets/controls",
            "_model_module_version": "1.5.0",
            "_view_count": null,
            "_view_module_version": "1.5.0",
            "box_style": "",
            "layout": "IPY_MODEL_d6d42d97e15942818f915f6fa923af5a",
            "_model_module": "@jupyter-widgets/controls",
            "children": [
              "IPY_MODEL_254497f9494b47de817a47d7a7cec5b1",
              "IPY_MODEL_952af6a7a79b47fbac0664ec6f0d5f78"
            ]
          }
        },
        "d6d42d97e15942818f915f6fa923af5a": {
          "model_module": "@jupyter-widgets/base",
          "model_name": "LayoutModel",
          "state": {
            "_view_name": "LayoutView",
            "grid_template_rows": null,
            "right": null,
            "justify_content": null,
            "_view_module": "@jupyter-widgets/base",
            "overflow": null,
            "_model_module_version": "1.2.0",
            "_view_count": null,
            "flex_flow": null,
            "width": null,
            "min_width": null,
            "border": null,
            "align_items": null,
            "bottom": null,
            "_model_module": "@jupyter-widgets/base",
            "top": null,
            "grid_column": null,
            "overflow_y": null,
            "overflow_x": null,
            "grid_auto_flow": null,
            "grid_area": null,
            "grid_template_columns": null,
            "flex": null,
            "_model_name": "LayoutModel",
            "justify_items": null,
            "grid_row": null,
            "max_height": null,
            "align_content": null,
            "visibility": null,
            "align_self": null,
            "height": null,
            "min_height": null,
            "padding": null,
            "grid_auto_rows": null,
            "grid_gap": null,
            "max_width": null,
            "order": null,
            "_view_module_version": "1.2.0",
            "grid_template_areas": null,
            "object_position": null,
            "object_fit": null,
            "grid_auto_columns": null,
            "margin": null,
            "display": null,
            "left": null
          }
        },
        "254497f9494b47de817a47d7a7cec5b1": {
          "model_module": "@jupyter-widgets/controls",
          "model_name": "FloatProgressModel",
          "state": {
            "_view_name": "ProgressView",
            "style": "IPY_MODEL_104db596232c4c3f8445794113c21c81",
            "_dom_classes": [],
            "description": "",
            "_model_name": "FloatProgressModel",
            "bar_style": "info",
            "max": 1,
            "_view_module": "@jupyter-widgets/controls",
            "_model_module_version": "1.5.0",
            "value": 1,
            "_view_count": null,
            "_view_module_version": "1.5.0",
            "orientation": "horizontal",
            "min": 0,
            "description_tooltip": null,
            "_model_module": "@jupyter-widgets/controls",
            "layout": "IPY_MODEL_5d164ca4120e4de68539d104e4f45248"
          }
        },
        "952af6a7a79b47fbac0664ec6f0d5f78": {
          "model_module": "@jupyter-widgets/controls",
          "model_name": "HTMLModel",
          "state": {
            "_view_name": "HTMLView",
            "style": "IPY_MODEL_7a31f00262f5411cb93d8e62c0adaa5e",
            "_dom_classes": [],
            "description": "",
            "_model_name": "HTMLModel",
            "placeholder": "​",
            "_view_module": "@jupyter-widgets/controls",
            "_model_module_version": "1.5.0",
            "value": " 25000/0 [00:11&lt;00:00, 3786.55 examples/s]",
            "_view_count": null,
            "_view_module_version": "1.5.0",
            "description_tooltip": null,
            "_model_module": "@jupyter-widgets/controls",
            "layout": "IPY_MODEL_8b42cc6a3c6a4b0995bb4c29a970c5f0"
          }
        },
        "104db596232c4c3f8445794113c21c81": {
          "model_module": "@jupyter-widgets/controls",
          "model_name": "ProgressStyleModel",
          "state": {
            "_view_name": "StyleView",
            "_model_name": "ProgressStyleModel",
            "description_width": "initial",
            "_view_module": "@jupyter-widgets/base",
            "_model_module_version": "1.5.0",
            "_view_count": null,
            "_view_module_version": "1.2.0",
            "bar_color": null,
            "_model_module": "@jupyter-widgets/controls"
          }
        },
        "5d164ca4120e4de68539d104e4f45248": {
          "model_module": "@jupyter-widgets/base",
          "model_name": "LayoutModel",
          "state": {
            "_view_name": "LayoutView",
            "grid_template_rows": null,
            "right": null,
            "justify_content": null,
            "_view_module": "@jupyter-widgets/base",
            "overflow": null,
            "_model_module_version": "1.2.0",
            "_view_count": null,
            "flex_flow": null,
            "width": null,
            "min_width": null,
            "border": null,
            "align_items": null,
            "bottom": null,
            "_model_module": "@jupyter-widgets/base",
            "top": null,
            "grid_column": null,
            "overflow_y": null,
            "overflow_x": null,
            "grid_auto_flow": null,
            "grid_area": null,
            "grid_template_columns": null,
            "flex": null,
            "_model_name": "LayoutModel",
            "justify_items": null,
            "grid_row": null,
            "max_height": null,
            "align_content": null,
            "visibility": null,
            "align_self": null,
            "height": null,
            "min_height": null,
            "padding": null,
            "grid_auto_rows": null,
            "grid_gap": null,
            "max_width": null,
            "order": null,
            "_view_module_version": "1.2.0",
            "grid_template_areas": null,
            "object_position": null,
            "object_fit": null,
            "grid_auto_columns": null,
            "margin": null,
            "display": null,
            "left": null
          }
        },
        "7a31f00262f5411cb93d8e62c0adaa5e": {
          "model_module": "@jupyter-widgets/controls",
          "model_name": "DescriptionStyleModel",
          "state": {
            "_view_name": "StyleView",
            "_model_name": "DescriptionStyleModel",
            "description_width": "",
            "_view_module": "@jupyter-widgets/base",
            "_model_module_version": "1.5.0",
            "_view_count": null,
            "_view_module_version": "1.2.0",
            "_model_module": "@jupyter-widgets/controls"
          }
        },
        "8b42cc6a3c6a4b0995bb4c29a970c5f0": {
          "model_module": "@jupyter-widgets/base",
          "model_name": "LayoutModel",
          "state": {
            "_view_name": "LayoutView",
            "grid_template_rows": null,
            "right": null,
            "justify_content": null,
            "_view_module": "@jupyter-widgets/base",
            "overflow": null,
            "_model_module_version": "1.2.0",
            "_view_count": null,
            "flex_flow": null,
            "width": null,
            "min_width": null,
            "border": null,
            "align_items": null,
            "bottom": null,
            "_model_module": "@jupyter-widgets/base",
            "top": null,
            "grid_column": null,
            "overflow_y": null,
            "overflow_x": null,
            "grid_auto_flow": null,
            "grid_area": null,
            "grid_template_columns": null,
            "flex": null,
            "_model_name": "LayoutModel",
            "justify_items": null,
            "grid_row": null,
            "max_height": null,
            "align_content": null,
            "visibility": null,
            "align_self": null,
            "height": null,
            "min_height": null,
            "padding": null,
            "grid_auto_rows": null,
            "grid_gap": null,
            "max_width": null,
            "order": null,
            "_view_module_version": "1.2.0",
            "grid_template_areas": null,
            "object_position": null,
            "object_fit": null,
            "grid_auto_columns": null,
            "margin": null,
            "display": null,
            "left": null
          }
        },
        "6df9b466001e417b996ac98669ad5f3a": {
          "model_module": "@jupyter-widgets/controls",
          "model_name": "HBoxModel",
          "state": {
            "_view_name": "HBoxView",
            "_dom_classes": [],
            "_model_name": "HBoxModel",
            "_view_module": "@jupyter-widgets/controls",
            "_model_module_version": "1.5.0",
            "_view_count": null,
            "_view_module_version": "1.5.0",
            "box_style": "",
            "layout": "IPY_MODEL_6d8d924bce604842a4b79cf1ac21a690",
            "_model_module": "@jupyter-widgets/controls",
            "children": [
              "IPY_MODEL_bbda0e28d68f4da783574b8a99d83379",
              "IPY_MODEL_ef6228f21ffc46458022f8ed39ee2d18"
            ]
          }
        },
        "6d8d924bce604842a4b79cf1ac21a690": {
          "model_module": "@jupyter-widgets/base",
          "model_name": "LayoutModel",
          "state": {
            "_view_name": "LayoutView",
            "grid_template_rows": null,
            "right": null,
            "justify_content": null,
            "_view_module": "@jupyter-widgets/base",
            "overflow": null,
            "_model_module_version": "1.2.0",
            "_view_count": null,
            "flex_flow": null,
            "width": null,
            "min_width": null,
            "border": null,
            "align_items": null,
            "bottom": null,
            "_model_module": "@jupyter-widgets/base",
            "top": null,
            "grid_column": null,
            "overflow_y": null,
            "overflow_x": null,
            "grid_auto_flow": null,
            "grid_area": null,
            "grid_template_columns": null,
            "flex": null,
            "_model_name": "LayoutModel",
            "justify_items": null,
            "grid_row": null,
            "max_height": null,
            "align_content": null,
            "visibility": null,
            "align_self": null,
            "height": null,
            "min_height": null,
            "padding": null,
            "grid_auto_rows": null,
            "grid_gap": null,
            "max_width": null,
            "order": null,
            "_view_module_version": "1.2.0",
            "grid_template_areas": null,
            "object_position": null,
            "object_fit": null,
            "grid_auto_columns": null,
            "margin": null,
            "display": null,
            "left": null
          }
        },
        "bbda0e28d68f4da783574b8a99d83379": {
          "model_module": "@jupyter-widgets/controls",
          "model_name": "FloatProgressModel",
          "state": {
            "_view_name": "ProgressView",
            "style": "IPY_MODEL_266507f4e4d8427c893b2087dd8aa8f8",
            "_dom_classes": [],
            "description": " 54%",
            "_model_name": "FloatProgressModel",
            "bar_style": "danger",
            "max": 25000,
            "_view_module": "@jupyter-widgets/controls",
            "_model_module_version": "1.5.0",
            "value": 13573,
            "_view_count": null,
            "_view_module_version": "1.5.0",
            "orientation": "horizontal",
            "min": 0,
            "description_tooltip": null,
            "_model_module": "@jupyter-widgets/controls",
            "layout": "IPY_MODEL_6db466677266460796d89671824d8d03"
          }
        },
        "ef6228f21ffc46458022f8ed39ee2d18": {
          "model_module": "@jupyter-widgets/controls",
          "model_name": "HTMLModel",
          "state": {
            "_view_name": "HTMLView",
            "style": "IPY_MODEL_32e98ea1b07641df97046fc046b03ce4",
            "_dom_classes": [],
            "description": "",
            "_model_name": "HTMLModel",
            "placeholder": "​",
            "_view_module": "@jupyter-widgets/controls",
            "_model_module_version": "1.5.0",
            "value": " 13573/25000 [00:00&lt;00:00, 135727.54 examples/s]",
            "_view_count": null,
            "_view_module_version": "1.5.0",
            "description_tooltip": null,
            "_model_module": "@jupyter-widgets/controls",
            "layout": "IPY_MODEL_6489b1fe52394854921d348fcbc9de52"
          }
        },
        "266507f4e4d8427c893b2087dd8aa8f8": {
          "model_module": "@jupyter-widgets/controls",
          "model_name": "ProgressStyleModel",
          "state": {
            "_view_name": "StyleView",
            "_model_name": "ProgressStyleModel",
            "description_width": "initial",
            "_view_module": "@jupyter-widgets/base",
            "_model_module_version": "1.5.0",
            "_view_count": null,
            "_view_module_version": "1.2.0",
            "bar_color": null,
            "_model_module": "@jupyter-widgets/controls"
          }
        },
        "6db466677266460796d89671824d8d03": {
          "model_module": "@jupyter-widgets/base",
          "model_name": "LayoutModel",
          "state": {
            "_view_name": "LayoutView",
            "grid_template_rows": null,
            "right": null,
            "justify_content": null,
            "_view_module": "@jupyter-widgets/base",
            "overflow": null,
            "_model_module_version": "1.2.0",
            "_view_count": null,
            "flex_flow": null,
            "width": null,
            "min_width": null,
            "border": null,
            "align_items": null,
            "bottom": null,
            "_model_module": "@jupyter-widgets/base",
            "top": null,
            "grid_column": null,
            "overflow_y": null,
            "overflow_x": null,
            "grid_auto_flow": null,
            "grid_area": null,
            "grid_template_columns": null,
            "flex": null,
            "_model_name": "LayoutModel",
            "justify_items": null,
            "grid_row": null,
            "max_height": null,
            "align_content": null,
            "visibility": null,
            "align_self": null,
            "height": null,
            "min_height": null,
            "padding": null,
            "grid_auto_rows": null,
            "grid_gap": null,
            "max_width": null,
            "order": null,
            "_view_module_version": "1.2.0",
            "grid_template_areas": null,
            "object_position": null,
            "object_fit": null,
            "grid_auto_columns": null,
            "margin": null,
            "display": null,
            "left": null
          }
        },
        "32e98ea1b07641df97046fc046b03ce4": {
          "model_module": "@jupyter-widgets/controls",
          "model_name": "DescriptionStyleModel",
          "state": {
            "_view_name": "StyleView",
            "_model_name": "DescriptionStyleModel",
            "description_width": "",
            "_view_module": "@jupyter-widgets/base",
            "_model_module_version": "1.5.0",
            "_view_count": null,
            "_view_module_version": "1.2.0",
            "_model_module": "@jupyter-widgets/controls"
          }
        },
        "6489b1fe52394854921d348fcbc9de52": {
          "model_module": "@jupyter-widgets/base",
          "model_name": "LayoutModel",
          "state": {
            "_view_name": "LayoutView",
            "grid_template_rows": null,
            "right": null,
            "justify_content": null,
            "_view_module": "@jupyter-widgets/base",
            "overflow": null,
            "_model_module_version": "1.2.0",
            "_view_count": null,
            "flex_flow": null,
            "width": null,
            "min_width": null,
            "border": null,
            "align_items": null,
            "bottom": null,
            "_model_module": "@jupyter-widgets/base",
            "top": null,
            "grid_column": null,
            "overflow_y": null,
            "overflow_x": null,
            "grid_auto_flow": null,
            "grid_area": null,
            "grid_template_columns": null,
            "flex": null,
            "_model_name": "LayoutModel",
            "justify_items": null,
            "grid_row": null,
            "max_height": null,
            "align_content": null,
            "visibility": null,
            "align_self": null,
            "height": null,
            "min_height": null,
            "padding": null,
            "grid_auto_rows": null,
            "grid_gap": null,
            "max_width": null,
            "order": null,
            "_view_module_version": "1.2.0",
            "grid_template_areas": null,
            "object_position": null,
            "object_fit": null,
            "grid_auto_columns": null,
            "margin": null,
            "display": null,
            "left": null
          }
        },
        "6262a754f8704c448059ed1577dab5fb": {
          "model_module": "@jupyter-widgets/controls",
          "model_name": "HBoxModel",
          "state": {
            "_view_name": "HBoxView",
            "_dom_classes": [],
            "_model_name": "HBoxModel",
            "_view_module": "@jupyter-widgets/controls",
            "_model_module_version": "1.5.0",
            "_view_count": null,
            "_view_module_version": "1.5.0",
            "box_style": "",
            "layout": "IPY_MODEL_b710b55c38934b39aa398b359196aeef",
            "_model_module": "@jupyter-widgets/controls",
            "children": [
              "IPY_MODEL_b6eedfcadd9241329a9f209c568af358",
              "IPY_MODEL_aece49b3959b47a0be600db2143ad2ec"
            ]
          }
        },
        "b710b55c38934b39aa398b359196aeef": {
          "model_module": "@jupyter-widgets/base",
          "model_name": "LayoutModel",
          "state": {
            "_view_name": "LayoutView",
            "grid_template_rows": null,
            "right": null,
            "justify_content": null,
            "_view_module": "@jupyter-widgets/base",
            "overflow": null,
            "_model_module_version": "1.2.0",
            "_view_count": null,
            "flex_flow": null,
            "width": null,
            "min_width": null,
            "border": null,
            "align_items": null,
            "bottom": null,
            "_model_module": "@jupyter-widgets/base",
            "top": null,
            "grid_column": null,
            "overflow_y": null,
            "overflow_x": null,
            "grid_auto_flow": null,
            "grid_area": null,
            "grid_template_columns": null,
            "flex": null,
            "_model_name": "LayoutModel",
            "justify_items": null,
            "grid_row": null,
            "max_height": null,
            "align_content": null,
            "visibility": null,
            "align_self": null,
            "height": null,
            "min_height": null,
            "padding": null,
            "grid_auto_rows": null,
            "grid_gap": null,
            "max_width": null,
            "order": null,
            "_view_module_version": "1.2.0",
            "grid_template_areas": null,
            "object_position": null,
            "object_fit": null,
            "grid_auto_columns": null,
            "margin": null,
            "display": null,
            "left": null
          }
        },
        "b6eedfcadd9241329a9f209c568af358": {
          "model_module": "@jupyter-widgets/controls",
          "model_name": "FloatProgressModel",
          "state": {
            "_view_name": "ProgressView",
            "style": "IPY_MODEL_5d9b939bfeea4b4f9e74c61f669b90f9",
            "_dom_classes": [],
            "description": "",
            "_model_name": "FloatProgressModel",
            "bar_style": "info",
            "max": 1,
            "_view_module": "@jupyter-widgets/controls",
            "_model_module_version": "1.5.0",
            "value": 1,
            "_view_count": null,
            "_view_module_version": "1.5.0",
            "orientation": "horizontal",
            "min": 0,
            "description_tooltip": null,
            "_model_module": "@jupyter-widgets/controls",
            "layout": "IPY_MODEL_e5392bd0bd8041a58e2fe5e091044375"
          }
        },
        "aece49b3959b47a0be600db2143ad2ec": {
          "model_module": "@jupyter-widgets/controls",
          "model_name": "HTMLModel",
          "state": {
            "_view_name": "HTMLView",
            "style": "IPY_MODEL_1c13542c71444371a9301a500b17535a",
            "_dom_classes": [],
            "description": "",
            "_model_name": "HTMLModel",
            "placeholder": "​",
            "_view_module": "@jupyter-widgets/controls",
            "_model_module_version": "1.5.0",
            "value": " 50000/0 [00:16&lt;00:00, 3989.75 examples/s]",
            "_view_count": null,
            "_view_module_version": "1.5.0",
            "description_tooltip": null,
            "_model_module": "@jupyter-widgets/controls",
            "layout": "IPY_MODEL_cb5c4793af02493e884394ec099b07cd"
          }
        },
        "5d9b939bfeea4b4f9e74c61f669b90f9": {
          "model_module": "@jupyter-widgets/controls",
          "model_name": "ProgressStyleModel",
          "state": {
            "_view_name": "StyleView",
            "_model_name": "ProgressStyleModel",
            "description_width": "initial",
            "_view_module": "@jupyter-widgets/base",
            "_model_module_version": "1.5.0",
            "_view_count": null,
            "_view_module_version": "1.2.0",
            "bar_color": null,
            "_model_module": "@jupyter-widgets/controls"
          }
        },
        "e5392bd0bd8041a58e2fe5e091044375": {
          "model_module": "@jupyter-widgets/base",
          "model_name": "LayoutModel",
          "state": {
            "_view_name": "LayoutView",
            "grid_template_rows": null,
            "right": null,
            "justify_content": null,
            "_view_module": "@jupyter-widgets/base",
            "overflow": null,
            "_model_module_version": "1.2.0",
            "_view_count": null,
            "flex_flow": null,
            "width": null,
            "min_width": null,
            "border": null,
            "align_items": null,
            "bottom": null,
            "_model_module": "@jupyter-widgets/base",
            "top": null,
            "grid_column": null,
            "overflow_y": null,
            "overflow_x": null,
            "grid_auto_flow": null,
            "grid_area": null,
            "grid_template_columns": null,
            "flex": null,
            "_model_name": "LayoutModel",
            "justify_items": null,
            "grid_row": null,
            "max_height": null,
            "align_content": null,
            "visibility": null,
            "align_self": null,
            "height": null,
            "min_height": null,
            "padding": null,
            "grid_auto_rows": null,
            "grid_gap": null,
            "max_width": null,
            "order": null,
            "_view_module_version": "1.2.0",
            "grid_template_areas": null,
            "object_position": null,
            "object_fit": null,
            "grid_auto_columns": null,
            "margin": null,
            "display": null,
            "left": null
          }
        },
        "1c13542c71444371a9301a500b17535a": {
          "model_module": "@jupyter-widgets/controls",
          "model_name": "DescriptionStyleModel",
          "state": {
            "_view_name": "StyleView",
            "_model_name": "DescriptionStyleModel",
            "description_width": "",
            "_view_module": "@jupyter-widgets/base",
            "_model_module_version": "1.5.0",
            "_view_count": null,
            "_view_module_version": "1.2.0",
            "_model_module": "@jupyter-widgets/controls"
          }
        },
        "cb5c4793af02493e884394ec099b07cd": {
          "model_module": "@jupyter-widgets/base",
          "model_name": "LayoutModel",
          "state": {
            "_view_name": "LayoutView",
            "grid_template_rows": null,
            "right": null,
            "justify_content": null,
            "_view_module": "@jupyter-widgets/base",
            "overflow": null,
            "_model_module_version": "1.2.0",
            "_view_count": null,
            "flex_flow": null,
            "width": null,
            "min_width": null,
            "border": null,
            "align_items": null,
            "bottom": null,
            "_model_module": "@jupyter-widgets/base",
            "top": null,
            "grid_column": null,
            "overflow_y": null,
            "overflow_x": null,
            "grid_auto_flow": null,
            "grid_area": null,
            "grid_template_columns": null,
            "flex": null,
            "_model_name": "LayoutModel",
            "justify_items": null,
            "grid_row": null,
            "max_height": null,
            "align_content": null,
            "visibility": null,
            "align_self": null,
            "height": null,
            "min_height": null,
            "padding": null,
            "grid_auto_rows": null,
            "grid_gap": null,
            "max_width": null,
            "order": null,
            "_view_module_version": "1.2.0",
            "grid_template_areas": null,
            "object_position": null,
            "object_fit": null,
            "grid_auto_columns": null,
            "margin": null,
            "display": null,
            "left": null
          }
        },
        "212a292593234e50a3f49cb00ae39b31": {
          "model_module": "@jupyter-widgets/controls",
          "model_name": "HBoxModel",
          "state": {
            "_view_name": "HBoxView",
            "_dom_classes": [],
            "_model_name": "HBoxModel",
            "_view_module": "@jupyter-widgets/controls",
            "_model_module_version": "1.5.0",
            "_view_count": null,
            "_view_module_version": "1.5.0",
            "box_style": "",
            "layout": "IPY_MODEL_e28b0748845b4922af6889ffa2131a84",
            "_model_module": "@jupyter-widgets/controls",
            "children": [
              "IPY_MODEL_642798f8dbbe4a36a301fcf2ed6cad33",
              "IPY_MODEL_1076a7a0e60c4911b1b55984bf514cf5"
            ]
          }
        },
        "e28b0748845b4922af6889ffa2131a84": {
          "model_module": "@jupyter-widgets/base",
          "model_name": "LayoutModel",
          "state": {
            "_view_name": "LayoutView",
            "grid_template_rows": null,
            "right": null,
            "justify_content": null,
            "_view_module": "@jupyter-widgets/base",
            "overflow": null,
            "_model_module_version": "1.2.0",
            "_view_count": null,
            "flex_flow": null,
            "width": null,
            "min_width": null,
            "border": null,
            "align_items": null,
            "bottom": null,
            "_model_module": "@jupyter-widgets/base",
            "top": null,
            "grid_column": null,
            "overflow_y": null,
            "overflow_x": null,
            "grid_auto_flow": null,
            "grid_area": null,
            "grid_template_columns": null,
            "flex": null,
            "_model_name": "LayoutModel",
            "justify_items": null,
            "grid_row": null,
            "max_height": null,
            "align_content": null,
            "visibility": null,
            "align_self": null,
            "height": null,
            "min_height": null,
            "padding": null,
            "grid_auto_rows": null,
            "grid_gap": null,
            "max_width": null,
            "order": null,
            "_view_module_version": "1.2.0",
            "grid_template_areas": null,
            "object_position": null,
            "object_fit": null,
            "grid_auto_columns": null,
            "margin": null,
            "display": null,
            "left": null
          }
        },
        "642798f8dbbe4a36a301fcf2ed6cad33": {
          "model_module": "@jupyter-widgets/controls",
          "model_name": "FloatProgressModel",
          "state": {
            "_view_name": "ProgressView",
            "style": "IPY_MODEL_e655e6664db04d0b94bd76e00cb7019e",
            "_dom_classes": [],
            "description": " 86%",
            "_model_name": "FloatProgressModel",
            "bar_style": "danger",
            "max": 50000,
            "_view_module": "@jupyter-widgets/controls",
            "_model_module_version": "1.5.0",
            "value": 42927,
            "_view_count": null,
            "_view_module_version": "1.5.0",
            "orientation": "horizontal",
            "min": 0,
            "description_tooltip": null,
            "_model_module": "@jupyter-widgets/controls",
            "layout": "IPY_MODEL_a92b48de1133472f9a1ca7474a765036"
          }
        },
        "1076a7a0e60c4911b1b55984bf514cf5": {
          "model_module": "@jupyter-widgets/controls",
          "model_name": "HTMLModel",
          "state": {
            "_view_name": "HTMLView",
            "style": "IPY_MODEL_17aef351af0346f4928b2d184a57deb5",
            "_dom_classes": [],
            "description": "",
            "_model_name": "HTMLModel",
            "placeholder": "​",
            "_view_module": "@jupyter-widgets/controls",
            "_model_module_version": "1.5.0",
            "value": " 42927/50000 [00:05&lt;00:00, 63318.15 examples/s]",
            "_view_count": null,
            "_view_module_version": "1.5.0",
            "description_tooltip": null,
            "_model_module": "@jupyter-widgets/controls",
            "layout": "IPY_MODEL_aba8d6f6c94a43c1b325c741ce0eab5b"
          }
        },
        "e655e6664db04d0b94bd76e00cb7019e": {
          "model_module": "@jupyter-widgets/controls",
          "model_name": "ProgressStyleModel",
          "state": {
            "_view_name": "StyleView",
            "_model_name": "ProgressStyleModel",
            "description_width": "initial",
            "_view_module": "@jupyter-widgets/base",
            "_model_module_version": "1.5.0",
            "_view_count": null,
            "_view_module_version": "1.2.0",
            "bar_color": null,
            "_model_module": "@jupyter-widgets/controls"
          }
        },
        "a92b48de1133472f9a1ca7474a765036": {
          "model_module": "@jupyter-widgets/base",
          "model_name": "LayoutModel",
          "state": {
            "_view_name": "LayoutView",
            "grid_template_rows": null,
            "right": null,
            "justify_content": null,
            "_view_module": "@jupyter-widgets/base",
            "overflow": null,
            "_model_module_version": "1.2.0",
            "_view_count": null,
            "flex_flow": null,
            "width": null,
            "min_width": null,
            "border": null,
            "align_items": null,
            "bottom": null,
            "_model_module": "@jupyter-widgets/base",
            "top": null,
            "grid_column": null,
            "overflow_y": null,
            "overflow_x": null,
            "grid_auto_flow": null,
            "grid_area": null,
            "grid_template_columns": null,
            "flex": null,
            "_model_name": "LayoutModel",
            "justify_items": null,
            "grid_row": null,
            "max_height": null,
            "align_content": null,
            "visibility": null,
            "align_self": null,
            "height": null,
            "min_height": null,
            "padding": null,
            "grid_auto_rows": null,
            "grid_gap": null,
            "max_width": null,
            "order": null,
            "_view_module_version": "1.2.0",
            "grid_template_areas": null,
            "object_position": null,
            "object_fit": null,
            "grid_auto_columns": null,
            "margin": null,
            "display": null,
            "left": null
          }
        },
        "17aef351af0346f4928b2d184a57deb5": {
          "model_module": "@jupyter-widgets/controls",
          "model_name": "DescriptionStyleModel",
          "state": {
            "_view_name": "StyleView",
            "_model_name": "DescriptionStyleModel",
            "description_width": "",
            "_view_module": "@jupyter-widgets/base",
            "_model_module_version": "1.5.0",
            "_view_count": null,
            "_view_module_version": "1.2.0",
            "_model_module": "@jupyter-widgets/controls"
          }
        },
        "aba8d6f6c94a43c1b325c741ce0eab5b": {
          "model_module": "@jupyter-widgets/base",
          "model_name": "LayoutModel",
          "state": {
            "_view_name": "LayoutView",
            "grid_template_rows": null,
            "right": null,
            "justify_content": null,
            "_view_module": "@jupyter-widgets/base",
            "overflow": null,
            "_model_module_version": "1.2.0",
            "_view_count": null,
            "flex_flow": null,
            "width": null,
            "min_width": null,
            "border": null,
            "align_items": null,
            "bottom": null,
            "_model_module": "@jupyter-widgets/base",
            "top": null,
            "grid_column": null,
            "overflow_y": null,
            "overflow_x": null,
            "grid_auto_flow": null,
            "grid_area": null,
            "grid_template_columns": null,
            "flex": null,
            "_model_name": "LayoutModel",
            "justify_items": null,
            "grid_row": null,
            "max_height": null,
            "align_content": null,
            "visibility": null,
            "align_self": null,
            "height": null,
            "min_height": null,
            "padding": null,
            "grid_auto_rows": null,
            "grid_gap": null,
            "max_width": null,
            "order": null,
            "_view_module_version": "1.2.0",
            "grid_template_areas": null,
            "object_position": null,
            "object_fit": null,
            "grid_auto_columns": null,
            "margin": null,
            "display": null,
            "left": null
          }
        }
      }
    }
  },
  "cells": [
    {
      "cell_type": "markdown",
      "metadata": {
        "id": "view-in-github",
        "colab_type": "text"
      },
      "source": [
        "<a href=\"https://colab.research.google.com/github/skhazaei/TensorFlow-repo/blob/master/imdb_reviews_GRU_LSTM_CONV.ipynb\" target=\"_parent\"><img src=\"https://colab.research.google.com/assets/colab-badge.svg\" alt=\"Open In Colab\"/></a>"
      ]
    },
    {
      "cell_type": "markdown",
      "metadata": {
        "id": "KdSPmjrgxHXh"
      },
      "source": [
        "## Import IMDB dataset"
      ]
    },
    {
      "cell_type": "code",
      "metadata": {
        "colab": {
          "base_uri": "https://localhost:8080/",
          "height": 367,
          "referenced_widgets": [
            "3dbc4c4913d54143903b455e30a79155",
            "269c305bf8b245b3934c4ad14a844d72",
            "4a36d9c78c9345e3a4c41dda9530e4ac",
            "77b55fbff75d4bf5aba4c59e20f816c3",
            "2e1f6ca2c1b6419ca6011e489d9e79e9",
            "1defbbe2895e48eea7058daa52f6383d",
            "1e92fc56004b427eb6407df7f7f99168",
            "20d4af2b983a412f99c733e463eb1f2c",
            "868645b257c441229411dbb42064ca46",
            "a4202cce10c141daa49344fe88715d01",
            "cccccf212779467aba6b172f76437500",
            "5077dbb7ce594051a4372f29d0e9d585",
            "61144900ba02416bb28aab6d71882272",
            "40922ddd42fd48bc9fe0471ecbdeb781",
            "bef4e2e27dae4446aeeac449cdbfe30b",
            "fafcf49e190d40c5af95c682f9165c3d",
            "afe623d036a04019af52ea48d0376bb2",
            "18273e1a7ea242e5bcff50e4b0c610d6",
            "8676c0afdadf49b4874bf2fdccf1ad73",
            "79101a1b2666408aa9f791f4c301a08f",
            "a04da4a69439434991691b5d08c7b882",
            "aea6bf60854a4a06aae99afe56c5a897",
            "2babed6d36a34e98aa4f5a2d838f8d1d",
            "c7da98651aaa42f883c24230973999ed",
            "e2c14e5d91a143888d24aa6ccf972236",
            "8dc9a41d6b0d4cca90dd21ffe70d748e",
            "d88a29e6ccb644a5953c29c9c3581293",
            "7ac724fef371402395273bf6ed5612d0",
            "0e346b093ad2406a8ffd6cdbdc01d1bd",
            "5e2207eeec974e46a55437400ce463fd",
            "0570c04f4dec4776885f064f5d24fa4c",
            "1c7a067fa0ca4382b15a5b442c783ff8",
            "41ed0d0cfe914b2baf86523c9cc05641",
            "d6d42d97e15942818f915f6fa923af5a",
            "254497f9494b47de817a47d7a7cec5b1",
            "952af6a7a79b47fbac0664ec6f0d5f78",
            "104db596232c4c3f8445794113c21c81",
            "5d164ca4120e4de68539d104e4f45248",
            "7a31f00262f5411cb93d8e62c0adaa5e",
            "8b42cc6a3c6a4b0995bb4c29a970c5f0",
            "6df9b466001e417b996ac98669ad5f3a",
            "6d8d924bce604842a4b79cf1ac21a690",
            "bbda0e28d68f4da783574b8a99d83379",
            "ef6228f21ffc46458022f8ed39ee2d18",
            "266507f4e4d8427c893b2087dd8aa8f8",
            "6db466677266460796d89671824d8d03",
            "32e98ea1b07641df97046fc046b03ce4",
            "6489b1fe52394854921d348fcbc9de52",
            "6262a754f8704c448059ed1577dab5fb",
            "b710b55c38934b39aa398b359196aeef",
            "b6eedfcadd9241329a9f209c568af358",
            "aece49b3959b47a0be600db2143ad2ec",
            "5d9b939bfeea4b4f9e74c61f669b90f9",
            "e5392bd0bd8041a58e2fe5e091044375",
            "1c13542c71444371a9301a500b17535a",
            "cb5c4793af02493e884394ec099b07cd",
            "212a292593234e50a3f49cb00ae39b31",
            "e28b0748845b4922af6889ffa2131a84",
            "642798f8dbbe4a36a301fcf2ed6cad33",
            "1076a7a0e60c4911b1b55984bf514cf5",
            "e655e6664db04d0b94bd76e00cb7019e",
            "a92b48de1133472f9a1ca7474a765036",
            "17aef351af0346f4928b2d184a57deb5",
            "aba8d6f6c94a43c1b325c741ce0eab5b"
          ]
        },
        "id": "ce8WriM1wpob",
        "outputId": "6767a4c1-ca92-4ebc-d24c-c70df8d71006"
      },
      "source": [
        "import tensorflow_datasets as tfds\n",
        "\n",
        "imdb, info = tfds.load('imdb_reviews', with_info = True, as_supervised=True)"
      ],
      "execution_count": 1,
      "outputs": [
        {
          "output_type": "stream",
          "text": [
            "\u001b[1mDownloading and preparing dataset imdb_reviews/plain_text/1.0.0 (download: 80.23 MiB, generated: Unknown size, total: 80.23 MiB) to /root/tensorflow_datasets/imdb_reviews/plain_text/1.0.0...\u001b[0m\n"
          ],
          "name": "stdout"
        },
        {
          "output_type": "display_data",
          "data": {
            "application/vnd.jupyter.widget-view+json": {
              "model_id": "3dbc4c4913d54143903b455e30a79155",
              "version_minor": 0,
              "version_major": 2
            },
            "text/plain": [
              "HBox(children=(FloatProgress(value=1.0, bar_style='info', description='Dl Completed...', max=1.0, style=Progre…"
            ]
          },
          "metadata": {
            "tags": []
          }
        },
        {
          "output_type": "display_data",
          "data": {
            "application/vnd.jupyter.widget-view+json": {
              "model_id": "868645b257c441229411dbb42064ca46",
              "version_minor": 0,
              "version_major": 2
            },
            "text/plain": [
              "HBox(children=(FloatProgress(value=1.0, bar_style='info', description='Dl Size...', max=1.0, style=ProgressSty…"
            ]
          },
          "metadata": {
            "tags": []
          }
        },
        {
          "output_type": "stream",
          "text": [
            "\n",
            "\n",
            "\n",
            "\n"
          ],
          "name": "stdout"
        },
        {
          "output_type": "display_data",
          "data": {
            "application/vnd.jupyter.widget-view+json": {
              "model_id": "afe623d036a04019af52ea48d0376bb2",
              "version_minor": 0,
              "version_major": 2
            },
            "text/plain": [
              "HBox(children=(FloatProgress(value=1.0, bar_style='info', max=1.0), HTML(value='')))"
            ]
          },
          "metadata": {
            "tags": []
          }
        },
        {
          "output_type": "stream",
          "text": [
            "\rShuffling and writing examples to /root/tensorflow_datasets/imdb_reviews/plain_text/1.0.0.incompleteS354BG/imdb_reviews-train.tfrecord\n"
          ],
          "name": "stdout"
        },
        {
          "output_type": "display_data",
          "data": {
            "application/vnd.jupyter.widget-view+json": {
              "model_id": "e2c14e5d91a143888d24aa6ccf972236",
              "version_minor": 0,
              "version_major": 2
            },
            "text/plain": [
              "HBox(children=(FloatProgress(value=0.0, max=25000.0), HTML(value='')))"
            ]
          },
          "metadata": {
            "tags": []
          }
        },
        {
          "output_type": "stream",
          "text": [
            "\r"
          ],
          "name": "stdout"
        },
        {
          "output_type": "display_data",
          "data": {
            "application/vnd.jupyter.widget-view+json": {
              "model_id": "41ed0d0cfe914b2baf86523c9cc05641",
              "version_minor": 0,
              "version_major": 2
            },
            "text/plain": [
              "HBox(children=(FloatProgress(value=1.0, bar_style='info', max=1.0), HTML(value='')))"
            ]
          },
          "metadata": {
            "tags": []
          }
        },
        {
          "output_type": "stream",
          "text": [
            "\rShuffling and writing examples to /root/tensorflow_datasets/imdb_reviews/plain_text/1.0.0.incompleteS354BG/imdb_reviews-test.tfrecord\n"
          ],
          "name": "stdout"
        },
        {
          "output_type": "display_data",
          "data": {
            "application/vnd.jupyter.widget-view+json": {
              "model_id": "6df9b466001e417b996ac98669ad5f3a",
              "version_minor": 0,
              "version_major": 2
            },
            "text/plain": [
              "HBox(children=(FloatProgress(value=0.0, max=25000.0), HTML(value='')))"
            ]
          },
          "metadata": {
            "tags": []
          }
        },
        {
          "output_type": "stream",
          "text": [
            "\r"
          ],
          "name": "stdout"
        },
        {
          "output_type": "display_data",
          "data": {
            "application/vnd.jupyter.widget-view+json": {
              "model_id": "6262a754f8704c448059ed1577dab5fb",
              "version_minor": 0,
              "version_major": 2
            },
            "text/plain": [
              "HBox(children=(FloatProgress(value=1.0, bar_style='info', max=1.0), HTML(value='')))"
            ]
          },
          "metadata": {
            "tags": []
          }
        },
        {
          "output_type": "stream",
          "text": [
            "\rShuffling and writing examples to /root/tensorflow_datasets/imdb_reviews/plain_text/1.0.0.incompleteS354BG/imdb_reviews-unsupervised.tfrecord\n"
          ],
          "name": "stdout"
        },
        {
          "output_type": "display_data",
          "data": {
            "application/vnd.jupyter.widget-view+json": {
              "model_id": "212a292593234e50a3f49cb00ae39b31",
              "version_minor": 0,
              "version_major": 2
            },
            "text/plain": [
              "HBox(children=(FloatProgress(value=0.0, max=50000.0), HTML(value='')))"
            ]
          },
          "metadata": {
            "tags": []
          }
        },
        {
          "output_type": "stream",
          "text": [
            "WARNING:absl:Dataset is using deprecated text encoder API which will be removed soon. Please use the plain_text version of the dataset and migrate to `tensorflow_text`.\n"
          ],
          "name": "stderr"
        },
        {
          "output_type": "stream",
          "text": [
            "\u001b[1mDataset imdb_reviews downloaded and prepared to /root/tensorflow_datasets/imdb_reviews/plain_text/1.0.0. Subsequent calls will reuse this data.\u001b[0m\n",
            "\r"
          ],
          "name": "stdout"
        }
      ]
    },
    {
      "cell_type": "markdown",
      "metadata": {
        "id": "xgtkdjwKxseq"
      },
      "source": [
        "## Split dataset into train and test sets"
      ]
    },
    {
      "cell_type": "code",
      "metadata": {
        "id": "PSGzjADPxQwt"
      },
      "source": [
        "train_data, test_data = imdb['train'], imdb['test']"
      ],
      "execution_count": 2,
      "outputs": []
    },
    {
      "cell_type": "markdown",
      "metadata": {
        "id": "vBCVs2vmx71E"
      },
      "source": [
        "## Extract sentences and labels for train and test datasets"
      ]
    },
    {
      "cell_type": "code",
      "metadata": {
        "id": "BeVo_4xox3XJ"
      },
      "source": [
        "training_sentences = []\n",
        "training_labels = []\n",
        "for s, l in train_data:\n",
        "  training_sentences.append(s.numpy().decode('utf8'))\n",
        "  training_labels.append(l.numpy())\n",
        "\n",
        "test_sentences = []\n",
        "test_labels = []\n",
        "for s, l in test_data:\n",
        "  test_sentences.append(s.numpy().decode('utf8'))\n",
        "  test_labels.append(l.numpy())"
      ],
      "execution_count": 3,
      "outputs": []
    },
    {
      "cell_type": "markdown",
      "metadata": {
        "id": "a3WPIauizJhJ"
      },
      "source": [
        "## Convert labels from list to numpy array"
      ]
    },
    {
      "cell_type": "code",
      "metadata": {
        "id": "cqQkJb7bytqD"
      },
      "source": [
        "import numpy as np\n",
        "\n",
        "training_labels_final = np.array(training_labels)\n",
        "test_labels_final = np.array(test_labels) "
      ],
      "execution_count": 4,
      "outputs": []
    },
    {
      "cell_type": "markdown",
      "metadata": {
        "id": "tBTguyX3zlva"
      },
      "source": [
        "## Tokenize and pad the training sentences"
      ]
    },
    {
      "cell_type": "code",
      "metadata": {
        "id": "ilYTxMvFzcuR"
      },
      "source": [
        "from tensorflow.keras.preprocessing.text import Tokenizer\n",
        "\n",
        "# Hyperparameters\n",
        "vocab_size = 10000\n",
        "oov_tok = '<OOV>'\n",
        "trunc_type = 'post'\n",
        "max_length = 120\n",
        "\n",
        "tokenizer = Tokenizer(num_words=vocab_size, oov_token=oov_tok)\n",
        "tokenizer.fit_on_texts(training_sentences)\n",
        "word_index = tokenizer.word_index\n",
        "sequences = tokenizer.texts_to_sequences(training_sentences)\n",
        "\n",
        "from tensorflow.keras.preprocessing.sequence import pad_sequences\n",
        "## pad the sequences\n",
        "padded = pad_sequences(sequences, truncating=trunc_type, maxlen=max_length)"
      ],
      "execution_count": 5,
      "outputs": []
    },
    {
      "cell_type": "markdown",
      "metadata": {
        "id": "baigxwxQ14RP"
      },
      "source": [
        "## tokenize and pad the test sentences"
      ]
    },
    {
      "cell_type": "code",
      "metadata": {
        "id": "jaW6U64h056_"
      },
      "source": [
        "test_seq = tokenizer.texts_to_sequences(test_sentences)\n",
        "test_pad = pad_sequences(test_seq, truncating=trunc_type, maxlen=max_length)"
      ],
      "execution_count": 6,
      "outputs": []
    },
    {
      "cell_type": "markdown",
      "metadata": {
        "id": "jJBLORc121md"
      },
      "source": [
        "## First model definition with Gated Recurrent Unit\n"
      ]
    },
    {
      "cell_type": "code",
      "metadata": {
        "colab": {
          "base_uri": "https://localhost:8080/"
        },
        "id": "M1KKwmna2e3J",
        "outputId": "8c9cbf02-c4d9-426f-b25c-6b9fc699fa54"
      },
      "source": [
        "import tensorflow as tf\n",
        "embedding_dim = 64\n",
        "\n",
        "model_1 = tf.keras.models.Sequential([tf.keras.layers.Embedding(vocab_size, embedding_dim, input_length=max_length),\n",
        "                                     tf.keras.layers.Bidirectional(tf.keras.layers.GRU(32)),\n",
        "                                     tf.keras.layers.Dense(6, activation='relu'),\n",
        "                                     tf.keras.layers.Dense(1, activation='sigmoid')])\n",
        "model_1.summary()"
      ],
      "execution_count": 7,
      "outputs": [
        {
          "output_type": "stream",
          "text": [
            "Model: \"sequential\"\n",
            "_________________________________________________________________\n",
            "Layer (type)                 Output Shape              Param #   \n",
            "=================================================================\n",
            "embedding (Embedding)        (None, 120, 64)           640000    \n",
            "_________________________________________________________________\n",
            "bidirectional (Bidirectional (None, 64)                18816     \n",
            "_________________________________________________________________\n",
            "dense (Dense)                (None, 6)                 390       \n",
            "_________________________________________________________________\n",
            "dense_1 (Dense)              (None, 1)                 7         \n",
            "=================================================================\n",
            "Total params: 659,213\n",
            "Trainable params: 659,213\n",
            "Non-trainable params: 0\n",
            "_________________________________________________________________\n"
          ],
          "name": "stdout"
        }
      ]
    },
    {
      "cell_type": "code",
      "metadata": {
        "colab": {
          "base_uri": "https://localhost:8080/"
        },
        "id": "bZ5lPQfuCRxf",
        "outputId": "080b4d62-f54d-4970-9d37-b38dd6cc0387"
      },
      "source": [
        "model_1.compile(optimizer=tf.keras.optimizers.Adam(), loss='binary_crossentropy', metrics=['accuracy'])\n",
        "history_1 = model_1.fit(padded, training_labels_final, epochs=50, validation_data=(test_pad, test_labels_final),verbose=2)"
      ],
      "execution_count": 8,
      "outputs": [
        {
          "output_type": "stream",
          "text": [
            "Epoch 1/50\n",
            "782/782 - 24s - loss: 0.4858 - accuracy: 0.7436 - val_loss: 0.3971 - val_accuracy: 0.8208\n",
            "Epoch 2/50\n",
            "782/782 - 14s - loss: 0.2831 - accuracy: 0.8846 - val_loss: 0.4036 - val_accuracy: 0.8152\n",
            "Epoch 3/50\n",
            "782/782 - 14s - loss: 0.1971 - accuracy: 0.9235 - val_loss: 0.4427 - val_accuracy: 0.8234\n",
            "Epoch 4/50\n",
            "782/782 - 14s - loss: 0.1197 - accuracy: 0.9567 - val_loss: 0.5363 - val_accuracy: 0.8140\n",
            "Epoch 5/50\n",
            "782/782 - 14s - loss: 0.0667 - accuracy: 0.9773 - val_loss: 0.7362 - val_accuracy: 0.8138\n",
            "Epoch 6/50\n",
            "782/782 - 14s - loss: 0.0401 - accuracy: 0.9865 - val_loss: 0.8056 - val_accuracy: 0.8103\n",
            "Epoch 7/50\n",
            "782/782 - 14s - loss: 0.0254 - accuracy: 0.9922 - val_loss: 0.8850 - val_accuracy: 0.8095\n",
            "Epoch 8/50\n",
            "782/782 - 14s - loss: 0.0151 - accuracy: 0.9950 - val_loss: 1.1279 - val_accuracy: 0.8088\n",
            "Epoch 9/50\n",
            "782/782 - 14s - loss: 0.0193 - accuracy: 0.9936 - val_loss: 1.0175 - val_accuracy: 0.7986\n",
            "Epoch 10/50\n",
            "782/782 - 14s - loss: 0.0140 - accuracy: 0.9954 - val_loss: 1.1533 - val_accuracy: 0.8000\n",
            "Epoch 11/50\n",
            "782/782 - 14s - loss: 0.0084 - accuracy: 0.9972 - val_loss: 1.3805 - val_accuracy: 0.8039\n",
            "Epoch 12/50\n",
            "782/782 - 14s - loss: 0.0077 - accuracy: 0.9974 - val_loss: 1.2687 - val_accuracy: 0.8044\n",
            "Epoch 13/50\n",
            "782/782 - 14s - loss: 0.0060 - accuracy: 0.9982 - val_loss: 1.3080 - val_accuracy: 0.8018\n",
            "Epoch 14/50\n",
            "782/782 - 15s - loss: 0.0081 - accuracy: 0.9974 - val_loss: 1.3575 - val_accuracy: 0.8042\n",
            "Epoch 15/50\n",
            "782/782 - 14s - loss: 0.0090 - accuracy: 0.9970 - val_loss: 1.5697 - val_accuracy: 0.7979\n",
            "Epoch 16/50\n",
            "782/782 - 14s - loss: 0.0066 - accuracy: 0.9977 - val_loss: 1.3521 - val_accuracy: 0.8028\n",
            "Epoch 17/50\n",
            "782/782 - 15s - loss: 0.0037 - accuracy: 0.9988 - val_loss: 1.5032 - val_accuracy: 0.8014\n",
            "Epoch 18/50\n",
            "782/782 - 14s - loss: 0.0070 - accuracy: 0.9979 - val_loss: 1.5675 - val_accuracy: 0.7995\n",
            "Epoch 19/50\n",
            "782/782 - 14s - loss: 0.0027 - accuracy: 0.9990 - val_loss: 1.5994 - val_accuracy: 0.7885\n",
            "Epoch 20/50\n",
            "782/782 - 14s - loss: 0.0054 - accuracy: 0.9981 - val_loss: 1.5434 - val_accuracy: 0.7974\n",
            "Epoch 21/50\n",
            "782/782 - 14s - loss: 0.0046 - accuracy: 0.9985 - val_loss: 1.6929 - val_accuracy: 0.8015\n",
            "Epoch 22/50\n",
            "782/782 - 13s - loss: 0.0022 - accuracy: 0.9992 - val_loss: 1.5769 - val_accuracy: 0.8048\n",
            "Epoch 23/50\n",
            "782/782 - 14s - loss: 0.0016 - accuracy: 0.9995 - val_loss: 1.7434 - val_accuracy: 0.7994\n",
            "Epoch 24/50\n",
            "782/782 - 14s - loss: 0.0041 - accuracy: 0.9987 - val_loss: 1.5782 - val_accuracy: 0.8016\n",
            "Epoch 25/50\n",
            "782/782 - 14s - loss: 0.0029 - accuracy: 0.9992 - val_loss: 1.7692 - val_accuracy: 0.7979\n",
            "Epoch 26/50\n",
            "782/782 - 14s - loss: 4.1975e-04 - accuracy: 0.9999 - val_loss: 1.8558 - val_accuracy: 0.8044\n",
            "Epoch 27/50\n",
            "782/782 - 14s - loss: 4.8712e-05 - accuracy: 1.0000 - val_loss: 1.8245 - val_accuracy: 0.8042\n",
            "Epoch 28/50\n",
            "782/782 - 13s - loss: 1.5160e-05 - accuracy: 1.0000 - val_loss: 1.8769 - val_accuracy: 0.8046\n",
            "Epoch 29/50\n",
            "782/782 - 14s - loss: 1.0099e-05 - accuracy: 1.0000 - val_loss: 1.9203 - val_accuracy: 0.8049\n",
            "Epoch 30/50\n",
            "782/782 - 14s - loss: 6.9896e-06 - accuracy: 1.0000 - val_loss: 1.9709 - val_accuracy: 0.8057\n",
            "Epoch 31/50\n",
            "782/782 - 14s - loss: 4.8755e-06 - accuracy: 1.0000 - val_loss: 2.0214 - val_accuracy: 0.8061\n",
            "Epoch 32/50\n",
            "782/782 - 14s - loss: 3.3943e-06 - accuracy: 1.0000 - val_loss: 2.0724 - val_accuracy: 0.8061\n",
            "Epoch 33/50\n",
            "782/782 - 13s - loss: 2.3661e-06 - accuracy: 1.0000 - val_loss: 2.1295 - val_accuracy: 0.8062\n",
            "Epoch 34/50\n",
            "782/782 - 14s - loss: 1.6347e-06 - accuracy: 1.0000 - val_loss: 2.1835 - val_accuracy: 0.8062\n",
            "Epoch 35/50\n",
            "782/782 - 14s - loss: 1.1276e-06 - accuracy: 1.0000 - val_loss: 2.2421 - val_accuracy: 0.8064\n",
            "Epoch 36/50\n",
            "782/782 - 14s - loss: 7.7616e-07 - accuracy: 1.0000 - val_loss: 2.3024 - val_accuracy: 0.8061\n",
            "Epoch 37/50\n",
            "782/782 - 14s - loss: 5.3200e-07 - accuracy: 1.0000 - val_loss: 2.3622 - val_accuracy: 0.8059\n",
            "Epoch 38/50\n",
            "782/782 - 14s - loss: 3.6426e-07 - accuracy: 1.0000 - val_loss: 2.4235 - val_accuracy: 0.8060\n",
            "Epoch 39/50\n",
            "782/782 - 14s - loss: 2.4886e-07 - accuracy: 1.0000 - val_loss: 2.4885 - val_accuracy: 0.8059\n",
            "Epoch 40/50\n",
            "782/782 - 14s - loss: 1.6991e-07 - accuracy: 1.0000 - val_loss: 2.5526 - val_accuracy: 0.8063\n",
            "Epoch 41/50\n",
            "782/782 - 14s - loss: 1.1586e-07 - accuracy: 1.0000 - val_loss: 2.6135 - val_accuracy: 0.8059\n",
            "Epoch 42/50\n",
            "782/782 - 14s - loss: 7.9199e-08 - accuracy: 1.0000 - val_loss: 2.6769 - val_accuracy: 0.8058\n",
            "Epoch 43/50\n",
            "782/782 - 14s - loss: 5.4414e-08 - accuracy: 1.0000 - val_loss: 2.7431 - val_accuracy: 0.8060\n",
            "Epoch 44/50\n",
            "782/782 - 14s - loss: 3.7496e-08 - accuracy: 1.0000 - val_loss: 2.8084 - val_accuracy: 0.8062\n",
            "Epoch 45/50\n",
            "782/782 - 14s - loss: 2.5957e-08 - accuracy: 1.0000 - val_loss: 2.8707 - val_accuracy: 0.8061\n",
            "Epoch 46/50\n",
            "782/782 - 14s - loss: 1.7990e-08 - accuracy: 1.0000 - val_loss: 2.9335 - val_accuracy: 0.8055\n",
            "Epoch 47/50\n",
            "782/782 - 14s - loss: 1.2598e-08 - accuracy: 1.0000 - val_loss: 2.9967 - val_accuracy: 0.8062\n",
            "Epoch 48/50\n",
            "782/782 - 14s - loss: 8.9248e-09 - accuracy: 1.0000 - val_loss: 3.0552 - val_accuracy: 0.8060\n",
            "Epoch 49/50\n",
            "782/782 - 14s - loss: 6.3938e-09 - accuracy: 1.0000 - val_loss: 3.1083 - val_accuracy: 0.8058\n",
            "Epoch 50/50\n",
            "782/782 - 14s - loss: 4.6438e-09 - accuracy: 1.0000 - val_loss: 3.1629 - val_accuracy: 0.8060\n"
          ],
          "name": "stdout"
        }
      ]
    },
    {
      "cell_type": "code",
      "metadata": {
        "colab": {
          "base_uri": "https://localhost:8080/",
          "height": 541
        },
        "id": "KFySe-jVDCJO",
        "outputId": "8948b902-fbac-4756-95f5-af2a8b1252d4"
      },
      "source": [
        "import matplotlib.pyplot as plt\n",
        "\n",
        "def plot_graphs(history, string):\n",
        "  plt.plot(history.history[string])\n",
        "  plt.plot(history.history['val_'+string])\n",
        "  plt.xlabel('epochs')\n",
        "  plt.ylabel(string)\n",
        "  plt.legend([string, 'val_'+string])\n",
        "  plt.show()\n",
        "\n",
        "plot_graphs(history_1, 'accuracy')\n",
        "plot_graphs(history_1, 'loss')"
      ],
      "execution_count": 13,
      "outputs": [
        {
          "output_type": "display_data",
          "data": {
            "image/png": "[encoded data removed]",
            "text/plain": [
              "<Figure size 432x288 with 1 Axes>"
            ]
          },
          "metadata": {
            "tags": [],
            "needs_background": "light"
          }
        },
        {
          "output_type": "display_data",
          "data": {
            "image/png": "[encoded data removed]",
            "text/plain": [
              "<Figure size 432x288 with 1 Axes>"
            ]
          },
          "metadata": {
            "tags": [],
            "needs_background": "light"
          }
        }
      ]
    },
    {
      "cell_type": "markdown",
      "metadata": {
        "id": "QwJ4tShgHvWp"
      },
      "source": [
        "## Second model definition with LSTM\n"
      ]
    },
    {
      "cell_type": "code",
      "metadata": {
        "colab": {
          "base_uri": "https://localhost:8080/"
        },
        "id": "L7W_l1AKH110",
        "outputId": "0103c1ce-ce14-4a85-a2b2-b55730b64d77"
      },
      "source": [
        "import tensorflow as tf\n",
        "embedding_dim = 64\n",
        "\n",
        "model_2 = tf.keras.models.Sequential([tf.keras.layers.Embedding(vocab_size, embedding_dim, input_length=max_length),\n",
        "                                     tf.keras.layers.Bidirectional(tf.keras.layers.LSTM(32)),\n",
        "                                     tf.keras.layers.Dense(6, activation='relu'),\n",
        "                                     tf.keras.layers.Dense(1, activation='sigmoid')])\n",
        "model_2.summary()"
      ],
      "execution_count": 9,
      "outputs": [
        {
          "output_type": "stream",
          "text": [
            "Model: \"sequential_1\"\n",
            "_________________________________________________________________\n",
            "Layer (type)                 Output Shape              Param #   \n",
            "=================================================================\n",
            "embedding_1 (Embedding)      (None, 120, 64)           640000    \n",
            "_________________________________________________________________\n",
            "bidirectional_1 (Bidirection (None, 64)                24832     \n",
            "_________________________________________________________________\n",
            "dense_2 (Dense)              (None, 6)                 390       \n",
            "_________________________________________________________________\n",
            "dense_3 (Dense)              (None, 1)                 7         \n",
            "=================================================================\n",
            "Total params: 665,229\n",
            "Trainable params: 665,229\n",
            "Non-trainable params: 0\n",
            "_________________________________________________________________\n"
          ],
          "name": "stdout"
        }
      ]
    },
    {
      "cell_type": "code",
      "metadata": {
        "colab": {
          "base_uri": "https://localhost:8080/"
        },
        "id": "4wlK4OZlH-6j",
        "outputId": "eae7d544-590c-48aa-e733-616200c96c49"
      },
      "source": [
        "model_2.compile(optimizer=tf.keras.optimizers.Adam(), loss='binary_crossentropy', metrics=['accuracy'])\n",
        "history_2 = model_2.fit(padded, training_labels_final, epochs=50, validation_data=(test_pad, test_labels_final),verbose=2)"
      ],
      "execution_count": 10,
      "outputs": [
        {
          "output_type": "stream",
          "text": [
            "Epoch 1/50\n",
            "782/782 - 18s - loss: 0.4846 - accuracy: 0.7600 - val_loss: 0.4372 - val_accuracy: 0.8015\n",
            "Epoch 2/50\n",
            "782/782 - 14s - loss: 0.2973 - accuracy: 0.8797 - val_loss: 0.4022 - val_accuracy: 0.8246\n",
            "Epoch 3/50\n",
            "782/782 - 14s - loss: 0.2246 - accuracy: 0.9129 - val_loss: 0.4395 - val_accuracy: 0.8185\n",
            "Epoch 4/50\n",
            "782/782 - 15s - loss: 0.1725 - accuracy: 0.9342 - val_loss: 0.5326 - val_accuracy: 0.8150\n",
            "Epoch 5/50\n",
            "782/782 - 14s - loss: 0.1330 - accuracy: 0.9508 - val_loss: 0.6143 - val_accuracy: 0.8045\n",
            "Epoch 6/50\n",
            "782/782 - 14s - loss: 0.1045 - accuracy: 0.9632 - val_loss: 0.7604 - val_accuracy: 0.8087\n",
            "Epoch 7/50\n",
            "782/782 - 15s - loss: 0.0601 - accuracy: 0.9797 - val_loss: 0.7032 - val_accuracy: 0.8000\n",
            "Epoch 8/50\n",
            "782/782 - 14s - loss: 0.0583 - accuracy: 0.9805 - val_loss: 0.7993 - val_accuracy: 0.7986\n",
            "Epoch 9/50\n",
            "782/782 - 14s - loss: 0.0327 - accuracy: 0.9904 - val_loss: 0.9435 - val_accuracy: 0.8024\n",
            "Epoch 10/50\n",
            "782/782 - 14s - loss: 0.0503 - accuracy: 0.9823 - val_loss: 0.8791 - val_accuracy: 0.7993\n",
            "Epoch 11/50\n",
            "782/782 - 14s - loss: 0.0211 - accuracy: 0.9936 - val_loss: 1.0020 - val_accuracy: 0.7971\n",
            "Epoch 12/50\n",
            "782/782 - 15s - loss: 0.0269 - accuracy: 0.9918 - val_loss: 0.9883 - val_accuracy: 0.7951\n",
            "Epoch 13/50\n",
            "782/782 - 14s - loss: 0.0229 - accuracy: 0.9933 - val_loss: 1.0348 - val_accuracy: 0.7993\n",
            "Epoch 14/50\n",
            "782/782 - 13s - loss: 0.0112 - accuracy: 0.9969 - val_loss: 1.1797 - val_accuracy: 0.8027\n",
            "Epoch 15/50\n",
            "782/782 - 14s - loss: 0.0196 - accuracy: 0.9940 - val_loss: 1.0392 - val_accuracy: 0.7970\n",
            "Epoch 16/50\n",
            "782/782 - 14s - loss: 0.0158 - accuracy: 0.9946 - val_loss: 1.1812 - val_accuracy: 0.8066\n",
            "Epoch 17/50\n",
            "782/782 - 14s - loss: 0.0115 - accuracy: 0.9962 - val_loss: 1.3651 - val_accuracy: 0.7944\n",
            "Epoch 18/50\n",
            "782/782 - 14s - loss: 0.0061 - accuracy: 0.9980 - val_loss: 1.6778 - val_accuracy: 0.7882\n",
            "Epoch 19/50\n",
            "782/782 - 14s - loss: 0.0123 - accuracy: 0.9966 - val_loss: 1.3728 - val_accuracy: 0.7910\n",
            "Epoch 20/50\n",
            "782/782 - 14s - loss: 0.0078 - accuracy: 0.9973 - val_loss: 1.5720 - val_accuracy: 0.8040\n",
            "Epoch 21/50\n",
            "782/782 - 14s - loss: 0.0070 - accuracy: 0.9976 - val_loss: 1.3574 - val_accuracy: 0.7932\n",
            "Epoch 22/50\n",
            "782/782 - 13s - loss: 0.0065 - accuracy: 0.9982 - val_loss: 1.2448 - val_accuracy: 0.7924\n",
            "Epoch 23/50\n",
            "782/782 - 14s - loss: 0.0090 - accuracy: 0.9976 - val_loss: 1.3773 - val_accuracy: 0.8018\n",
            "Epoch 24/50\n",
            "782/782 - 14s - loss: 0.0081 - accuracy: 0.9977 - val_loss: 1.2518 - val_accuracy: 0.8008\n",
            "Epoch 25/50\n",
            "782/782 - 14s - loss: 0.0048 - accuracy: 0.9985 - val_loss: 1.4042 - val_accuracy: 0.7782\n",
            "Epoch 26/50\n",
            "782/782 - 14s - loss: 0.0134 - accuracy: 0.9958 - val_loss: 1.2399 - val_accuracy: 0.7967\n",
            "Epoch 27/50\n",
            "782/782 - 14s - loss: 0.0029 - accuracy: 0.9992 - val_loss: 1.5733 - val_accuracy: 0.8064\n",
            "Epoch 28/50\n",
            "782/782 - 14s - loss: 0.0061 - accuracy: 0.9981 - val_loss: 1.4891 - val_accuracy: 0.7901\n",
            "Epoch 29/50\n",
            "782/782 - 14s - loss: 9.7165e-04 - accuracy: 0.9998 - val_loss: 1.5327 - val_accuracy: 0.8021\n",
            "Epoch 30/50\n",
            "782/782 - 13s - loss: 0.0093 - accuracy: 0.9971 - val_loss: 1.4247 - val_accuracy: 0.7974\n",
            "Epoch 31/50\n",
            "782/782 - 14s - loss: 0.0058 - accuracy: 0.9982 - val_loss: 1.3937 - val_accuracy: 0.7992\n",
            "Epoch 32/50\n",
            "782/782 - 14s - loss: 0.0055 - accuracy: 0.9985 - val_loss: 1.3356 - val_accuracy: 0.7975\n",
            "Epoch 33/50\n",
            "782/782 - 14s - loss: 9.2934e-04 - accuracy: 0.9999 - val_loss: 1.4590 - val_accuracy: 0.7899\n",
            "Epoch 34/50\n",
            "782/782 - 14s - loss: 1.3527e-04 - accuracy: 1.0000 - val_loss: 1.6188 - val_accuracy: 0.7987\n",
            "Epoch 35/50\n",
            "782/782 - 14s - loss: 3.7406e-05 - accuracy: 1.0000 - val_loss: 1.6852 - val_accuracy: 0.8000\n",
            "Epoch 36/50\n",
            "782/782 - 14s - loss: 2.2174e-05 - accuracy: 1.0000 - val_loss: 1.7592 - val_accuracy: 0.8006\n",
            "Epoch 37/50\n",
            "782/782 - 14s - loss: 1.4249e-05 - accuracy: 1.0000 - val_loss: 1.8337 - val_accuracy: 0.8016\n",
            "Epoch 38/50\n",
            "782/782 - 14s - loss: 9.3815e-06 - accuracy: 1.0000 - val_loss: 1.9014 - val_accuracy: 0.8023\n",
            "Epoch 39/50\n",
            "782/782 - 14s - loss: 6.1670e-06 - accuracy: 1.0000 - val_loss: 1.9732 - val_accuracy: 0.8018\n",
            "Epoch 40/50\n",
            "782/782 - 14s - loss: 4.0262e-06 - accuracy: 1.0000 - val_loss: 2.0501 - val_accuracy: 0.8020\n",
            "Epoch 41/50\n",
            "782/782 - 14s - loss: 2.6657e-06 - accuracy: 1.0000 - val_loss: 2.1227 - val_accuracy: 0.8017\n",
            "Epoch 42/50\n",
            "782/782 - 14s - loss: 1.7388e-06 - accuracy: 1.0000 - val_loss: 2.1964 - val_accuracy: 0.8022\n",
            "Epoch 43/50\n",
            "782/782 - 14s - loss: 1.1325e-06 - accuracy: 1.0000 - val_loss: 2.2742 - val_accuracy: 0.8025\n",
            "Epoch 44/50\n",
            "782/782 - 14s - loss: 7.4102e-07 - accuracy: 1.0000 - val_loss: 2.3529 - val_accuracy: 0.8024\n",
            "Epoch 45/50\n",
            "782/782 - 14s - loss: 4.8467e-07 - accuracy: 1.0000 - val_loss: 2.4290 - val_accuracy: 0.8028\n",
            "Epoch 46/50\n",
            "782/782 - 14s - loss: 3.1762e-07 - accuracy: 1.0000 - val_loss: 2.5071 - val_accuracy: 0.8024\n",
            "Epoch 47/50\n",
            "782/782 - 14s - loss: 2.0717e-07 - accuracy: 1.0000 - val_loss: 2.5841 - val_accuracy: 0.8025\n",
            "Epoch 48/50\n",
            "782/782 - 14s - loss: 1.3592e-07 - accuracy: 1.0000 - val_loss: 2.6648 - val_accuracy: 0.8026\n",
            "Epoch 49/50\n",
            "782/782 - 14s - loss: 9.0954e-08 - accuracy: 1.0000 - val_loss: 2.7399 - val_accuracy: 0.8023\n",
            "Epoch 50/50\n",
            "782/782 - 14s - loss: 6.0373e-08 - accuracy: 1.0000 - val_loss: 2.8143 - val_accuracy: 0.8022\n"
          ],
          "name": "stdout"
        }
      ]
    },
    {
      "cell_type": "code",
      "metadata": {
        "colab": {
          "base_uri": "https://localhost:8080/",
          "height": 541
        },
        "id": "enVky0eYI_4C",
        "outputId": "8ac2a036-1b48-4b32-daa7-8b0cf26992f0"
      },
      "source": [
        "import matplotlib.pyplot as plt\n",
        "\n",
        "def plot_graphs(history, string):\n",
        "  plt.plot(history.history[string])\n",
        "  plt.plot(history.history['val_'+string])\n",
        "  plt.xlabel('epochs')\n",
        "  plt.ylabel(string)\n",
        "  plt.legend([string, 'val_'+string])\n",
        "  plt.show()\n",
        "\n",
        "plot_graphs(history_2, 'accuracy')\n",
        "plot_graphs(history_2, 'loss')"
      ],
      "execution_count": 14,
      "outputs": [
        {
          "output_type": "display_data",
          "data": {
            "image/png": "[encoded data removed]",
            "text/plain": [
              "<Figure size 432x288 with 1 Axes>"
            ]
          },
          "metadata": {
            "tags": [],
            "needs_background": "light"
          }
        },
        {
          "output_type": "display_data",
          "data": {
            "image/png": "[encoded data removed]",
            "text/plain": [
              "<Figure size 432x288 with 1 Axes>"
            ]
          },
          "metadata": {
            "tags": [],
            "needs_background": "light"
          }
        }
      ]
    },
    {
      "cell_type": "markdown",
      "metadata": {
        "id": "yxf83oXmISPI"
      },
      "source": [
        "## Third model definition with CONV1D"
      ]
    },
    {
      "cell_type": "code",
      "metadata": {
        "colab": {
          "base_uri": "https://localhost:8080/"
        },
        "id": "lWc5qcipIRq_",
        "outputId": "633d2a6b-d2a0-4fc9-91a0-5940a9e8fa3c"
      },
      "source": [
        "import tensorflow as tf\n",
        "embedding_dim = 64\n",
        "\n",
        "model_3 = tf.keras.models.Sequential([tf.keras.layers.Embedding(vocab_size, embedding_dim, input_length=max_length),\n",
        "                                      tf.keras.layers.Conv1D(128, 5, activation='relu'),\n",
        "                                      tf.keras.layers.GlobalAveragePooling1D(),\n",
        "                                      tf.keras.layers.Dense(6, activation='relu'),\n",
        "                                      tf.keras.layers.Dense(1, activation='sigmoid')])\n",
        "model_3.summary()"
      ],
      "execution_count": 15,
      "outputs": [
        {
          "output_type": "stream",
          "text": [
            "Model: \"sequential_2\"\n",
            "_________________________________________________________________\n",
            "Layer (type)                 Output Shape              Param #   \n",
            "=================================================================\n",
            "embedding_3 (Embedding)      (None, 120, 64)           640000    \n",
            "_________________________________________________________________\n",
            "conv1d_1 (Conv1D)            (None, 116, 128)          41088     \n",
            "_________________________________________________________________\n",
            "global_average_pooling1d (Gl (None, 128)               0         \n",
            "_________________________________________________________________\n",
            "dense_4 (Dense)              (None, 6)                 774       \n",
            "_________________________________________________________________\n",
            "dense_5 (Dense)              (None, 1)                 7         \n",
            "=================================================================\n",
            "Total params: 681,869\n",
            "Trainable params: 681,869\n",
            "Non-trainable params: 0\n",
            "_________________________________________________________________\n"
          ],
          "name": "stdout"
        }
      ]
    },
    {
      "cell_type": "code",
      "metadata": {
        "colab": {
          "base_uri": "https://localhost:8080/"
        },
        "id": "zf32syhrI7-p",
        "outputId": "e866b4b5-eea0-4eac-c563-8c349cda1962"
      },
      "source": [
        "model_3.compile(optimizer=tf.keras.optimizers.Adam(), loss='binary_crossentropy', metrics=['accuracy'])\n",
        "history_3 = model_2.fit(padded, training_labels_final, epochs=50, validation_data=(test_pad, test_labels_final),verbose=2)"
      ],
      "execution_count": 16,
      "outputs": [
        {
          "output_type": "stream",
          "text": [
            "Epoch 1/50\n",
            "782/782 - 14s - loss: 4.0361e-08 - accuracy: 1.0000 - val_loss: 2.8910 - val_accuracy: 0.8020\n",
            "Epoch 2/50\n",
            "782/782 - 14s - loss: 2.7319e-08 - accuracy: 1.0000 - val_loss: 2.9635 - val_accuracy: 0.8020\n",
            "Epoch 3/50\n",
            "782/782 - 14s - loss: 1.8643e-08 - accuracy: 1.0000 - val_loss: 3.0322 - val_accuracy: 0.8021\n",
            "Epoch 4/50\n",
            "782/782 - 14s - loss: 1.2921e-08 - accuracy: 1.0000 - val_loss: 3.0962 - val_accuracy: 0.8022\n",
            "Epoch 5/50\n",
            "782/782 - 14s - loss: 9.0250e-09 - accuracy: 1.0000 - val_loss: 3.1698 - val_accuracy: 0.8015\n",
            "Epoch 6/50\n",
            "782/782 - 14s - loss: 6.4403e-09 - accuracy: 1.0000 - val_loss: 3.2261 - val_accuracy: 0.8018\n",
            "Epoch 7/50\n",
            "782/782 - 14s - loss: 4.6560e-09 - accuracy: 1.0000 - val_loss: 3.2894 - val_accuracy: 0.8017\n",
            "Epoch 8/50\n",
            "782/782 - 14s - loss: 3.4200e-09 - accuracy: 1.0000 - val_loss: 3.3499 - val_accuracy: 0.8013\n",
            "Epoch 9/50\n",
            "782/782 - 14s - loss: 2.5778e-09 - accuracy: 1.0000 - val_loss: 3.4033 - val_accuracy: 0.8008\n",
            "Epoch 10/50\n",
            "782/782 - 14s - loss: 1.9994e-09 - accuracy: 1.0000 - val_loss: 3.4596 - val_accuracy: 0.8008\n",
            "Epoch 11/50\n",
            "782/782 - 14s - loss: 1.5603e-09 - accuracy: 1.0000 - val_loss: 3.4978 - val_accuracy: 0.8006\n",
            "Epoch 12/50\n",
            "782/782 - 14s - loss: 1.2503e-09 - accuracy: 1.0000 - val_loss: 3.5428 - val_accuracy: 0.8005\n",
            "Epoch 13/50\n",
            "782/782 - 14s - loss: 1.0350e-09 - accuracy: 1.0000 - val_loss: 3.5813 - val_accuracy: 0.8004\n",
            "Epoch 14/50\n",
            "782/782 - 14s - loss: 8.7391e-10 - accuracy: 1.0000 - val_loss: 3.6069 - val_accuracy: 0.8001\n",
            "Epoch 15/50\n",
            "782/782 - 14s - loss: 7.4343e-10 - accuracy: 1.0000 - val_loss: 3.6364 - val_accuracy: 0.8009\n",
            "Epoch 16/50\n",
            "782/782 - 14s - loss: 6.5520e-10 - accuracy: 1.0000 - val_loss: 3.6636 - val_accuracy: 0.8006\n",
            "Epoch 17/50\n",
            "782/782 - 14s - loss: 6.0263e-10 - accuracy: 1.0000 - val_loss: 3.6890 - val_accuracy: 0.8005\n",
            "Epoch 18/50\n",
            "782/782 - 14s - loss: 5.4202e-10 - accuracy: 1.0000 - val_loss: 3.7108 - val_accuracy: 0.8004\n",
            "Epoch 19/50\n",
            "782/782 - 14s - loss: 5.0216e-10 - accuracy: 1.0000 - val_loss: 3.7199 - val_accuracy: 0.8005\n",
            "Epoch 20/50\n",
            "782/782 - 14s - loss: 4.6422e-10 - accuracy: 1.0000 - val_loss: 3.7136 - val_accuracy: 0.8000\n",
            "Epoch 21/50\n",
            "782/782 - 14s - loss: 4.2849e-10 - accuracy: 1.0000 - val_loss: 3.7698 - val_accuracy: 0.8004\n",
            "Epoch 22/50\n",
            "782/782 - 14s - loss: 4.1113e-10 - accuracy: 1.0000 - val_loss: 3.7751 - val_accuracy: 0.8001\n",
            "Epoch 23/50\n",
            "782/782 - 14s - loss: 4.0059e-10 - accuracy: 1.0000 - val_loss: 3.7832 - val_accuracy: 0.8004\n",
            "Epoch 24/50\n",
            "782/782 - 14s - loss: 3.9364e-10 - accuracy: 1.0000 - val_loss: 3.7731 - val_accuracy: 0.8005\n",
            "Epoch 25/50\n",
            "782/782 - 14s - loss: 3.6756e-10 - accuracy: 1.0000 - val_loss: 3.8120 - val_accuracy: 0.8002\n",
            "Epoch 26/50\n",
            "782/782 - 14s - loss: 3.5275e-10 - accuracy: 1.0000 - val_loss: 3.8272 - val_accuracy: 0.8008\n",
            "Epoch 27/50\n",
            "782/782 - 14s - loss: 3.5393e-10 - accuracy: 1.0000 - val_loss: 3.8372 - val_accuracy: 0.8006\n",
            "Epoch 28/50\n",
            "782/782 - 14s - loss: 3.4139e-10 - accuracy: 1.0000 - val_loss: 3.8177 - val_accuracy: 0.8002\n",
            "Epoch 29/50\n",
            "782/782 - 15s - loss: 3.3420e-10 - accuracy: 1.0000 - val_loss: 3.8420 - val_accuracy: 0.8004\n",
            "Epoch 30/50\n",
            "782/782 - 14s - loss: 3.1409e-10 - accuracy: 1.0000 - val_loss: 3.8614 - val_accuracy: 0.8003\n",
            "Epoch 31/50\n",
            "782/782 - 14s - loss: 3.0920e-10 - accuracy: 1.0000 - val_loss: 3.8681 - val_accuracy: 0.8006\n",
            "Epoch 32/50\n",
            "782/782 - 14s - loss: 2.9719e-10 - accuracy: 1.0000 - val_loss: 3.8628 - val_accuracy: 0.8001\n",
            "Epoch 33/50\n",
            "782/782 - 14s - loss: 3.0831e-10 - accuracy: 1.0000 - val_loss: 3.8829 - val_accuracy: 0.8003\n",
            "Epoch 34/50\n",
            "782/782 - 14s - loss: 3.1160e-10 - accuracy: 1.0000 - val_loss: 3.8849 - val_accuracy: 0.8001\n",
            "Epoch 35/50\n",
            "782/782 - 14s - loss: 2.9268e-10 - accuracy: 1.0000 - val_loss: 3.8812 - val_accuracy: 0.8001\n",
            "Epoch 36/50\n",
            "782/782 - 14s - loss: 3.0221e-10 - accuracy: 1.0000 - val_loss: 3.8932 - val_accuracy: 0.8001\n",
            "Epoch 37/50\n",
            "782/782 - 14s - loss: 2.9449e-10 - accuracy: 1.0000 - val_loss: 3.8763 - val_accuracy: 0.8002\n",
            "Epoch 38/50\n",
            "782/782 - 14s - loss: 2.9229e-10 - accuracy: 1.0000 - val_loss: 3.8978 - val_accuracy: 0.7995\n",
            "Epoch 39/50\n",
            "782/782 - 14s - loss: 3.0624e-10 - accuracy: 1.0000 - val_loss: 3.9068 - val_accuracy: 0.8000\n",
            "Epoch 40/50\n",
            "782/782 - 14s - loss: 2.6134e-10 - accuracy: 1.0000 - val_loss: 3.8965 - val_accuracy: 0.8001\n",
            "Epoch 41/50\n",
            "782/782 - 14s - loss: 2.7690e-10 - accuracy: 1.0000 - val_loss: 3.9219 - val_accuracy: 0.8000\n",
            "Epoch 42/50\n",
            "782/782 - 14s - loss: 2.8048e-10 - accuracy: 1.0000 - val_loss: 3.9200 - val_accuracy: 0.7998\n",
            "Epoch 43/50\n",
            "782/782 - 14s - loss: 2.8540e-10 - accuracy: 1.0000 - val_loss: 3.9336 - val_accuracy: 0.7996\n",
            "Epoch 44/50\n",
            "782/782 - 14s - loss: 2.9507e-10 - accuracy: 1.0000 - val_loss: 3.9317 - val_accuracy: 0.7994\n",
            "Epoch 45/50\n",
            "782/782 - 14s - loss: 2.7978e-10 - accuracy: 1.0000 - val_loss: 3.9387 - val_accuracy: 0.7995\n",
            "Epoch 46/50\n",
            "782/782 - 14s - loss: 2.6826e-10 - accuracy: 1.0000 - val_loss: 3.9159 - val_accuracy: 0.7993\n",
            "Epoch 47/50\n",
            "782/782 - 14s - loss: 2.7314e-10 - accuracy: 1.0000 - val_loss: 3.9425 - val_accuracy: 0.7990\n",
            "Epoch 48/50\n",
            "782/782 - 14s - loss: 2.4745e-10 - accuracy: 1.0000 - val_loss: 3.9530 - val_accuracy: 0.7997\n",
            "Epoch 49/50\n",
            "782/782 - 14s - loss: 2.6644e-10 - accuracy: 1.0000 - val_loss: 3.9396 - val_accuracy: 0.7995\n",
            "Epoch 50/50\n",
            "782/782 - 14s - loss: 2.7028e-10 - accuracy: 1.0000 - val_loss: 3.9521 - val_accuracy: 0.7992\n"
          ],
          "name": "stdout"
        }
      ]
    },
    {
      "cell_type": "code",
      "metadata": {
        "colab": {
          "base_uri": "https://localhost:8080/",
          "height": 541
        },
        "id": "z_z3R1XhI-uV",
        "outputId": "4635c9cb-f7a7-4b8e-813d-7e3ecba551ee"
      },
      "source": [
        "import matplotlib.pyplot as plt\n",
        "\n",
        "def plot_graphs(history, string):\n",
        "  plt.plot(history.history[string])\n",
        "  plt.plot(history.history['val_'+string])\n",
        "  plt.xlabel('epochs')\n",
        "  plt.ylabel(string)\n",
        "  plt.legend([string, 'val_'+string])\n",
        "  plt.show()\n",
        "\n",
        "plot_graphs(history_3, 'accuracy')\n",
        "plot_graphs(history_3, 'loss')"
      ],
      "execution_count": 17,
      "outputs": [
        {
          "output_type": "display_data",
          "data": {
            "image/png": "[encoded data removed]",
            "text/plain": [
              "<Figure size 432x288 with 1 Axes>"
            ]
          },
          "metadata": {
            "tags": [],
            "needs_background": "light"
          }
        },
        {
          "output_type": "display_data",
          "data": {
            "image/png": "[encoded data removed]",
            "text/plain": [
              "<Figure size 432x288 with 1 Axes>"
            ]
          },
          "metadata": {
            "tags": [],
            "needs_background": "light"
          }
        }
      ]
    }
  ]
}