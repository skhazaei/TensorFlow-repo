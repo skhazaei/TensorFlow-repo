{
  "nbformat": 4,
  "nbformat_minor": 0,
  "metadata": {
    "colab": {
      "name": "Sequential_model_API.ipynb",
      "provenance": [],
      "collapsed_sections": [],
      "authorship_tag": "ABX9TyN1JiUdHZoPfaKvfwq/RNDL",
      "include_colab_link": true
    },
    "kernelspec": {
      "name": "python3",
      "display_name": "Python 3"
    }
  },
  "cells": [
    {
      "cell_type": "markdown",
      "metadata": {
        "id": "view-in-github",
        "colab_type": "text"
      },
      "source": [
        "<a href=\"https://colab.research.google.com/github/skhazaei/TensorFlow-repo/blob/master/Sequential_model_API.ipynb\" target=\"_parent\"><img src=\"https://colab.research.google.com/assets/colab-badge.svg\" alt=\"Open In Colab\"/></a>"
      ]
    },
    {
      "cell_type": "markdown",
      "metadata": {
        "id": "UFJWaokh-C4_"
      },
      "source": [
        "# Keras Project: [keras.io](https://keras.io)\n",
        "\n",
        "- The Keras Project was authored by Francois Chollet.\n",
        "- It's a high-level neural networks API developed with the goal making easy to build giant deep learning models.\n",
        "- It was developed as an API without backend and actually it supports multiple backend implementations.\n",
        "- In TensorFlow 2, Keras API is adopted as the high-level API."
      ]
    },
    {
      "cell_type": "markdown",
      "metadata": {
        "id": "cmLxLDylM5kF"
      },
      "source": [
        "# Build a Feedforward neural network model:\n",
        " 3 dense layers: \n",
        " - the firs two layers have 16 units with ReLU activation function (Rectifier Unit).\n",
        " - the last layer, 10 units with softmax activation function. \n",
        " - the input images are (28, 28) pixels."
      ]
    },
    {
      "cell_type": "code",
      "metadata": {
        "id": "IrMQXY8VM5VU"
      },
      "source": [
        "import tensorflow as tf\n",
        "\n",
        "\n",
        "model = tf.keras.models.Sequential([\n",
        "                                    tf.keras.layers.Flatten(input_shape=(28, 28)),\n",
        "                                    tf.keras.layers.Dense(16, activation='relu'),\n",
        "                                    tf.keras.layers.Dense(16, activation='relu'),\n",
        "                                    tf.keras.layers.Dense(10, activation='softmax')\n",
        "                                    ])"
      ],
      "execution_count": 2,
      "outputs": []
    },
    {
      "cell_type": "code",
      "metadata": {
        "colab": {
          "base_uri": "https://localhost:8080/"
        },
        "id": "2q1N2_yo9sd3",
        "outputId": "95b31c0a-9a0c-46a1-b4c4-ed47021259b5"
      },
      "source": [
        "model.summary()"
      ],
      "execution_count": 3,
      "outputs": [
        {
          "output_type": "stream",
          "text": [
            "Model: \"sequential\"\n",
            "_________________________________________________________________\n",
            "Layer (type)                 Output Shape              Param #   \n",
            "=================================================================\n",
            "flatten (Flatten)            (None, 784)               0         \n",
            "_________________________________________________________________\n",
            "dense (Dense)                (None, 16)                12560     \n",
            "_________________________________________________________________\n",
            "dense_1 (Dense)              (None, 16)                272       \n",
            "_________________________________________________________________\n",
            "dense_2 (Dense)              (None, 10)                170       \n",
            "=================================================================\n",
            "Total params: 13,002\n",
            "Trainable params: 13,002\n",
            "Non-trainable params: 0\n",
            "_________________________________________________________________\n"
          ],
          "name": "stdout"
        }
      ]
    },
    {
      "cell_type": "markdown",
      "metadata": {
        "id": "tpNCVdGyTcUp"
      },
      "source": [
        "### Note that `None` in `model.summary()` refers to the batch size."
      ]
    },
    {
      "cell_type": "markdown",
      "metadata": {
        "id": "1FGoYsDyPNQx"
      },
      "source": [
        "## Print the initialized weights of the model"
      ]
    },
    {
      "cell_type": "code",
      "metadata": {
        "colab": {
          "base_uri": "https://localhost:8080/"
        },
        "id": "6XUs69u6PFIa",
        "outputId": "7df7d2bb-0a84-46a7-8ab9-d5281535ff7c"
      },
      "source": [
        "model.weights"
      ],
      "execution_count": 4,
      "outputs": [
        {
          "output_type": "execute_result",
          "data": {
            "text/plain": [
              "[<tf.Variable 'dense/kernel:0' shape=(784, 16) dtype=float32, numpy=\n",
              " array([[ 0.05890848, -0.06756742,  0.00085027, ...,  0.0577492 ,\n",
              "         -0.03248112,  0.01044136],\n",
              "        [-0.07207966, -0.08429477, -0.07263003, ...,  0.0016764 ,\n",
              "         -0.02521231,  0.00986537],\n",
              "        [ 0.02813379,  0.00461442,  0.01070222, ..., -0.02112783,\n",
              "          0.00387261, -0.04615775],\n",
              "        ...,\n",
              "        [-0.04236224, -0.02467112, -0.06013386, ...,  0.07274468,\n",
              "         -0.06386082,  0.06631045],\n",
              "        [ 0.07251616, -0.01730909, -0.02251616, ...,  0.0415549 ,\n",
              "          0.0556498 , -0.04028326],\n",
              "        [ 0.08277085, -0.00098564, -0.04993736, ..., -0.0794448 ,\n",
              "          0.06374775, -0.07709312]], dtype=float32)>,\n",
              " <tf.Variable 'dense/bias:0' shape=(16,) dtype=float32, numpy=\n",
              " array([0., 0., 0., 0., 0., 0., 0., 0., 0., 0., 0., 0., 0., 0., 0., 0.],\n",
              "       dtype=float32)>,\n",
              " <tf.Variable 'dense_1/kernel:0' shape=(16, 16) dtype=float32, numpy=\n",
              " array([[ 3.7862659e-03,  3.6248043e-01,  1.7943233e-02, -3.9504579e-01,\n",
              "         -2.8107455e-01, -2.6111591e-01, -2.5492907e-01, -2.3877081e-01,\n",
              "         -1.1348334e-01,  2.1073821e-01,  1.4344111e-01, -2.9786038e-01,\n",
              "         -1.4547479e-01, -4.2573771e-01,  3.1861439e-01, -5.0910920e-02],\n",
              "        [-4.2979434e-01,  3.0515614e-01, -3.7249330e-01, -3.7047198e-01,\n",
              "          8.0734164e-02,  3.2971618e-01,  4.2227879e-01,  1.6268536e-01,\n",
              "         -3.7111950e-01, -3.6622393e-01, -2.4988730e-01,  2.9661313e-01,\n",
              "         -1.1274126e-01, -3.6255619e-01, -3.7935397e-01,  3.6307868e-01],\n",
              "        [-1.6325006e-01, -1.4549410e-01, -1.2750918e-01, -1.1571410e-01,\n",
              "         -3.5337985e-01, -2.6189804e-01,  1.2946954e-01,  6.1932951e-02,\n",
              "          7.6899081e-02,  1.6900632e-01, -4.2804775e-01,  1.0658941e-01,\n",
              "          3.4144667e-01,  2.1541998e-01, -3.2178709e-01,  4.9392283e-03],\n",
              "        [ 2.8649208e-01, -1.9441490e-01,  4.8670232e-02,  1.9819930e-01,\n",
              "          1.6458419e-01,  2.1659842e-01,  2.4046555e-01,  3.5022119e-01,\n",
              "          4.2617604e-01, -4.8590630e-02,  5.5937290e-02, -1.9904971e-04,\n",
              "         -2.2971971e-01, -3.2201546e-01,  2.7763963e-02, -3.9476973e-01],\n",
              "        [ 3.7701938e-01, -3.4308535e-01, -2.2103262e-01, -4.2890567e-01,\n",
              "         -1.5370134e-01,  9.9740118e-02,  2.3753950e-01, -2.1632259e-01,\n",
              "          2.6649296e-02,  3.2135853e-01, -5.5039018e-02, -3.3181834e-01,\n",
              "         -8.5885972e-02,  3.4395459e-01,  3.5683185e-02,  1.2671670e-01],\n",
              "        [-2.0007205e-01, -3.7643099e-01, -1.1661723e-01, -8.8267595e-02,\n",
              "          1.2904754e-01,  1.5668812e-01, -8.9638084e-02,  3.6775640e-01,\n",
              "         -6.5403581e-03,  1.2103191e-01,  1.6121534e-01,  3.9661643e-01,\n",
              "          2.9343960e-01, -1.2159991e-01,  3.7318727e-01, -2.1830259e-01],\n",
              "        [-2.6969284e-01, -1.6432643e-02,  2.2682479e-01, -3.8541272e-01,\n",
              "          1.2952521e-01,  3.7441257e-01,  2.9730555e-01, -3.1903920e-01,\n",
              "         -8.8245898e-02,  1.3055921e-02,  3.2317367e-01, -4.1224715e-01,\n",
              "         -3.6768734e-01, -8.9405686e-02,  4.2603514e-01, -3.1831861e-01],\n",
              "        [ 3.7562141e-01,  3.1845680e-01,  2.6765379e-01, -4.2594108e-01,\n",
              "         -7.3873699e-02,  2.8458127e-01,  3.0132225e-01, -9.8117769e-02,\n",
              "          1.3430357e-02,  4.1978955e-02, -2.6318097e-01, -4.3293610e-01,\n",
              "         -5.3300470e-02, -3.8669196e-01, -1.9808884e-01,  4.3271741e-01],\n",
              "        [ 3.3576688e-01, -1.8681140e-01, -4.5082927e-02,  8.8292390e-02,\n",
              "         -2.1200444e-01, -4.0621999e-01, -1.4551848e-02,  3.7579754e-01,\n",
              "          1.9624677e-01,  3.3371916e-01, -3.0777630e-01, -2.8405154e-01,\n",
              "          2.7032354e-01, -2.4628058e-01, -2.4716169e-02, -3.8932195e-01],\n",
              "        [ 1.9392285e-01,  9.2317432e-02,  1.0033128e-01, -1.9543892e-01,\n",
              "          9.7279161e-02, -9.3643934e-02,  1.1637747e-02, -3.7131843e-01,\n",
              "         -1.3857549e-01,  1.0727951e-01, -1.1099467e-01, -1.3545626e-01,\n",
              "         -1.8612270e-01,  1.6644052e-01,  1.4762565e-01, -1.6907787e-01],\n",
              "        [ 4.8979431e-02,  3.0979088e-01,  9.0842456e-02, -2.9613549e-01,\n",
              "         -7.4067771e-02, -3.4107178e-01,  3.9514574e-01, -8.2218230e-02,\n",
              "          1.9545999e-01,  8.8455349e-02,  4.1871160e-02,  2.6650041e-02,\n",
              "         -1.5576312e-01, -4.2293879e-01,  2.9858768e-02,  1.6669127e-01],\n",
              "        [ 4.1006395e-01, -8.0318242e-02, -3.0161875e-01,  1.3166758e-01,\n",
              "         -1.1051977e-01,  4.0953323e-01, -2.2657558e-01, -1.6938272e-01,\n",
              "         -4.5702457e-03, -3.0995649e-01, -3.8740346e-01, -1.6935453e-01,\n",
              "          3.6199138e-01, -4.0497938e-01, -2.7197719e-01,  5.0068080e-02],\n",
              "        [ 1.1660245e-01, -4.1316411e-01, -2.0733735e-01,  8.1994027e-02,\n",
              "         -1.3378245e-01,  1.4810860e-02,  2.1985486e-01, -3.6964059e-02,\n",
              "         -3.5455480e-01,  1.7764547e-01, -1.8402015e-01,  9.2786223e-02,\n",
              "          4.0844485e-01,  1.5476325e-01,  3.4936151e-01,  8.2186848e-02],\n",
              "        [-4.0305305e-01, -4.7558784e-02,  1.6766310e-02,  3.9707968e-01,\n",
              "         -2.8300181e-01, -8.2688808e-02,  1.3752535e-01,  1.6549572e-01,\n",
              "         -3.3193088e-01, -2.5171965e-02, -1.0529509e-01, -3.9948824e-01,\n",
              "         -2.3233536e-01,  9.1099709e-02, -2.5071919e-02,  2.9416969e-01],\n",
              "        [ 2.1572825e-01, -4.9254358e-02,  3.6766610e-01,  3.6547899e-02,\n",
              "         -4.2678949e-01,  4.3065420e-01, -1.2500760e-01, -3.2640514e-01,\n",
              "         -3.9481723e-01, -7.2433740e-02, -2.2551079e-01,  3.7785497e-01,\n",
              "          2.1995425e-02,  1.1067328e-01,  2.5431839e-01,  2.7117780e-01],\n",
              "        [ 1.8972036e-01, -1.4542782e-01,  7.7870488e-03, -3.1350672e-02,\n",
              "          1.1451873e-01,  1.8484846e-01,  3.2249966e-01, -3.8279513e-01,\n",
              "          9.3181700e-02, -3.4855658e-01, -2.8590807e-01, -2.0992120e-01,\n",
              "          1.0961953e-01,  1.8842688e-01, -5.5874914e-02, -4.9389899e-02]],\n",
              "       dtype=float32)>,\n",
              " <tf.Variable 'dense_1/bias:0' shape=(16,) dtype=float32, numpy=\n",
              " array([0., 0., 0., 0., 0., 0., 0., 0., 0., 0., 0., 0., 0., 0., 0., 0.],\n",
              "       dtype=float32)>,\n",
              " <tf.Variable 'dense_2/kernel:0' shape=(16, 10) dtype=float32, numpy=\n",
              " array([[ 1.31016254e-01, -6.03324473e-02,  1.40217066e-01,\n",
              "          1.82287872e-01,  4.05972779e-01,  1.81971788e-02,\n",
              "         -6.85918331e-02, -1.65679395e-01,  3.94785464e-01,\n",
              "          2.19763517e-01],\n",
              "        [ 1.08441412e-01,  4.72780466e-02,  1.05906904e-01,\n",
              "          1.63739204e-01, -1.14308327e-01, -5.15170991e-02,\n",
              "         -1.52279645e-01,  1.17844045e-01, -4.02379543e-01,\n",
              "          5.35882115e-02],\n",
              "        [-2.23334193e-01,  7.24637508e-03, -2.14597285e-02,\n",
              "          4.16157007e-01, -3.98069561e-01, -3.18112761e-01,\n",
              "          4.00968134e-01,  1.29009366e-01, -2.89411902e-01,\n",
              "          1.41699970e-01],\n",
              "        [-7.06968307e-02, -4.31158364e-01,  3.98342609e-01,\n",
              "         -3.34268630e-01,  2.35276401e-01,  1.36395454e-01,\n",
              "          4.76867974e-01,  9.93993878e-03,  5.64563274e-02,\n",
              "         -3.52032840e-01],\n",
              "        [-2.11027652e-01, -4.53315496e-01, -5.91873527e-02,\n",
              "          3.13759744e-01,  1.62944794e-01, -4.66225147e-01,\n",
              "          2.45617211e-01, -4.74002838e-01, -3.46757591e-01,\n",
              "         -2.85930812e-01],\n",
              "        [ 3.90895724e-01,  7.81794786e-02, -3.06507766e-01,\n",
              "          2.57685781e-03,  1.53703749e-01,  1.20949626e-01,\n",
              "          2.14062572e-01, -3.08528543e-01,  3.78244996e-01,\n",
              "          4.63459671e-01],\n",
              "        [ 8.47263932e-02, -3.46710056e-01, -5.17938137e-02,\n",
              "          2.14359283e-01, -4.66381133e-01, -3.20939541e-01,\n",
              "         -3.70851934e-01,  3.04992795e-01, -2.96476871e-01,\n",
              "         -4.36700135e-01],\n",
              "        [ 2.91569591e-01,  3.93938482e-01,  1.79708004e-05,\n",
              "          2.08636761e-01, -5.14731109e-02,  1.08136535e-01,\n",
              "         -4.59012121e-01,  9.39471722e-02,  4.46585894e-01,\n",
              "         -1.34059787e-03],\n",
              "        [-1.85103089e-01, -1.05974823e-01, -2.59481490e-01,\n",
              "          2.11722851e-02,  4.00202632e-01,  6.03246689e-02,\n",
              "         -3.49699914e-01, -3.57556522e-01, -3.45804095e-01,\n",
              "          4.11144912e-01],\n",
              "        [ 2.83330917e-01,  3.87632906e-01, -1.07491463e-01,\n",
              "          1.77844822e-01, -2.04875082e-01,  2.68302679e-01,\n",
              "         -2.96233892e-02,  5.32366037e-02,  3.88610899e-01,\n",
              "          4.50339139e-01],\n",
              "        [ 1.55064881e-01, -9.37023163e-02, -1.89696640e-01,\n",
              "         -2.42549196e-01, -4.60342407e-01, -4.38407719e-01,\n",
              "         -3.89297515e-01,  3.36055994e-01,  7.90016055e-02,\n",
              "         -2.25632399e-01],\n",
              "        [-1.12396330e-01,  3.69178653e-02,  3.53004992e-01,\n",
              "         -3.73172224e-01, -4.61382717e-01, -4.57401782e-01,\n",
              "         -4.74222302e-02, -3.27634633e-01,  3.05763841e-01,\n",
              "          3.87170196e-01],\n",
              "        [ 3.24989438e-01, -3.95232350e-01, -4.11080450e-01,\n",
              "          8.79694819e-02,  1.61036849e-01,  1.61331654e-01,\n",
              "         -3.69156599e-01,  4.17232215e-01, -4.75536764e-01,\n",
              "         -2.45003521e-01],\n",
              "        [ 2.48288095e-01, -4.28610742e-02, -2.28105843e-01,\n",
              "         -1.40954673e-01,  2.50343084e-02, -2.53550857e-01,\n",
              "         -4.32769388e-01,  3.54309082e-01,  6.07089400e-02,\n",
              "         -7.44643807e-03],\n",
              "        [-5.93821704e-02, -1.52697593e-01,  4.30922866e-01,\n",
              "          3.64546657e-01,  3.24363172e-01,  1.28987491e-01,\n",
              "         -1.90207571e-01, -3.00578177e-02,  2.20398486e-01,\n",
              "          2.69682407e-01],\n",
              "        [ 1.25994563e-01, -2.09476322e-01, -2.28083730e-02,\n",
              "          8.86665583e-02, -1.50659144e-01, -4.78922814e-01,\n",
              "         -3.27585518e-01, -3.75436306e-01,  4.75281596e-01,\n",
              "          3.57985795e-01]], dtype=float32)>,\n",
              " <tf.Variable 'dense_2/bias:0' shape=(10,) dtype=float32, numpy=array([0., 0., 0., 0., 0., 0., 0., 0., 0., 0.], dtype=float32)>]"
            ]
          },
          "metadata": {
            "tags": []
          },
          "execution_count": 4
        }
      ]
    },
    {
      "cell_type": "markdown",
      "metadata": {
        "id": "R3FExeERSTUi"
      },
      "source": [
        "# Convolutional and pooling layers\n",
        "\n",
        "**Build a convolutional neural network model**\n",
        "\n",
        "- The first layer is a convolutional layer with 16 filters, a kernel size of 3 times 3, a ReLu activation function, and an input shape of 28 times 28 times 1."
      ]
    },
    {
      "cell_type": "code",
      "metadata": {
        "id": "DA4NV9rRSTGA"
      },
      "source": [
        "model = tf.keras.models.Sequential([tf.keras.layers.Conv2D(16, kernel_size=3, activation='relu', input_shape=(28, 28, 1))])"
      ],
      "execution_count": 5,
      "outputs": []
    },
    {
      "cell_type": "code",
      "metadata": {
        "colab": {
          "base_uri": "https://localhost:8080/"
        },
        "id": "Lopy4bauR3hE",
        "outputId": "09c0c124-5445-45cd-c185-f9ff4f95d4ba"
      },
      "source": [
        "model.summary()"
      ],
      "execution_count": 6,
      "outputs": [
        {
          "output_type": "stream",
          "text": [
            "Model: \"sequential_1\"\n",
            "_________________________________________________________________\n",
            "Layer (type)                 Output Shape              Param #   \n",
            "=================================================================\n",
            "conv2d (Conv2D)              (None, 26, 26, 16)        160       \n",
            "=================================================================\n",
            "Total params: 160\n",
            "Trainable params: 160\n",
            "Non-trainable params: 0\n",
            "_________________________________________________________________\n"
          ],
          "name": "stdout"
        }
      ]
    },
    {
      "cell_type": "markdown",
      "metadata": {
        "id": "4ngD5FohWRam"
      },
      "source": [
        "* Note that `input_shape` must have 3 dimensions as input for `Conv2D` layer. The third index indicates the number of channels.\n"
      ]
    },
    {
      "cell_type": "markdown",
      "metadata": {
        "id": "GXhl_P2zXGNE"
      },
      "source": [
        "**Complete the model**\n",
        "- Add a pooling layer of pool size 3 times 3.\n",
        "- Add a flatten layer\n",
        "- Add a dense layer with 10 units and a softmax activation function."
      ]
    },
    {
      "cell_type": "code",
      "metadata": {
        "id": "wYXOvKXqVzSz"
      },
      "source": [
        "model = tf.keras.models.Sequential([\n",
        "                                    tf.keras.layers.Conv2D(16, kernel_size=3, activation='relu', input_shape=(28, 28, 1)),\n",
        "                                    tf.keras.layers.MaxPooling2D(3,3),\n",
        "                                    tf.keras.layers.Flatten(),\n",
        "                                    tf.keras.layers.Dense(10, activation='softmax')\n",
        "                                    ])"
      ],
      "execution_count": 7,
      "outputs": []
    },
    {
      "cell_type": "code",
      "metadata": {
        "colab": {
          "base_uri": "https://localhost:8080/"
        },
        "id": "ErhT1aeeXzJ3",
        "outputId": "21335561-2f66-46d1-e54d-9a31b4c3e2f6"
      },
      "source": [
        "model.summary()"
      ],
      "execution_count": 8,
      "outputs": [
        {
          "output_type": "stream",
          "text": [
            "Model: \"sequential_2\"\n",
            "_________________________________________________________________\n",
            "Layer (type)                 Output Shape              Param #   \n",
            "=================================================================\n",
            "conv2d_1 (Conv2D)            (None, 26, 26, 16)        160       \n",
            "_________________________________________________________________\n",
            "max_pooling2d (MaxPooling2D) (None, 8, 8, 16)          0         \n",
            "_________________________________________________________________\n",
            "flatten_1 (Flatten)          (None, 1024)              0         \n",
            "_________________________________________________________________\n",
            "dense_3 (Dense)              (None, 10)                10250     \n",
            "=================================================================\n",
            "Total params: 10,410\n",
            "Trainable params: 10,410\n",
            "Non-trainable params: 0\n",
            "_________________________________________________________________\n"
          ],
          "name": "stdout"
        }
      ]
    },
    {
      "cell_type": "markdown",
      "metadata": {
        "id": "aPEG5GHUYH4m"
      },
      "source": [
        "### To preserve the input and output dimensions of `Conv2D` layer, set `padding='same'`"
      ]
    },
    {
      "cell_type": "code",
      "metadata": {
        "id": "fuuNUenhX35D"
      },
      "source": [
        "model = tf.keras.models.Sequential([\n",
        "                                    tf.keras.layers.Conv2D(16, kernel_size=3, activation='relu', input_shape=(28, 28, 1), padding='same'),\n",
        "                                    tf.keras.layers.MaxPooling2D(3,3),\n",
        "                                    tf.keras.layers.Flatten(),\n",
        "                                    tf.keras.layers.Dense(10, activation='softmax')\n",
        "                                    ])"
      ],
      "execution_count": 9,
      "outputs": []
    },
    {
      "cell_type": "code",
      "metadata": {
        "colab": {
          "base_uri": "https://localhost:8080/"
        },
        "id": "a_xFQB3nYVNQ",
        "outputId": "066210bb-f70f-4d7e-a325-1fd37a3afd20"
      },
      "source": [
        "model.summary()"
      ],
      "execution_count": 10,
      "outputs": [
        {
          "output_type": "stream",
          "text": [
            "Model: \"sequential_3\"\n",
            "_________________________________________________________________\n",
            "Layer (type)                 Output Shape              Param #   \n",
            "=================================================================\n",
            "conv2d_2 (Conv2D)            (None, 28, 28, 16)        160       \n",
            "_________________________________________________________________\n",
            "max_pooling2d_1 (MaxPooling2 (None, 9, 9, 16)          0         \n",
            "_________________________________________________________________\n",
            "flatten_2 (Flatten)          (None, 1296)              0         \n",
            "_________________________________________________________________\n",
            "dense_4 (Dense)              (None, 10)                12970     \n",
            "=================================================================\n",
            "Total params: 13,130\n",
            "Trainable params: 13,130\n",
            "Non-trainable params: 0\n",
            "_________________________________________________________________\n"
          ],
          "name": "stdout"
        }
      ]
    },
    {
      "cell_type": "markdown",
      "metadata": {
        "id": "iyxxvTEiZERQ"
      },
      "source": [
        "### Try `strides=2`, which means \"the stride is two in every dimension\"."
      ]
    },
    {
      "cell_type": "code",
      "metadata": {
        "id": "HUZJyEzfZEB-"
      },
      "source": [
        "model = tf.keras.models.Sequential([\n",
        "                                    tf.keras.layers.Conv2D(16, kernel_size=3, activation='relu', input_shape=(28, 28, 1),\n",
        "                                                           padding='same', strides=2),\n",
        "                                    tf.keras.layers.MaxPooling2D(3,3),\n",
        "                                    tf.keras.layers.Flatten(),\n",
        "                                    tf.keras.layers.Dense(10, activation='softmax')\n",
        "                                    ])"
      ],
      "execution_count": 11,
      "outputs": []
    },
    {
      "cell_type": "code",
      "metadata": {
        "colab": {
          "base_uri": "https://localhost:8080/"
        },
        "id": "exrU-abKYWpB",
        "outputId": "b419a7fb-ed5a-49ba-c10a-ec74a7ce0c43"
      },
      "source": [
        "model.summary()"
      ],
      "execution_count": 12,
      "outputs": [
        {
          "output_type": "stream",
          "text": [
            "Model: \"sequential_4\"\n",
            "_________________________________________________________________\n",
            "Layer (type)                 Output Shape              Param #   \n",
            "=================================================================\n",
            "conv2d_3 (Conv2D)            (None, 14, 14, 16)        160       \n",
            "_________________________________________________________________\n",
            "max_pooling2d_2 (MaxPooling2 (None, 4, 4, 16)          0         \n",
            "_________________________________________________________________\n",
            "flatten_3 (Flatten)          (None, 256)               0         \n",
            "_________________________________________________________________\n",
            "dense_5 (Dense)              (None, 10)                2570      \n",
            "=================================================================\n",
            "Total params: 2,730\n",
            "Trainable params: 2,730\n",
            "Non-trainable params: 0\n",
            "_________________________________________________________________\n"
          ],
          "name": "stdout"
        }
      ]
    },
    {
      "cell_type": "markdown",
      "metadata": {
        "id": "lEu78j7FaMBT"
      },
      "source": [
        "### the value of `data_format` argument by default is `data_format='channels_last'`. This can be modified as `data_format='channels_first'`. Do not forget to define `data_format` in pooling layer as well, to have exactly the same neural network as before."
      ]
    },
    {
      "cell_type": "code",
      "metadata": {
        "id": "rCpjL-okZUpL"
      },
      "source": [
        "model = tf.keras.models.Sequential([\n",
        "                                    tf.keras.layers.Conv2D(16, kernel_size=3, activation='relu',\n",
        "                                                           input_shape=(1, 28, 28), data_format='channels_first'),\n",
        "                                    tf.keras.layers.MaxPooling2D((3,3), data_format='channels_first'),\n",
        "                                    tf.keras.layers.Flatten(),\n",
        "                                    tf.keras.layers.Dense(10, activation='softmax')\n",
        "                                    ])"
      ],
      "execution_count": 13,
      "outputs": []
    },
    {
      "cell_type": "code",
      "metadata": {
        "colab": {
          "base_uri": "https://localhost:8080/"
        },
        "id": "P96yTC3YbLI2",
        "outputId": "7432b445-936e-48e5-dded-1a53283a83e3"
      },
      "source": [
        "model.summary()"
      ],
      "execution_count": 14,
      "outputs": [
        {
          "output_type": "stream",
          "text": [
            "Model: \"sequential_5\"\n",
            "_________________________________________________________________\n",
            "Layer (type)                 Output Shape              Param #   \n",
            "=================================================================\n",
            "conv2d_4 (Conv2D)            (None, 16, 26, 26)        160       \n",
            "_________________________________________________________________\n",
            "max_pooling2d_3 (MaxPooling2 (None, 16, 8, 8)          0         \n",
            "_________________________________________________________________\n",
            "flatten_4 (Flatten)          (None, 1024)              0         \n",
            "_________________________________________________________________\n",
            "dense_6 (Dense)              (None, 10)                10250     \n",
            "=================================================================\n",
            "Total params: 10,410\n",
            "Trainable params: 10,410\n",
            "Non-trainable params: 0\n",
            "_________________________________________________________________\n"
          ],
          "name": "stdout"
        }
      ]
    },
    {
      "cell_type": "markdown",
      "metadata": {
        "id": "vxNuN03umJAr"
      },
      "source": [
        "# Compile method"
      ]
    },
    {
      "cell_type": "code",
      "metadata": {
        "id": "5Zc_FiusbO-C"
      },
      "source": [
        "model.compile(optimizer='Adam', loss='sparse_categorical_crossentropy', metrics=['accuracy'])"
      ],
      "execution_count": 15,
      "outputs": []
    },
    {
      "cell_type": "markdown",
      "metadata": {
        "id": "vAUbxIMTnOSz"
      },
      "source": [
        "## Check what is stored in the model (model attributes):"
      ]
    },
    {
      "cell_type": "code",
      "metadata": {
        "colab": {
          "base_uri": "https://localhost:8080/"
        },
        "id": "1Orba0cGmh4f",
        "outputId": "4c8d2ea9-ee73-412a-eace-b12fd6e79faf"
      },
      "source": [
        "print(model.loss)\n",
        "print(model.optimizer)\n",
        "print(model.metrics)"
      ],
      "execution_count": 16,
      "outputs": [
        {
          "output_type": "stream",
          "text": [
            "sparse_categorical_crossentropy\n",
            "<tensorflow.python.keras.optimizer_v2.adam.Adam object at 0x7fd572052a90>\n",
            "[]\n"
          ],
          "name": "stdout"
        }
      ]
    },
    {
      "cell_type": "code",
      "metadata": {
        "colab": {
          "base_uri": "https://localhost:8080/"
        },
        "id": "R5hZ3i_NnLhI",
        "outputId": "57fc74b0-3374-4c78-c791-3238c3b04ffd"
      },
      "source": [
        "model = tf.keras.models.Sequential([tf.keras.layers.Dense(64, activation='elu', input_shape=(32,)),\n",
        "                                    tf.keras.layers.Dense(1, activation='sigmoid')])\n",
        "model.compile(optimizer='sgd', loss='binary_crossentropy', metrics=['accuracy', 'mae'])\n",
        "model.summary()"
      ],
      "execution_count": 19,
      "outputs": [
        {
          "output_type": "stream",
          "text": [
            "Model: \"sequential_8\"\n",
            "_________________________________________________________________\n",
            "Layer (type)                 Output Shape              Param #   \n",
            "=================================================================\n",
            "dense_11 (Dense)             (None, 64)                2112      \n",
            "_________________________________________________________________\n",
            "dense_12 (Dense)             (None, 1)                 65        \n",
            "=================================================================\n",
            "Total params: 2,177\n",
            "Trainable params: 2,177\n",
            "Non-trainable params: 0\n",
            "_________________________________________________________________\n"
          ],
          "name": "stdout"
        }
      ]
    },
    {
      "cell_type": "code",
      "metadata": {
        "colab": {
          "base_uri": "https://localhost:8080/"
        },
        "id": "srhpkTwBJpmr",
        "outputId": "b87e9118-f0e8-4cae-fd08-184f49efd5d5"
      },
      "source": [
        "model.optimizer"
      ],
      "execution_count": 21,
      "outputs": [
        {
          "output_type": "execute_result",
          "data": {
            "text/plain": [
              "<tensorflow.python.keras.optimizer_v2.gradient_descent.SGD at 0x7fd562dddef0>"
            ]
          },
          "metadata": {
            "tags": []
          },
          "execution_count": 21
        }
      ]
    },
    {
      "cell_type": "code",
      "metadata": {
        "id": "xrnK_uSVKbKK"
      },
      "source": [
        "model.compile(optimizer=tf.keras.optimizers.SGD(),\n",
        "              loss=tf.keras.losses.BinaryCrossentropy(from_logits=True),\n",
        "              metrics=[tf.keras.metrics.MeanAbsoluteError(), tf.keras.metrics.BinaryAccuracy()])"
      ],
      "execution_count": 29,
      "outputs": []
    },
    {
      "cell_type": "markdown",
      "metadata": {
        "id": "rtQ-mBQ7QavF"
      },
      "source": [
        "# The difference between `sparse_categorical_crossentropy` and `categorical_crossentropy` loss function:\n",
        "\n",
        "- `categorical_crossentropy`: if the labels have been represented as a one-hot vector, so each row of y_train is a vector of length num_classes which is all zeros, excet for a one in the place corresponding to the correct class. \n",
        "\n",
        "- `sparse_categorical_crossentropy`: if all the labels have a sparse representation, so just a single integer for each label, then y_train could be a one-dimensional array with length equal to the number of samples."
      ]
    }
  ]
}